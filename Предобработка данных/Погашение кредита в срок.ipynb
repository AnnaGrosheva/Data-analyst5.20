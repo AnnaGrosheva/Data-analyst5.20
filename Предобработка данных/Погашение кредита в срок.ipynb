{
 "cells": [
  {
   "cell_type": "markdown",
   "metadata": {},
   "source": [
    "# Исследование надёжности заёмщиков"
   ]
  },
  {
   "cell_type": "markdown",
   "metadata": {},
   "source": [
    "# Краткое описание\n",
    "\n",
    "***Цели проекта:***\n",
    "\n",
    "Изучить данные по статистике платежеспособности клиента и определить влияет ли семейное положение и количество детей клиента на факт погашения кредита в срок. \n",
    "\n",
    "***Данные:***\n",
    "\n",
    "В нашем распоряжении представлен датасет со следующими данными:\n",
    "- children — количество детей в семье\n",
    "- days_employed — общий трудовой стаж в днях\n",
    "- dob_years — возраст клиента в годах\n",
    "- education — уровень образования клиента\n",
    "- education_id — идентификатор уровня образования\n",
    "- family_status — семейное положение\n",
    "- family_status_id — идентификатор семейного положения\n",
    "- gender — пол клиента\n",
    "- income_type — тип занятости\n",
    "- debt — имел ли задолженность по возврату кредитов\n",
    "- total_income — ежемесячный доход\n",
    "- purpose — цель получения кредита"
   ]
  },
  {
   "cell_type": "markdown",
   "metadata": {
    "toc": true
   },
   "source": [
    "<h1>План проекта<span class=\"tocSkip\"></span></h1>\n",
    "<div class=\"toc\"><ul class=\"toc-item\"><li><span><a href=\"#Изучение-данных\" data-toc-modified-id=\"Изучение-данных-1\"><span class=\"toc-item-num\">1&nbsp;&nbsp;</span>Изучение данных</a></span></li><li><span><a href=\"#Предобработка-данных\" data-toc-modified-id=\"Предобработка-данных-2\"><span class=\"toc-item-num\">2&nbsp;&nbsp;</span>Предобработка данных</a></span><ul class=\"toc-item\"><li><span><a href=\"#Обработка-пропусков\" data-toc-modified-id=\"Обработка-пропусков-2.1\"><span class=\"toc-item-num\">2.1&nbsp;&nbsp;</span>Обработка пропусков</a></span></li><li><span><a href=\"#Замена-типа-данных\" data-toc-modified-id=\"Замена-типа-данных-2.2\"><span class=\"toc-item-num\">2.2&nbsp;&nbsp;</span>Замена типа данных</a></span></li><li><span><a href=\"#Обработка-дубликатов\" data-toc-modified-id=\"Обработка-дубликатов-2.3\"><span class=\"toc-item-num\">2.3&nbsp;&nbsp;</span>Обработка дубликатов</a></span></li><li><span><a href=\"#Лемматизация\" data-toc-modified-id=\"Лемматизация-2.4\"><span class=\"toc-item-num\">2.4&nbsp;&nbsp;</span>Лемматизация</a></span></li><li><span><a href=\"#Категоризация-данных\" data-toc-modified-id=\"Категоризация-данных-2.5\"><span class=\"toc-item-num\">2.5&nbsp;&nbsp;</span>Категоризация данных</a></span></li></ul></li><li><span><a href=\"#Ответы-на-поставленные-вопросы\" data-toc-modified-id=\"Ответы-на-поставленные-вопросы-3\"><span class=\"toc-item-num\">3&nbsp;&nbsp;</span>Ответы на поставленные вопросы</a></span></li><li><span><a href=\"#Выводы\" data-toc-modified-id=\"Выводы-4\"><span class=\"toc-item-num\">4&nbsp;&nbsp;</span>Выводы</a></span></li></ul></div>"
   ]
  },
  {
   "cell_type": "markdown",
   "metadata": {},
   "source": [
    "# Выводы "
   ]
  },
  {
   "cell_type": "markdown",
   "metadata": {},
   "source": [
    "Подводя общий итог мы получаем картину \"добросовестного\", \"умеренно-добросовестного\" и \"недобросовестного\" заемщика.\n",
    "\n",
    "Пример \"добросовестного\" заемщика:\n",
    "- Нет детей (нет дополнительных доходов)\n",
    "- Вдовец / в разводе (высокая доля ответственности, умение распоряжаться деньгами и правильно их распределять)\n",
    "- Высокий уровень дохода\n",
    "- Кредит на недвижимость\n",
    "\n",
    "Пример \"умеренно-добросовестного\" заемщика:\n",
    "- Есть 1 ребенок (есть затраты, но не такие большие когда детей 2 и больше)\n",
    "- Женат / гражданский брак\n",
    "- Низкий уровень дохода\n",
    "- Кредит на образование или свадьбу\n",
    "\n",
    "Пример \"недобросовестного\" заемщика:\n",
    "- Есть дети\n",
    "- Не женат \n",
    "- Средний уровень дохода\n",
    "- Кредит на автомобиль"
   ]
  },
  {
   "cell_type": "markdown",
   "metadata": {},
   "source": [
    "## Изучение данных"
   ]
  },
  {
   "cell_type": "code",
   "execution_count": 1,
   "metadata": {},
   "outputs": [],
   "source": [
    "import pandas as pd\n",
    "import numpy as np\n",
    "\n",
    "from pymystem3 import Mystem\n",
    "m = Mystem()\n",
    "from collections import Counter"
   ]
  },
  {
   "cell_type": "markdown",
   "metadata": {},
   "source": [
    "***Проведем выгрузку датасета с \"подстраховкой\":***"
   ]
  },
  {
   "cell_type": "code",
   "execution_count": 2,
   "metadata": {},
   "outputs": [
    {
     "data": {
      "text/html": [
       "<div>\n",
       "<style scoped>\n",
       "    .dataframe tbody tr th:only-of-type {\n",
       "        vertical-align: middle;\n",
       "    }\n",
       "\n",
       "    .dataframe tbody tr th {\n",
       "        vertical-align: top;\n",
       "    }\n",
       "\n",
       "    .dataframe thead th {\n",
       "        text-align: right;\n",
       "    }\n",
       "</style>\n",
       "<table border=\"1\" class=\"dataframe\">\n",
       "  <thead>\n",
       "    <tr style=\"text-align: right;\">\n",
       "      <th></th>\n",
       "      <th>children</th>\n",
       "      <th>days_employed</th>\n",
       "      <th>dob_years</th>\n",
       "      <th>education</th>\n",
       "      <th>education_id</th>\n",
       "      <th>family_status</th>\n",
       "      <th>family_status_id</th>\n",
       "      <th>gender</th>\n",
       "      <th>income_type</th>\n",
       "      <th>debt</th>\n",
       "      <th>total_income</th>\n",
       "      <th>purpose</th>\n",
       "    </tr>\n",
       "  </thead>\n",
       "  <tbody>\n",
       "    <tr>\n",
       "      <td>19299</td>\n",
       "      <td>0</td>\n",
       "      <td>-4086.647130</td>\n",
       "      <td>34</td>\n",
       "      <td>среднее</td>\n",
       "      <td>1</td>\n",
       "      <td>женат / замужем</td>\n",
       "      <td>0</td>\n",
       "      <td>M</td>\n",
       "      <td>сотрудник</td>\n",
       "      <td>0</td>\n",
       "      <td>105098.090393</td>\n",
       "      <td>покупка жилья для сдачи</td>\n",
       "    </tr>\n",
       "    <tr>\n",
       "      <td>10801</td>\n",
       "      <td>1</td>\n",
       "      <td>-5121.785817</td>\n",
       "      <td>44</td>\n",
       "      <td>среднее</td>\n",
       "      <td>1</td>\n",
       "      <td>гражданский брак</td>\n",
       "      <td>1</td>\n",
       "      <td>F</td>\n",
       "      <td>сотрудник</td>\n",
       "      <td>0</td>\n",
       "      <td>130777.608650</td>\n",
       "      <td>получение дополнительного образования</td>\n",
       "    </tr>\n",
       "    <tr>\n",
       "      <td>1853</td>\n",
       "      <td>3</td>\n",
       "      <td>-1848.085867</td>\n",
       "      <td>28</td>\n",
       "      <td>среднее</td>\n",
       "      <td>1</td>\n",
       "      <td>женат / замужем</td>\n",
       "      <td>0</td>\n",
       "      <td>F</td>\n",
       "      <td>сотрудник</td>\n",
       "      <td>0</td>\n",
       "      <td>46039.792927</td>\n",
       "      <td>операции со своей недвижимостью</td>\n",
       "    </tr>\n",
       "    <tr>\n",
       "      <td>11855</td>\n",
       "      <td>0</td>\n",
       "      <td>-3714.687881</td>\n",
       "      <td>42</td>\n",
       "      <td>среднее</td>\n",
       "      <td>1</td>\n",
       "      <td>женат / замужем</td>\n",
       "      <td>0</td>\n",
       "      <td>F</td>\n",
       "      <td>компаньон</td>\n",
       "      <td>0</td>\n",
       "      <td>76122.968272</td>\n",
       "      <td>высшее образование</td>\n",
       "    </tr>\n",
       "    <tr>\n",
       "      <td>8600</td>\n",
       "      <td>0</td>\n",
       "      <td>-1033.194518</td>\n",
       "      <td>27</td>\n",
       "      <td>среднее</td>\n",
       "      <td>1</td>\n",
       "      <td>гражданский брак</td>\n",
       "      <td>1</td>\n",
       "      <td>F</td>\n",
       "      <td>компаньон</td>\n",
       "      <td>0</td>\n",
       "      <td>229544.185486</td>\n",
       "      <td>на проведение свадьбы</td>\n",
       "    </tr>\n",
       "  </tbody>\n",
       "</table>\n",
       "</div>"
      ],
      "text/plain": [
       "       children  days_employed  dob_years education  education_id  \\\n",
       "19299         0   -4086.647130         34   среднее             1   \n",
       "10801         1   -5121.785817         44   среднее             1   \n",
       "1853          3   -1848.085867         28   среднее             1   \n",
       "11855         0   -3714.687881         42   среднее             1   \n",
       "8600          0   -1033.194518         27   среднее             1   \n",
       "\n",
       "          family_status  family_status_id gender income_type  debt  \\\n",
       "19299   женат / замужем                 0      M   сотрудник     0   \n",
       "10801  гражданский брак                 1      F   сотрудник     0   \n",
       "1853    женат / замужем                 0      F   сотрудник     0   \n",
       "11855   женат / замужем                 0      F   компаньон     0   \n",
       "8600   гражданский брак                 1      F   компаньон     0   \n",
       "\n",
       "        total_income                                purpose  \n",
       "19299  105098.090393                покупка жилья для сдачи  \n",
       "10801  130777.608650  получение дополнительного образования  \n",
       "1853    46039.792927        операции со своей недвижимостью  \n",
       "11855   76122.968272                     высшее образование  \n",
       "8600   229544.185486                  на проведение свадьбы  "
      ]
     },
     "metadata": {},
     "output_type": "display_data"
    },
    {
     "data": {
      "text/html": [
       "<div>\n",
       "<style scoped>\n",
       "    .dataframe tbody tr th:only-of-type {\n",
       "        vertical-align: middle;\n",
       "    }\n",
       "\n",
       "    .dataframe tbody tr th {\n",
       "        vertical-align: top;\n",
       "    }\n",
       "\n",
       "    .dataframe thead th {\n",
       "        text-align: right;\n",
       "    }\n",
       "</style>\n",
       "<table border=\"1\" class=\"dataframe\">\n",
       "  <thead>\n",
       "    <tr style=\"text-align: right;\">\n",
       "      <th></th>\n",
       "      <th>children</th>\n",
       "      <th>days_employed</th>\n",
       "      <th>dob_years</th>\n",
       "      <th>education_id</th>\n",
       "      <th>family_status_id</th>\n",
       "      <th>debt</th>\n",
       "      <th>total_income</th>\n",
       "    </tr>\n",
       "  </thead>\n",
       "  <tbody>\n",
       "    <tr>\n",
       "      <td>count</td>\n",
       "      <td>21,525.00</td>\n",
       "      <td>19,351.00</td>\n",
       "      <td>21,525.00</td>\n",
       "      <td>21,525.00</td>\n",
       "      <td>21,525.00</td>\n",
       "      <td>21,525.00</td>\n",
       "      <td>19,351.00</td>\n",
       "    </tr>\n",
       "    <tr>\n",
       "      <td>mean</td>\n",
       "      <td>0.54</td>\n",
       "      <td>63,046.50</td>\n",
       "      <td>43.29</td>\n",
       "      <td>0.82</td>\n",
       "      <td>0.97</td>\n",
       "      <td>0.08</td>\n",
       "      <td>167,422.30</td>\n",
       "    </tr>\n",
       "    <tr>\n",
       "      <td>std</td>\n",
       "      <td>1.38</td>\n",
       "      <td>140,827.31</td>\n",
       "      <td>12.57</td>\n",
       "      <td>0.55</td>\n",
       "      <td>1.42</td>\n",
       "      <td>0.27</td>\n",
       "      <td>102,971.57</td>\n",
       "    </tr>\n",
       "    <tr>\n",
       "      <td>min</td>\n",
       "      <td>-1.00</td>\n",
       "      <td>-18,388.95</td>\n",
       "      <td>0.00</td>\n",
       "      <td>0.00</td>\n",
       "      <td>0.00</td>\n",
       "      <td>0.00</td>\n",
       "      <td>20,667.26</td>\n",
       "    </tr>\n",
       "    <tr>\n",
       "      <td>25%</td>\n",
       "      <td>0.00</td>\n",
       "      <td>-2,747.42</td>\n",
       "      <td>33.00</td>\n",
       "      <td>1.00</td>\n",
       "      <td>0.00</td>\n",
       "      <td>0.00</td>\n",
       "      <td>103,053.15</td>\n",
       "    </tr>\n",
       "    <tr>\n",
       "      <td>50%</td>\n",
       "      <td>0.00</td>\n",
       "      <td>-1,203.37</td>\n",
       "      <td>42.00</td>\n",
       "      <td>1.00</td>\n",
       "      <td>0.00</td>\n",
       "      <td>0.00</td>\n",
       "      <td>145,017.94</td>\n",
       "    </tr>\n",
       "    <tr>\n",
       "      <td>75%</td>\n",
       "      <td>1.00</td>\n",
       "      <td>-291.10</td>\n",
       "      <td>53.00</td>\n",
       "      <td>1.00</td>\n",
       "      <td>1.00</td>\n",
       "      <td>0.00</td>\n",
       "      <td>203,435.07</td>\n",
       "    </tr>\n",
       "    <tr>\n",
       "      <td>max</td>\n",
       "      <td>20.00</td>\n",
       "      <td>401,755.40</td>\n",
       "      <td>75.00</td>\n",
       "      <td>4.00</td>\n",
       "      <td>4.00</td>\n",
       "      <td>1.00</td>\n",
       "      <td>2,265,604.03</td>\n",
       "    </tr>\n",
       "  </tbody>\n",
       "</table>\n",
       "</div>"
      ],
      "text/plain": [
       "       children  days_employed  dob_years  education_id  family_status_id  \\\n",
       "count 21,525.00      19,351.00  21,525.00     21,525.00         21,525.00   \n",
       "mean       0.54      63,046.50      43.29          0.82              0.97   \n",
       "std        1.38     140,827.31      12.57          0.55              1.42   \n",
       "min       -1.00     -18,388.95       0.00          0.00              0.00   \n",
       "25%        0.00      -2,747.42      33.00          1.00              0.00   \n",
       "50%        0.00      -1,203.37      42.00          1.00              0.00   \n",
       "75%        1.00        -291.10      53.00          1.00              1.00   \n",
       "max       20.00     401,755.40      75.00          4.00              4.00   \n",
       "\n",
       "           debt  total_income  \n",
       "count 21,525.00     19,351.00  \n",
       "mean       0.08    167,422.30  \n",
       "std        0.27    102,971.57  \n",
       "min        0.00     20,667.26  \n",
       "25%        0.00    103,053.15  \n",
       "50%        0.00    145,017.94  \n",
       "75%        0.00    203,435.07  \n",
       "max        1.00  2,265,604.03  "
      ]
     },
     "metadata": {},
     "output_type": "display_data"
    },
    {
     "name": "stdout",
     "output_type": "stream",
     "text": [
      "<class 'pandas.core.frame.DataFrame'>\n",
      "RangeIndex: 21525 entries, 0 to 21524\n",
      "Data columns (total 12 columns):\n",
      "children            21525 non-null int64\n",
      "days_employed       19351 non-null float64\n",
      "dob_years           21525 non-null int64\n",
      "education           21525 non-null object\n",
      "education_id        21525 non-null int64\n",
      "family_status       21525 non-null object\n",
      "family_status_id    21525 non-null int64\n",
      "gender              21525 non-null object\n",
      "income_type         21525 non-null object\n",
      "debt                21525 non-null int64\n",
      "total_income        19351 non-null float64\n",
      "purpose             21525 non-null object\n",
      "dtypes: float64(2), int64(5), object(5)\n",
      "memory usage: 2.0+ MB\n"
     ]
    }
   ],
   "source": [
    "# подстраховка. Иногда датасеты лежат сразу в корневике, а иногда лежат в папке datasets        \n",
    "try:\n",
    "    df = pd.read_csv('/datasets/data.csv')\n",
    "except:\n",
    "    df = pd.read_csv('data.csv')\n",
    "\n",
    "display(df.sample(5))\n",
    "pd.set_option('display.float_format', '{:,.2f}'.format) # избавляемся от лишних запятых\n",
    "display(df.describe())\n",
    "df.info()"
   ]
  },
  {
   "cell_type": "markdown",
   "metadata": {},
   "source": [
    "***Выводы:***\n",
    "\n",
    "- Некоторое количество значений в столбцах total_income и days_employed пропущено. Присутствуют отрицательные значения в days_employed, children - это артефакты.\n",
    "\n",
    "- Можно отметить удивительный показатель максимума в данных о детях. 20 детей это маловероятно, хотя и выполнимо. Необходимо удостовериться у одного-двух заемщиков такое количество детей (что можно принять и расценить как уникальный случай), либо же это ошибка и такие данные есть больше чем у 1-2 заемщиков.\n",
    "\n",
    "- В трудовом стаже максимальное значение это 401755 дней. При этом создается большой перекос так как даже среднее значение = 63046, а это 172 года! Ошибка, необходимо проверить.\n",
    "\n",
    "- В столбце о возрасте минимальное значение равно 0, нужно исправить.\n",
    "\n",
    "Проанализируем столбцы по имеющимся в них уникальным значениям, исправим артефакты и странные значения в данных."
   ]
  },
  {
   "cell_type": "code",
   "execution_count": 3,
   "metadata": {},
   "outputs": [
    {
     "name": "stdout",
     "output_type": "stream",
     "text": [
      "Нулевые значения в столбцах: \n",
      "days_employed    2174\n",
      "total_income     2174\n",
      "\n"
     ]
    }
   ],
   "source": [
    "null = df.loc[:, df.columns[df.isna().any()]].isna().sum()\n",
    "print('Нулевые значения в столбцах: \\n{}\\n'.format(null.to_string()))"
   ]
  },
  {
   "cell_type": "code",
   "execution_count": 4,
   "metadata": {},
   "outputs": [
    {
     "name": "stdout",
     "output_type": "stream",
     "text": [
      "Процентное соотношение пропусков относительно общего количества данных:\n"
     ]
    },
    {
     "data": {
      "text/plain": [
       "days_employed   10.10\n",
       "total_income    10.10\n",
       "dtype: float64"
      ]
     },
     "execution_count": 4,
     "metadata": {},
     "output_type": "execute_result"
    }
   ],
   "source": [
    "print('Процентное соотношение пропусков относительно общего количества данных:')\n",
    "100*null/len(df)"
   ]
  },
  {
   "cell_type": "markdown",
   "metadata": {},
   "source": [
    "- Напишем функцию для исследования каждого столбца датафрейма:"
   ]
  },
  {
   "cell_type": "code",
   "execution_count": 5,
   "metadata": {
    "scrolled": false
   },
   "outputs": [
    {
     "name": "stdout",
     "output_type": "stream",
     "text": [
      "Исследуемый столбец children\n",
      "\n",
      " 0     14149\n",
      " 1      4818\n",
      " 2      2055\n",
      " 3       330\n",
      " 20       76\n",
      "-1        47\n",
      " 4        41\n",
      " 5         9\n",
      "Name: children, dtype: int64\n",
      "\n",
      "Исследуемый столбец dob_years\n",
      "\n",
      "35    617\n",
      "40    609\n",
      "41    607\n",
      "34    603\n",
      "38    598\n",
      "42    597\n",
      "33    581\n",
      "39    573\n",
      "31    560\n",
      "36    555\n",
      "44    547\n",
      "29    545\n",
      "30    540\n",
      "48    538\n",
      "37    537\n",
      "50    514\n",
      "43    513\n",
      "32    510\n",
      "49    508\n",
      "28    503\n",
      "45    497\n",
      "27    493\n",
      "56    487\n",
      "52    484\n",
      "47    480\n",
      "54    479\n",
      "46    475\n",
      "58    461\n",
      "57    460\n",
      "53    459\n",
      "51    448\n",
      "59    444\n",
      "55    443\n",
      "26    408\n",
      "60    377\n",
      "25    357\n",
      "61    355\n",
      "62    352\n",
      "63    269\n",
      "64    265\n",
      "24    264\n",
      "23    254\n",
      "65    194\n",
      "66    183\n",
      "22    183\n",
      "67    167\n",
      "21    111\n",
      "0     101\n",
      "68     99\n",
      "69     85\n",
      "70     65\n",
      "71     58\n",
      "20     51\n",
      "72     33\n",
      "19     14\n",
      "73      8\n",
      "74      6\n",
      "75      1\n",
      "Name: dob_years, dtype: int64\n",
      "\n",
      "Исследуемый столбец education\n",
      "\n",
      "среднее                13750\n",
      "высшее                  4718\n",
      "СРЕДНЕЕ                  772\n",
      "Среднее                  711\n",
      "неоконченное высшее      668\n",
      "ВЫСШЕЕ                   274\n",
      "Высшее                   268\n",
      "начальное                250\n",
      "Неоконченное высшее       47\n",
      "НЕОКОНЧЕННОЕ ВЫСШЕЕ       29\n",
      "НАЧАЛЬНОЕ                 17\n",
      "Начальное                 15\n",
      "ученая степень             4\n",
      "УЧЕНАЯ СТЕПЕНЬ             1\n",
      "Ученая степень             1\n",
      "Name: education, dtype: int64\n",
      "\n",
      "Исследуемый столбец education_id\n",
      "\n",
      "1    15233\n",
      "0     5260\n",
      "2      744\n",
      "3      282\n",
      "4        6\n",
      "Name: education_id, dtype: int64\n",
      "\n",
      "Исследуемый столбец family_status\n",
      "\n",
      "женат / замужем          12380\n",
      "гражданский брак          4177\n",
      "Не женат / не замужем     2813\n",
      "в разводе                 1195\n",
      "вдовец / вдова             960\n",
      "Name: family_status, dtype: int64\n",
      "\n",
      "Исследуемый столбец family_status_id\n",
      "\n",
      "0    12380\n",
      "1     4177\n",
      "4     2813\n",
      "3     1195\n",
      "2      960\n",
      "Name: family_status_id, dtype: int64\n",
      "\n",
      "Исследуемый столбец gender\n",
      "\n",
      "F      14236\n",
      "M       7288\n",
      "XNA        1\n",
      "Name: gender, dtype: int64\n",
      "\n",
      "Исследуемый столбец income_type\n",
      "\n",
      "сотрудник          11119\n",
      "компаньон           5085\n",
      "пенсионер           3856\n",
      "госслужащий         1459\n",
      "безработный            2\n",
      "предприниматель        2\n",
      "студент                1\n",
      "в декрете              1\n",
      "Name: income_type, dtype: int64\n",
      "\n",
      "Исследуемый столбец debt\n",
      "\n",
      "0    19784\n",
      "1     1741\n",
      "Name: debt, dtype: int64\n",
      "\n",
      "Исследуемый столбец purpose\n",
      "\n",
      "свадьба                                   797\n",
      "на проведение свадьбы                     777\n",
      "сыграть свадьбу                           774\n",
      "операции с недвижимостью                  676\n",
      "покупка коммерческой недвижимости         664\n",
      "покупка жилья для сдачи                   653\n",
      "операции с жильем                         653\n",
      "операции с коммерческой недвижимостью     651\n",
      "покупка жилья                             647\n",
      "жилье                                     647\n",
      "покупка жилья для семьи                   641\n",
      "строительство собственной недвижимости    635\n",
      "недвижимость                              634\n",
      "операции со своей недвижимостью           630\n",
      "строительство жилой недвижимости          626\n",
      "покупка недвижимости                      624\n",
      "покупка своего жилья                      620\n",
      "строительство недвижимости                620\n",
      "ремонт жилью                              612\n",
      "покупка жилой недвижимости                607\n",
      "на покупку своего автомобиля              505\n",
      "заняться высшим образованием              496\n",
      "автомобиль                                495\n",
      "сделка с подержанным автомобилем          489\n",
      "свой автомобиль                           480\n",
      "на покупку подержанного автомобиля        479\n",
      "автомобили                                478\n",
      "на покупку автомобиля                     472\n",
      "дополнительное образование                462\n",
      "приобретение автомобиля                   462\n",
      "сделка с автомобилем                      455\n",
      "высшее образование                        453\n",
      "образование                               447\n",
      "получение дополнительного образования     447\n",
      "получение образования                     443\n",
      "профильное образование                    436\n",
      "получение высшего образования             426\n",
      "заняться образованием                     412\n",
      "Name: purpose, dtype: int64\n",
      "\n"
     ]
    }
   ],
   "source": [
    "for column in df.drop(['days_employed', 'total_income'], axis = 1):\n",
    "    print('Исследуемый столбец {}'.format(str(column)))\n",
    "    print('')\n",
    "    print(df[column].value_counts())\n",
    "    print('')"
   ]
  },
  {
   "cell_type": "markdown",
   "metadata": {},
   "source": [
    "***Выводы:***\n",
    "\n",
    "- В столбце `children` можно заметить артефакт. Скорее всего была допущена ошибка при внесении отрицательного значения (-1) у 47 человек и ошибка у 76 человек при указании количества детей 2, а не 20.\n",
    "- В столбце `dob_years` можно заметить что у 101 человека возраст равен 0. Несмотря на то что для решения поставленных задач возраст не требуется, сделаем таблицу красивой, заберем 101 у Круэллы. Подставим медианное значение для определенной группы заемщиков в дальнейшем. \n",
    "- В столбце `gender` есть неизвестный пол.\n",
    "- Данные столбца `education, family_status` необходимо привести к нижнему регистру.\n",
    "- Столбец `debt` содержит логические(булевые) переменные. Его будем использовать при определении зависимостей.\n",
    "- Столбцы `family_status_id, education_id` являются словарями для столбцов `family_status, education`.\n",
    "- К столбцу `purpose` необходмо применить лемматизацию и определить основные категории. "
   ]
  },
  {
   "cell_type": "markdown",
   "metadata": {},
   "source": [
    "Попробуем найти строку с неизвестными данными по полу и, если есть возможность определить по категории заемщика, а именно по \"в декрете\" пол. Тогда сможем подправить общую красоту таблицы."
   ]
  },
  {
   "cell_type": "code",
   "execution_count": 6,
   "metadata": {},
   "outputs": [
    {
     "data": {
      "text/html": [
       "<div>\n",
       "<style scoped>\n",
       "    .dataframe tbody tr th:only-of-type {\n",
       "        vertical-align: middle;\n",
       "    }\n",
       "\n",
       "    .dataframe tbody tr th {\n",
       "        vertical-align: top;\n",
       "    }\n",
       "\n",
       "    .dataframe thead th {\n",
       "        text-align: right;\n",
       "    }\n",
       "</style>\n",
       "<table border=\"1\" class=\"dataframe\">\n",
       "  <thead>\n",
       "    <tr style=\"text-align: right;\">\n",
       "      <th></th>\n",
       "      <th>children</th>\n",
       "      <th>days_employed</th>\n",
       "      <th>dob_years</th>\n",
       "      <th>education</th>\n",
       "      <th>education_id</th>\n",
       "      <th>family_status</th>\n",
       "      <th>family_status_id</th>\n",
       "      <th>gender</th>\n",
       "      <th>income_type</th>\n",
       "      <th>debt</th>\n",
       "      <th>total_income</th>\n",
       "      <th>purpose</th>\n",
       "    </tr>\n",
       "  </thead>\n",
       "  <tbody>\n",
       "    <tr>\n",
       "      <td>10701</td>\n",
       "      <td>0</td>\n",
       "      <td>-2,358.60</td>\n",
       "      <td>24</td>\n",
       "      <td>неоконченное высшее</td>\n",
       "      <td>2</td>\n",
       "      <td>гражданский брак</td>\n",
       "      <td>1</td>\n",
       "      <td>XNA</td>\n",
       "      <td>компаньон</td>\n",
       "      <td>0</td>\n",
       "      <td>203,905.16</td>\n",
       "      <td>покупка недвижимости</td>\n",
       "    </tr>\n",
       "  </tbody>\n",
       "</table>\n",
       "</div>"
      ],
      "text/plain": [
       "       children  days_employed  dob_years            education  education_id  \\\n",
       "10701         0      -2,358.60         24  неоконченное высшее             2   \n",
       "\n",
       "          family_status  family_status_id gender income_type  debt  \\\n",
       "10701  гражданский брак                 1    XNA   компаньон     0   \n",
       "\n",
       "       total_income               purpose  \n",
       "10701    203,905.16  покупка недвижимости  "
      ]
     },
     "execution_count": 6,
     "metadata": {},
     "output_type": "execute_result"
    }
   ],
   "source": [
    "df[df['gender'] == 'XNA']"
   ]
  },
  {
   "cell_type": "markdown",
   "metadata": {},
   "source": [
    "- Пол определить не удалось. Однако поступим как задумывали изначально и определим пол как женский."
   ]
  },
  {
   "cell_type": "markdown",
   "metadata": {},
   "source": [
    "- Внесем корректировки в некоторые столбцы:"
   ]
  },
  {
   "cell_type": "code",
   "execution_count": 7,
   "metadata": {},
   "outputs": [],
   "source": [
    "df['gender'] = df['gender'].replace('XNA', 'F')\n",
    "df['children'] = df['children'].replace(20, 2).abs()"
   ]
  },
  {
   "cell_type": "markdown",
   "metadata": {},
   "source": [
    "Высчитаем медиану возраста на каждую группу занятости."
   ]
  },
  {
   "cell_type": "code",
   "execution_count": 8,
   "metadata": {},
   "outputs": [
    {
     "data": {
      "text/plain": [
       "income_type\n",
       "безработный        38\n",
       "в декрете          39\n",
       "госслужащий        40\n",
       "компаньон          39\n",
       "пенсионер          60\n",
       "предприниматель    42\n",
       "сотрудник          39\n",
       "студент            22\n",
       "Name: dob_years, dtype: int64"
      ]
     },
     "execution_count": 8,
     "metadata": {},
     "output_type": "execute_result"
    }
   ],
   "source": [
    "df.groupby('income_type')['dob_years'].median().astype('int')"
   ]
  },
  {
   "cell_type": "markdown",
   "metadata": {},
   "source": [
    "Найдем категорию людей у которых встречается в возрасте нулевое значение:"
   ]
  },
  {
   "cell_type": "code",
   "execution_count": 9,
   "metadata": {},
   "outputs": [
    {
     "data": {
      "text/plain": [
       "['пенсионер', 'сотрудник', 'компаньон', 'госслужащий']"
      ]
     },
     "execution_count": 9,
     "metadata": {},
     "output_type": "execute_result"
    }
   ],
   "source": [
    "null_age = list(df[df['dob_years'] == 0]['income_type'].unique())\n",
    "null_age"
   ]
  },
  {
   "cell_type": "markdown",
   "metadata": {},
   "source": [
    "Заменим нулевой возраст на медиану в соотвествии с категорией:"
   ]
  },
  {
   "cell_type": "code",
   "execution_count": 10,
   "metadata": {},
   "outputs": [],
   "source": [
    "for row in null_age:\n",
    "    median_age = int(df[(df['income_type'] == row) & (df['dob_years'] > 0)]['dob_years'].median())\n",
    "    df.loc[(df['dob_years'] == 0) & (df['income_type'] == row), 'dob_years'] = median_age"
   ]
  },
  {
   "cell_type": "markdown",
   "metadata": {},
   "source": [
    "**Вывод**"
   ]
  },
  {
   "cell_type": "markdown",
   "metadata": {},
   "source": [
    "1. Каждая строка таблицы содержит информацию о клиентах, их платежеспособности, семейном положении, количестве детей и так далее. Что сразу можно заметить, так это отрицательное количество дней трудового стажа и наличие отрицательного количества детей, относится к разряду артефактов. Так как трудовой стаж и наличие детей не могут быть отрицательным, следовательно можно сделать вывод, что при внесении данных произошла техническая ошибка.\n",
    "Однако, эта ошибка носит человеческий фактор. Дело в том, что несколько лет назад да, могла произойти техническая ошибка при заполнении данных о, например, заемщике. Однако в настоящее время ни одна программа не пропустит такую ошибку, как отрицательные значения.\n",
    "Значит, делаем вывод, что это была ошибка непосредственно человека, который заполнял эти данные. К примеру, он мог сначала указать дату окончания трудового стажа, а только потом поставить дату начала трудового стажа.\n",
    "\n",
    "2. Также при применении df.info(), можно заметить пропуски в трудовом стаже и ежемесячном доходе. Помимо этого у них тип float, нужно исправить на тип int.\n",
    "Столбец о причинах необходимо распределить на категории при помощи лемматизации и привести к нижнему регистру данные из образования.\n",
    "Исправили данные о детях.\n",
    "Также была допущена ошибка при заполнении данных о возрасте. Значения не были пропущенны, вместо них стоял 0. Возможно заемщик изначально оставил эту ячейку пустой и до меня кто-то пытался обработать таблицу с пустыми значениями, решив заменить NaN на 0. Поменяли также 0 на медиану в соответсвии с заемщиками.\n",
    "\n",
    "**Для оценки потенциальных заемщиков необходимо ответить на 4 вопроса:**\n",
    "- Есть ли зависимость между наличием детей и возвратом кредита в срок?\n",
    "- Есть ли зависимость между семейным положением и возвратом кредита в срок?\n",
    "- Есть ли зависимость между уровнем дохода и возвратом кредита в срок?\n",
    "- Как разные цели кредита влияют на его возврат в срок?"
   ]
  },
  {
   "cell_type": "markdown",
   "metadata": {},
   "source": [
    "## Предобработка данных"
   ]
  },
  {
   "cell_type": "markdown",
   "metadata": {},
   "source": [
    "### Обработка пропусков"
   ]
  },
  {
   "cell_type": "code",
   "execution_count": 11,
   "metadata": {},
   "outputs": [],
   "source": [
    "df['days_employed'] = df['days_employed'].abs() #выведу модуль, чтобы убрать отрицательные значения"
   ]
  },
  {
   "cell_type": "markdown",
   "metadata": {},
   "source": [
    "- Согласно с выведенной ранее функцией df.describe(): получается что минимальное значение это 18388 дней, а максимальное 401755. Если мы будем применять среднее значение, то данные окажутся неверны, так как есть большой разброс в числах, да еще при том и со странными значениями трудового стажа в 1100 лет! Поэтому в данном случае мы используем медиану."
   ]
  },
  {
   "cell_type": "code",
   "execution_count": 12,
   "metadata": {},
   "outputs": [
    {
     "data": {
      "text/html": [
       "<div>\n",
       "<style scoped>\n",
       "    .dataframe tbody tr th:only-of-type {\n",
       "        vertical-align: middle;\n",
       "    }\n",
       "\n",
       "    .dataframe tbody tr th {\n",
       "        vertical-align: top;\n",
       "    }\n",
       "\n",
       "    .dataframe thead tr th {\n",
       "        text-align: left;\n",
       "    }\n",
       "</style>\n",
       "<table border=\"1\" class=\"dataframe\">\n",
       "  <thead>\n",
       "    <tr>\n",
       "      <th></th>\n",
       "      <th>income_type</th>\n",
       "      <th colspan=\"2\" halign=\"left\">days_employed</th>\n",
       "    </tr>\n",
       "    <tr>\n",
       "      <th></th>\n",
       "      <th></th>\n",
       "      <th>all_day</th>\n",
       "      <th>median_days</th>\n",
       "    </tr>\n",
       "  </thead>\n",
       "  <tbody>\n",
       "    <tr>\n",
       "      <td>0</td>\n",
       "      <td>безработный</td>\n",
       "      <td>2</td>\n",
       "      <td>366,413.65</td>\n",
       "    </tr>\n",
       "    <tr>\n",
       "      <td>1</td>\n",
       "      <td>в декрете</td>\n",
       "      <td>1</td>\n",
       "      <td>3,296.76</td>\n",
       "    </tr>\n",
       "    <tr>\n",
       "      <td>2</td>\n",
       "      <td>госслужащий</td>\n",
       "      <td>1312</td>\n",
       "      <td>2,689.37</td>\n",
       "    </tr>\n",
       "    <tr>\n",
       "      <td>3</td>\n",
       "      <td>компаньон</td>\n",
       "      <td>4577</td>\n",
       "      <td>1,547.38</td>\n",
       "    </tr>\n",
       "    <tr>\n",
       "      <td>4</td>\n",
       "      <td>пенсионер</td>\n",
       "      <td>3443</td>\n",
       "      <td>365,213.31</td>\n",
       "    </tr>\n",
       "    <tr>\n",
       "      <td>5</td>\n",
       "      <td>предприниматель</td>\n",
       "      <td>1</td>\n",
       "      <td>520.85</td>\n",
       "    </tr>\n",
       "    <tr>\n",
       "      <td>6</td>\n",
       "      <td>сотрудник</td>\n",
       "      <td>10014</td>\n",
       "      <td>1,574.20</td>\n",
       "    </tr>\n",
       "    <tr>\n",
       "      <td>7</td>\n",
       "      <td>студент</td>\n",
       "      <td>1</td>\n",
       "      <td>578.75</td>\n",
       "    </tr>\n",
       "  </tbody>\n",
       "</table>\n",
       "</div>"
      ],
      "text/plain": [
       "       income_type days_employed            \n",
       "                         all_day median_days\n",
       "0      безработный             2  366,413.65\n",
       "1        в декрете             1    3,296.76\n",
       "2      госслужащий          1312    2,689.37\n",
       "3        компаньон          4577    1,547.38\n",
       "4        пенсионер          3443  365,213.31\n",
       "5  предприниматель             1      520.85\n",
       "6        сотрудник         10014    1,574.20\n",
       "7          студент             1      578.75"
      ]
     },
     "execution_count": 12,
     "metadata": {},
     "output_type": "execute_result"
    }
   ],
   "source": [
    "df.groupby('income_type').agg({'days_employed' : ['count', 'median']}).reset_index().rename(columns={'count':'all_day', 'median':'median_days'})"
   ]
  },
  {
   "cell_type": "markdown",
   "metadata": {},
   "source": [
    "- Очень сильно выделяются медианы по безработынм и пенсионерам. Оценивая данные объективно можно заметить, что, скорее всего, для безработных и пенсионеров указаны данные не в днях, а в часах."
   ]
  },
  {
   "cell_type": "markdown",
   "metadata": {},
   "source": [
    "- При помощи индексации выберем строчки с пенсионерами и безработными, и переведем их значения из часов в дни."
   ]
  },
  {
   "cell_type": "code",
   "execution_count": 13,
   "metadata": {},
   "outputs": [],
   "source": [
    "df.loc[df['income_type'].isin(['пенсионер', 'безработный']), 'days_employed'] = (df.loc[df['income_type'].isin(['пенсионер', 'безработный']), 'days_employed'])/24"
   ]
  },
  {
   "cell_type": "code",
   "execution_count": 14,
   "metadata": {},
   "outputs": [],
   "source": [
    "median_employed = df.groupby('income_type').agg({'days_employed' : 'median'})\n",
    "#сгруппируем данные по столбцу о типах занятости. Применим к столбцу о трудовых днях медиану.\n",
    "\n",
    "for employed in median_employed.index:\n",
    "    df.loc[df['income_type'] == employed,'days_employed'] = df.loc[df['income_type'] == employed,'days_employed'].fillna(median_employed.loc[employed, 'days_employed'])\n",
    "\n",
    "    #df.loc[df['income_type'] == employed,'days_employed'] - это строчки соответствующие типу занятости employed.    \n",
    "#median_employed.loc позволяет достать числовое значение для конкретного типа, где в .loc первое значение соответствует индексу, а второе столбцу."
   ]
  },
  {
   "cell_type": "code",
   "execution_count": 15,
   "metadata": {},
   "outputs": [
    {
     "data": {
      "text/plain": [
       "0"
      ]
     },
     "execution_count": 15,
     "metadata": {},
     "output_type": "execute_result"
    }
   ],
   "source": [
    "df['days_employed'].isna().sum()"
   ]
  },
  {
   "cell_type": "markdown",
   "metadata": {},
   "source": [
    "- Мы заменили все пропущенные значения в трудовом стаже медианами в соответсвии с занятостью и при этом меняем отрицательные значения на положительные. Также меняем данные с безработными и пенсионерами из часов в дни.\n",
    "Делаем вывод что ни пенсионеры, ни безработные не пытались хитрить. Данные они ввели верно, вот только не в той величине которая была нужна."
   ]
  },
  {
   "cell_type": "markdown",
   "metadata": {},
   "source": [
    "- Перейдем к заполнению пропущенных значений о доходах. Предварительно сохраним индексы нужных строк перед заполнением, чтобы в дальнейшем смогли произвести проверку по любому из них."
   ]
  },
  {
   "cell_type": "code",
   "execution_count": 16,
   "metadata": {},
   "outputs": [
    {
     "data": {
      "text/plain": [
       "Int64Index([   12,    26,    29,    41,    55,    65,    67,    72,    82,\n",
       "               83,\n",
       "            ...\n",
       "            21415, 21423, 21426, 21432, 21463, 21489, 21495, 21497, 21502,\n",
       "            21510],\n",
       "           dtype='int64', length=2174)"
      ]
     },
     "execution_count": 16,
     "metadata": {},
     "output_type": "execute_result"
    }
   ],
   "source": [
    "is_null_rows = df[df.total_income.isnull()].index\n",
    "is_null_rows"
   ]
  },
  {
   "cell_type": "code",
   "execution_count": 17,
   "metadata": {},
   "outputs": [
    {
     "data": {
      "text/html": [
       "<div>\n",
       "<style scoped>\n",
       "    .dataframe tbody tr th:only-of-type {\n",
       "        vertical-align: middle;\n",
       "    }\n",
       "\n",
       "    .dataframe tbody tr th {\n",
       "        vertical-align: top;\n",
       "    }\n",
       "\n",
       "    .dataframe thead th {\n",
       "        text-align: right;\n",
       "    }\n",
       "</style>\n",
       "<table border=\"1\" class=\"dataframe\">\n",
       "  <thead>\n",
       "    <tr style=\"text-align: right;\">\n",
       "      <th></th>\n",
       "      <th>income_type</th>\n",
       "      <th>total_income</th>\n",
       "    </tr>\n",
       "  </thead>\n",
       "  <tbody>\n",
       "    <tr>\n",
       "      <td>0</td>\n",
       "      <td>безработный</td>\n",
       "      <td>131,339.75</td>\n",
       "    </tr>\n",
       "    <tr>\n",
       "      <td>1</td>\n",
       "      <td>в декрете</td>\n",
       "      <td>53,829.13</td>\n",
       "    </tr>\n",
       "    <tr>\n",
       "      <td>2</td>\n",
       "      <td>госслужащий</td>\n",
       "      <td>150,447.94</td>\n",
       "    </tr>\n",
       "    <tr>\n",
       "      <td>3</td>\n",
       "      <td>компаньон</td>\n",
       "      <td>172,357.95</td>\n",
       "    </tr>\n",
       "    <tr>\n",
       "      <td>4</td>\n",
       "      <td>пенсионер</td>\n",
       "      <td>118,514.49</td>\n",
       "    </tr>\n",
       "    <tr>\n",
       "      <td>5</td>\n",
       "      <td>предприниматель</td>\n",
       "      <td>499,163.14</td>\n",
       "    </tr>\n",
       "    <tr>\n",
       "      <td>6</td>\n",
       "      <td>сотрудник</td>\n",
       "      <td>142,594.40</td>\n",
       "    </tr>\n",
       "    <tr>\n",
       "      <td>7</td>\n",
       "      <td>студент</td>\n",
       "      <td>98,201.63</td>\n",
       "    </tr>\n",
       "  </tbody>\n",
       "</table>\n",
       "</div>"
      ],
      "text/plain": [
       "       income_type  total_income\n",
       "0      безработный    131,339.75\n",
       "1        в декрете     53,829.13\n",
       "2      госслужащий    150,447.94\n",
       "3        компаньон    172,357.95\n",
       "4        пенсионер    118,514.49\n",
       "5  предприниматель    499,163.14\n",
       "6        сотрудник    142,594.40\n",
       "7          студент     98,201.63"
      ]
     },
     "execution_count": 17,
     "metadata": {},
     "output_type": "execute_result"
    }
   ],
   "source": [
    "df['total_income'] = df['total_income'].abs() #выведу модуль, чтобы убрать отрицательные значения\n",
    "df.groupby('income_type')['total_income'].median().reset_index() #посчитаю медиану дохода для каждой категории"
   ]
  },
  {
   "cell_type": "code",
   "execution_count": 18,
   "metadata": {},
   "outputs": [],
   "source": [
    "median_table = df.groupby('income_type').agg({'total_income' : 'median'})\n",
    "#сгруппирую данные по столбцу о типах занятости. Применю к столбцу о доходах медиану.\n",
    "\n",
    "for row in median_table.index:\n",
    "    df.loc[df['income_type'] == row,'total_income'] = df.loc[df['income_type'] == row,'total_income'].fillna(median_table.loc[row, 'total_income'])\n",
    "\n",
    "#df.loc[df['income_type'] == inc_type,'total_income'] - это строчки соответствующие типу занятости inc_type.    \n",
    "#mean_table.loc позволяет достать числовое значение для конкретного типа, где в .loc первое значение соответствует индексу, а второе столбцу."
   ]
  },
  {
   "cell_type": "markdown",
   "metadata": {},
   "source": [
    "- Произведем проверку, чтобы убедиться что в пропущенное значение о доходах вставлена соответствующая занятости медиана."
   ]
  },
  {
   "cell_type": "code",
   "execution_count": 19,
   "metadata": {},
   "outputs": [
    {
     "data": {
      "text/plain": [
       "children                           0\n",
       "days_employed              15,217.22\n",
       "dob_years                         65\n",
       "education                    среднее\n",
       "education_id                       1\n",
       "family_status       гражданский брак\n",
       "family_status_id                   1\n",
       "gender                             M\n",
       "income_type                пенсионер\n",
       "debt                               0\n",
       "total_income              118,514.49\n",
       "purpose              сыграть свадьбу\n",
       "Name: 12, dtype: object"
      ]
     },
     "execution_count": 19,
     "metadata": {},
     "output_type": "execute_result"
    }
   ],
   "source": [
    "df.loc[12] "
   ]
  },
  {
   "cell_type": "markdown",
   "metadata": {},
   "source": [
    "- Проверим наличие пропущенных значений."
   ]
  },
  {
   "cell_type": "code",
   "execution_count": 20,
   "metadata": {},
   "outputs": [
    {
     "data": {
      "text/plain": [
       "children            0\n",
       "days_employed       0\n",
       "dob_years           0\n",
       "education           0\n",
       "education_id        0\n",
       "family_status       0\n",
       "family_status_id    0\n",
       "gender              0\n",
       "income_type         0\n",
       "debt                0\n",
       "total_income        0\n",
       "purpose             0\n",
       "dtype: int64"
      ]
     },
     "execution_count": 20,
     "metadata": {},
     "output_type": "execute_result"
    }
   ],
   "source": [
    "df.isna().sum()"
   ]
  },
  {
   "cell_type": "markdown",
   "metadata": {},
   "source": [
    "**Вывод**"
   ]
  },
  {
   "cell_type": "markdown",
   "metadata": {},
   "source": [
    "Из проделанной работы можно заметить, что пропущенные значения находились в столбцах о стаже и ежемесячном доходе в количестве 2174 каждый. \n",
    "\n",
    "Далее разбор по ежемесячным доходам. Вычислили медиану для каждого типа занятости, затем прописали цикл который автоматически заполняет пропущенные значения в доходах на медианы с соответствующей занятостью. То же самое проделали и с трудовым стажем.\n",
    "\n",
    "Из медианных значений для трудового стажа видно, что данные значительно завышены для категорий безработные и пенсионеры.\n",
    "\n",
    "Как и предполагалось в предыдущем выводе, в трудовом стаже скорее всего допущена ошибка человеческого фактора. Поэтому, во-первых, некоторые данные о трудовом стаже записаны с отрицательным значением. Во-вторых, пропуски могут свидетельствовать о том что потенциальный заемщик попросту не пожелал оставлять свои реальные данные о стаже и доходах, возможно он работает неофициально (как известно банки неохотно выдают кредиты самозанятым)."
   ]
  },
  {
   "cell_type": "markdown",
   "metadata": {},
   "source": [
    "Также, при просмотре всех данных таблицы появляется мысль нужны ли нам столбцы education и education_id / family_status и family_status_id в таком \"двойном виде\"? Почему не оставить просто education и family_status, избавившись от их айди?\n",
    "\n",
    "Ответ прост: id - это уникальный идентификатор. Во многих базах данных так формируются таблички: есть где-то отдельный “словарь“, где есть уникальные идентификаторы (education_id) и их расшифровка (education). Чаще всего в таблицах проставляют просто числовой идентификатор, либо для экономии места, либо же, если текст длинный, то чтобы не запутаться и не допустить в ошибку при написании. Если же нужна расшифровка, то смотрят уже в словарик."
   ]
  },
  {
   "cell_type": "markdown",
   "metadata": {},
   "source": [
    "### Замена типа данных"
   ]
  },
  {
   "cell_type": "markdown",
   "metadata": {},
   "source": [
    "- Изучим формат данных:"
   ]
  },
  {
   "cell_type": "code",
   "execution_count": 21,
   "metadata": {},
   "outputs": [
    {
     "data": {
      "text/plain": [
       "children              int64\n",
       "days_employed       float64\n",
       "dob_years             int64\n",
       "education            object\n",
       "education_id          int64\n",
       "family_status        object\n",
       "family_status_id      int64\n",
       "gender               object\n",
       "income_type          object\n",
       "debt                  int64\n",
       "total_income        float64\n",
       "purpose              object\n",
       "dtype: object"
      ]
     },
     "execution_count": 21,
     "metadata": {},
     "output_type": "execute_result"
    }
   ],
   "source": [
    "df.dtypes"
   ]
  },
  {
   "cell_type": "markdown",
   "metadata": {},
   "source": [
    "- Неверный тип у столбцов days_employed, total_income, dob_years."
   ]
  },
  {
   "cell_type": "code",
   "execution_count": 22,
   "metadata": {},
   "outputs": [],
   "source": [
    "df['days_employed'] = df['days_employed'].astype('int')"
   ]
  },
  {
   "cell_type": "code",
   "execution_count": 23,
   "metadata": {},
   "outputs": [],
   "source": [
    "df['total_income'] = df['total_income'].astype('int')"
   ]
  },
  {
   "cell_type": "code",
   "execution_count": 24,
   "metadata": {},
   "outputs": [],
   "source": [
    "df['dob_years'] = df['dob_years'].astype('int')"
   ]
  },
  {
   "cell_type": "markdown",
   "metadata": {},
   "source": [
    "### Обработка дубликатов"
   ]
  },
  {
   "cell_type": "markdown",
   "metadata": {},
   "source": [
    "- Приведем к нижнему регистру данные с образованием и семейным статусом."
   ]
  },
  {
   "cell_type": "code",
   "execution_count": 25,
   "metadata": {},
   "outputs": [],
   "source": [
    "df['education'] = df['education'].str.lower()"
   ]
  },
  {
   "cell_type": "code",
   "execution_count": 26,
   "metadata": {},
   "outputs": [],
   "source": [
    "df['family_status'] = df['family_status'].str.lower()"
   ]
  },
  {
   "cell_type": "markdown",
   "metadata": {},
   "source": [
    "- Используем метод duplicated()"
   ]
  },
  {
   "cell_type": "code",
   "execution_count": 27,
   "metadata": {},
   "outputs": [
    {
     "data": {
      "text/html": [
       "<div>\n",
       "<style scoped>\n",
       "    .dataframe tbody tr th:only-of-type {\n",
       "        vertical-align: middle;\n",
       "    }\n",
       "\n",
       "    .dataframe tbody tr th {\n",
       "        vertical-align: top;\n",
       "    }\n",
       "\n",
       "    .dataframe thead th {\n",
       "        text-align: right;\n",
       "    }\n",
       "</style>\n",
       "<table border=\"1\" class=\"dataframe\">\n",
       "  <thead>\n",
       "    <tr style=\"text-align: right;\">\n",
       "      <th></th>\n",
       "      <th>children</th>\n",
       "      <th>days_employed</th>\n",
       "      <th>dob_years</th>\n",
       "      <th>education</th>\n",
       "      <th>education_id</th>\n",
       "      <th>family_status</th>\n",
       "      <th>family_status_id</th>\n",
       "      <th>gender</th>\n",
       "      <th>income_type</th>\n",
       "      <th>debt</th>\n",
       "      <th>total_income</th>\n",
       "      <th>purpose</th>\n",
       "    </tr>\n",
       "  </thead>\n",
       "  <tbody>\n",
       "    <tr>\n",
       "      <td>18563</td>\n",
       "      <td>0</td>\n",
       "      <td>1574</td>\n",
       "      <td>54</td>\n",
       "      <td>среднее</td>\n",
       "      <td>1</td>\n",
       "      <td>женат / замужем</td>\n",
       "      <td>0</td>\n",
       "      <td>F</td>\n",
       "      <td>сотрудник</td>\n",
       "      <td>0</td>\n",
       "      <td>142594</td>\n",
       "      <td>операции со своей недвижимостью</td>\n",
       "    </tr>\n",
       "    <tr>\n",
       "      <td>4851</td>\n",
       "      <td>0</td>\n",
       "      <td>15217</td>\n",
       "      <td>60</td>\n",
       "      <td>среднее</td>\n",
       "      <td>1</td>\n",
       "      <td>гражданский брак</td>\n",
       "      <td>1</td>\n",
       "      <td>F</td>\n",
       "      <td>пенсионер</td>\n",
       "      <td>0</td>\n",
       "      <td>118514</td>\n",
       "      <td>свадьба</td>\n",
       "    </tr>\n",
       "    <tr>\n",
       "      <td>9604</td>\n",
       "      <td>0</td>\n",
       "      <td>15217</td>\n",
       "      <td>71</td>\n",
       "      <td>среднее</td>\n",
       "      <td>1</td>\n",
       "      <td>гражданский брак</td>\n",
       "      <td>1</td>\n",
       "      <td>F</td>\n",
       "      <td>пенсионер</td>\n",
       "      <td>0</td>\n",
       "      <td>118514</td>\n",
       "      <td>на проведение свадьбы</td>\n",
       "    </tr>\n",
       "    <tr>\n",
       "      <td>19688</td>\n",
       "      <td>0</td>\n",
       "      <td>15217</td>\n",
       "      <td>61</td>\n",
       "      <td>среднее</td>\n",
       "      <td>1</td>\n",
       "      <td>женат / замужем</td>\n",
       "      <td>0</td>\n",
       "      <td>F</td>\n",
       "      <td>пенсионер</td>\n",
       "      <td>0</td>\n",
       "      <td>118514</td>\n",
       "      <td>операции с недвижимостью</td>\n",
       "    </tr>\n",
       "    <tr>\n",
       "      <td>10697</td>\n",
       "      <td>0</td>\n",
       "      <td>1547</td>\n",
       "      <td>40</td>\n",
       "      <td>среднее</td>\n",
       "      <td>1</td>\n",
       "      <td>гражданский брак</td>\n",
       "      <td>1</td>\n",
       "      <td>F</td>\n",
       "      <td>компаньон</td>\n",
       "      <td>0</td>\n",
       "      <td>172357</td>\n",
       "      <td>сыграть свадьбу</td>\n",
       "    </tr>\n",
       "  </tbody>\n",
       "</table>\n",
       "</div>"
      ],
      "text/plain": [
       "       children  days_employed  dob_years education  education_id  \\\n",
       "18563         0           1574         54   среднее             1   \n",
       "4851          0          15217         60   среднее             1   \n",
       "9604          0          15217         71   среднее             1   \n",
       "19688         0          15217         61   среднее             1   \n",
       "10697         0           1547         40   среднее             1   \n",
       "\n",
       "          family_status  family_status_id gender income_type  debt  \\\n",
       "18563   женат / замужем                 0      F   сотрудник     0   \n",
       "4851   гражданский брак                 1      F   пенсионер     0   \n",
       "9604   гражданский брак                 1      F   пенсионер     0   \n",
       "19688   женат / замужем                 0      F   пенсионер     0   \n",
       "10697  гражданский брак                 1      F   компаньон     0   \n",
       "\n",
       "       total_income                          purpose  \n",
       "18563        142594  операции со своей недвижимостью  \n",
       "4851         118514                          свадьба  \n",
       "9604         118514            на проведение свадьбы  \n",
       "19688        118514         операции с недвижимостью  \n",
       "10697        172357                  сыграть свадьбу  "
      ]
     },
     "execution_count": 27,
     "metadata": {},
     "output_type": "execute_result"
    }
   ],
   "source": [
    "df[df.duplicated()].sample(5)"
   ]
  },
  {
   "cell_type": "markdown",
   "metadata": {},
   "source": [
    "- Уберем дубликаты во всем датафрейме. Однако это не означает что решение правильное, так как вероятность того что эти дубликаты случайны - мала. Следует обратиться к создателям датафрейма для уточнения информации."
   ]
  },
  {
   "cell_type": "code",
   "execution_count": 28,
   "metadata": {},
   "outputs": [],
   "source": [
    "df = df.drop_duplicates().reset_index(drop=True)"
   ]
  },
  {
   "cell_type": "markdown",
   "metadata": {},
   "source": [
    "**Вывод**"
   ]
  },
  {
   "cell_type": "markdown",
   "metadata": {},
   "source": [
    "В столбце об образовании и семейном статусе можно заметить, что присутствуют данные с заглавными буквами. Чтобы исключить возможные ошибки, приведем все строковые данные таблицы к нижнему регистру.\n",
    "Также в столбце о детях произвела замену отрицательного значения и 20 детей.\n",
    "Присутствуют дубликаты во всей таблице, 71 штука - удаляем. Сбрасываем индекс фрейма данных."
   ]
  },
  {
   "cell_type": "markdown",
   "metadata": {},
   "source": [
    "### Лемматизация"
   ]
  },
  {
   "cell_type": "markdown",
   "metadata": {},
   "source": [
    "- В таблице есть столбец `purpose`, в котором описаны цели для получения кредита разными словами."
   ]
  },
  {
   "cell_type": "markdown",
   "metadata": {},
   "source": [
    "- Лемматизируем данные. Подсчитаем число слов и их упоминаний в тексте."
   ]
  },
  {
   "cell_type": "code",
   "execution_count": 29,
   "metadata": {},
   "outputs": [
    {
     "data": {
      "text/plain": [
       "[(' ', 33570),\n",
       " ('\\n', 21454),\n",
       " ('недвижимость', 6351),\n",
       " ('покупка', 5897),\n",
       " ('жилье', 4460),\n",
       " ('автомобиль', 4306),\n",
       " ('образование', 4013),\n",
       " ('с', 2918),\n",
       " ('операция', 2604),\n",
       " ('свадьба', 2324),\n",
       " ('свой', 2230),\n",
       " ('на', 2222),\n",
       " ('строительство', 1878),\n",
       " ('высокий', 1374),\n",
       " ('получение', 1314),\n",
       " ('коммерческий', 1311),\n",
       " ('для', 1289),\n",
       " ('жилой', 1230),\n",
       " ('сделка', 941),\n",
       " ('дополнительный', 906),\n",
       " ('заниматься', 904),\n",
       " ('проведение', 768),\n",
       " ('сыграть', 765),\n",
       " ('сдача', 651),\n",
       " ('семья', 638),\n",
       " ('собственный', 635),\n",
       " ('со', 627),\n",
       " ('ремонт', 607),\n",
       " ('подержанный', 486),\n",
       " ('подержать', 478),\n",
       " ('приобретение', 461),\n",
       " ('профильный', 436)]"
      ]
     },
     "execution_count": 29,
     "metadata": {},
     "output_type": "execute_result"
    }
   ],
   "source": [
    "df['lemmas'] = df['purpose'].apply(m.lemmatize)\n",
    "Counter(df['lemmas'].sum()).most_common()"
   ]
  },
  {
   "cell_type": "markdown",
   "metadata": {},
   "source": [
    "- Итог: видно категории образование, автомобиль, жилье(недвижимость) и свадьба. Создадим функцию, которая автоматически будет перебирать все данные в `purpose` и, при помощи лемматизации, переименовывать их для последующей удобной сортировки."
   ]
  },
  {
   "cell_type": "code",
   "execution_count": 30,
   "metadata": {},
   "outputs": [],
   "source": [
    "def lemmatization(row):\n",
    "    lemma = m.lemmatize(row)\n",
    "    if 'образование' in lemma:\n",
    "        return 'образование'\n",
    "    elif 'автомобиль' in lemma:\n",
    "        return 'автомобиль'\n",
    "    elif 'свадьба' in lemma:\n",
    "        return 'свадьба'\n",
    "    elif ('недвижимость' in lemma) or ('жилье' in lemma):\n",
    "        return 'недвижимость'\n",
    "    \n",
    "df['purpose'] = df['purpose'].apply(lemmatization)"
   ]
  },
  {
   "cell_type": "code",
   "execution_count": 31,
   "metadata": {},
   "outputs": [
    {
     "data": {
      "text/plain": [
       "недвижимость    10811\n",
       "автомобиль       4306\n",
       "образование      4013\n",
       "свадьба          2324\n",
       "Name: purpose, dtype: int64"
      ]
     },
     "execution_count": 31,
     "metadata": {},
     "output_type": "execute_result"
    }
   ],
   "source": [
    "df['purpose'].value_counts()"
   ]
  },
  {
   "cell_type": "markdown",
   "metadata": {},
   "source": [
    "**Вывод**"
   ]
  },
  {
   "cell_type": "markdown",
   "metadata": {},
   "source": [
    "- Изменили данные и распределили их на 4 категории: образование, автомобиль, свадьба и жилье."
   ]
  },
  {
   "cell_type": "markdown",
   "metadata": {},
   "source": [
    "### Категоризация данных"
   ]
  },
  {
   "cell_type": "markdown",
   "metadata": {},
   "source": [
    "- Объединим избранные данные в произвольные группы по заданному критерию. Нужно определить высокий, средний и низкий уровень дохода.\n",
    "Воспользуемся перцентлями."
   ]
  },
  {
   "cell_type": "code",
   "execution_count": 32,
   "metadata": {},
   "outputs": [
    {
     "data": {
      "text/plain": [
       "25%   107,623.00\n",
       "50%   142,594.00\n",
       "75%   195,820.25\n",
       "Name: total_income, dtype: float64"
      ]
     },
     "execution_count": 32,
     "metadata": {},
     "output_type": "execute_result"
    }
   ],
   "source": [
    "# df['total_income'].describe().loc[['25%','50%','75%']]\n",
    "ranges = np.array(range(25, 100, 25))\n",
    "df['total_income'].describe(percentiles=ranges/100).loc[[f'{i}%' for i in ranges]]"
   ]
  },
  {
   "cell_type": "markdown",
   "metadata": {},
   "source": [
    "- На основе полученных данных пропишем функцию чтобы распределить `total_income` на низкий (0 - 24%), средний (25 - 74%) и высокий уровень дохода (от 75%)."
   ]
  },
  {
   "cell_type": "code",
   "execution_count": 33,
   "metadata": {},
   "outputs": [
    {
     "data": {
      "text/plain": [
       "средний уровень дохода    10726\n",
       "высокий уровень дохода     5364\n",
       "низкий уровень дохода      5364\n",
       "Name: income_group, dtype: int64"
      ]
     },
     "execution_count": 33,
     "metadata": {},
     "output_type": "execute_result"
    }
   ],
   "source": [
    "def income(price):\n",
    "    if price < 107623:\n",
    "        return 'низкий уровень дохода'\n",
    "    elif 107623 <= price < 195820:\n",
    "        return 'средний уровень дохода'\n",
    "    else:\n",
    "        return 'высокий уровень дохода'\n",
    "    \n",
    "df['income_group'] = df['total_income'].apply(income)\n",
    "df['income_group'].value_counts()"
   ]
  },
  {
   "cell_type": "markdown",
   "metadata": {},
   "source": [
    "- Также создадим категорию есть дети и нет детей и выведим обновленную талицу."
   ]
  },
  {
   "cell_type": "code",
   "execution_count": 34,
   "metadata": {},
   "outputs": [
    {
     "data": {
      "text/plain": [
       "нет детей    14091\n",
       "есть дети     7363\n",
       "Name: yes_no_children, dtype: int64"
      ]
     },
     "execution_count": 34,
     "metadata": {},
     "output_type": "execute_result"
    }
   ],
   "source": [
    "def children(number):\n",
    "    if number == 0:\n",
    "        return 'нет детей'\n",
    "    else:\n",
    "        return 'есть дети'\n",
    "    \n",
    "df['yes_no_children'] = df['children'].apply(children)\n",
    "df['yes_no_children'].value_counts()"
   ]
  },
  {
   "cell_type": "markdown",
   "metadata": {},
   "source": [
    "- Создадим категорию с объединенными данными по женат/замужем и в гражданском браке, а также вдова и разведена, так как у них схожее положение. Выведим обновленную талицу.\n",
    "\n",
    "Но перед этим выведим словарь 'family_status_id' для 'family_status' (для отработки полученных знаний и чтобы не прописывать каждый семеный статус в условии). Затем удалим дубликаты чтобы новая таблица с данными стала компактной и наглядной."
   ]
  },
  {
   "cell_type": "code",
   "execution_count": 35,
   "metadata": {},
   "outputs": [
    {
     "data": {
      "text/html": [
       "<div>\n",
       "<style scoped>\n",
       "    .dataframe tbody tr th:only-of-type {\n",
       "        vertical-align: middle;\n",
       "    }\n",
       "\n",
       "    .dataframe tbody tr th {\n",
       "        vertical-align: top;\n",
       "    }\n",
       "\n",
       "    .dataframe thead th {\n",
       "        text-align: right;\n",
       "    }\n",
       "</style>\n",
       "<table border=\"1\" class=\"dataframe\">\n",
       "  <thead>\n",
       "    <tr style=\"text-align: right;\">\n",
       "      <th></th>\n",
       "      <th>family_status</th>\n",
       "      <th>family_status_id</th>\n",
       "    </tr>\n",
       "  </thead>\n",
       "  <tbody>\n",
       "    <tr>\n",
       "      <td>0</td>\n",
       "      <td>женат / замужем</td>\n",
       "      <td>0</td>\n",
       "    </tr>\n",
       "    <tr>\n",
       "      <td>1</td>\n",
       "      <td>гражданский брак</td>\n",
       "      <td>1</td>\n",
       "    </tr>\n",
       "    <tr>\n",
       "      <td>2</td>\n",
       "      <td>вдовец / вдова</td>\n",
       "      <td>2</td>\n",
       "    </tr>\n",
       "    <tr>\n",
       "      <td>3</td>\n",
       "      <td>в разводе</td>\n",
       "      <td>3</td>\n",
       "    </tr>\n",
       "    <tr>\n",
       "      <td>4</td>\n",
       "      <td>не женат / не замужем</td>\n",
       "      <td>4</td>\n",
       "    </tr>\n",
       "  </tbody>\n",
       "</table>\n",
       "</div>"
      ],
      "text/plain": [
       "           family_status  family_status_id\n",
       "0        женат / замужем                 0\n",
       "1       гражданский брак                 1\n",
       "2         вдовец / вдова                 2\n",
       "3              в разводе                 3\n",
       "4  не женат / не замужем                 4"
      ]
     },
     "execution_count": 35,
     "metadata": {},
     "output_type": "execute_result"
    }
   ],
   "source": [
    "new_df = df[['family_status', 'family_status_id']]\n",
    "new_df = new_df.drop_duplicates().reset_index(drop=True)\n",
    "new_df"
   ]
  },
  {
   "cell_type": "code",
   "execution_count": 36,
   "metadata": {},
   "outputs": [
    {
     "data": {
      "text/plain": [
       "женат / замужем / гражданский брак    16490\n",
       "не женат / не замужем                  2810\n",
       "вдовец / вдова / в разводе             2154\n",
       "Name: new_family_status, dtype: int64"
      ]
     },
     "execution_count": 36,
     "metadata": {},
     "output_type": "execute_result"
    }
   ],
   "source": [
    "def family(status):\n",
    "    if status == 0 or status == 1:\n",
    "        return 'женат / замужем / гражданский брак'\n",
    "    elif status == 2 or status == 3:\n",
    "        return 'вдовец / вдова / в разводе'\n",
    "    else:\n",
    "        return 'не женат / не замужем'\n",
    "    \n",
    "df['new_family_status'] = df['family_status_id'].apply(family)\n",
    "df['new_family_status'].value_counts()"
   ]
  },
  {
   "cell_type": "markdown",
   "metadata": {},
   "source": [
    "**Вывод**"
   ]
  },
  {
   "cell_type": "markdown",
   "metadata": {},
   "source": [
    "Выполнили категоризацию по доходу, семейному статусу и наличию детей для последующего ответа на поставленные вопросы."
   ]
  },
  {
   "cell_type": "markdown",
   "metadata": {},
   "source": [
    "## Ответы на поставленные вопросы"
   ]
  },
  {
   "cell_type": "markdown",
   "metadata": {},
   "source": [
    "- Есть ли зависимость между наличием детей и возвратом кредита в срок?"
   ]
  },
  {
   "cell_type": "code",
   "execution_count": 37,
   "metadata": {},
   "outputs": [
    {
     "data": {
      "text/plain": [
       "yes_no_children\n",
       "есть дети    92.1%\n",
       "нет детей    75.4%\n",
       "dtype: object"
      ]
     },
     "execution_count": 37,
     "metadata": {},
     "output_type": "execute_result"
    }
   ],
   "source": [
    "correlation_debt_and_children = df.groupby('yes_no_children').agg({'debt' : ['sum', 'count']})\n",
    "correlation_d_a_c = correlation_debt_and_children['debt']['sum'] / correlation_debt_and_children['debt']['count']\n",
    "correlation_d_a_c.apply(lambda x: '{:.1%}'.format(x*10)).sort_values(ascending=False)"
   ]
  },
  {
   "cell_type": "markdown",
   "metadata": {},
   "source": [
    "***Вывод:***\n",
    "\n",
    "Заемщики у которых есть дети более склонны к задолженностям по возврату кредита. Это может быть связано с дополнительными затратами на детей."
   ]
  },
  {
   "cell_type": "markdown",
   "metadata": {},
   "source": [
    "- Есть ли зависимость между семейным положением и возвратом кредита в срок?"
   ]
  },
  {
   "cell_type": "code",
   "execution_count": 38,
   "metadata": {},
   "outputs": [
    {
     "data": {
      "text/plain": [
       "new_family_status\n",
       "не женат / не замужем                 97.5%\n",
       "женат / замужем / гражданский брак    80.0%\n",
       "вдовец / вдова / в разводе            68.7%\n",
       "dtype: object"
      ]
     },
     "execution_count": 38,
     "metadata": {},
     "output_type": "execute_result"
    }
   ],
   "source": [
    "correlation_debt_and_family = df.groupby('new_family_status').agg({'debt' : ['sum', 'count']})\n",
    "correlation_d_a_f = correlation_debt_and_family['debt']['sum'] / correlation_debt_and_family['debt']['count']\n",
    "correlation_d_a_f.apply(lambda x: '{:.1%}'.format(x*10)).sort_values(ascending=False)"
   ]
  },
  {
   "cell_type": "markdown",
   "metadata": {},
   "source": [
    "***Вывод:***\n",
    "\n",
    "Согласно полученным данным напрашивается вывод что люди, не состоящие в отношениях и никогда ранее не состоявшие в них, имеют больше задолженностей. Можем предположить что люди, побывавшие или находящиеся на данный момент в браке, знают как правильно распределять деньги и вовремя выделять их на выплаты по кредиту."
   ]
  },
  {
   "cell_type": "markdown",
   "metadata": {},
   "source": [
    "- Есть ли зависимость между уровнем дохода и возвратом кредита в срок?"
   ]
  },
  {
   "cell_type": "code",
   "execution_count": 39,
   "metadata": {},
   "outputs": [
    {
     "data": {
      "text/plain": [
       "income_group\n",
       "средний уровень дохода    86.8%\n",
       "низкий уровень дохода     79.6%\n",
       "высокий уровень дохода    71.4%\n",
       "dtype: object"
      ]
     },
     "execution_count": 39,
     "metadata": {},
     "output_type": "execute_result"
    }
   ],
   "source": [
    "correlation_debt_and_income = df.groupby('income_group').agg({'debt' : ['sum', 'count']})\n",
    "correlation_d_a_i = correlation_debt_and_income['debt']['sum'] / correlation_debt_and_income['debt']['count']\n",
    "correlation_d_a_i.apply(lambda x: '{:.1%}'.format(x*10)).sort_values(ascending=False)"
   ]
  },
  {
   "cell_type": "markdown",
   "metadata": {},
   "source": [
    "***Вывод:***\n",
    "\n",
    "На удивление люди с низким уровнем дохода имеют меньший процент задолженностей, нежели чем люди со средним доходом. Это можно объяснить тем что люди с низким доходом привыкли планировать заранее свой бюджет, а потому и процент задолженности у них меньше."
   ]
  },
  {
   "cell_type": "markdown",
   "metadata": {},
   "source": [
    "- Как разные цели кредита влияют на его возврат в срок?"
   ]
  },
  {
   "cell_type": "code",
   "execution_count": 40,
   "metadata": {},
   "outputs": [
    {
     "data": {
      "text/plain": [
       "purpose\n",
       "автомобиль      93.6%\n",
       "образование     92.2%\n",
       "свадьба         80.0%\n",
       "недвижимость    72.3%\n",
       "dtype: object"
      ]
     },
     "execution_count": 40,
     "metadata": {},
     "output_type": "execute_result"
    }
   ],
   "source": [
    "correlation_debt_and_purpose = df.groupby('purpose').agg({'debt' : ['sum', 'count']})\n",
    "correlation_d_a_p = correlation_debt_and_purpose['debt']['sum'] / correlation_debt_and_purpose['debt']['count']\n",
    "correlation_d_a_p.apply(lambda x: '{:.1%}'.format(x*10)).sort_values(ascending=False)"
   ]
  },
  {
   "cell_type": "markdown",
   "metadata": {},
   "source": [
    "***Вывод:***\n",
    "\n",
    "Больше всего задолженностей у людей с целями кредита по автомобилям и образованию. Самый низкий процент задолженностей у людей с целью купить недвижимость. Возможно что люди твердо оценивают свои силы и потому на покупкку недвижимости заранее выделяют нужные деньги. В то время как покупка автомобиля зачастую является относительно спонтанным решением. Кредит на образование тоже можно оценивать как спонтанный, так как баллы по итоговым школьным экзаменам могут не оправдать ожидание и по итогу вместо бюджета придется оплачивать платное образование. К такой ситуации зачастую родители оказываются не готовы, а потому заранее не планируют как будут отдавать деньги и соглашаются на любые условия по кредиту."
   ]
  },
  {
   "cell_type": "markdown",
   "metadata": {},
   "source": [
    "## Выводы "
   ]
  },
  {
   "cell_type": "markdown",
   "metadata": {},
   "source": [
    "Подводя общий итог мы получаем картину \"добросовестного\", \"умеренно-добросовестного\" и \"недобросовестного\" заемщика.\n",
    "\n",
    "Пример \"добросовестного\" заемщика:\n",
    "- Нет детей (нет дополнительных доходов)\n",
    "- Вдовец / в разводе (высокая доля ответственности, умение распоряжаться деньгами и правильно их распределять)\n",
    "- Высокий уровень дохода\n",
    "- Кредит на недвижимость\n",
    "\n",
    "Пример \"умеренно-добросовестного\" заемщика:\n",
    "- Есть 1 ребенок (есть затраты, но не такие большие когда детей 2 и больше)\n",
    "- Женат / гражданский брак\n",
    "- Низкий уровень дохода\n",
    "- Кредит на образование или свадьбу\n",
    "\n",
    "Пример \"недобросовестного\" заемщика:\n",
    "- Есть дети\n",
    "- Не женат \n",
    "- Средний уровень дохода\n",
    "- Кредит на автомобиль"
   ]
  }
 ],
 "metadata": {
  "ExecuteTimeLog": [
   {
    "duration": 562,
    "start_time": "2021-09-20T16:15:15.620Z"
   },
   {
    "duration": 93,
    "start_time": "2021-09-20T16:15:16.184Z"
   },
   {
    "duration": 54,
    "start_time": "2021-09-20T16:15:16.279Z"
   },
   {
    "duration": 11,
    "start_time": "2021-09-20T16:15:16.335Z"
   },
   {
    "duration": 23,
    "start_time": "2021-09-20T16:15:16.348Z"
   },
   {
    "duration": 25,
    "start_time": "2021-09-20T16:15:16.373Z"
   },
   {
    "duration": 27,
    "start_time": "2021-09-20T16:15:16.400Z"
   },
   {
    "duration": 14,
    "start_time": "2021-09-20T16:15:16.430Z"
   },
   {
    "duration": 31,
    "start_time": "2021-09-20T16:15:16.446Z"
   },
   {
    "duration": 35,
    "start_time": "2021-09-20T16:15:16.478Z"
   },
   {
    "duration": 16,
    "start_time": "2021-09-20T16:15:16.515Z"
   },
   {
    "duration": 52,
    "start_time": "2021-09-20T16:15:16.532Z"
   },
   {
    "duration": 4,
    "start_time": "2021-09-20T16:15:16.586Z"
   },
   {
    "duration": 30,
    "start_time": "2021-09-20T16:15:16.592Z"
   },
   {
    "duration": 36,
    "start_time": "2021-09-20T16:15:16.624Z"
   },
   {
    "duration": 35,
    "start_time": "2021-09-20T16:15:16.662Z"
   },
   {
    "duration": 23,
    "start_time": "2021-09-20T16:15:16.699Z"
   },
   {
    "duration": 6,
    "start_time": "2021-09-20T16:15:16.724Z"
   },
   {
    "duration": 9,
    "start_time": "2021-09-20T16:15:16.732Z"
   },
   {
    "duration": 6,
    "start_time": "2021-09-20T16:15:16.743Z"
   },
   {
    "duration": 8,
    "start_time": "2021-09-20T16:15:16.750Z"
   },
   {
    "duration": 7,
    "start_time": "2021-09-20T16:15:16.760Z"
   },
   {
    "duration": 29,
    "start_time": "2021-09-20T16:15:16.772Z"
   },
   {
    "duration": 14,
    "start_time": "2021-09-20T16:15:16.803Z"
   },
   {
    "duration": 10,
    "start_time": "2021-09-20T16:15:16.820Z"
   },
   {
    "duration": 4,
    "start_time": "2021-09-20T16:15:16.832Z"
   },
   {
    "duration": 10,
    "start_time": "2021-09-20T16:15:16.837Z"
   },
   {
    "duration": 15,
    "start_time": "2021-09-20T16:15:16.849Z"
   },
   {
    "duration": 8,
    "start_time": "2021-09-20T16:15:16.899Z"
   },
   {
    "duration": 17,
    "start_time": "2021-09-20T16:15:16.908Z"
   },
   {
    "duration": 37,
    "start_time": "2021-09-20T16:15:16.927Z"
   },
   {
    "duration": 6,
    "start_time": "2021-09-20T16:15:16.966Z"
   },
   {
    "duration": 30,
    "start_time": "2021-09-20T16:15:16.973Z"
   },
   {
    "duration": 38,
    "start_time": "2021-09-20T16:15:17.005Z"
   },
   {
    "duration": 5,
    "start_time": "2021-09-20T16:15:17.044Z"
   },
   {
    "duration": 10,
    "start_time": "2021-09-20T16:15:17.051Z"
   },
   {
    "duration": 38,
    "start_time": "2021-09-20T16:15:17.063Z"
   },
   {
    "duration": 4,
    "start_time": "2021-09-20T16:15:17.102Z"
   },
   {
    "duration": 6,
    "start_time": "2021-09-20T16:15:17.107Z"
   },
   {
    "duration": 5,
    "start_time": "2021-09-20T16:15:17.114Z"
   },
   {
    "duration": 15,
    "start_time": "2021-09-20T16:15:17.120Z"
   },
   {
    "duration": 12,
    "start_time": "2021-09-20T16:15:17.136Z"
   },
   {
    "duration": 15,
    "start_time": "2021-09-20T16:15:17.149Z"
   },
   {
    "duration": 7,
    "start_time": "2021-09-20T16:15:17.166Z"
   },
   {
    "duration": 45,
    "start_time": "2021-09-20T16:15:17.175Z"
   },
   {
    "duration": 21,
    "start_time": "2021-09-20T16:15:17.221Z"
   },
   {
    "duration": 14,
    "start_time": "2021-09-20T16:15:17.244Z"
   },
   {
    "duration": 10,
    "start_time": "2021-09-20T16:15:17.259Z"
   },
   {
    "duration": 30,
    "start_time": "2021-09-20T16:15:17.271Z"
   },
   {
    "duration": 9,
    "start_time": "2021-09-20T16:15:17.302Z"
   },
   {
    "duration": 8854,
    "start_time": "2021-09-20T16:15:17.313Z"
   },
   {
    "duration": 2914,
    "start_time": "2021-09-20T16:15:26.169Z"
   },
   {
    "duration": 19,
    "start_time": "2021-09-20T16:15:29.085Z"
   },
   {
    "duration": 18,
    "start_time": "2021-09-20T16:15:29.105Z"
   },
   {
    "duration": 12,
    "start_time": "2021-09-20T16:15:29.125Z"
   },
   {
    "duration": 12,
    "start_time": "2021-09-20T16:15:29.139Z"
   },
   {
    "duration": 12,
    "start_time": "2021-09-20T16:15:29.153Z"
   },
   {
    "duration": 46,
    "start_time": "2021-09-20T16:15:29.167Z"
   },
   {
    "duration": 12,
    "start_time": "2021-09-20T16:15:29.215Z"
   },
   {
    "duration": 17,
    "start_time": "2021-09-20T16:15:29.229Z"
   },
   {
    "duration": 12,
    "start_time": "2021-09-20T16:15:29.247Z"
   },
   {
    "duration": 39,
    "start_time": "2021-09-20T16:15:29.261Z"
   },
   {
    "duration": 13,
    "start_time": "2021-09-20T16:15:29.301Z"
   },
   {
    "duration": 575,
    "start_time": "2021-09-20T16:21:22.405Z"
   },
   {
    "duration": 117,
    "start_time": "2021-09-20T16:21:22.982Z"
   },
   {
    "duration": 29,
    "start_time": "2021-09-20T16:21:23.102Z"
   },
   {
    "duration": 11,
    "start_time": "2021-09-20T16:21:23.133Z"
   },
   {
    "duration": 11,
    "start_time": "2021-09-20T16:21:23.145Z"
   },
   {
    "duration": 18,
    "start_time": "2021-09-20T16:21:23.158Z"
   },
   {
    "duration": 23,
    "start_time": "2021-09-20T16:21:23.178Z"
   },
   {
    "duration": 7,
    "start_time": "2021-09-20T16:21:23.203Z"
   },
   {
    "duration": 16,
    "start_time": "2021-09-20T16:21:23.212Z"
   },
   {
    "duration": 30,
    "start_time": "2021-09-20T16:21:23.230Z"
   },
   {
    "duration": 5,
    "start_time": "2021-09-20T16:21:23.262Z"
   },
   {
    "duration": 61,
    "start_time": "2021-09-20T16:21:23.268Z"
   },
   {
    "duration": 5,
    "start_time": "2021-09-20T16:21:23.331Z"
   },
   {
    "duration": 17,
    "start_time": "2021-09-20T16:21:23.338Z"
   },
   {
    "duration": 20,
    "start_time": "2021-09-20T16:21:23.356Z"
   },
   {
    "duration": 17,
    "start_time": "2021-09-20T16:21:23.378Z"
   },
   {
    "duration": 22,
    "start_time": "2021-09-20T16:21:23.396Z"
   },
   {
    "duration": 14,
    "start_time": "2021-09-20T16:21:23.420Z"
   },
   {
    "duration": 8,
    "start_time": "2021-09-20T16:21:23.436Z"
   },
   {
    "duration": 15,
    "start_time": "2021-09-20T16:21:23.446Z"
   },
   {
    "duration": 16,
    "start_time": "2021-09-20T16:21:23.463Z"
   },
   {
    "duration": 13,
    "start_time": "2021-09-20T16:21:23.480Z"
   },
   {
    "duration": 15,
    "start_time": "2021-09-20T16:21:23.497Z"
   },
   {
    "duration": 18,
    "start_time": "2021-09-20T16:21:23.514Z"
   },
   {
    "duration": 14,
    "start_time": "2021-09-20T16:21:23.534Z"
   },
   {
    "duration": 10,
    "start_time": "2021-09-20T16:21:23.550Z"
   },
   {
    "duration": 9,
    "start_time": "2021-09-20T16:21:23.561Z"
   },
   {
    "duration": 19,
    "start_time": "2021-09-20T16:21:23.572Z"
   },
   {
    "duration": 8,
    "start_time": "2021-09-20T16:21:23.593Z"
   },
   {
    "duration": 13,
    "start_time": "2021-09-20T16:21:23.602Z"
   },
   {
    "duration": 39,
    "start_time": "2021-09-20T16:21:23.617Z"
   },
   {
    "duration": 7,
    "start_time": "2021-09-20T16:21:23.658Z"
   },
   {
    "duration": 43,
    "start_time": "2021-09-20T16:21:23.667Z"
   },
   {
    "duration": 46,
    "start_time": "2021-09-20T16:21:23.712Z"
   },
   {
    "duration": 5,
    "start_time": "2021-09-20T16:21:23.760Z"
   },
   {
    "duration": 16,
    "start_time": "2021-09-20T16:21:23.767Z"
   },
   {
    "duration": 18,
    "start_time": "2021-09-20T16:21:23.785Z"
   },
   {
    "duration": 8,
    "start_time": "2021-09-20T16:21:23.805Z"
   },
   {
    "duration": 16,
    "start_time": "2021-09-20T16:21:23.815Z"
   },
   {
    "duration": 8,
    "start_time": "2021-09-20T16:21:23.833Z"
   },
   {
    "duration": 23,
    "start_time": "2021-09-20T16:21:23.842Z"
   },
   {
    "duration": 19,
    "start_time": "2021-09-20T16:21:23.867Z"
   },
   {
    "duration": 26,
    "start_time": "2021-09-20T16:21:23.887Z"
   },
   {
    "duration": 13,
    "start_time": "2021-09-20T16:21:23.915Z"
   },
   {
    "duration": 22,
    "start_time": "2021-09-20T16:21:23.930Z"
   },
   {
    "duration": 23,
    "start_time": "2021-09-20T16:21:23.954Z"
   },
   {
    "duration": 29,
    "start_time": "2021-09-20T16:21:23.979Z"
   },
   {
    "duration": 12,
    "start_time": "2021-09-20T16:21:24.010Z"
   },
   {
    "duration": 7,
    "start_time": "2021-09-20T16:21:24.024Z"
   },
   {
    "duration": 11,
    "start_time": "2021-09-20T16:21:24.033Z"
   },
   {
    "duration": 9128,
    "start_time": "2021-09-20T16:21:24.046Z"
   },
   {
    "duration": 2776,
    "start_time": "2021-09-20T16:21:33.176Z"
   },
   {
    "duration": 8,
    "start_time": "2021-09-20T16:21:35.953Z"
   },
   {
    "duration": 33,
    "start_time": "2021-09-20T16:21:35.963Z"
   },
   {
    "duration": 36,
    "start_time": "2021-09-20T16:21:35.997Z"
   },
   {
    "duration": 17,
    "start_time": "2021-09-20T16:21:36.035Z"
   },
   {
    "duration": 23,
    "start_time": "2021-09-20T16:21:36.053Z"
   },
   {
    "duration": 39,
    "start_time": "2021-09-20T16:21:36.077Z"
   },
   {
    "duration": 16,
    "start_time": "2021-09-20T16:21:36.117Z"
   },
   {
    "duration": 31,
    "start_time": "2021-09-20T16:21:36.134Z"
   },
   {
    "duration": 13,
    "start_time": "2021-09-20T16:21:36.167Z"
   },
   {
    "duration": 23,
    "start_time": "2021-09-20T16:21:36.181Z"
   },
   {
    "duration": 15,
    "start_time": "2021-09-20T16:21:36.206Z"
   },
   {
    "duration": 21,
    "start_time": "2021-09-20T16:24:43.103Z"
   },
   {
    "duration": 586,
    "start_time": "2021-09-20T16:24:51.098Z"
   },
   {
    "duration": 99,
    "start_time": "2021-09-20T16:24:51.687Z"
   },
   {
    "duration": 20,
    "start_time": "2021-09-20T16:24:51.788Z"
   },
   {
    "duration": 14,
    "start_time": "2021-09-20T16:24:51.809Z"
   },
   {
    "duration": 13,
    "start_time": "2021-09-20T16:24:51.824Z"
   },
   {
    "duration": 10,
    "start_time": "2021-09-20T16:24:51.838Z"
   },
   {
    "duration": 7,
    "start_time": "2021-09-20T16:24:51.850Z"
   },
   {
    "duration": 10,
    "start_time": "2021-09-20T16:24:51.859Z"
   },
   {
    "duration": 11,
    "start_time": "2021-09-20T16:24:51.870Z"
   },
   {
    "duration": 22,
    "start_time": "2021-09-20T16:24:51.900Z"
   },
   {
    "duration": 5,
    "start_time": "2021-09-20T16:24:51.923Z"
   },
   {
    "duration": 45,
    "start_time": "2021-09-20T16:24:51.929Z"
   },
   {
    "duration": 24,
    "start_time": "2021-09-20T16:24:51.976Z"
   },
   {
    "duration": 7,
    "start_time": "2021-09-20T16:24:52.001Z"
   },
   {
    "duration": 26,
    "start_time": "2021-09-20T16:24:52.010Z"
   },
   {
    "duration": 16,
    "start_time": "2021-09-20T16:24:52.038Z"
   },
   {
    "duration": 32,
    "start_time": "2021-09-20T16:24:52.056Z"
   },
   {
    "duration": 20,
    "start_time": "2021-09-20T16:24:52.090Z"
   },
   {
    "duration": 13,
    "start_time": "2021-09-20T16:24:52.112Z"
   },
   {
    "duration": 30,
    "start_time": "2021-09-20T16:24:52.126Z"
   },
   {
    "duration": 20,
    "start_time": "2021-09-20T16:24:52.159Z"
   },
   {
    "duration": 21,
    "start_time": "2021-09-20T16:24:52.181Z"
   },
   {
    "duration": 9,
    "start_time": "2021-09-20T16:24:52.206Z"
   },
   {
    "duration": 30,
    "start_time": "2021-09-20T16:24:52.217Z"
   },
   {
    "duration": 17,
    "start_time": "2021-09-20T16:24:52.249Z"
   },
   {
    "duration": 10,
    "start_time": "2021-09-20T16:24:52.268Z"
   },
   {
    "duration": 20,
    "start_time": "2021-09-20T16:24:52.279Z"
   },
   {
    "duration": 15,
    "start_time": "2021-09-20T16:24:52.301Z"
   },
   {
    "duration": 7,
    "start_time": "2021-09-20T16:24:52.317Z"
   },
   {
    "duration": 44,
    "start_time": "2021-09-20T16:24:52.325Z"
   },
   {
    "duration": 72,
    "start_time": "2021-09-20T16:24:52.384Z"
   },
   {
    "duration": 32,
    "start_time": "2021-09-20T16:24:52.468Z"
   },
   {
    "duration": 9,
    "start_time": "2021-09-20T16:24:52.502Z"
   },
   {
    "duration": 40,
    "start_time": "2021-09-20T16:24:52.512Z"
   },
   {
    "duration": 5,
    "start_time": "2021-09-20T16:24:52.553Z"
   },
   {
    "duration": 11,
    "start_time": "2021-09-20T16:24:52.560Z"
   },
   {
    "duration": 32,
    "start_time": "2021-09-20T16:24:52.572Z"
   },
   {
    "duration": 3,
    "start_time": "2021-09-20T16:24:52.606Z"
   },
   {
    "duration": 6,
    "start_time": "2021-09-20T16:24:52.611Z"
   },
   {
    "duration": 4,
    "start_time": "2021-09-20T16:24:52.619Z"
   },
   {
    "duration": 12,
    "start_time": "2021-09-20T16:24:52.625Z"
   },
   {
    "duration": 12,
    "start_time": "2021-09-20T16:24:52.639Z"
   },
   {
    "duration": 15,
    "start_time": "2021-09-20T16:24:52.652Z"
   },
   {
    "duration": 34,
    "start_time": "2021-09-20T16:24:52.669Z"
   },
   {
    "duration": 22,
    "start_time": "2021-09-20T16:24:52.705Z"
   },
   {
    "duration": 20,
    "start_time": "2021-09-20T16:24:52.729Z"
   },
   {
    "duration": 15,
    "start_time": "2021-09-20T16:24:52.751Z"
   },
   {
    "duration": 36,
    "start_time": "2021-09-20T16:24:52.767Z"
   },
   {
    "duration": 11,
    "start_time": "2021-09-20T16:24:52.804Z"
   },
   {
    "duration": 12,
    "start_time": "2021-09-20T16:24:52.816Z"
   },
   {
    "duration": 9045,
    "start_time": "2021-09-20T16:24:52.830Z"
   },
   {
    "duration": 2803,
    "start_time": "2021-09-20T16:25:01.877Z"
   },
   {
    "duration": 18,
    "start_time": "2021-09-20T16:25:04.681Z"
   },
   {
    "duration": 14,
    "start_time": "2021-09-20T16:25:04.701Z"
   },
   {
    "duration": 11,
    "start_time": "2021-09-20T16:25:04.717Z"
   },
   {
    "duration": 14,
    "start_time": "2021-09-20T16:25:04.730Z"
   },
   {
    "duration": 12,
    "start_time": "2021-09-20T16:25:04.746Z"
   },
   {
    "duration": 52,
    "start_time": "2021-09-20T16:25:04.760Z"
   },
   {
    "duration": 14,
    "start_time": "2021-09-20T16:25:04.813Z"
   },
   {
    "duration": 19,
    "start_time": "2021-09-20T16:25:04.828Z"
   },
   {
    "duration": 13,
    "start_time": "2021-09-20T16:25:04.849Z"
   },
   {
    "duration": 13,
    "start_time": "2021-09-20T16:25:04.901Z"
   },
   {
    "duration": 15,
    "start_time": "2021-09-20T16:25:04.916Z"
   },
   {
    "duration": 24,
    "start_time": "2021-09-20T16:25:27.018Z"
   },
   {
    "duration": 582,
    "start_time": "2021-09-20T16:25:38.768Z"
   },
   {
    "duration": 99,
    "start_time": "2021-09-20T16:25:39.352Z"
   },
   {
    "duration": 17,
    "start_time": "2021-09-20T16:25:39.452Z"
   },
   {
    "duration": 30,
    "start_time": "2021-09-20T16:25:39.471Z"
   },
   {
    "duration": 7,
    "start_time": "2021-09-20T16:25:39.502Z"
   },
   {
    "duration": 8,
    "start_time": "2021-09-20T16:25:39.511Z"
   },
   {
    "duration": 16,
    "start_time": "2021-09-20T16:25:39.521Z"
   },
   {
    "duration": 12,
    "start_time": "2021-09-20T16:25:39.540Z"
   },
   {
    "duration": 16,
    "start_time": "2021-09-20T16:25:39.554Z"
   },
   {
    "duration": 34,
    "start_time": "2021-09-20T16:25:39.572Z"
   },
   {
    "duration": 6,
    "start_time": "2021-09-20T16:25:39.608Z"
   },
   {
    "duration": 43,
    "start_time": "2021-09-20T16:25:39.615Z"
   },
   {
    "duration": 4,
    "start_time": "2021-09-20T16:25:39.659Z"
   },
   {
    "duration": 8,
    "start_time": "2021-09-20T16:25:39.665Z"
   },
   {
    "duration": 32,
    "start_time": "2021-09-20T16:25:39.674Z"
   },
   {
    "duration": 10,
    "start_time": "2021-09-20T16:25:39.708Z"
   },
   {
    "duration": 19,
    "start_time": "2021-09-20T16:25:39.720Z"
   },
   {
    "duration": 18,
    "start_time": "2021-09-20T16:25:39.741Z"
   },
   {
    "duration": 16,
    "start_time": "2021-09-20T16:25:39.760Z"
   },
   {
    "duration": 15,
    "start_time": "2021-09-20T16:25:39.778Z"
   },
   {
    "duration": 16,
    "start_time": "2021-09-20T16:25:39.794Z"
   },
   {
    "duration": 9,
    "start_time": "2021-09-20T16:25:39.812Z"
   },
   {
    "duration": 9,
    "start_time": "2021-09-20T16:25:39.824Z"
   },
   {
    "duration": 12,
    "start_time": "2021-09-20T16:25:39.836Z"
   },
   {
    "duration": 11,
    "start_time": "2021-09-20T16:25:39.850Z"
   },
   {
    "duration": 12,
    "start_time": "2021-09-20T16:25:39.862Z"
   },
   {
    "duration": 23,
    "start_time": "2021-09-20T16:25:39.876Z"
   },
   {
    "duration": 11,
    "start_time": "2021-09-20T16:25:39.901Z"
   },
   {
    "duration": 6,
    "start_time": "2021-09-20T16:25:39.914Z"
   },
   {
    "duration": 19,
    "start_time": "2021-09-20T16:25:39.922Z"
   },
   {
    "duration": 56,
    "start_time": "2021-09-20T16:25:39.943Z"
   },
   {
    "duration": 8,
    "start_time": "2021-09-20T16:25:40.001Z"
   },
   {
    "duration": 22,
    "start_time": "2021-09-20T16:25:40.010Z"
   },
   {
    "duration": 42,
    "start_time": "2021-09-20T16:25:40.034Z"
   },
   {
    "duration": 6,
    "start_time": "2021-09-20T16:25:40.077Z"
   },
   {
    "duration": 12,
    "start_time": "2021-09-20T16:25:40.100Z"
   },
   {
    "duration": 25,
    "start_time": "2021-09-20T16:25:40.113Z"
   },
   {
    "duration": 11,
    "start_time": "2021-09-20T16:25:40.140Z"
   },
   {
    "duration": 20,
    "start_time": "2021-09-20T16:25:40.152Z"
   },
   {
    "duration": 11,
    "start_time": "2021-09-20T16:25:40.173Z"
   },
   {
    "duration": 13,
    "start_time": "2021-09-20T16:25:40.186Z"
   },
   {
    "duration": 18,
    "start_time": "2021-09-20T16:25:40.201Z"
   },
   {
    "duration": 25,
    "start_time": "2021-09-20T16:25:40.221Z"
   },
   {
    "duration": 22,
    "start_time": "2021-09-20T16:25:40.248Z"
   },
   {
    "duration": 32,
    "start_time": "2021-09-20T16:25:40.272Z"
   },
   {
    "duration": 25,
    "start_time": "2021-09-20T16:25:40.305Z"
   },
   {
    "duration": 22,
    "start_time": "2021-09-20T16:25:40.332Z"
   },
   {
    "duration": 15,
    "start_time": "2021-09-20T16:25:40.356Z"
   },
   {
    "duration": 12,
    "start_time": "2021-09-20T16:25:40.373Z"
   },
   {
    "duration": 23,
    "start_time": "2021-09-20T16:25:40.386Z"
   },
   {
    "duration": 8738,
    "start_time": "2021-09-20T16:25:40.411Z"
   },
   {
    "duration": 2776,
    "start_time": "2021-09-20T16:25:49.151Z"
   },
   {
    "duration": 9,
    "start_time": "2021-09-20T16:25:51.928Z"
   },
   {
    "duration": 18,
    "start_time": "2021-09-20T16:25:51.938Z"
   },
   {
    "duration": 10,
    "start_time": "2021-09-20T16:25:51.958Z"
   },
   {
    "duration": 36,
    "start_time": "2021-09-20T16:25:51.970Z"
   },
   {
    "duration": 12,
    "start_time": "2021-09-20T16:25:52.007Z"
   },
   {
    "duration": 19,
    "start_time": "2021-09-20T16:25:52.021Z"
   },
   {
    "duration": 12,
    "start_time": "2021-09-20T16:25:52.042Z"
   },
   {
    "duration": 48,
    "start_time": "2021-09-20T16:25:52.055Z"
   },
   {
    "duration": 12,
    "start_time": "2021-09-20T16:25:52.105Z"
   },
   {
    "duration": 11,
    "start_time": "2021-09-20T16:25:52.119Z"
   },
   {
    "duration": 11,
    "start_time": "2021-09-20T16:25:52.132Z"
   },
   {
    "duration": 54,
    "start_time": "2021-09-20T16:27:29.514Z"
   },
   {
    "duration": 69,
    "start_time": "2021-09-20T16:28:02.005Z"
   },
   {
    "duration": 38,
    "start_time": "2021-09-20T16:28:10.747Z"
   },
   {
    "duration": 265,
    "start_time": "2021-09-20T16:28:45.255Z"
   },
   {
    "duration": 23,
    "start_time": "2021-09-20T16:29:30.696Z"
   },
   {
    "duration": 604,
    "start_time": "2021-09-20T16:29:38.802Z"
   },
   {
    "duration": 98,
    "start_time": "2021-09-20T16:29:39.408Z"
   },
   {
    "duration": 16,
    "start_time": "2021-09-20T16:29:39.508Z"
   },
   {
    "duration": 9,
    "start_time": "2021-09-20T16:29:39.526Z"
   },
   {
    "duration": 7,
    "start_time": "2021-09-20T16:29:39.536Z"
   },
   {
    "duration": 10,
    "start_time": "2021-09-20T16:29:39.545Z"
   },
   {
    "duration": 7,
    "start_time": "2021-09-20T16:29:39.556Z"
   },
   {
    "duration": 42,
    "start_time": "2021-09-20T16:29:39.565Z"
   },
   {
    "duration": 11,
    "start_time": "2021-09-20T16:29:39.609Z"
   },
   {
    "duration": 22,
    "start_time": "2021-09-20T16:29:39.622Z"
   },
   {
    "duration": 6,
    "start_time": "2021-09-20T16:29:39.646Z"
   },
   {
    "duration": 85,
    "start_time": "2021-09-20T16:29:39.653Z"
   },
   {
    "duration": 4,
    "start_time": "2021-09-20T16:29:39.740Z"
   },
   {
    "duration": 8,
    "start_time": "2021-09-20T16:29:39.746Z"
   },
   {
    "duration": 11,
    "start_time": "2021-09-20T16:29:39.756Z"
   },
   {
    "duration": 8,
    "start_time": "2021-09-20T16:29:39.768Z"
   },
   {
    "duration": 28,
    "start_time": "2021-09-20T16:29:39.777Z"
   },
   {
    "duration": 7,
    "start_time": "2021-09-20T16:29:39.806Z"
   },
   {
    "duration": 7,
    "start_time": "2021-09-20T16:29:39.814Z"
   },
   {
    "duration": 8,
    "start_time": "2021-09-20T16:29:39.823Z"
   },
   {
    "duration": 7,
    "start_time": "2021-09-20T16:29:39.832Z"
   },
   {
    "duration": 6,
    "start_time": "2021-09-20T16:29:39.840Z"
   },
   {
    "duration": 10,
    "start_time": "2021-09-20T16:29:39.850Z"
   },
   {
    "duration": 47,
    "start_time": "2021-09-20T16:29:39.862Z"
   },
   {
    "duration": 9,
    "start_time": "2021-09-20T16:29:39.911Z"
   },
   {
    "duration": 4,
    "start_time": "2021-09-20T16:29:39.921Z"
   },
   {
    "duration": 10,
    "start_time": "2021-09-20T16:29:39.926Z"
   },
   {
    "duration": 11,
    "start_time": "2021-09-20T16:29:39.938Z"
   },
   {
    "duration": 6,
    "start_time": "2021-09-20T16:29:39.951Z"
   },
   {
    "duration": 44,
    "start_time": "2021-09-20T16:29:39.959Z"
   },
   {
    "duration": 41,
    "start_time": "2021-09-20T16:29:40.004Z"
   },
   {
    "duration": 6,
    "start_time": "2021-09-20T16:29:40.046Z"
   },
   {
    "duration": 11,
    "start_time": "2021-09-20T16:29:40.053Z"
   },
   {
    "duration": 65,
    "start_time": "2021-09-20T16:29:40.065Z"
   },
   {
    "duration": 5,
    "start_time": "2021-09-20T16:29:40.132Z"
   },
   {
    "duration": 10,
    "start_time": "2021-09-20T16:29:40.139Z"
   },
   {
    "duration": 11,
    "start_time": "2021-09-20T16:29:40.151Z"
   },
   {
    "duration": 4,
    "start_time": "2021-09-20T16:29:40.163Z"
   },
   {
    "duration": 32,
    "start_time": "2021-09-20T16:29:40.168Z"
   },
   {
    "duration": 3,
    "start_time": "2021-09-20T16:29:40.202Z"
   },
   {
    "duration": 15,
    "start_time": "2021-09-20T16:29:40.207Z"
   },
   {
    "duration": 13,
    "start_time": "2021-09-20T16:29:40.224Z"
   },
   {
    "duration": 14,
    "start_time": "2021-09-20T16:29:40.239Z"
   },
   {
    "duration": 11,
    "start_time": "2021-09-20T16:29:40.254Z"
   },
   {
    "duration": 47,
    "start_time": "2021-09-20T16:29:40.267Z"
   },
   {
    "duration": 21,
    "start_time": "2021-09-20T16:29:40.316Z"
   },
   {
    "duration": 15,
    "start_time": "2021-09-20T16:29:40.339Z"
   },
   {
    "duration": 10,
    "start_time": "2021-09-20T16:29:40.355Z"
   },
   {
    "duration": 7,
    "start_time": "2021-09-20T16:29:40.366Z"
   },
   {
    "duration": 30,
    "start_time": "2021-09-20T16:29:40.374Z"
   },
   {
    "duration": 8932,
    "start_time": "2021-09-20T16:29:40.405Z"
   },
   {
    "duration": 2919,
    "start_time": "2021-09-20T16:29:49.339Z"
   },
   {
    "duration": 7,
    "start_time": "2021-09-20T16:29:52.260Z"
   },
   {
    "duration": 33,
    "start_time": "2021-09-20T16:29:52.268Z"
   },
   {
    "duration": 9,
    "start_time": "2021-09-20T16:29:52.303Z"
   },
   {
    "duration": 14,
    "start_time": "2021-09-20T16:29:52.314Z"
   },
   {
    "duration": 12,
    "start_time": "2021-09-20T16:29:52.330Z"
   },
   {
    "duration": 18,
    "start_time": "2021-09-20T16:29:52.344Z"
   },
   {
    "duration": 45,
    "start_time": "2021-09-20T16:29:52.364Z"
   },
   {
    "duration": 19,
    "start_time": "2021-09-20T16:29:52.411Z"
   },
   {
    "duration": 12,
    "start_time": "2021-09-20T16:29:52.432Z"
   },
   {
    "duration": 11,
    "start_time": "2021-09-20T16:29:52.445Z"
   },
   {
    "duration": 11,
    "start_time": "2021-09-20T16:29:52.458Z"
   },
   {
    "duration": 38,
    "start_time": "2021-09-20T16:30:08.675Z"
   },
   {
    "duration": 278,
    "start_time": "2021-09-20T16:30:30.980Z"
   },
   {
    "duration": 33,
    "start_time": "2021-09-20T16:31:04.968Z"
   },
   {
    "duration": 626,
    "start_time": "2021-09-20T16:31:24.125Z"
   },
   {
    "duration": 103,
    "start_time": "2021-09-20T16:31:24.753Z"
   },
   {
    "duration": 23,
    "start_time": "2021-09-20T16:31:24.857Z"
   },
   {
    "duration": 25,
    "start_time": "2021-09-20T16:31:24.882Z"
   },
   {
    "duration": 8,
    "start_time": "2021-09-20T16:31:24.908Z"
   },
   {
    "duration": 15,
    "start_time": "2021-09-20T16:31:24.918Z"
   },
   {
    "duration": 5,
    "start_time": "2021-09-20T16:31:24.935Z"
   },
   {
    "duration": 13,
    "start_time": "2021-09-20T16:31:24.942Z"
   },
   {
    "duration": 9,
    "start_time": "2021-09-20T16:31:24.957Z"
   },
   {
    "duration": 50,
    "start_time": "2021-09-20T16:31:24.967Z"
   },
   {
    "duration": 4,
    "start_time": "2021-09-20T16:31:25.019Z"
   },
   {
    "duration": 45,
    "start_time": "2021-09-20T16:31:25.024Z"
   },
   {
    "duration": 5,
    "start_time": "2021-09-20T16:31:25.070Z"
   },
   {
    "duration": 7,
    "start_time": "2021-09-20T16:31:25.100Z"
   },
   {
    "duration": 12,
    "start_time": "2021-09-20T16:31:25.108Z"
   },
   {
    "duration": 8,
    "start_time": "2021-09-20T16:31:25.121Z"
   },
   {
    "duration": 12,
    "start_time": "2021-09-20T16:31:25.130Z"
   },
   {
    "duration": 10,
    "start_time": "2021-09-20T16:31:25.143Z"
   },
   {
    "duration": 6,
    "start_time": "2021-09-20T16:31:25.155Z"
   },
   {
    "duration": 40,
    "start_time": "2021-09-20T16:31:25.162Z"
   },
   {
    "duration": 7,
    "start_time": "2021-09-20T16:31:25.203Z"
   },
   {
    "duration": 7,
    "start_time": "2021-09-20T16:31:25.212Z"
   },
   {
    "duration": 7,
    "start_time": "2021-09-20T16:31:25.223Z"
   },
   {
    "duration": 12,
    "start_time": "2021-09-20T16:31:25.232Z"
   },
   {
    "duration": 8,
    "start_time": "2021-09-20T16:31:25.246Z"
   },
   {
    "duration": 3,
    "start_time": "2021-09-20T16:31:25.300Z"
   },
   {
    "duration": 10,
    "start_time": "2021-09-20T16:31:25.305Z"
   },
   {
    "duration": 11,
    "start_time": "2021-09-20T16:31:25.317Z"
   },
   {
    "duration": 7,
    "start_time": "2021-09-20T16:31:25.330Z"
   },
   {
    "duration": 14,
    "start_time": "2021-09-20T16:31:25.338Z"
   },
   {
    "duration": 67,
    "start_time": "2021-09-20T16:31:25.353Z"
   },
   {
    "duration": 6,
    "start_time": "2021-09-20T16:31:25.422Z"
   },
   {
    "duration": 7,
    "start_time": "2021-09-20T16:31:25.430Z"
   },
   {
    "duration": 60,
    "start_time": "2021-09-20T16:31:25.439Z"
   },
   {
    "duration": 5,
    "start_time": "2021-09-20T16:31:25.501Z"
   },
   {
    "duration": 11,
    "start_time": "2021-09-20T16:31:25.507Z"
   },
   {
    "duration": 10,
    "start_time": "2021-09-20T16:31:25.519Z"
   },
   {
    "duration": 3,
    "start_time": "2021-09-20T16:31:25.531Z"
   },
   {
    "duration": 8,
    "start_time": "2021-09-20T16:31:25.535Z"
   },
   {
    "duration": 6,
    "start_time": "2021-09-20T16:31:25.544Z"
   },
   {
    "duration": 11,
    "start_time": "2021-09-20T16:31:25.552Z"
   },
   {
    "duration": 43,
    "start_time": "2021-09-20T16:31:25.564Z"
   },
   {
    "duration": 12,
    "start_time": "2021-09-20T16:31:25.609Z"
   },
   {
    "duration": 11,
    "start_time": "2021-09-20T16:31:25.622Z"
   },
   {
    "duration": 19,
    "start_time": "2021-09-20T16:31:25.635Z"
   },
   {
    "duration": 20,
    "start_time": "2021-09-20T16:31:25.656Z"
   },
   {
    "duration": 15,
    "start_time": "2021-09-20T16:31:25.700Z"
   },
   {
    "duration": 10,
    "start_time": "2021-09-20T16:31:25.716Z"
   },
   {
    "duration": 10,
    "start_time": "2021-09-20T16:31:25.728Z"
   },
   {
    "duration": 17,
    "start_time": "2021-09-20T16:31:25.739Z"
   },
   {
    "duration": 9100,
    "start_time": "2021-09-20T16:31:25.758Z"
   },
   {
    "duration": 2910,
    "start_time": "2021-09-20T16:31:34.860Z"
   },
   {
    "duration": 12,
    "start_time": "2021-09-20T16:31:37.772Z"
   },
   {
    "duration": 26,
    "start_time": "2021-09-20T16:31:37.801Z"
   },
   {
    "duration": 17,
    "start_time": "2021-09-20T16:31:37.830Z"
   },
   {
    "duration": 23,
    "start_time": "2021-09-20T16:31:37.849Z"
   },
   {
    "duration": 42,
    "start_time": "2021-09-20T16:31:37.874Z"
   },
   {
    "duration": 22,
    "start_time": "2021-09-20T16:31:37.917Z"
   },
   {
    "duration": 11,
    "start_time": "2021-09-20T16:31:37.941Z"
   },
   {
    "duration": 59,
    "start_time": "2021-09-20T16:31:37.954Z"
   },
   {
    "duration": 13,
    "start_time": "2021-09-20T16:31:38.015Z"
   },
   {
    "duration": 12,
    "start_time": "2021-09-20T16:31:38.029Z"
   },
   {
    "duration": 11,
    "start_time": "2021-09-20T16:31:38.043Z"
   },
   {
    "duration": 44,
    "start_time": "2021-09-20T16:33:56.709Z"
   },
   {
    "duration": 550,
    "start_time": "2021-09-20T16:36:14.149Z"
   },
   {
    "duration": 100,
    "start_time": "2021-09-20T16:36:14.701Z"
   },
   {
    "duration": 10,
    "start_time": "2021-09-20T16:36:14.803Z"
   },
   {
    "duration": 27,
    "start_time": "2021-09-20T16:36:14.815Z"
   },
   {
    "duration": 8,
    "start_time": "2021-09-20T16:36:14.844Z"
   },
   {
    "duration": 7,
    "start_time": "2021-09-20T16:36:14.853Z"
   },
   {
    "duration": 40,
    "start_time": "2021-09-20T16:36:14.861Z"
   },
   {
    "duration": 6,
    "start_time": "2021-09-20T16:36:14.903Z"
   },
   {
    "duration": 6,
    "start_time": "2021-09-20T16:36:14.911Z"
   },
   {
    "duration": 7,
    "start_time": "2021-09-20T16:36:14.919Z"
   },
   {
    "duration": 20,
    "start_time": "2021-09-20T16:36:14.928Z"
   },
   {
    "duration": 52,
    "start_time": "2021-09-20T16:36:14.949Z"
   },
   {
    "duration": 46,
    "start_time": "2021-09-20T16:36:15.003Z"
   },
   {
    "duration": 4,
    "start_time": "2021-09-20T16:36:15.051Z"
   },
   {
    "duration": 12,
    "start_time": "2021-09-20T16:36:15.056Z"
   },
   {
    "duration": 31,
    "start_time": "2021-09-20T16:36:15.069Z"
   },
   {
    "duration": 8,
    "start_time": "2021-09-20T16:36:15.101Z"
   },
   {
    "duration": 8,
    "start_time": "2021-09-20T16:36:15.110Z"
   },
   {
    "duration": 9,
    "start_time": "2021-09-20T16:36:15.119Z"
   },
   {
    "duration": 7,
    "start_time": "2021-09-20T16:36:15.130Z"
   },
   {
    "duration": 7,
    "start_time": "2021-09-20T16:36:15.138Z"
   },
   {
    "duration": 6,
    "start_time": "2021-09-20T16:36:15.146Z"
   },
   {
    "duration": 45,
    "start_time": "2021-09-20T16:36:15.156Z"
   },
   {
    "duration": 7,
    "start_time": "2021-09-20T16:36:15.203Z"
   },
   {
    "duration": 16,
    "start_time": "2021-09-20T16:36:15.212Z"
   },
   {
    "duration": 8,
    "start_time": "2021-09-20T16:36:15.229Z"
   },
   {
    "duration": 3,
    "start_time": "2021-09-20T16:36:15.239Z"
   },
   {
    "duration": 12,
    "start_time": "2021-09-20T16:36:15.244Z"
   },
   {
    "duration": 12,
    "start_time": "2021-09-20T16:36:15.257Z"
   },
   {
    "duration": 35,
    "start_time": "2021-09-20T16:36:15.270Z"
   },
   {
    "duration": 19,
    "start_time": "2021-09-20T16:36:15.307Z"
   },
   {
    "duration": 39,
    "start_time": "2021-09-20T16:36:15.328Z"
   },
   {
    "duration": 6,
    "start_time": "2021-09-20T16:36:15.368Z"
   },
   {
    "duration": 29,
    "start_time": "2021-09-20T16:36:15.375Z"
   },
   {
    "duration": 38,
    "start_time": "2021-09-20T16:36:15.406Z"
   },
   {
    "duration": 5,
    "start_time": "2021-09-20T16:36:15.445Z"
   },
   {
    "duration": 16,
    "start_time": "2021-09-20T16:36:15.452Z"
   },
   {
    "duration": 20,
    "start_time": "2021-09-20T16:36:15.470Z"
   },
   {
    "duration": 4,
    "start_time": "2021-09-20T16:36:15.499Z"
   },
   {
    "duration": 4,
    "start_time": "2021-09-20T16:36:15.505Z"
   },
   {
    "duration": 6,
    "start_time": "2021-09-20T16:36:15.510Z"
   },
   {
    "duration": 17,
    "start_time": "2021-09-20T16:36:15.518Z"
   },
   {
    "duration": 11,
    "start_time": "2021-09-20T16:36:15.537Z"
   },
   {
    "duration": 21,
    "start_time": "2021-09-20T16:36:15.549Z"
   },
   {
    "duration": 20,
    "start_time": "2021-09-20T16:36:15.572Z"
   },
   {
    "duration": 20,
    "start_time": "2021-09-20T16:36:15.594Z"
   },
   {
    "duration": 21,
    "start_time": "2021-09-20T16:36:15.615Z"
   },
   {
    "duration": 15,
    "start_time": "2021-09-20T16:36:15.638Z"
   },
   {
    "duration": 9,
    "start_time": "2021-09-20T16:36:15.654Z"
   },
   {
    "duration": 36,
    "start_time": "2021-09-20T16:36:15.664Z"
   },
   {
    "duration": 8,
    "start_time": "2021-09-20T16:36:15.701Z"
   },
   {
    "duration": 9160,
    "start_time": "2021-09-20T16:36:15.710Z"
   },
   {
    "duration": 2798,
    "start_time": "2021-09-20T16:36:24.872Z"
   },
   {
    "duration": 8,
    "start_time": "2021-09-20T16:36:27.671Z"
   },
   {
    "duration": 30,
    "start_time": "2021-09-20T16:36:27.680Z"
   },
   {
    "duration": 24,
    "start_time": "2021-09-20T16:36:27.711Z"
   },
   {
    "duration": 22,
    "start_time": "2021-09-20T16:36:27.737Z"
   },
   {
    "duration": 21,
    "start_time": "2021-09-20T16:36:27.761Z"
   },
   {
    "duration": 26,
    "start_time": "2021-09-20T16:36:27.784Z"
   },
   {
    "duration": 12,
    "start_time": "2021-09-20T16:36:27.812Z"
   },
   {
    "duration": 30,
    "start_time": "2021-09-20T16:36:27.826Z"
   },
   {
    "duration": 16,
    "start_time": "2021-09-20T16:36:27.857Z"
   },
   {
    "duration": 29,
    "start_time": "2021-09-20T16:36:27.874Z"
   },
   {
    "duration": 25,
    "start_time": "2021-09-20T16:36:27.905Z"
   },
   {
    "duration": 25,
    "start_time": "2021-09-20T16:37:06.071Z"
   },
   {
    "duration": 15,
    "start_time": "2021-09-20T16:37:21.177Z"
   },
   {
    "duration": 531,
    "start_time": "2021-09-20T16:37:32.337Z"
   },
   {
    "duration": 97,
    "start_time": "2021-09-20T16:37:32.869Z"
   },
   {
    "duration": 9,
    "start_time": "2021-09-20T16:37:32.968Z"
   },
   {
    "duration": 29,
    "start_time": "2021-09-20T16:37:32.979Z"
   },
   {
    "duration": 9,
    "start_time": "2021-09-20T16:37:33.010Z"
   },
   {
    "duration": 5,
    "start_time": "2021-09-20T16:37:33.021Z"
   },
   {
    "duration": 6,
    "start_time": "2021-09-20T16:37:33.028Z"
   },
   {
    "duration": 5,
    "start_time": "2021-09-20T16:37:33.037Z"
   },
   {
    "duration": 6,
    "start_time": "2021-09-20T16:37:33.044Z"
   },
   {
    "duration": 49,
    "start_time": "2021-09-20T16:37:33.052Z"
   },
   {
    "duration": 23,
    "start_time": "2021-09-20T16:37:33.102Z"
   },
   {
    "duration": 5,
    "start_time": "2021-09-20T16:37:33.127Z"
   },
   {
    "duration": 40,
    "start_time": "2021-09-20T16:37:33.134Z"
   },
   {
    "duration": 26,
    "start_time": "2021-09-20T16:37:33.176Z"
   },
   {
    "duration": 8,
    "start_time": "2021-09-20T16:37:33.203Z"
   },
   {
    "duration": 12,
    "start_time": "2021-09-20T16:37:33.213Z"
   },
   {
    "duration": 9,
    "start_time": "2021-09-20T16:37:33.226Z"
   },
   {
    "duration": 6,
    "start_time": "2021-09-20T16:37:33.237Z"
   },
   {
    "duration": 6,
    "start_time": "2021-09-20T16:37:33.245Z"
   },
   {
    "duration": 7,
    "start_time": "2021-09-20T16:37:33.252Z"
   },
   {
    "duration": 44,
    "start_time": "2021-09-20T16:37:33.261Z"
   },
   {
    "duration": 10,
    "start_time": "2021-09-20T16:37:33.314Z"
   },
   {
    "duration": 12,
    "start_time": "2021-09-20T16:37:33.327Z"
   },
   {
    "duration": 8,
    "start_time": "2021-09-20T16:37:33.347Z"
   },
   {
    "duration": 20,
    "start_time": "2021-09-20T16:37:33.356Z"
   },
   {
    "duration": 27,
    "start_time": "2021-09-20T16:37:33.377Z"
   },
   {
    "duration": 8,
    "start_time": "2021-09-20T16:37:33.405Z"
   },
   {
    "duration": 15,
    "start_time": "2021-09-20T16:37:33.415Z"
   },
   {
    "duration": 18,
    "start_time": "2021-09-20T16:37:33.432Z"
   },
   {
    "duration": 6,
    "start_time": "2021-09-20T16:37:33.452Z"
   },
   {
    "duration": 19,
    "start_time": "2021-09-20T16:37:33.460Z"
   },
   {
    "duration": 52,
    "start_time": "2021-09-20T16:37:33.480Z"
   },
   {
    "duration": 6,
    "start_time": "2021-09-20T16:37:33.533Z"
   },
   {
    "duration": 15,
    "start_time": "2021-09-20T16:37:33.540Z"
   },
   {
    "duration": 45,
    "start_time": "2021-09-20T16:37:33.556Z"
   },
   {
    "duration": 4,
    "start_time": "2021-09-20T16:37:33.603Z"
   },
   {
    "duration": 19,
    "start_time": "2021-09-20T16:37:33.609Z"
   },
   {
    "duration": 11,
    "start_time": "2021-09-20T16:37:33.630Z"
   },
   {
    "duration": 4,
    "start_time": "2021-09-20T16:37:33.643Z"
   },
   {
    "duration": 5,
    "start_time": "2021-09-20T16:37:33.648Z"
   },
   {
    "duration": 4,
    "start_time": "2021-09-20T16:37:33.655Z"
   },
   {
    "duration": 11,
    "start_time": "2021-09-20T16:37:33.660Z"
   },
   {
    "duration": 12,
    "start_time": "2021-09-20T16:37:33.699Z"
   },
   {
    "duration": 14,
    "start_time": "2021-09-20T16:37:33.712Z"
   },
   {
    "duration": 9,
    "start_time": "2021-09-20T16:37:33.728Z"
   },
   {
    "duration": 21,
    "start_time": "2021-09-20T16:37:33.739Z"
   },
   {
    "duration": 51,
    "start_time": "2021-09-20T16:37:33.761Z"
   },
   {
    "duration": 16,
    "start_time": "2021-09-20T16:37:33.814Z"
   },
   {
    "duration": 11,
    "start_time": "2021-09-20T16:37:33.832Z"
   },
   {
    "duration": 5,
    "start_time": "2021-09-20T16:37:33.845Z"
   },
   {
    "duration": 8,
    "start_time": "2021-09-20T16:37:33.852Z"
   },
   {
    "duration": 9229,
    "start_time": "2021-09-20T16:37:33.862Z"
   },
   {
    "duration": 2641,
    "start_time": "2021-09-20T16:37:43.099Z"
   },
   {
    "duration": 7,
    "start_time": "2021-09-20T16:37:45.742Z"
   },
   {
    "duration": 22,
    "start_time": "2021-09-20T16:37:45.751Z"
   },
   {
    "duration": 11,
    "start_time": "2021-09-20T16:37:45.775Z"
   },
   {
    "duration": 14,
    "start_time": "2021-09-20T16:37:45.799Z"
   },
   {
    "duration": 13,
    "start_time": "2021-09-20T16:37:45.814Z"
   },
   {
    "duration": 20,
    "start_time": "2021-09-20T16:37:45.829Z"
   },
   {
    "duration": 14,
    "start_time": "2021-09-20T16:37:45.851Z"
   },
   {
    "duration": 48,
    "start_time": "2021-09-20T16:37:45.866Z"
   },
   {
    "duration": 12,
    "start_time": "2021-09-20T16:37:45.916Z"
   },
   {
    "duration": 12,
    "start_time": "2021-09-20T16:37:45.930Z"
   },
   {
    "duration": 12,
    "start_time": "2021-09-20T16:37:45.943Z"
   },
   {
    "duration": 17,
    "start_time": "2021-09-20T16:37:52.428Z"
   },
   {
    "duration": 16,
    "start_time": "2021-09-20T16:38:27.443Z"
   },
   {
    "duration": 547,
    "start_time": "2021-09-20T16:38:40.761Z"
   },
   {
    "duration": 72,
    "start_time": "2021-09-20T16:38:49.726Z"
   },
   {
    "duration": 257,
    "start_time": "2021-09-20T16:38:59.851Z"
   },
   {
    "duration": 203,
    "start_time": "2021-09-20T16:39:16.416Z"
   },
   {
    "duration": 22,
    "start_time": "2021-09-20T16:39:20.953Z"
   },
   {
    "duration": 15,
    "start_time": "2021-09-20T16:39:31.978Z"
   },
   {
    "duration": 17,
    "start_time": "2021-09-20T16:40:16.185Z"
   },
   {
    "duration": 21,
    "start_time": "2021-09-20T16:40:29.160Z"
   },
   {
    "duration": 23,
    "start_time": "2021-09-20T16:40:50.920Z"
   },
   {
    "duration": 15,
    "start_time": "2021-09-20T16:42:05.927Z"
   },
   {
    "duration": 203,
    "start_time": "2021-09-20T16:46:06.181Z"
   },
   {
    "duration": 311,
    "start_time": "2021-09-20T16:46:41.897Z"
   },
   {
    "duration": 185,
    "start_time": "2021-09-20T16:47:15.307Z"
   },
   {
    "duration": 14,
    "start_time": "2021-09-20T16:47:38.954Z"
   },
   {
    "duration": 571,
    "start_time": "2021-09-20T16:48:06.896Z"
   },
   {
    "duration": 99,
    "start_time": "2021-09-20T16:48:07.469Z"
   },
   {
    "duration": 9,
    "start_time": "2021-09-20T16:48:07.569Z"
   },
   {
    "duration": 22,
    "start_time": "2021-09-20T16:48:07.580Z"
   },
   {
    "duration": 9,
    "start_time": "2021-09-20T16:48:07.604Z"
   },
   {
    "duration": 9,
    "start_time": "2021-09-20T16:48:07.615Z"
   },
   {
    "duration": 15,
    "start_time": "2021-09-20T16:48:07.625Z"
   },
   {
    "duration": 7,
    "start_time": "2021-09-20T16:48:07.643Z"
   },
   {
    "duration": 12,
    "start_time": "2021-09-20T16:48:07.652Z"
   },
   {
    "duration": 17,
    "start_time": "2021-09-20T16:48:07.666Z"
   },
   {
    "duration": 40,
    "start_time": "2021-09-20T16:48:07.684Z"
   },
   {
    "duration": 5,
    "start_time": "2021-09-20T16:48:07.725Z"
   },
   {
    "duration": 53,
    "start_time": "2021-09-20T16:48:07.732Z"
   },
   {
    "duration": 17,
    "start_time": "2021-09-20T16:48:07.786Z"
   },
   {
    "duration": 12,
    "start_time": "2021-09-20T16:48:07.805Z"
   },
   {
    "duration": 19,
    "start_time": "2021-09-20T16:48:07.819Z"
   },
   {
    "duration": 15,
    "start_time": "2021-09-20T16:48:07.840Z"
   },
   {
    "duration": 13,
    "start_time": "2021-09-20T16:48:07.857Z"
   },
   {
    "duration": 10,
    "start_time": "2021-09-20T16:48:07.871Z"
   },
   {
    "duration": 18,
    "start_time": "2021-09-20T16:48:07.883Z"
   },
   {
    "duration": 7,
    "start_time": "2021-09-20T16:48:07.903Z"
   },
   {
    "duration": 17,
    "start_time": "2021-09-20T16:48:07.911Z"
   },
   {
    "duration": 13,
    "start_time": "2021-09-20T16:48:07.932Z"
   },
   {
    "duration": 8,
    "start_time": "2021-09-20T16:48:07.947Z"
   },
   {
    "duration": 34,
    "start_time": "2021-09-20T16:48:07.957Z"
   },
   {
    "duration": 16,
    "start_time": "2021-09-20T16:48:07.993Z"
   },
   {
    "duration": 8,
    "start_time": "2021-09-20T16:48:08.011Z"
   },
   {
    "duration": 24,
    "start_time": "2021-09-20T16:48:08.021Z"
   },
   {
    "duration": 18,
    "start_time": "2021-09-20T16:48:08.047Z"
   },
   {
    "duration": 7,
    "start_time": "2021-09-20T16:48:08.066Z"
   },
   {
    "duration": 24,
    "start_time": "2021-09-20T16:48:08.075Z"
   },
   {
    "duration": 44,
    "start_time": "2021-09-20T16:48:08.101Z"
   },
   {
    "duration": 6,
    "start_time": "2021-09-20T16:48:08.147Z"
   },
   {
    "duration": 10,
    "start_time": "2021-09-20T16:48:08.154Z"
   },
   {
    "duration": 51,
    "start_time": "2021-09-20T16:48:08.165Z"
   },
   {
    "duration": 4,
    "start_time": "2021-09-20T16:48:08.218Z"
   },
   {
    "duration": 12,
    "start_time": "2021-09-20T16:48:08.224Z"
   },
   {
    "duration": 10,
    "start_time": "2021-09-20T16:48:08.238Z"
   },
   {
    "duration": 4,
    "start_time": "2021-09-20T16:48:08.249Z"
   },
   {
    "duration": 7,
    "start_time": "2021-09-20T16:48:08.254Z"
   },
   {
    "duration": 5,
    "start_time": "2021-09-20T16:48:08.263Z"
   },
   {
    "duration": 41,
    "start_time": "2021-09-20T16:48:08.270Z"
   },
   {
    "duration": 13,
    "start_time": "2021-09-20T16:48:08.313Z"
   },
   {
    "duration": 14,
    "start_time": "2021-09-20T16:48:08.328Z"
   },
   {
    "duration": 12,
    "start_time": "2021-09-20T16:48:08.344Z"
   },
   {
    "duration": 21,
    "start_time": "2021-09-20T16:48:08.357Z"
   },
   {
    "duration": 36,
    "start_time": "2021-09-20T16:48:08.380Z"
   },
   {
    "duration": 15,
    "start_time": "2021-09-20T16:48:08.417Z"
   },
   {
    "duration": 10,
    "start_time": "2021-09-20T16:48:08.433Z"
   },
   {
    "duration": 10,
    "start_time": "2021-09-20T16:48:08.444Z"
   },
   {
    "duration": 8,
    "start_time": "2021-09-20T16:48:08.456Z"
   },
   {
    "duration": 9105,
    "start_time": "2021-09-20T16:48:08.466Z"
   },
   {
    "duration": 2765,
    "start_time": "2021-09-20T16:48:17.573Z"
   },
   {
    "duration": 8,
    "start_time": "2021-09-20T16:48:20.340Z"
   },
   {
    "duration": 18,
    "start_time": "2021-09-20T16:48:20.351Z"
   },
   {
    "duration": 28,
    "start_time": "2021-09-20T16:48:20.371Z"
   },
   {
    "duration": 14,
    "start_time": "2021-09-20T16:48:20.401Z"
   },
   {
    "duration": 15,
    "start_time": "2021-09-20T16:48:20.417Z"
   },
   {
    "duration": 19,
    "start_time": "2021-09-20T16:48:20.434Z"
   },
   {
    "duration": 12,
    "start_time": "2021-09-20T16:48:20.454Z"
   },
   {
    "duration": 44,
    "start_time": "2021-09-20T16:48:20.468Z"
   },
   {
    "duration": 11,
    "start_time": "2021-09-20T16:48:20.514Z"
   },
   {
    "duration": 11,
    "start_time": "2021-09-20T16:48:20.527Z"
   },
   {
    "duration": 10,
    "start_time": "2021-09-20T16:48:20.540Z"
   },
   {
    "duration": 12,
    "start_time": "2021-09-20T16:48:34.512Z"
   },
   {
    "duration": 706,
    "start_time": "2021-09-20T16:51:02.107Z"
   },
   {
    "duration": 100,
    "start_time": "2021-09-20T16:51:02.815Z"
   },
   {
    "duration": 9,
    "start_time": "2021-09-20T16:51:02.917Z"
   },
   {
    "duration": 314,
    "start_time": "2021-09-20T16:51:02.928Z"
   },
   {
    "duration": -193,
    "start_time": "2021-09-20T16:51:03.440Z"
   },
   {
    "duration": -200,
    "start_time": "2021-09-20T16:51:03.448Z"
   },
   {
    "duration": -208,
    "start_time": "2021-09-20T16:51:03.457Z"
   },
   {
    "duration": -213,
    "start_time": "2021-09-20T16:51:03.464Z"
   },
   {
    "duration": -222,
    "start_time": "2021-09-20T16:51:03.474Z"
   },
   {
    "duration": -228,
    "start_time": "2021-09-20T16:51:03.481Z"
   },
   {
    "duration": -235,
    "start_time": "2021-09-20T16:51:03.489Z"
   },
   {
    "duration": -242,
    "start_time": "2021-09-20T16:51:03.497Z"
   },
   {
    "duration": -247,
    "start_time": "2021-09-20T16:51:03.503Z"
   },
   {
    "duration": -254,
    "start_time": "2021-09-20T16:51:03.511Z"
   },
   {
    "duration": -276,
    "start_time": "2021-09-20T16:51:03.534Z"
   },
   {
    "duration": -284,
    "start_time": "2021-09-20T16:51:03.543Z"
   },
   {
    "duration": -289,
    "start_time": "2021-09-20T16:51:03.550Z"
   },
   {
    "duration": -295,
    "start_time": "2021-09-20T16:51:03.557Z"
   },
   {
    "duration": -302,
    "start_time": "2021-09-20T16:51:03.564Z"
   },
   {
    "duration": -309,
    "start_time": "2021-09-20T16:51:03.572Z"
   },
   {
    "duration": -316,
    "start_time": "2021-09-20T16:51:03.580Z"
   },
   {
    "duration": -324,
    "start_time": "2021-09-20T16:51:03.589Z"
   },
   {
    "duration": -333,
    "start_time": "2021-09-20T16:51:03.599Z"
   },
   {
    "duration": -343,
    "start_time": "2021-09-20T16:51:03.609Z"
   },
   {
    "duration": -352,
    "start_time": "2021-09-20T16:51:03.619Z"
   },
   {
    "duration": -372,
    "start_time": "2021-09-20T16:51:03.640Z"
   },
   {
    "duration": -382,
    "start_time": "2021-09-20T16:51:03.651Z"
   },
   {
    "duration": -389,
    "start_time": "2021-09-20T16:51:03.659Z"
   },
   {
    "duration": -395,
    "start_time": "2021-09-20T16:51:03.666Z"
   },
   {
    "duration": -403,
    "start_time": "2021-09-20T16:51:03.675Z"
   },
   {
    "duration": -408,
    "start_time": "2021-09-20T16:51:03.682Z"
   },
   {
    "duration": -390,
    "start_time": "2021-09-20T16:51:03.689Z"
   },
   {
    "duration": -396,
    "start_time": "2021-09-20T16:51:03.696Z"
   },
   {
    "duration": -402,
    "start_time": "2021-09-20T16:51:03.704Z"
   },
   {
    "duration": -408,
    "start_time": "2021-09-20T16:51:03.711Z"
   },
   {
    "duration": -416,
    "start_time": "2021-09-20T16:51:03.720Z"
   },
   {
    "duration": -420,
    "start_time": "2021-09-20T16:51:03.726Z"
   },
   {
    "duration": -427,
    "start_time": "2021-09-20T16:51:03.734Z"
   },
   {
    "duration": -442,
    "start_time": "2021-09-20T16:51:03.750Z"
   },
   {
    "duration": -447,
    "start_time": "2021-09-20T16:51:03.757Z"
   },
   {
    "duration": -453,
    "start_time": "2021-09-20T16:51:03.764Z"
   },
   {
    "duration": -460,
    "start_time": "2021-09-20T16:51:03.772Z"
   },
   {
    "duration": -465,
    "start_time": "2021-09-20T16:51:03.778Z"
   },
   {
    "duration": -471,
    "start_time": "2021-09-20T16:51:03.785Z"
   },
   {
    "duration": -478,
    "start_time": "2021-09-20T16:51:03.793Z"
   },
   {
    "duration": -483,
    "start_time": "2021-09-20T16:51:03.800Z"
   },
   {
    "duration": -489,
    "start_time": "2021-09-20T16:51:03.807Z"
   },
   {
    "duration": -495,
    "start_time": "2021-09-20T16:51:03.814Z"
   },
   {
    "duration": -501,
    "start_time": "2021-09-20T16:51:03.821Z"
   },
   {
    "duration": -507,
    "start_time": "2021-09-20T16:51:03.829Z"
   },
   {
    "duration": -512,
    "start_time": "2021-09-20T16:51:03.835Z"
   },
   {
    "duration": -519,
    "start_time": "2021-09-20T16:51:03.843Z"
   },
   {
    "duration": -535,
    "start_time": "2021-09-20T16:51:03.860Z"
   },
   {
    "duration": -542,
    "start_time": "2021-09-20T16:51:03.868Z"
   },
   {
    "duration": -550,
    "start_time": "2021-09-20T16:51:03.877Z"
   },
   {
    "duration": -556,
    "start_time": "2021-09-20T16:51:03.885Z"
   },
   {
    "duration": -563,
    "start_time": "2021-09-20T16:51:03.893Z"
   },
   {
    "duration": -569,
    "start_time": "2021-09-20T16:51:03.900Z"
   },
   {
    "duration": -574,
    "start_time": "2021-09-20T16:51:03.906Z"
   },
   {
    "duration": -581,
    "start_time": "2021-09-20T16:51:03.914Z"
   },
   {
    "duration": -586,
    "start_time": "2021-09-20T16:51:03.920Z"
   },
   {
    "duration": -593,
    "start_time": "2021-09-20T16:51:03.928Z"
   },
   {
    "duration": -598,
    "start_time": "2021-09-20T16:51:03.934Z"
   },
   {
    "duration": -605,
    "start_time": "2021-09-20T16:51:03.942Z"
   },
   {
    "duration": 210,
    "start_time": "2021-09-20T16:52:00.464Z"
   },
   {
    "duration": 6065,
    "start_time": "2021-09-20T16:52:41.031Z"
   },
   {
    "duration": 9,
    "start_time": "2021-09-20T16:53:02.358Z"
   },
   {
    "duration": 555,
    "start_time": "2021-09-20T16:53:24.000Z"
   },
   {
    "duration": 9,
    "start_time": "2021-09-20T16:53:38.666Z"
   },
   {
    "duration": 8,
    "start_time": "2021-09-20T16:53:52.159Z"
   },
   {
    "duration": 12,
    "start_time": "2021-09-20T16:54:47.917Z"
   },
   {
    "duration": 593,
    "start_time": "2021-09-20T16:55:22.141Z"
   },
   {
    "duration": 106,
    "start_time": "2021-09-20T16:55:22.736Z"
   },
   {
    "duration": 11,
    "start_time": "2021-09-20T16:55:22.845Z"
   },
   {
    "duration": 254,
    "start_time": "2021-09-20T16:55:22.859Z"
   },
   {
    "duration": -87,
    "start_time": "2021-09-20T16:55:23.204Z"
   },
   {
    "duration": -95,
    "start_time": "2021-09-20T16:55:23.213Z"
   },
   {
    "duration": -120,
    "start_time": "2021-09-20T16:55:23.240Z"
   },
   {
    "duration": -133,
    "start_time": "2021-09-20T16:55:23.254Z"
   },
   {
    "duration": -142,
    "start_time": "2021-09-20T16:55:23.264Z"
   },
   {
    "duration": -159,
    "start_time": "2021-09-20T16:55:23.282Z"
   },
   {
    "duration": -167,
    "start_time": "2021-09-20T16:55:23.291Z"
   },
   {
    "duration": -174,
    "start_time": "2021-09-20T16:55:23.299Z"
   },
   {
    "duration": -182,
    "start_time": "2021-09-20T16:55:23.308Z"
   },
   {
    "duration": -189,
    "start_time": "2021-09-20T16:55:23.317Z"
   },
   {
    "duration": -198,
    "start_time": "2021-09-20T16:55:23.327Z"
   },
   {
    "duration": -206,
    "start_time": "2021-09-20T16:55:23.337Z"
   },
   {
    "duration": -298,
    "start_time": "2021-09-20T16:55:23.430Z"
   },
   {
    "duration": -307,
    "start_time": "2021-09-20T16:55:23.440Z"
   },
   {
    "duration": -315,
    "start_time": "2021-09-20T16:55:23.450Z"
   },
   {
    "duration": -343,
    "start_time": "2021-09-20T16:55:23.479Z"
   },
   {
    "duration": -351,
    "start_time": "2021-09-20T16:55:23.488Z"
   },
   {
    "duration": -358,
    "start_time": "2021-09-20T16:55:23.497Z"
   },
   {
    "duration": -366,
    "start_time": "2021-09-20T16:55:23.507Z"
   },
   {
    "duration": -375,
    "start_time": "2021-09-20T16:55:23.517Z"
   },
   {
    "duration": -381,
    "start_time": "2021-09-20T16:55:23.524Z"
   },
   {
    "duration": -389,
    "start_time": "2021-09-20T16:55:23.534Z"
   },
   {
    "duration": -397,
    "start_time": "2021-09-20T16:55:23.543Z"
   },
   {
    "duration": -405,
    "start_time": "2021-09-20T16:55:23.552Z"
   },
   {
    "duration": -413,
    "start_time": "2021-09-20T16:55:23.561Z"
   },
   {
    "duration": -419,
    "start_time": "2021-09-20T16:55:23.569Z"
   },
   {
    "duration": -443,
    "start_time": "2021-09-20T16:55:23.594Z"
   },
   {
    "duration": -454,
    "start_time": "2021-09-20T16:55:23.606Z"
   },
   {
    "duration": -417,
    "start_time": "2021-09-20T16:55:23.615Z"
   },
   {
    "duration": -426,
    "start_time": "2021-09-20T16:55:23.626Z"
   },
   {
    "duration": -432,
    "start_time": "2021-09-20T16:55:23.634Z"
   },
   {
    "duration": -440,
    "start_time": "2021-09-20T16:55:23.644Z"
   },
   {
    "duration": -447,
    "start_time": "2021-09-20T16:55:23.652Z"
   },
   {
    "duration": -454,
    "start_time": "2021-09-20T16:55:23.661Z"
   },
   {
    "duration": -461,
    "start_time": "2021-09-20T16:55:23.669Z"
   },
   {
    "duration": -470,
    "start_time": "2021-09-20T16:55:23.680Z"
   },
   {
    "duration": -491,
    "start_time": "2021-09-20T16:55:23.702Z"
   },
   {
    "duration": -502,
    "start_time": "2021-09-20T16:55:23.714Z"
   },
   {
    "duration": -509,
    "start_time": "2021-09-20T16:55:23.723Z"
   },
   {
    "duration": -520,
    "start_time": "2021-09-20T16:55:23.735Z"
   },
   {
    "duration": -526,
    "start_time": "2021-09-20T16:55:23.743Z"
   },
   {
    "duration": -535,
    "start_time": "2021-09-20T16:55:23.753Z"
   },
   {
    "duration": -541,
    "start_time": "2021-09-20T16:55:23.761Z"
   },
   {
    "duration": -550,
    "start_time": "2021-09-20T16:55:23.771Z"
   },
   {
    "duration": -558,
    "start_time": "2021-09-20T16:55:23.780Z"
   },
   {
    "duration": -564,
    "start_time": "2021-09-20T16:55:23.788Z"
   },
   {
    "duration": -571,
    "start_time": "2021-09-20T16:55:23.796Z"
   },
   {
    "duration": -593,
    "start_time": "2021-09-20T16:55:23.819Z"
   },
   {
    "duration": -598,
    "start_time": "2021-09-20T16:55:23.826Z"
   },
   {
    "duration": -607,
    "start_time": "2021-09-20T16:55:23.836Z"
   },
   {
    "duration": -613,
    "start_time": "2021-09-20T16:55:23.843Z"
   },
   {
    "duration": -619,
    "start_time": "2021-09-20T16:55:23.851Z"
   },
   {
    "duration": -626,
    "start_time": "2021-09-20T16:55:23.859Z"
   },
   {
    "duration": -634,
    "start_time": "2021-09-20T16:55:23.868Z"
   },
   {
    "duration": -639,
    "start_time": "2021-09-20T16:55:23.875Z"
   },
   {
    "duration": -646,
    "start_time": "2021-09-20T16:55:23.883Z"
   },
   {
    "duration": -652,
    "start_time": "2021-09-20T16:55:23.891Z"
   },
   {
    "duration": -599,
    "start_time": "2021-09-20T16:55:23.899Z"
   },
   {
    "duration": -606,
    "start_time": "2021-09-20T16:55:23.907Z"
   },
   {
    "duration": -625,
    "start_time": "2021-09-20T16:55:23.928Z"
   },
   {
    "duration": 567,
    "start_time": "2021-09-20T16:55:38.098Z"
   },
   {
    "duration": 101,
    "start_time": "2021-09-20T16:55:38.667Z"
   },
   {
    "duration": 30,
    "start_time": "2021-09-20T16:55:38.770Z"
   },
   {
    "duration": 11,
    "start_time": "2021-09-20T16:55:38.803Z"
   },
   {
    "duration": 17,
    "start_time": "2021-09-20T16:55:38.816Z"
   },
   {
    "duration": 12,
    "start_time": "2021-09-20T16:55:38.835Z"
   },
   {
    "duration": 17,
    "start_time": "2021-09-20T16:55:38.849Z"
   },
   {
    "duration": 14,
    "start_time": "2021-09-20T16:55:38.869Z"
   },
   {
    "duration": 21,
    "start_time": "2021-09-20T16:55:38.884Z"
   },
   {
    "duration": 9,
    "start_time": "2021-09-20T16:55:38.907Z"
   },
   {
    "duration": 24,
    "start_time": "2021-09-20T16:55:38.918Z"
   },
   {
    "duration": 4,
    "start_time": "2021-09-20T16:55:38.944Z"
   },
   {
    "duration": 67,
    "start_time": "2021-09-20T16:55:38.950Z"
   },
   {
    "duration": 5,
    "start_time": "2021-09-20T16:55:39.018Z"
   },
   {
    "duration": 16,
    "start_time": "2021-09-20T16:55:39.025Z"
   },
   {
    "duration": 20,
    "start_time": "2021-09-20T16:55:39.043Z"
   },
   {
    "duration": 16,
    "start_time": "2021-09-20T16:55:39.065Z"
   },
   {
    "duration": 19,
    "start_time": "2021-09-20T16:55:39.083Z"
   },
   {
    "duration": 17,
    "start_time": "2021-09-20T16:55:39.103Z"
   },
   {
    "duration": 15,
    "start_time": "2021-09-20T16:55:39.121Z"
   },
   {
    "duration": 24,
    "start_time": "2021-09-20T16:55:39.138Z"
   },
   {
    "duration": 17,
    "start_time": "2021-09-20T16:55:39.164Z"
   },
   {
    "duration": 10,
    "start_time": "2021-09-20T16:55:39.185Z"
   },
   {
    "duration": 9,
    "start_time": "2021-09-20T16:55:39.198Z"
   },
   {
    "duration": 20,
    "start_time": "2021-09-20T16:55:39.209Z"
   },
   {
    "duration": 9,
    "start_time": "2021-09-20T16:55:39.231Z"
   },
   {
    "duration": 4,
    "start_time": "2021-09-20T16:55:39.241Z"
   },
   {
    "duration": 9,
    "start_time": "2021-09-20T16:55:39.247Z"
   },
   {
    "duration": 17,
    "start_time": "2021-09-20T16:55:39.258Z"
   },
   {
    "duration": 28,
    "start_time": "2021-09-20T16:55:39.277Z"
   },
   {
    "duration": 15,
    "start_time": "2021-09-20T16:55:39.306Z"
   },
   {
    "duration": 46,
    "start_time": "2021-09-20T16:55:39.323Z"
   },
   {
    "duration": 5,
    "start_time": "2021-09-20T16:55:39.371Z"
   },
   {
    "duration": 25,
    "start_time": "2021-09-20T16:55:39.377Z"
   },
   {
    "duration": 38,
    "start_time": "2021-09-20T16:55:39.404Z"
   },
   {
    "duration": 4,
    "start_time": "2021-09-20T16:55:39.444Z"
   },
   {
    "duration": 21,
    "start_time": "2021-09-20T16:55:39.450Z"
   },
   {
    "duration": 19,
    "start_time": "2021-09-20T16:55:39.473Z"
   },
   {
    "duration": 10,
    "start_time": "2021-09-20T16:55:39.499Z"
   },
   {
    "duration": 13,
    "start_time": "2021-09-20T16:55:39.510Z"
   },
   {
    "duration": 16,
    "start_time": "2021-09-20T16:55:39.525Z"
   },
   {
    "duration": 18,
    "start_time": "2021-09-20T16:55:39.543Z"
   },
   {
    "duration": 17,
    "start_time": "2021-09-20T16:55:39.562Z"
   },
   {
    "duration": 22,
    "start_time": "2021-09-20T16:55:39.581Z"
   },
   {
    "duration": 16,
    "start_time": "2021-09-20T16:55:39.604Z"
   },
   {
    "duration": 37,
    "start_time": "2021-09-20T16:55:39.622Z"
   },
   {
    "duration": 21,
    "start_time": "2021-09-20T16:55:39.660Z"
   },
   {
    "duration": 14,
    "start_time": "2021-09-20T16:55:39.683Z"
   },
   {
    "duration": 9,
    "start_time": "2021-09-20T16:55:39.699Z"
   },
   {
    "duration": 5,
    "start_time": "2021-09-20T16:55:39.709Z"
   },
   {
    "duration": 16,
    "start_time": "2021-09-20T16:55:39.715Z"
   },
   {
    "duration": 8873,
    "start_time": "2021-09-20T16:55:39.732Z"
   },
   {
    "duration": 2709,
    "start_time": "2021-09-20T16:55:48.608Z"
   },
   {
    "duration": 7,
    "start_time": "2021-09-20T16:55:51.318Z"
   },
   {
    "duration": 30,
    "start_time": "2021-09-20T16:55:51.327Z"
   },
   {
    "duration": 12,
    "start_time": "2021-09-20T16:55:51.358Z"
   },
   {
    "duration": 13,
    "start_time": "2021-09-20T16:55:51.372Z"
   },
   {
    "duration": 11,
    "start_time": "2021-09-20T16:55:51.399Z"
   },
   {
    "duration": 20,
    "start_time": "2021-09-20T16:55:51.411Z"
   },
   {
    "duration": 12,
    "start_time": "2021-09-20T16:55:51.433Z"
   },
   {
    "duration": 18,
    "start_time": "2021-09-20T16:55:51.446Z"
   },
   {
    "duration": 41,
    "start_time": "2021-09-20T16:55:51.465Z"
   },
   {
    "duration": 12,
    "start_time": "2021-09-20T16:55:51.507Z"
   },
   {
    "duration": 16,
    "start_time": "2021-09-20T16:55:51.520Z"
   },
   {
    "duration": 6,
    "start_time": "2021-09-20T16:55:57.586Z"
   },
   {
    "duration": 5,
    "start_time": "2021-09-20T16:56:08.135Z"
   },
   {
    "duration": 589,
    "start_time": "2021-09-20T16:56:34.217Z"
   },
   {
    "duration": 98,
    "start_time": "2021-09-20T16:56:34.808Z"
   },
   {
    "duration": 10,
    "start_time": "2021-09-20T16:56:34.908Z"
   },
   {
    "duration": 6,
    "start_time": "2021-09-20T16:56:34.920Z"
   },
   {
    "duration": 9,
    "start_time": "2021-09-20T16:56:34.927Z"
   },
   {
    "duration": 7,
    "start_time": "2021-09-20T16:56:34.938Z"
   },
   {
    "duration": 8,
    "start_time": "2021-09-20T16:56:34.946Z"
   },
   {
    "duration": 5,
    "start_time": "2021-09-20T16:56:34.957Z"
   },
   {
    "duration": 8,
    "start_time": "2021-09-20T16:56:35.001Z"
   },
   {
    "duration": 20,
    "start_time": "2021-09-20T16:56:35.011Z"
   },
   {
    "duration": 41,
    "start_time": "2021-09-20T16:56:35.032Z"
   },
   {
    "duration": 6,
    "start_time": "2021-09-20T16:56:35.075Z"
   },
   {
    "duration": 61,
    "start_time": "2021-09-20T16:56:35.082Z"
   },
   {
    "duration": 5,
    "start_time": "2021-09-20T16:56:35.145Z"
   },
   {
    "duration": 19,
    "start_time": "2021-09-20T16:56:35.152Z"
   },
   {
    "duration": 16,
    "start_time": "2021-09-20T16:56:35.173Z"
   },
   {
    "duration": 10,
    "start_time": "2021-09-20T16:56:35.200Z"
   },
   {
    "duration": 15,
    "start_time": "2021-09-20T16:56:35.212Z"
   },
   {
    "duration": 14,
    "start_time": "2021-09-20T16:56:35.229Z"
   },
   {
    "duration": 28,
    "start_time": "2021-09-20T16:56:35.245Z"
   },
   {
    "duration": 11,
    "start_time": "2021-09-20T16:56:35.275Z"
   },
   {
    "duration": 17,
    "start_time": "2021-09-20T16:56:35.287Z"
   },
   {
    "duration": 8,
    "start_time": "2021-09-20T16:56:35.308Z"
   },
   {
    "duration": 10,
    "start_time": "2021-09-20T16:56:35.318Z"
   },
   {
    "duration": 14,
    "start_time": "2021-09-20T16:56:35.330Z"
   },
   {
    "duration": 9,
    "start_time": "2021-09-20T16:56:35.346Z"
   },
   {
    "duration": 7,
    "start_time": "2021-09-20T16:56:35.356Z"
   },
   {
    "duration": 12,
    "start_time": "2021-09-20T16:56:35.364Z"
   },
   {
    "duration": 31,
    "start_time": "2021-09-20T16:56:35.377Z"
   },
   {
    "duration": 6,
    "start_time": "2021-09-20T16:56:35.410Z"
   },
   {
    "duration": 20,
    "start_time": "2021-09-20T16:56:35.418Z"
   },
   {
    "duration": 37,
    "start_time": "2021-09-20T16:56:35.440Z"
   },
   {
    "duration": 22,
    "start_time": "2021-09-20T16:56:35.479Z"
   },
   {
    "duration": 8,
    "start_time": "2021-09-20T16:56:35.503Z"
   },
   {
    "duration": 42,
    "start_time": "2021-09-20T16:56:35.512Z"
   },
   {
    "duration": 4,
    "start_time": "2021-09-20T16:56:35.556Z"
   },
   {
    "duration": 21,
    "start_time": "2021-09-20T16:56:35.562Z"
   },
   {
    "duration": 28,
    "start_time": "2021-09-20T16:56:35.584Z"
   },
   {
    "duration": 4,
    "start_time": "2021-09-20T16:56:35.614Z"
   },
   {
    "duration": 7,
    "start_time": "2021-09-20T16:56:35.619Z"
   },
   {
    "duration": 5,
    "start_time": "2021-09-20T16:56:35.627Z"
   },
   {
    "duration": 16,
    "start_time": "2021-09-20T16:56:35.634Z"
   },
   {
    "duration": 16,
    "start_time": "2021-09-20T16:56:35.651Z"
   },
   {
    "duration": 17,
    "start_time": "2021-09-20T16:56:35.669Z"
   },
   {
    "duration": 14,
    "start_time": "2021-09-20T16:56:35.688Z"
   },
   {
    "duration": 31,
    "start_time": "2021-09-20T16:56:35.704Z"
   },
   {
    "duration": 22,
    "start_time": "2021-09-20T16:56:35.737Z"
   },
   {
    "duration": 16,
    "start_time": "2021-09-20T16:56:35.760Z"
   },
   {
    "duration": 23,
    "start_time": "2021-09-20T16:56:35.777Z"
   },
   {
    "duration": 4,
    "start_time": "2021-09-20T16:56:35.802Z"
   },
   {
    "duration": 14,
    "start_time": "2021-09-20T16:56:35.808Z"
   },
   {
    "duration": 8754,
    "start_time": "2021-09-20T16:56:35.824Z"
   },
   {
    "duration": 2878,
    "start_time": "2021-09-20T16:56:44.581Z"
   },
   {
    "duration": 11,
    "start_time": "2021-09-20T16:56:47.461Z"
   },
   {
    "duration": 37,
    "start_time": "2021-09-20T16:56:47.474Z"
   },
   {
    "duration": 11,
    "start_time": "2021-09-20T16:56:47.513Z"
   },
   {
    "duration": 21,
    "start_time": "2021-09-20T16:56:47.526Z"
   },
   {
    "duration": 12,
    "start_time": "2021-09-20T16:56:47.549Z"
   },
   {
    "duration": 49,
    "start_time": "2021-09-20T16:56:47.563Z"
   },
   {
    "duration": 12,
    "start_time": "2021-09-20T16:56:47.614Z"
   },
   {
    "duration": 20,
    "start_time": "2021-09-20T16:56:47.627Z"
   },
   {
    "duration": 12,
    "start_time": "2021-09-20T16:56:47.649Z"
   },
   {
    "duration": 37,
    "start_time": "2021-09-20T16:56:47.663Z"
   },
   {
    "duration": 12,
    "start_time": "2021-09-20T16:56:47.702Z"
   },
   {
    "duration": 6,
    "start_time": "2021-09-20T17:09:21.463Z"
   },
   {
    "duration": 542,
    "start_time": "2021-09-20T17:10:39.631Z"
   },
   {
    "duration": 102,
    "start_time": "2021-09-20T17:10:40.175Z"
   },
   {
    "duration": 23,
    "start_time": "2021-09-20T17:10:40.279Z"
   },
   {
    "duration": 254,
    "start_time": "2021-09-20T17:10:40.304Z"
   },
   {
    "duration": -59,
    "start_time": "2021-09-20T17:10:40.621Z"
   },
   {
    "duration": -69,
    "start_time": "2021-09-20T17:10:40.632Z"
   },
   {
    "duration": -75,
    "start_time": "2021-09-20T17:10:40.639Z"
   },
   {
    "duration": -86,
    "start_time": "2021-09-20T17:10:40.652Z"
   },
   {
    "duration": -93,
    "start_time": "2021-09-20T17:10:40.660Z"
   },
   {
    "duration": -100,
    "start_time": "2021-09-20T17:10:40.668Z"
   },
   {
    "duration": -107,
    "start_time": "2021-09-20T17:10:40.677Z"
   },
   {
    "duration": -115,
    "start_time": "2021-09-20T17:10:40.686Z"
   },
   {
    "duration": -120,
    "start_time": "2021-09-20T17:10:40.693Z"
   },
   {
    "duration": -177,
    "start_time": "2021-09-20T17:10:40.751Z"
   },
   {
    "duration": -194,
    "start_time": "2021-09-20T17:10:40.770Z"
   },
   {
    "duration": -203,
    "start_time": "2021-09-20T17:10:40.780Z"
   },
   {
    "duration": -216,
    "start_time": "2021-09-20T17:10:40.794Z"
   },
   {
    "duration": -222,
    "start_time": "2021-09-20T17:10:40.802Z"
   },
   {
    "duration": -228,
    "start_time": "2021-09-20T17:10:40.809Z"
   },
   {
    "duration": -233,
    "start_time": "2021-09-20T17:10:40.816Z"
   },
   {
    "duration": -240,
    "start_time": "2021-09-20T17:10:40.824Z"
   },
   {
    "duration": -246,
    "start_time": "2021-09-20T17:10:40.831Z"
   },
   {
    "duration": -251,
    "start_time": "2021-09-20T17:10:40.838Z"
   },
   {
    "duration": -270,
    "start_time": "2021-09-20T17:10:40.858Z"
   },
   {
    "duration": -278,
    "start_time": "2021-09-20T17:10:40.866Z"
   },
   {
    "duration": -285,
    "start_time": "2021-09-20T17:10:40.874Z"
   },
   {
    "duration": -291,
    "start_time": "2021-09-20T17:10:40.881Z"
   },
   {
    "duration": -299,
    "start_time": "2021-09-20T17:10:40.889Z"
   },
   {
    "duration": -305,
    "start_time": "2021-09-20T17:10:40.896Z"
   },
   {
    "duration": -312,
    "start_time": "2021-09-20T17:10:40.904Z"
   },
   {
    "duration": -318,
    "start_time": "2021-09-20T17:10:40.911Z"
   },
   {
    "duration": -327,
    "start_time": "2021-09-20T17:10:40.921Z"
   },
   {
    "duration": -334,
    "start_time": "2021-09-20T17:10:40.928Z"
   },
   {
    "duration": -342,
    "start_time": "2021-09-20T17:10:40.937Z"
   },
   {
    "duration": -348,
    "start_time": "2021-09-20T17:10:40.944Z"
   },
   {
    "duration": -355,
    "start_time": "2021-09-20T17:10:40.951Z"
   },
   {
    "duration": -371,
    "start_time": "2021-09-20T17:10:40.968Z"
   },
   {
    "duration": -378,
    "start_time": "2021-09-20T17:10:40.976Z"
   },
   {
    "duration": -387,
    "start_time": "2021-09-20T17:10:40.985Z"
   },
   {
    "duration": -394,
    "start_time": "2021-09-20T17:10:40.993Z"
   },
   {
    "duration": -401,
    "start_time": "2021-09-20T17:10:41.001Z"
   },
   {
    "duration": -407,
    "start_time": "2021-09-20T17:10:41.008Z"
   },
   {
    "duration": -415,
    "start_time": "2021-09-20T17:10:41.016Z"
   },
   {
    "duration": -421,
    "start_time": "2021-09-20T17:10:41.023Z"
   },
   {
    "duration": -427,
    "start_time": "2021-09-20T17:10:41.030Z"
   },
   {
    "duration": -433,
    "start_time": "2021-09-20T17:10:41.037Z"
   },
   {
    "duration": -441,
    "start_time": "2021-09-20T17:10:41.045Z"
   },
   {
    "duration": -448,
    "start_time": "2021-09-20T17:10:41.053Z"
   },
   {
    "duration": -455,
    "start_time": "2021-09-20T17:10:41.061Z"
   },
   {
    "duration": -472,
    "start_time": "2021-09-20T17:10:41.078Z"
   },
   {
    "duration": -479,
    "start_time": "2021-09-20T17:10:41.086Z"
   },
   {
    "duration": -485,
    "start_time": "2021-09-20T17:10:41.093Z"
   },
   {
    "duration": -492,
    "start_time": "2021-09-20T17:10:41.101Z"
   },
   {
    "duration": -498,
    "start_time": "2021-09-20T17:10:41.108Z"
   },
   {
    "duration": -504,
    "start_time": "2021-09-20T17:10:41.114Z"
   },
   {
    "duration": -511,
    "start_time": "2021-09-20T17:10:41.122Z"
   },
   {
    "duration": -517,
    "start_time": "2021-09-20T17:10:41.129Z"
   },
   {
    "duration": -523,
    "start_time": "2021-09-20T17:10:41.136Z"
   },
   {
    "duration": -528,
    "start_time": "2021-09-20T17:10:41.142Z"
   },
   {
    "duration": -535,
    "start_time": "2021-09-20T17:10:41.149Z"
   },
   {
    "duration": -541,
    "start_time": "2021-09-20T17:10:41.156Z"
   },
   {
    "duration": -551,
    "start_time": "2021-09-20T17:10:41.167Z"
   },
   {
    "duration": -557,
    "start_time": "2021-09-20T17:10:41.174Z"
   },
   {
    "duration": -588,
    "start_time": "2021-09-20T17:10:41.206Z"
   },
   {
    "duration": 188,
    "start_time": "2021-09-20T17:12:03.136Z"
   },
   {
    "duration": 571,
    "start_time": "2021-09-20T17:12:22.709Z"
   },
   {
    "duration": 102,
    "start_time": "2021-09-20T17:12:23.282Z"
   },
   {
    "duration": 21,
    "start_time": "2021-09-20T17:12:23.386Z"
   },
   {
    "duration": 7,
    "start_time": "2021-09-20T17:12:23.409Z"
   },
   {
    "duration": 15,
    "start_time": "2021-09-20T17:12:23.417Z"
   },
   {
    "duration": 8,
    "start_time": "2021-09-20T17:12:23.433Z"
   },
   {
    "duration": 13,
    "start_time": "2021-09-20T17:12:23.442Z"
   },
   {
    "duration": 12,
    "start_time": "2021-09-20T17:12:23.457Z"
   },
   {
    "duration": 32,
    "start_time": "2021-09-20T17:12:23.470Z"
   },
   {
    "duration": 7,
    "start_time": "2021-09-20T17:12:23.504Z"
   },
   {
    "duration": 22,
    "start_time": "2021-09-20T17:12:23.512Z"
   },
   {
    "duration": 4,
    "start_time": "2021-09-20T17:12:23.536Z"
   },
   {
    "duration": 67,
    "start_time": "2021-09-20T17:12:23.542Z"
   },
   {
    "duration": 4,
    "start_time": "2021-09-20T17:12:23.611Z"
   },
   {
    "duration": 16,
    "start_time": "2021-09-20T17:12:23.617Z"
   },
   {
    "duration": 16,
    "start_time": "2021-09-20T17:12:23.634Z"
   },
   {
    "duration": 11,
    "start_time": "2021-09-20T17:12:23.652Z"
   },
   {
    "duration": 15,
    "start_time": "2021-09-20T17:12:23.664Z"
   },
   {
    "duration": 13,
    "start_time": "2021-09-20T17:12:23.681Z"
   },
   {
    "duration": 13,
    "start_time": "2021-09-20T17:12:23.696Z"
   },
   {
    "duration": 10,
    "start_time": "2021-09-20T17:12:23.711Z"
   },
   {
    "duration": 13,
    "start_time": "2021-09-20T17:12:23.723Z"
   },
   {
    "duration": 19,
    "start_time": "2021-09-20T17:12:23.740Z"
   },
   {
    "duration": 15,
    "start_time": "2021-09-20T17:12:23.762Z"
   },
   {
    "duration": 29,
    "start_time": "2021-09-20T17:12:23.779Z"
   },
   {
    "duration": 16,
    "start_time": "2021-09-20T17:12:23.811Z"
   },
   {
    "duration": 4,
    "start_time": "2021-09-20T17:12:23.829Z"
   },
   {
    "duration": 13,
    "start_time": "2021-09-20T17:12:23.835Z"
   },
   {
    "duration": 17,
    "start_time": "2021-09-20T17:12:23.850Z"
   },
   {
    "duration": 21,
    "start_time": "2021-09-20T17:12:23.870Z"
   },
   {
    "duration": 14,
    "start_time": "2021-09-20T17:12:23.900Z"
   },
   {
    "duration": 43,
    "start_time": "2021-09-20T17:12:23.916Z"
   },
   {
    "duration": 7,
    "start_time": "2021-09-20T17:12:23.961Z"
   },
   {
    "duration": 38,
    "start_time": "2021-09-20T17:12:23.970Z"
   },
   {
    "duration": 41,
    "start_time": "2021-09-20T17:12:24.010Z"
   },
   {
    "duration": 6,
    "start_time": "2021-09-20T17:12:24.053Z"
   },
   {
    "duration": 12,
    "start_time": "2021-09-20T17:12:24.061Z"
   },
   {
    "duration": 13,
    "start_time": "2021-09-20T17:12:24.100Z"
   },
   {
    "duration": 6,
    "start_time": "2021-09-20T17:12:24.115Z"
   },
   {
    "duration": 16,
    "start_time": "2021-09-20T17:12:24.122Z"
   },
   {
    "duration": 8,
    "start_time": "2021-09-20T17:12:24.140Z"
   },
   {
    "duration": 21,
    "start_time": "2021-09-20T17:12:24.150Z"
   },
   {
    "duration": 25,
    "start_time": "2021-09-20T17:12:24.173Z"
   },
   {
    "duration": 22,
    "start_time": "2021-09-20T17:12:24.200Z"
   },
   {
    "duration": 16,
    "start_time": "2021-09-20T17:12:24.224Z"
   },
   {
    "duration": 30,
    "start_time": "2021-09-20T17:12:24.241Z"
   },
   {
    "duration": 23,
    "start_time": "2021-09-20T17:12:24.273Z"
   },
   {
    "duration": 16,
    "start_time": "2021-09-20T17:12:24.298Z"
   },
   {
    "duration": 10,
    "start_time": "2021-09-20T17:12:24.315Z"
   },
   {
    "duration": 4,
    "start_time": "2021-09-20T17:12:24.327Z"
   },
   {
    "duration": 8,
    "start_time": "2021-09-20T17:12:24.333Z"
   },
   {
    "duration": 9512,
    "start_time": "2021-09-20T17:12:24.343Z"
   },
   {
    "duration": 2693,
    "start_time": "2021-09-20T17:12:33.857Z"
   },
   {
    "duration": 8,
    "start_time": "2021-09-20T17:12:36.552Z"
   },
   {
    "duration": 20,
    "start_time": "2021-09-20T17:12:36.561Z"
   },
   {
    "duration": 12,
    "start_time": "2021-09-20T17:12:36.599Z"
   },
   {
    "duration": 16,
    "start_time": "2021-09-20T17:12:36.613Z"
   },
   {
    "duration": 15,
    "start_time": "2021-09-20T17:12:36.631Z"
   },
   {
    "duration": 24,
    "start_time": "2021-09-20T17:12:36.648Z"
   },
   {
    "duration": 36,
    "start_time": "2021-09-20T17:12:36.674Z"
   },
   {
    "duration": 20,
    "start_time": "2021-09-20T17:12:36.712Z"
   },
   {
    "duration": 13,
    "start_time": "2021-09-20T17:12:36.733Z"
   },
   {
    "duration": 12,
    "start_time": "2021-09-20T17:12:36.748Z"
   },
   {
    "duration": 44,
    "start_time": "2021-09-20T17:12:36.762Z"
   },
   {
    "duration": 20,
    "start_time": "2021-09-20T17:13:29.123Z"
   },
   {
    "duration": 536,
    "start_time": "2021-09-20T17:13:39.021Z"
   },
   {
    "duration": 96,
    "start_time": "2021-09-20T17:13:39.559Z"
   },
   {
    "duration": 9,
    "start_time": "2021-09-20T17:13:39.657Z"
   },
   {
    "duration": 35,
    "start_time": "2021-09-20T17:13:39.668Z"
   },
   {
    "duration": 20,
    "start_time": "2021-09-20T17:13:39.704Z"
   },
   {
    "duration": 18,
    "start_time": "2021-09-20T17:13:39.726Z"
   },
   {
    "duration": 24,
    "start_time": "2021-09-20T17:13:39.746Z"
   },
   {
    "duration": 27,
    "start_time": "2021-09-20T17:13:39.772Z"
   },
   {
    "duration": 15,
    "start_time": "2021-09-20T17:13:39.801Z"
   },
   {
    "duration": 23,
    "start_time": "2021-09-20T17:13:39.818Z"
   },
   {
    "duration": 22,
    "start_time": "2021-09-20T17:13:39.843Z"
   },
   {
    "duration": 23,
    "start_time": "2021-09-20T17:13:39.867Z"
   },
   {
    "duration": 5,
    "start_time": "2021-09-20T17:13:39.891Z"
   },
   {
    "duration": 47,
    "start_time": "2021-09-20T17:13:39.897Z"
   },
   {
    "duration": 4,
    "start_time": "2021-09-20T17:13:39.945Z"
   },
   {
    "duration": 7,
    "start_time": "2021-09-20T17:13:39.951Z"
   },
   {
    "duration": 11,
    "start_time": "2021-09-20T17:13:39.960Z"
   },
   {
    "duration": 7,
    "start_time": "2021-09-20T17:13:39.973Z"
   },
   {
    "duration": 20,
    "start_time": "2021-09-20T17:13:39.981Z"
   },
   {
    "duration": 5,
    "start_time": "2021-09-20T17:13:40.003Z"
   },
   {
    "duration": 9,
    "start_time": "2021-09-20T17:13:40.010Z"
   },
   {
    "duration": 10,
    "start_time": "2021-09-20T17:13:40.021Z"
   },
   {
    "duration": 6,
    "start_time": "2021-09-20T17:13:40.035Z"
   },
   {
    "duration": 6,
    "start_time": "2021-09-20T17:13:40.044Z"
   },
   {
    "duration": 9,
    "start_time": "2021-09-20T17:13:40.051Z"
   },
   {
    "duration": 45,
    "start_time": "2021-09-20T17:13:40.062Z"
   },
   {
    "duration": 11,
    "start_time": "2021-09-20T17:13:40.108Z"
   },
   {
    "duration": 6,
    "start_time": "2021-09-20T17:13:40.121Z"
   },
   {
    "duration": 9,
    "start_time": "2021-09-20T17:13:40.129Z"
   },
   {
    "duration": 12,
    "start_time": "2021-09-20T17:13:40.140Z"
   },
   {
    "duration": 7,
    "start_time": "2021-09-20T17:13:40.154Z"
   },
   {
    "duration": 48,
    "start_time": "2021-09-20T17:13:40.163Z"
   },
   {
    "duration": 41,
    "start_time": "2021-09-20T17:13:40.213Z"
   },
   {
    "duration": 7,
    "start_time": "2021-09-20T17:13:40.256Z"
   },
   {
    "duration": 36,
    "start_time": "2021-09-20T17:13:40.265Z"
   },
   {
    "duration": 40,
    "start_time": "2021-09-20T17:13:40.303Z"
   },
   {
    "duration": 5,
    "start_time": "2021-09-20T17:13:40.345Z"
   },
   {
    "duration": 10,
    "start_time": "2021-09-20T17:13:40.353Z"
   },
   {
    "duration": 43,
    "start_time": "2021-09-20T17:13:40.365Z"
   },
   {
    "duration": 4,
    "start_time": "2021-09-20T17:13:40.410Z"
   },
   {
    "duration": 6,
    "start_time": "2021-09-20T17:13:40.416Z"
   },
   {
    "duration": 5,
    "start_time": "2021-09-20T17:13:40.424Z"
   },
   {
    "duration": 13,
    "start_time": "2021-09-20T17:13:40.430Z"
   },
   {
    "duration": 12,
    "start_time": "2021-09-20T17:13:40.445Z"
   },
   {
    "duration": 49,
    "start_time": "2021-09-20T17:13:40.458Z"
   },
   {
    "duration": 14,
    "start_time": "2021-09-20T17:13:40.509Z"
   },
   {
    "duration": 22,
    "start_time": "2021-09-20T17:13:40.525Z"
   },
   {
    "duration": 23,
    "start_time": "2021-09-20T17:13:40.549Z"
   },
   {
    "duration": 46,
    "start_time": "2021-09-20T17:13:40.573Z"
   },
   {
    "duration": 13,
    "start_time": "2021-09-20T17:13:40.621Z"
   },
   {
    "duration": 9,
    "start_time": "2021-09-20T17:13:40.636Z"
   },
   {
    "duration": 10,
    "start_time": "2021-09-20T17:13:40.647Z"
   },
   {
    "duration": 9385,
    "start_time": "2021-09-20T17:13:40.659Z"
   },
   {
    "duration": 2929,
    "start_time": "2021-09-20T17:13:50.046Z"
   },
   {
    "duration": 8,
    "start_time": "2021-09-20T17:13:52.976Z"
   },
   {
    "duration": 35,
    "start_time": "2021-09-20T17:13:52.985Z"
   },
   {
    "duration": 20,
    "start_time": "2021-09-20T17:13:53.022Z"
   },
   {
    "duration": 15,
    "start_time": "2021-09-20T17:13:53.044Z"
   },
   {
    "duration": 12,
    "start_time": "2021-09-20T17:13:53.061Z"
   },
   {
    "duration": 28,
    "start_time": "2021-09-20T17:13:53.075Z"
   },
   {
    "duration": 12,
    "start_time": "2021-09-20T17:13:53.105Z"
   },
   {
    "duration": 21,
    "start_time": "2021-09-20T17:13:53.119Z"
   },
   {
    "duration": 13,
    "start_time": "2021-09-20T17:13:53.142Z"
   },
   {
    "duration": 45,
    "start_time": "2021-09-20T17:13:53.156Z"
   },
   {
    "duration": 13,
    "start_time": "2021-09-20T17:13:53.203Z"
   },
   {
    "duration": 7,
    "start_time": "2021-09-20T17:16:01.387Z"
   },
   {
    "duration": 8,
    "start_time": "2021-09-20T17:16:35.431Z"
   },
   {
    "duration": 559,
    "start_time": "2021-09-20T17:16:58.817Z"
   },
   {
    "duration": 98,
    "start_time": "2021-09-20T17:16:59.378Z"
   },
   {
    "duration": 10,
    "start_time": "2021-09-20T17:16:59.478Z"
   },
   {
    "duration": 7,
    "start_time": "2021-09-20T17:16:59.500Z"
   },
   {
    "duration": 6,
    "start_time": "2021-09-20T17:16:59.509Z"
   },
   {
    "duration": 7,
    "start_time": "2021-09-20T17:16:59.517Z"
   },
   {
    "duration": 6,
    "start_time": "2021-09-20T17:16:59.525Z"
   },
   {
    "duration": 6,
    "start_time": "2021-09-20T17:16:59.534Z"
   },
   {
    "duration": 8,
    "start_time": "2021-09-20T17:16:59.542Z"
   },
   {
    "duration": 63,
    "start_time": "2021-09-20T17:16:59.552Z"
   },
   {
    "duration": 6,
    "start_time": "2021-09-20T17:16:59.617Z"
   },
   {
    "duration": 43,
    "start_time": "2021-09-20T17:16:59.624Z"
   },
   {
    "duration": 5,
    "start_time": "2021-09-20T17:16:59.668Z"
   },
   {
    "duration": 6,
    "start_time": "2021-09-20T17:16:59.700Z"
   },
   {
    "duration": 15,
    "start_time": "2021-09-20T17:16:59.708Z"
   },
   {
    "duration": 7,
    "start_time": "2021-09-20T17:16:59.725Z"
   },
   {
    "duration": 10,
    "start_time": "2021-09-20T17:16:59.734Z"
   },
   {
    "duration": 10,
    "start_time": "2021-09-20T17:16:59.745Z"
   },
   {
    "duration": 12,
    "start_time": "2021-09-20T17:16:59.757Z"
   },
   {
    "duration": 6,
    "start_time": "2021-09-20T17:16:59.771Z"
   },
   {
    "duration": 6,
    "start_time": "2021-09-20T17:16:59.800Z"
   },
   {
    "duration": 7,
    "start_time": "2021-09-20T17:16:59.808Z"
   },
   {
    "duration": 7,
    "start_time": "2021-09-20T17:16:59.819Z"
   },
   {
    "duration": 13,
    "start_time": "2021-09-20T17:16:59.828Z"
   },
   {
    "duration": 9,
    "start_time": "2021-09-20T17:16:59.843Z"
   },
   {
    "duration": 3,
    "start_time": "2021-09-20T17:16:59.853Z"
   },
   {
    "duration": 44,
    "start_time": "2021-09-20T17:16:59.858Z"
   },
   {
    "duration": 12,
    "start_time": "2021-09-20T17:16:59.904Z"
   },
   {
    "duration": 7,
    "start_time": "2021-09-20T17:16:59.917Z"
   },
   {
    "duration": 11,
    "start_time": "2021-09-20T17:16:59.925Z"
   },
   {
    "duration": 38,
    "start_time": "2021-09-20T17:16:59.937Z"
   },
   {
    "duration": 6,
    "start_time": "2021-09-20T17:17:00.000Z"
   },
   {
    "duration": 10,
    "start_time": "2021-09-20T17:17:00.008Z"
   },
   {
    "duration": 39,
    "start_time": "2021-09-20T17:17:00.020Z"
   },
   {
    "duration": 5,
    "start_time": "2021-09-20T17:17:00.061Z"
   },
   {
    "duration": 36,
    "start_time": "2021-09-20T17:17:00.067Z"
   },
   {
    "duration": 11,
    "start_time": "2021-09-20T17:17:00.104Z"
   },
   {
    "duration": 4,
    "start_time": "2021-09-20T17:17:00.116Z"
   },
   {
    "duration": 6,
    "start_time": "2021-09-20T17:17:00.121Z"
   },
   {
    "duration": 6,
    "start_time": "2021-09-20T17:17:00.128Z"
   },
   {
    "duration": 12,
    "start_time": "2021-09-20T17:17:00.135Z"
   },
   {
    "duration": 12,
    "start_time": "2021-09-20T17:17:00.148Z"
   },
   {
    "duration": 16,
    "start_time": "2021-09-20T17:17:00.161Z"
   },
   {
    "duration": 8,
    "start_time": "2021-09-20T17:17:00.200Z"
   },
   {
    "duration": 23,
    "start_time": "2021-09-20T17:17:00.210Z"
   },
   {
    "duration": 23,
    "start_time": "2021-09-20T17:17:00.234Z"
   },
   {
    "duration": 15,
    "start_time": "2021-09-20T17:17:00.258Z"
   },
   {
    "duration": 30,
    "start_time": "2021-09-20T17:17:00.275Z"
   },
   {
    "duration": 7,
    "start_time": "2021-09-20T17:17:00.307Z"
   },
   {
    "duration": 17,
    "start_time": "2021-09-20T17:17:00.316Z"
   },
   {
    "duration": 8882,
    "start_time": "2021-09-20T17:17:00.335Z"
   },
   {
    "duration": 2644,
    "start_time": "2021-09-20T17:17:09.219Z"
   },
   {
    "duration": 8,
    "start_time": "2021-09-20T17:17:11.865Z"
   },
   {
    "duration": 34,
    "start_time": "2021-09-20T17:17:11.875Z"
   },
   {
    "duration": 12,
    "start_time": "2021-09-20T17:17:11.911Z"
   },
   {
    "duration": 13,
    "start_time": "2021-09-20T17:17:11.924Z"
   },
   {
    "duration": 11,
    "start_time": "2021-09-20T17:17:11.939Z"
   },
   {
    "duration": 47,
    "start_time": "2021-09-20T17:17:11.952Z"
   },
   {
    "duration": 13,
    "start_time": "2021-09-20T17:17:12.001Z"
   },
   {
    "duration": 21,
    "start_time": "2021-09-20T17:17:12.016Z"
   },
   {
    "duration": 13,
    "start_time": "2021-09-20T17:17:12.039Z"
   },
   {
    "duration": 13,
    "start_time": "2021-09-20T17:17:12.053Z"
   },
   {
    "duration": 42,
    "start_time": "2021-09-20T17:17:12.068Z"
   },
   {
    "duration": 531,
    "start_time": "2021-09-20T17:23:38.420Z"
   },
   {
    "duration": 101,
    "start_time": "2021-09-20T17:23:38.953Z"
   },
   {
    "duration": 11,
    "start_time": "2021-09-20T17:23:39.055Z"
   },
   {
    "duration": 8,
    "start_time": "2021-09-20T17:23:39.067Z"
   },
   {
    "duration": 6,
    "start_time": "2021-09-20T17:23:39.100Z"
   },
   {
    "duration": 9,
    "start_time": "2021-09-20T17:23:39.107Z"
   },
   {
    "duration": 6,
    "start_time": "2021-09-20T17:23:39.118Z"
   },
   {
    "duration": 6,
    "start_time": "2021-09-20T17:23:39.126Z"
   },
   {
    "duration": 10,
    "start_time": "2021-09-20T17:23:39.134Z"
   },
   {
    "duration": 59,
    "start_time": "2021-09-20T17:23:39.145Z"
   },
   {
    "duration": 5,
    "start_time": "2021-09-20T17:23:39.206Z"
   },
   {
    "duration": 46,
    "start_time": "2021-09-20T17:23:39.212Z"
   },
   {
    "duration": 4,
    "start_time": "2021-09-20T17:23:39.260Z"
   },
   {
    "duration": 38,
    "start_time": "2021-09-20T17:23:39.266Z"
   },
   {
    "duration": 13,
    "start_time": "2021-09-20T17:23:39.305Z"
   },
   {
    "duration": 9,
    "start_time": "2021-09-20T17:23:39.319Z"
   },
   {
    "duration": 8,
    "start_time": "2021-09-20T17:23:39.330Z"
   },
   {
    "duration": 9,
    "start_time": "2021-09-20T17:23:39.339Z"
   },
   {
    "duration": 6,
    "start_time": "2021-09-20T17:23:39.351Z"
   },
   {
    "duration": 42,
    "start_time": "2021-09-20T17:23:39.360Z"
   },
   {
    "duration": 8,
    "start_time": "2021-09-20T17:23:39.403Z"
   },
   {
    "duration": 6,
    "start_time": "2021-09-20T17:23:39.412Z"
   },
   {
    "duration": 12,
    "start_time": "2021-09-20T17:23:39.420Z"
   },
   {
    "duration": 15,
    "start_time": "2021-09-20T17:23:39.434Z"
   },
   {
    "duration": 9,
    "start_time": "2021-09-20T17:23:39.451Z"
   },
   {
    "duration": 39,
    "start_time": "2021-09-20T17:23:39.462Z"
   },
   {
    "duration": 8,
    "start_time": "2021-09-20T17:23:39.502Z"
   },
   {
    "duration": 13,
    "start_time": "2021-09-20T17:23:39.512Z"
   },
   {
    "duration": 8,
    "start_time": "2021-09-20T17:23:39.526Z"
   },
   {
    "duration": 12,
    "start_time": "2021-09-20T17:23:39.536Z"
   },
   {
    "duration": 74,
    "start_time": "2021-09-20T17:23:39.549Z"
   },
   {
    "duration": 6,
    "start_time": "2021-09-20T17:23:39.624Z"
   },
   {
    "duration": 10,
    "start_time": "2021-09-20T17:23:39.631Z"
   },
   {
    "duration": 38,
    "start_time": "2021-09-20T17:23:39.642Z"
   },
   {
    "duration": 21,
    "start_time": "2021-09-20T17:23:39.681Z"
   },
   {
    "duration": 11,
    "start_time": "2021-09-20T17:23:39.703Z"
   },
   {
    "duration": 10,
    "start_time": "2021-09-20T17:23:39.715Z"
   },
   {
    "duration": 3,
    "start_time": "2021-09-20T17:23:39.726Z"
   },
   {
    "duration": 4,
    "start_time": "2021-09-20T17:23:39.731Z"
   },
   {
    "duration": 4,
    "start_time": "2021-09-20T17:23:39.737Z"
   },
   {
    "duration": 13,
    "start_time": "2021-09-20T17:23:39.742Z"
   },
   {
    "duration": 11,
    "start_time": "2021-09-20T17:23:39.756Z"
   },
   {
    "duration": 13,
    "start_time": "2021-09-20T17:23:39.800Z"
   },
   {
    "duration": 11,
    "start_time": "2021-09-20T17:23:39.814Z"
   },
   {
    "duration": 22,
    "start_time": "2021-09-20T17:23:39.827Z"
   },
   {
    "duration": 21,
    "start_time": "2021-09-20T17:23:39.850Z"
   },
   {
    "duration": 35,
    "start_time": "2021-09-20T17:23:39.872Z"
   },
   {
    "duration": 10,
    "start_time": "2021-09-20T17:23:39.908Z"
   },
   {
    "duration": 5,
    "start_time": "2021-09-20T17:23:39.919Z"
   },
   {
    "duration": 7,
    "start_time": "2021-09-20T17:23:39.926Z"
   },
   {
    "duration": 8478,
    "start_time": "2021-09-20T17:23:39.935Z"
   },
   {
    "duration": 2611,
    "start_time": "2021-09-20T17:23:48.417Z"
   },
   {
    "duration": 7,
    "start_time": "2021-09-20T17:23:51.030Z"
   },
   {
    "duration": 20,
    "start_time": "2021-09-20T17:23:51.039Z"
   },
   {
    "duration": 8,
    "start_time": "2021-09-20T17:23:51.061Z"
   },
   {
    "duration": 28,
    "start_time": "2021-09-20T17:23:51.071Z"
   },
   {
    "duration": 11,
    "start_time": "2021-09-20T17:23:51.101Z"
   },
   {
    "duration": 18,
    "start_time": "2021-09-20T17:23:51.113Z"
   },
   {
    "duration": 11,
    "start_time": "2021-09-20T17:23:51.133Z"
   },
   {
    "duration": 18,
    "start_time": "2021-09-20T17:23:51.145Z"
   },
   {
    "duration": 39,
    "start_time": "2021-09-20T17:23:51.165Z"
   },
   {
    "duration": 11,
    "start_time": "2021-09-20T17:23:51.205Z"
   },
   {
    "duration": 11,
    "start_time": "2021-09-20T17:23:51.217Z"
   },
   {
    "duration": 7,
    "start_time": "2021-09-20T17:27:04.038Z"
   },
   {
    "duration": 7,
    "start_time": "2021-09-20T17:29:27.765Z"
   },
   {
    "duration": 6,
    "start_time": "2021-09-20T17:29:32.084Z"
   },
   {
    "duration": 550,
    "start_time": "2021-09-20T17:29:42.136Z"
   },
   {
    "duration": 100,
    "start_time": "2021-09-20T17:29:42.688Z"
   },
   {
    "duration": 17,
    "start_time": "2021-09-20T17:29:42.790Z"
   },
   {
    "duration": 5,
    "start_time": "2021-09-20T17:29:42.809Z"
   },
   {
    "duration": 5,
    "start_time": "2021-09-20T17:29:42.816Z"
   },
   {
    "duration": 12,
    "start_time": "2021-09-20T17:29:42.822Z"
   },
   {
    "duration": 6,
    "start_time": "2021-09-20T17:29:42.836Z"
   },
   {
    "duration": 8,
    "start_time": "2021-09-20T17:29:42.845Z"
   },
   {
    "duration": 47,
    "start_time": "2021-09-20T17:29:42.854Z"
   },
   {
    "duration": 23,
    "start_time": "2021-09-20T17:29:42.902Z"
   },
   {
    "duration": 5,
    "start_time": "2021-09-20T17:29:42.927Z"
   },
   {
    "duration": 42,
    "start_time": "2021-09-20T17:29:42.933Z"
   },
   {
    "duration": 5,
    "start_time": "2021-09-20T17:29:45.983Z"
   },
   {
    "duration": 8,
    "start_time": "2021-09-20T17:29:45.990Z"
   },
   {
    "duration": 11,
    "start_time": "2021-09-20T17:29:46.000Z"
   },
   {
    "duration": 8,
    "start_time": "2021-09-20T17:29:46.012Z"
   },
   {
    "duration": 8,
    "start_time": "2021-09-20T17:29:46.196Z"
   },
   {
    "duration": 6,
    "start_time": "2021-09-20T17:29:46.207Z"
   },
   {
    "duration": 7,
    "start_time": "2021-09-20T17:29:46.216Z"
   },
   {
    "duration": 5,
    "start_time": "2021-09-20T17:29:46.225Z"
   },
   {
    "duration": 6,
    "start_time": "2021-09-20T17:29:46.232Z"
   },
   {
    "duration": 7,
    "start_time": "2021-09-20T17:29:46.240Z"
   },
   {
    "duration": 7,
    "start_time": "2021-09-20T17:29:46.248Z"
   },
   {
    "duration": 53,
    "start_time": "2021-09-20T17:29:46.257Z"
   },
   {
    "duration": 10,
    "start_time": "2021-09-20T17:29:46.313Z"
   },
   {
    "duration": 3,
    "start_time": "2021-09-20T17:29:46.354Z"
   },
   {
    "duration": 9,
    "start_time": "2021-09-20T17:29:46.359Z"
   },
   {
    "duration": 11,
    "start_time": "2021-09-20T17:29:46.370Z"
   },
   {
    "duration": 6,
    "start_time": "2021-09-20T17:29:46.382Z"
   },
   {
    "duration": 18,
    "start_time": "2021-09-20T17:29:46.389Z"
   },
   {
    "duration": 37,
    "start_time": "2021-09-20T17:29:46.408Z"
   },
   {
    "duration": 6,
    "start_time": "2021-09-20T17:29:46.446Z"
   },
   {
    "duration": 9,
    "start_time": "2021-09-20T17:29:46.507Z"
   },
   {
    "duration": 44,
    "start_time": "2021-09-20T17:29:46.518Z"
   },
   {
    "duration": 5,
    "start_time": "2021-09-20T17:29:46.564Z"
   },
   {
    "duration": 9,
    "start_time": "2021-09-20T17:29:46.571Z"
   },
   {
    "duration": 25,
    "start_time": "2021-09-20T17:29:46.582Z"
   },
   {
    "duration": 3,
    "start_time": "2021-09-20T17:29:46.609Z"
   },
   {
    "duration": 7,
    "start_time": "2021-09-20T17:29:46.613Z"
   },
   {
    "duration": 4,
    "start_time": "2021-09-20T17:29:46.622Z"
   },
   {
    "duration": 12,
    "start_time": "2021-09-20T17:29:46.628Z"
   },
   {
    "duration": 16,
    "start_time": "2021-09-20T17:29:46.642Z"
   },
   {
    "duration": 14,
    "start_time": "2021-09-20T17:29:46.659Z"
   },
   {
    "duration": 32,
    "start_time": "2021-09-20T17:29:46.674Z"
   },
   {
    "duration": 23,
    "start_time": "2021-09-20T17:29:46.707Z"
   },
   {
    "duration": 22,
    "start_time": "2021-09-20T17:29:46.731Z"
   },
   {
    "duration": 16,
    "start_time": "2021-09-20T17:29:46.754Z"
   },
   {
    "duration": 28,
    "start_time": "2021-09-20T17:29:46.780Z"
   },
   {
    "duration": 4,
    "start_time": "2021-09-20T17:29:46.809Z"
   },
   {
    "duration": 7,
    "start_time": "2021-09-20T17:29:46.815Z"
   },
   {
    "duration": 8704,
    "start_time": "2021-09-20T17:29:46.823Z"
   },
   {
    "duration": 2620,
    "start_time": "2021-09-20T17:29:55.529Z"
   },
   {
    "duration": 9,
    "start_time": "2021-09-20T17:29:58.151Z"
   },
   {
    "duration": 27,
    "start_time": "2021-09-20T17:29:58.161Z"
   },
   {
    "duration": 20,
    "start_time": "2021-09-20T17:29:58.190Z"
   },
   {
    "duration": 13,
    "start_time": "2021-09-20T17:29:58.213Z"
   },
   {
    "duration": 12,
    "start_time": "2021-09-20T17:29:58.228Z"
   },
   {
    "duration": 25,
    "start_time": "2021-09-20T17:29:58.241Z"
   },
   {
    "duration": 12,
    "start_time": "2021-09-20T17:29:58.267Z"
   },
   {
    "duration": 39,
    "start_time": "2021-09-20T17:29:58.280Z"
   },
   {
    "duration": 11,
    "start_time": "2021-09-20T17:29:58.321Z"
   },
   {
    "duration": 12,
    "start_time": "2021-09-20T17:29:58.333Z"
   },
   {
    "duration": 14,
    "start_time": "2021-09-20T17:29:58.346Z"
   },
   {
    "duration": 627,
    "start_time": "2021-09-20T17:55:43.682Z"
   },
   {
    "duration": 99,
    "start_time": "2021-09-20T17:55:44.311Z"
   },
   {
    "duration": 9,
    "start_time": "2021-09-20T17:55:44.412Z"
   },
   {
    "duration": 8,
    "start_time": "2021-09-20T17:55:44.423Z"
   },
   {
    "duration": 7,
    "start_time": "2021-09-20T17:55:44.432Z"
   },
   {
    "duration": 8,
    "start_time": "2021-09-20T17:55:44.440Z"
   },
   {
    "duration": 7,
    "start_time": "2021-09-20T17:55:44.450Z"
   },
   {
    "duration": 42,
    "start_time": "2021-09-20T17:55:44.460Z"
   },
   {
    "duration": 9,
    "start_time": "2021-09-20T17:55:44.504Z"
   },
   {
    "duration": 5,
    "start_time": "2021-09-20T17:55:44.514Z"
   },
   {
    "duration": 8,
    "start_time": "2021-09-20T17:55:44.520Z"
   },
   {
    "duration": 5,
    "start_time": "2021-09-20T17:55:44.529Z"
   },
   {
    "duration": 67,
    "start_time": "2021-09-20T17:55:44.535Z"
   },
   {
    "duration": 6,
    "start_time": "2021-09-20T17:55:44.604Z"
   },
   {
    "duration": 13,
    "start_time": "2021-09-20T17:55:44.612Z"
   },
   {
    "duration": 8,
    "start_time": "2021-09-20T17:55:44.626Z"
   },
   {
    "duration": 12,
    "start_time": "2021-09-20T17:55:44.635Z"
   },
   {
    "duration": 8,
    "start_time": "2021-09-20T17:55:44.649Z"
   },
   {
    "duration": 7,
    "start_time": "2021-09-20T17:55:44.658Z"
   },
   {
    "duration": 35,
    "start_time": "2021-09-20T17:55:44.666Z"
   },
   {
    "duration": 6,
    "start_time": "2021-09-20T17:55:44.703Z"
   },
   {
    "duration": 7,
    "start_time": "2021-09-20T17:55:44.710Z"
   },
   {
    "duration": 6,
    "start_time": "2021-09-20T17:55:44.721Z"
   },
   {
    "duration": 12,
    "start_time": "2021-09-20T17:55:44.729Z"
   },
   {
    "duration": 9,
    "start_time": "2021-09-20T17:55:44.742Z"
   },
   {
    "duration": 6,
    "start_time": "2021-09-20T17:55:44.752Z"
   },
   {
    "duration": 13,
    "start_time": "2021-09-20T17:55:44.760Z"
   },
   {
    "duration": 12,
    "start_time": "2021-09-20T17:55:44.799Z"
   },
   {
    "duration": 6,
    "start_time": "2021-09-20T17:55:44.813Z"
   },
   {
    "duration": 14,
    "start_time": "2021-09-20T17:55:44.820Z"
   },
   {
    "duration": 37,
    "start_time": "2021-09-20T17:55:44.835Z"
   },
   {
    "duration": 28,
    "start_time": "2021-09-20T17:55:44.874Z"
   },
   {
    "duration": 7,
    "start_time": "2021-09-20T17:55:44.904Z"
   },
   {
    "duration": 38,
    "start_time": "2021-09-20T17:55:44.913Z"
   },
   {
    "duration": 3,
    "start_time": "2021-09-20T17:55:44.953Z"
   },
   {
    "duration": 9,
    "start_time": "2021-09-20T17:55:44.958Z"
   },
   {
    "duration": 32,
    "start_time": "2021-09-20T17:55:44.968Z"
   },
   {
    "duration": 4,
    "start_time": "2021-09-20T17:55:45.002Z"
   },
   {
    "duration": 18,
    "start_time": "2021-09-20T17:55:45.007Z"
   },
   {
    "duration": 5,
    "start_time": "2021-09-20T17:55:45.026Z"
   },
   {
    "duration": 16,
    "start_time": "2021-09-20T17:55:45.033Z"
   },
   {
    "duration": 12,
    "start_time": "2021-09-20T17:55:45.050Z"
   },
   {
    "duration": 13,
    "start_time": "2021-09-20T17:55:45.064Z"
   },
   {
    "duration": 7,
    "start_time": "2021-09-20T17:55:45.079Z"
   },
   {
    "duration": 29,
    "start_time": "2021-09-20T17:55:45.087Z"
   },
   {
    "duration": 19,
    "start_time": "2021-09-20T17:55:45.117Z"
   },
   {
    "duration": 14,
    "start_time": "2021-09-20T17:55:45.137Z"
   },
   {
    "duration": 10,
    "start_time": "2021-09-20T17:55:45.153Z"
   },
   {
    "duration": 5,
    "start_time": "2021-09-20T17:55:45.164Z"
   },
   {
    "duration": 35,
    "start_time": "2021-09-20T17:55:45.171Z"
   },
   {
    "duration": 8798,
    "start_time": "2021-09-20T17:55:45.207Z"
   },
   {
    "duration": 2750,
    "start_time": "2021-09-20T17:55:54.007Z"
   },
   {
    "duration": 8,
    "start_time": "2021-09-20T17:55:56.759Z"
   },
   {
    "duration": 33,
    "start_time": "2021-09-20T17:55:56.768Z"
   },
   {
    "duration": 11,
    "start_time": "2021-09-20T17:55:56.803Z"
   },
   {
    "duration": 12,
    "start_time": "2021-09-20T17:55:56.815Z"
   },
   {
    "duration": 11,
    "start_time": "2021-09-20T17:55:56.829Z"
   },
   {
    "duration": 20,
    "start_time": "2021-09-20T17:55:56.842Z"
   },
   {
    "duration": 11,
    "start_time": "2021-09-20T17:55:56.864Z"
   },
   {
    "duration": 17,
    "start_time": "2021-09-20T17:55:56.900Z"
   },
   {
    "duration": 11,
    "start_time": "2021-09-20T17:55:56.919Z"
   },
   {
    "duration": 11,
    "start_time": "2021-09-20T17:55:56.931Z"
   },
   {
    "duration": 11,
    "start_time": "2021-09-20T17:55:56.943Z"
   },
   {
    "duration": 23,
    "start_time": "2021-09-20T17:57:14.261Z"
   },
   {
    "duration": 18,
    "start_time": "2021-09-20T17:57:15.306Z"
   },
   {
    "duration": 550,
    "start_time": "2021-09-20T17:58:08.739Z"
   },
   {
    "duration": 96,
    "start_time": "2021-09-20T17:58:09.292Z"
   },
   {
    "duration": 10,
    "start_time": "2021-09-20T17:58:09.390Z"
   },
   {
    "duration": 6,
    "start_time": "2021-09-20T17:58:09.402Z"
   },
   {
    "duration": 4,
    "start_time": "2021-09-20T17:58:09.410Z"
   },
   {
    "duration": 6,
    "start_time": "2021-09-20T17:58:09.416Z"
   },
   {
    "duration": 6,
    "start_time": "2021-09-20T17:58:09.423Z"
   },
   {
    "duration": 5,
    "start_time": "2021-09-20T17:58:09.431Z"
   },
   {
    "duration": 8,
    "start_time": "2021-09-20T17:58:09.438Z"
   },
   {
    "duration": 4,
    "start_time": "2021-09-20T17:58:09.447Z"
   },
   {
    "duration": 373,
    "start_time": "2021-09-20T17:58:09.453Z"
   },
   {
    "duration": 3,
    "start_time": "2021-09-20T17:58:09.828Z"
   },
   {
    "duration": 275,
    "start_time": "2021-09-20T17:58:09.833Z"
   },
   {
    "duration": -180,
    "start_time": "2021-09-20T17:58:10.291Z"
   },
   {
    "duration": -187,
    "start_time": "2021-09-20T17:58:10.299Z"
   },
   {
    "duration": -195,
    "start_time": "2021-09-20T17:58:10.308Z"
   },
   {
    "duration": -201,
    "start_time": "2021-09-20T17:58:10.315Z"
   },
   {
    "duration": -208,
    "start_time": "2021-09-20T17:58:10.323Z"
   },
   {
    "duration": -216,
    "start_time": "2021-09-20T17:58:10.331Z"
   },
   {
    "duration": -223,
    "start_time": "2021-09-20T17:58:10.340Z"
   },
   {
    "duration": -230,
    "start_time": "2021-09-20T17:58:10.348Z"
   },
   {
    "duration": -235,
    "start_time": "2021-09-20T17:58:10.354Z"
   },
   {
    "duration": -297,
    "start_time": "2021-09-20T17:58:10.416Z"
   },
   {
    "duration": -312,
    "start_time": "2021-09-20T17:58:10.432Z"
   },
   {
    "duration": -324,
    "start_time": "2021-09-20T17:58:10.445Z"
   },
   {
    "duration": -333,
    "start_time": "2021-09-20T17:58:10.455Z"
   },
   {
    "duration": -340,
    "start_time": "2021-09-20T17:58:10.463Z"
   },
   {
    "duration": -349,
    "start_time": "2021-09-20T17:58:10.473Z"
   },
   {
    "duration": -356,
    "start_time": "2021-09-20T17:58:10.481Z"
   },
   {
    "duration": -365,
    "start_time": "2021-09-20T17:58:10.490Z"
   },
   {
    "duration": -372,
    "start_time": "2021-09-20T17:58:10.498Z"
   },
   {
    "duration": -380,
    "start_time": "2021-09-20T17:58:10.507Z"
   },
   {
    "duration": -401,
    "start_time": "2021-09-20T17:58:10.529Z"
   },
   {
    "duration": -408,
    "start_time": "2021-09-20T17:58:10.537Z"
   },
   {
    "duration": -419,
    "start_time": "2021-09-20T17:58:10.549Z"
   },
   {
    "duration": -431,
    "start_time": "2021-09-20T17:58:10.562Z"
   },
   {
    "duration": -443,
    "start_time": "2021-09-20T17:58:10.574Z"
   },
   {
    "duration": -451,
    "start_time": "2021-09-20T17:58:10.583Z"
   },
   {
    "duration": -460,
    "start_time": "2021-09-20T17:58:10.593Z"
   },
   {
    "duration": -467,
    "start_time": "2021-09-20T17:58:10.601Z"
   },
   {
    "duration": -475,
    "start_time": "2021-09-20T17:58:10.610Z"
   },
   {
    "duration": -485,
    "start_time": "2021-09-20T17:58:10.621Z"
   },
   {
    "duration": -505,
    "start_time": "2021-09-20T17:58:10.641Z"
   },
   {
    "duration": -516,
    "start_time": "2021-09-20T17:58:10.653Z"
   },
   {
    "duration": -525,
    "start_time": "2021-09-20T17:58:10.663Z"
   },
   {
    "duration": -534,
    "start_time": "2021-09-20T17:58:10.673Z"
   },
   {
    "duration": -542,
    "start_time": "2021-09-20T17:58:10.682Z"
   },
   {
    "duration": -552,
    "start_time": "2021-09-20T17:58:10.693Z"
   },
   {
    "duration": -557,
    "start_time": "2021-09-20T17:58:10.699Z"
   },
   {
    "duration": -564,
    "start_time": "2021-09-20T17:58:10.707Z"
   },
   {
    "duration": -572,
    "start_time": "2021-09-20T17:58:10.715Z"
   },
   {
    "duration": -579,
    "start_time": "2021-09-20T17:58:10.723Z"
   },
   {
    "duration": -585,
    "start_time": "2021-09-20T17:58:10.730Z"
   },
   {
    "duration": -600,
    "start_time": "2021-09-20T17:58:10.746Z"
   },
   {
    "duration": -606,
    "start_time": "2021-09-20T17:58:10.753Z"
   },
   {
    "duration": -562,
    "start_time": "2021-09-20T17:58:10.760Z"
   },
   {
    "duration": -567,
    "start_time": "2021-09-20T17:58:10.767Z"
   },
   {
    "duration": -573,
    "start_time": "2021-09-20T17:58:10.774Z"
   },
   {
    "duration": -577,
    "start_time": "2021-09-20T17:58:10.779Z"
   },
   {
    "duration": -584,
    "start_time": "2021-09-20T17:58:10.787Z"
   },
   {
    "duration": -590,
    "start_time": "2021-09-20T17:58:10.794Z"
   },
   {
    "duration": -597,
    "start_time": "2021-09-20T17:58:10.802Z"
   },
   {
    "duration": -602,
    "start_time": "2021-09-20T17:58:10.808Z"
   },
   {
    "duration": 181,
    "start_time": "2021-09-20T17:59:33.332Z"
   },
   {
    "duration": 234,
    "start_time": "2021-09-20T18:00:28.245Z"
   },
   {
    "duration": 542,
    "start_time": "2021-09-20T18:00:37.629Z"
   },
   {
    "duration": 98,
    "start_time": "2021-09-20T18:00:38.173Z"
   },
   {
    "duration": 9,
    "start_time": "2021-09-20T18:00:38.273Z"
   },
   {
    "duration": 20,
    "start_time": "2021-09-20T18:00:38.284Z"
   },
   {
    "duration": 18,
    "start_time": "2021-09-20T18:00:38.305Z"
   },
   {
    "duration": 18,
    "start_time": "2021-09-20T18:00:38.324Z"
   },
   {
    "duration": 10,
    "start_time": "2021-09-20T18:00:38.344Z"
   },
   {
    "duration": 15,
    "start_time": "2021-09-20T18:00:38.357Z"
   },
   {
    "duration": 12,
    "start_time": "2021-09-20T18:00:38.374Z"
   },
   {
    "duration": 13,
    "start_time": "2021-09-20T18:00:38.388Z"
   },
   {
    "duration": 45,
    "start_time": "2021-09-20T18:00:38.403Z"
   },
   {
    "duration": 5,
    "start_time": "2021-09-20T18:00:38.450Z"
   },
   {
    "duration": 45,
    "start_time": "2021-09-20T18:00:38.456Z"
   },
   {
    "duration": 6,
    "start_time": "2021-09-20T18:00:38.503Z"
   },
   {
    "duration": 12,
    "start_time": "2021-09-20T18:00:38.510Z"
   },
   {
    "duration": 7,
    "start_time": "2021-09-20T18:00:38.523Z"
   },
   {
    "duration": 16,
    "start_time": "2021-09-20T18:00:38.532Z"
   },
   {
    "duration": 6,
    "start_time": "2021-09-20T18:00:38.549Z"
   },
   {
    "duration": 6,
    "start_time": "2021-09-20T18:00:38.557Z"
   },
   {
    "duration": 6,
    "start_time": "2021-09-20T18:00:38.565Z"
   },
   {
    "duration": 29,
    "start_time": "2021-09-20T18:00:38.572Z"
   },
   {
    "duration": 5,
    "start_time": "2021-09-20T18:00:38.603Z"
   },
   {
    "duration": 8,
    "start_time": "2021-09-20T18:00:38.611Z"
   },
   {
    "duration": 11,
    "start_time": "2021-09-20T18:00:38.621Z"
   },
   {
    "duration": 12,
    "start_time": "2021-09-20T18:00:38.633Z"
   },
   {
    "duration": 7,
    "start_time": "2021-09-20T18:00:38.646Z"
   },
   {
    "duration": 11,
    "start_time": "2021-09-20T18:00:38.655Z"
   },
   {
    "duration": 39,
    "start_time": "2021-09-20T18:00:38.667Z"
   },
   {
    "duration": 6,
    "start_time": "2021-09-20T18:00:38.708Z"
   },
   {
    "duration": 16,
    "start_time": "2021-09-20T18:00:38.715Z"
   },
   {
    "duration": 37,
    "start_time": "2021-09-20T18:00:38.732Z"
   },
   {
    "duration": 5,
    "start_time": "2021-09-20T18:00:38.771Z"
   },
   {
    "duration": 27,
    "start_time": "2021-09-20T18:00:38.778Z"
   },
   {
    "duration": 45,
    "start_time": "2021-09-20T18:00:38.807Z"
   },
   {
    "duration": 5,
    "start_time": "2021-09-20T18:00:38.853Z"
   },
   {
    "duration": 26,
    "start_time": "2021-09-20T18:00:38.859Z"
   },
   {
    "duration": 20,
    "start_time": "2021-09-20T18:00:38.886Z"
   },
   {
    "duration": 15,
    "start_time": "2021-09-20T18:00:38.908Z"
   },
   {
    "duration": 13,
    "start_time": "2021-09-20T18:00:38.925Z"
   },
   {
    "duration": 14,
    "start_time": "2021-09-20T18:00:38.940Z"
   },
   {
    "duration": 19,
    "start_time": "2021-09-20T18:00:38.956Z"
   },
   {
    "duration": 20,
    "start_time": "2021-09-20T18:00:38.977Z"
   },
   {
    "duration": 25,
    "start_time": "2021-09-20T18:00:38.999Z"
   },
   {
    "duration": 17,
    "start_time": "2021-09-20T18:00:39.026Z"
   },
   {
    "duration": 33,
    "start_time": "2021-09-20T18:00:39.044Z"
   },
   {
    "duration": 19,
    "start_time": "2021-09-20T18:00:39.079Z"
   },
   {
    "duration": 15,
    "start_time": "2021-09-20T18:00:39.099Z"
   },
   {
    "duration": 10,
    "start_time": "2021-09-20T18:00:39.116Z"
   },
   {
    "duration": 14,
    "start_time": "2021-09-20T18:00:39.127Z"
   },
   {
    "duration": 22,
    "start_time": "2021-09-20T18:00:39.142Z"
   },
   {
    "duration": 8915,
    "start_time": "2021-09-20T18:00:39.165Z"
   },
   {
    "duration": 2717,
    "start_time": "2021-09-20T18:00:48.082Z"
   },
   {
    "duration": 7,
    "start_time": "2021-09-20T18:00:50.801Z"
   },
   {
    "duration": 39,
    "start_time": "2021-09-20T18:00:50.809Z"
   },
   {
    "duration": 25,
    "start_time": "2021-09-20T18:00:50.849Z"
   },
   {
    "duration": 24,
    "start_time": "2021-09-20T18:00:50.876Z"
   },
   {
    "duration": 23,
    "start_time": "2021-09-20T18:00:50.901Z"
   },
   {
    "duration": 32,
    "start_time": "2021-09-20T18:00:50.926Z"
   },
   {
    "duration": 16,
    "start_time": "2021-09-20T18:00:50.959Z"
   },
   {
    "duration": 34,
    "start_time": "2021-09-20T18:00:50.976Z"
   },
   {
    "duration": 21,
    "start_time": "2021-09-20T18:00:51.012Z"
   },
   {
    "duration": 14,
    "start_time": "2021-09-20T18:00:51.035Z"
   },
   {
    "duration": 30,
    "start_time": "2021-09-20T18:00:51.051Z"
   },
   {
    "duration": 588,
    "start_time": "2021-09-20T18:03:15.094Z"
   },
   {
    "duration": 103,
    "start_time": "2021-09-20T18:03:15.683Z"
   },
   {
    "duration": 18,
    "start_time": "2021-09-20T18:03:15.788Z"
   },
   {
    "duration": 14,
    "start_time": "2021-09-20T18:03:15.807Z"
   },
   {
    "duration": 28,
    "start_time": "2021-09-20T18:03:15.823Z"
   },
   {
    "duration": 21,
    "start_time": "2021-09-20T18:03:15.852Z"
   },
   {
    "duration": 34,
    "start_time": "2021-09-20T18:03:15.875Z"
   },
   {
    "duration": 23,
    "start_time": "2021-09-20T18:03:15.911Z"
   },
   {
    "duration": 22,
    "start_time": "2021-09-20T18:03:15.936Z"
   },
   {
    "duration": 13,
    "start_time": "2021-09-20T18:03:15.959Z"
   },
   {
    "duration": 4584,
    "start_time": "2021-09-20T18:03:15.974Z"
   },
   {
    "duration": -167,
    "start_time": "2021-09-20T18:03:20.729Z"
   },
   {
    "duration": -178,
    "start_time": "2021-09-20T18:03:20.742Z"
   },
   {
    "duration": -191,
    "start_time": "2021-09-20T18:03:20.756Z"
   },
   {
    "duration": -206,
    "start_time": "2021-09-20T18:03:20.772Z"
   },
   {
    "duration": -219,
    "start_time": "2021-09-20T18:03:20.787Z"
   },
   {
    "duration": -234,
    "start_time": "2021-09-20T18:03:20.803Z"
   },
   {
    "duration": -241,
    "start_time": "2021-09-20T18:03:20.812Z"
   },
   {
    "duration": -274,
    "start_time": "2021-09-20T18:03:20.846Z"
   },
   {
    "duration": -283,
    "start_time": "2021-09-20T18:03:20.857Z"
   },
   {
    "duration": -290,
    "start_time": "2021-09-20T18:03:20.865Z"
   },
   {
    "duration": -298,
    "start_time": "2021-09-20T18:03:20.875Z"
   },
   {
    "duration": -305,
    "start_time": "2021-09-20T18:03:20.883Z"
   },
   {
    "duration": -315,
    "start_time": "2021-09-20T18:03:20.894Z"
   },
   {
    "duration": -327,
    "start_time": "2021-09-20T18:03:20.908Z"
   },
   {
    "duration": -333,
    "start_time": "2021-09-20T18:03:20.915Z"
   },
   {
    "duration": -341,
    "start_time": "2021-09-20T18:03:20.924Z"
   },
   {
    "duration": -345,
    "start_time": "2021-09-20T18:03:20.930Z"
   },
   {
    "duration": -376,
    "start_time": "2021-09-20T18:03:20.962Z"
   },
   {
    "duration": -380,
    "start_time": "2021-09-20T18:03:20.968Z"
   },
   {
    "duration": -398,
    "start_time": "2021-09-20T18:03:20.987Z"
   },
   {
    "duration": -402,
    "start_time": "2021-09-20T18:03:20.993Z"
   },
   {
    "duration": -407,
    "start_time": "2021-09-20T18:03:20.999Z"
   },
   {
    "duration": -412,
    "start_time": "2021-09-20T18:03:21.005Z"
   },
   {
    "duration": -418,
    "start_time": "2021-09-20T18:03:21.012Z"
   },
   {
    "duration": -423,
    "start_time": "2021-09-20T18:03:21.018Z"
   },
   {
    "duration": -430,
    "start_time": "2021-09-20T18:03:21.026Z"
   },
   {
    "duration": -436,
    "start_time": "2021-09-20T18:03:21.032Z"
   },
   {
    "duration": -442,
    "start_time": "2021-09-20T18:03:21.039Z"
   },
   {
    "duration": -448,
    "start_time": "2021-09-20T18:03:21.046Z"
   },
   {
    "duration": -453,
    "start_time": "2021-09-20T18:03:21.052Z"
   },
   {
    "duration": -480,
    "start_time": "2021-09-20T18:03:21.080Z"
   },
   {
    "duration": -486,
    "start_time": "2021-09-20T18:03:21.087Z"
   },
   {
    "duration": -491,
    "start_time": "2021-09-20T18:03:21.093Z"
   },
   {
    "duration": -499,
    "start_time": "2021-09-20T18:03:21.101Z"
   },
   {
    "duration": -505,
    "start_time": "2021-09-20T18:03:21.108Z"
   },
   {
    "duration": -512,
    "start_time": "2021-09-20T18:03:21.116Z"
   },
   {
    "duration": -517,
    "start_time": "2021-09-20T18:03:21.122Z"
   },
   {
    "duration": -522,
    "start_time": "2021-09-20T18:03:21.128Z"
   },
   {
    "duration": -527,
    "start_time": "2021-09-20T18:03:21.134Z"
   },
   {
    "duration": -532,
    "start_time": "2021-09-20T18:03:21.140Z"
   },
   {
    "duration": -537,
    "start_time": "2021-09-20T18:03:21.146Z"
   },
   {
    "duration": -544,
    "start_time": "2021-09-20T18:03:21.154Z"
   },
   {
    "duration": -549,
    "start_time": "2021-09-20T18:03:21.159Z"
   },
   {
    "duration": -555,
    "start_time": "2021-09-20T18:03:21.166Z"
   },
   {
    "duration": -559,
    "start_time": "2021-09-20T18:03:21.171Z"
   },
   {
    "duration": -581,
    "start_time": "2021-09-20T18:03:21.194Z"
   },
   {
    "duration": -587,
    "start_time": "2021-09-20T18:03:21.201Z"
   },
   {
    "duration": -592,
    "start_time": "2021-09-20T18:03:21.207Z"
   },
   {
    "duration": -602,
    "start_time": "2021-09-20T18:03:21.218Z"
   },
   {
    "duration": -609,
    "start_time": "2021-09-20T18:03:21.225Z"
   },
   {
    "duration": -616,
    "start_time": "2021-09-20T18:03:21.233Z"
   },
   {
    "duration": 4499,
    "start_time": "2021-09-20T18:03:32.595Z"
   },
   {
    "duration": 38,
    "start_time": "2021-09-20T18:04:04.602Z"
   },
   {
    "duration": 542,
    "start_time": "2021-09-20T18:04:13.253Z"
   },
   {
    "duration": 102,
    "start_time": "2021-09-20T18:04:13.797Z"
   },
   {
    "duration": 9,
    "start_time": "2021-09-20T18:04:13.901Z"
   },
   {
    "duration": 22,
    "start_time": "2021-09-20T18:04:13.911Z"
   },
   {
    "duration": 20,
    "start_time": "2021-09-20T18:04:13.934Z"
   },
   {
    "duration": 12,
    "start_time": "2021-09-20T18:04:13.955Z"
   },
   {
    "duration": 23,
    "start_time": "2021-09-20T18:04:13.968Z"
   },
   {
    "duration": 23,
    "start_time": "2021-09-20T18:04:13.993Z"
   },
   {
    "duration": 21,
    "start_time": "2021-09-20T18:04:14.018Z"
   },
   {
    "duration": 24,
    "start_time": "2021-09-20T18:04:14.040Z"
   },
   {
    "duration": 47,
    "start_time": "2021-09-20T18:04:14.065Z"
   },
   {
    "duration": 5,
    "start_time": "2021-09-20T18:04:14.113Z"
   },
   {
    "duration": 14,
    "start_time": "2021-09-20T18:04:14.120Z"
   },
   {
    "duration": 36,
    "start_time": "2021-09-20T18:04:14.135Z"
   },
   {
    "duration": 21,
    "start_time": "2021-09-20T18:04:14.172Z"
   },
   {
    "duration": 20,
    "start_time": "2021-09-20T18:04:14.194Z"
   },
   {
    "duration": 32,
    "start_time": "2021-09-20T18:04:14.215Z"
   },
   {
    "duration": 17,
    "start_time": "2021-09-20T18:04:14.249Z"
   },
   {
    "duration": 23,
    "start_time": "2021-09-20T18:04:14.267Z"
   },
   {
    "duration": 8,
    "start_time": "2021-09-20T18:04:14.292Z"
   },
   {
    "duration": 19,
    "start_time": "2021-09-20T18:04:14.302Z"
   },
   {
    "duration": 26,
    "start_time": "2021-09-20T18:04:14.322Z"
   },
   {
    "duration": 17,
    "start_time": "2021-09-20T18:04:14.352Z"
   },
   {
    "duration": 18,
    "start_time": "2021-09-20T18:04:14.371Z"
   },
   {
    "duration": 15,
    "start_time": "2021-09-20T18:04:14.390Z"
   },
   {
    "duration": 20,
    "start_time": "2021-09-20T18:04:14.406Z"
   },
   {
    "duration": 26,
    "start_time": "2021-09-20T18:04:14.428Z"
   },
   {
    "duration": 13,
    "start_time": "2021-09-20T18:04:14.455Z"
   },
   {
    "duration": 27,
    "start_time": "2021-09-20T18:04:14.469Z"
   },
   {
    "duration": 42,
    "start_time": "2021-09-20T18:04:14.498Z"
   },
   {
    "duration": 5,
    "start_time": "2021-09-20T18:04:14.542Z"
   },
   {
    "duration": 21,
    "start_time": "2021-09-20T18:04:14.548Z"
   },
   {
    "duration": 47,
    "start_time": "2021-09-20T18:04:14.570Z"
   },
   {
    "duration": 6,
    "start_time": "2021-09-20T18:04:14.618Z"
   },
   {
    "duration": 22,
    "start_time": "2021-09-20T18:04:14.626Z"
   },
   {
    "duration": 12,
    "start_time": "2021-09-20T18:04:14.650Z"
   },
   {
    "duration": 19,
    "start_time": "2021-09-20T18:04:14.664Z"
   },
   {
    "duration": 19,
    "start_time": "2021-09-20T18:04:14.685Z"
   },
   {
    "duration": 17,
    "start_time": "2021-09-20T18:04:14.706Z"
   },
   {
    "duration": 29,
    "start_time": "2021-09-20T18:04:14.725Z"
   },
   {
    "duration": 11,
    "start_time": "2021-09-20T18:04:14.755Z"
   },
   {
    "duration": 22,
    "start_time": "2021-09-20T18:04:14.768Z"
   },
   {
    "duration": 21,
    "start_time": "2021-09-20T18:04:14.792Z"
   },
   {
    "duration": 29,
    "start_time": "2021-09-20T18:04:14.814Z"
   },
   {
    "duration": 25,
    "start_time": "2021-09-20T18:04:14.845Z"
   },
   {
    "duration": 17,
    "start_time": "2021-09-20T18:04:14.872Z"
   },
   {
    "duration": 12,
    "start_time": "2021-09-20T18:04:14.891Z"
   },
   {
    "duration": 15,
    "start_time": "2021-09-20T18:04:14.905Z"
   },
   {
    "duration": 13,
    "start_time": "2021-09-20T18:04:14.922Z"
   },
   {
    "duration": 8972,
    "start_time": "2021-09-20T18:04:14.936Z"
   },
   {
    "duration": 2739,
    "start_time": "2021-09-20T18:04:23.910Z"
   },
   {
    "duration": 9,
    "start_time": "2021-09-20T18:04:26.651Z"
   },
   {
    "duration": 38,
    "start_time": "2021-09-20T18:04:26.662Z"
   },
   {
    "duration": 11,
    "start_time": "2021-09-20T18:04:26.702Z"
   },
   {
    "duration": 14,
    "start_time": "2021-09-20T18:04:26.715Z"
   },
   {
    "duration": 13,
    "start_time": "2021-09-20T18:04:26.731Z"
   },
   {
    "duration": 19,
    "start_time": "2021-09-20T18:04:26.746Z"
   },
   {
    "duration": 40,
    "start_time": "2021-09-20T18:04:26.766Z"
   },
   {
    "duration": 20,
    "start_time": "2021-09-20T18:04:26.808Z"
   },
   {
    "duration": 13,
    "start_time": "2021-09-20T18:04:26.829Z"
   },
   {
    "duration": 12,
    "start_time": "2021-09-20T18:04:26.843Z"
   },
   {
    "duration": 43,
    "start_time": "2021-09-20T18:04:26.856Z"
   },
   {
    "duration": 16,
    "start_time": "2021-09-20T18:04:32.155Z"
   },
   {
    "duration": 5,
    "start_time": "2021-09-20T18:04:33.355Z"
   },
   {
    "duration": 572,
    "start_time": "2021-09-20T18:13:12.101Z"
   },
   {
    "duration": 124,
    "start_time": "2021-09-20T18:13:12.676Z"
   },
   {
    "duration": 9,
    "start_time": "2021-09-20T18:13:12.802Z"
   },
   {
    "duration": 11,
    "start_time": "2021-09-20T18:13:12.813Z"
   },
   {
    "duration": 7,
    "start_time": "2021-09-20T18:13:12.826Z"
   },
   {
    "duration": 10,
    "start_time": "2021-09-20T18:13:12.835Z"
   },
   {
    "duration": 7,
    "start_time": "2021-09-20T18:13:12.846Z"
   },
   {
    "duration": 45,
    "start_time": "2021-09-20T18:13:12.856Z"
   },
   {
    "duration": 9,
    "start_time": "2021-09-20T18:13:12.903Z"
   },
   {
    "duration": 4,
    "start_time": "2021-09-20T18:13:12.914Z"
   },
   {
    "duration": 248,
    "start_time": "2021-09-20T18:13:12.920Z"
   },
   {
    "duration": -381,
    "start_time": "2021-09-20T18:13:13.552Z"
   },
   {
    "duration": -388,
    "start_time": "2021-09-20T18:13:13.560Z"
   },
   {
    "duration": -397,
    "start_time": "2021-09-20T18:13:13.570Z"
   },
   {
    "duration": -404,
    "start_time": "2021-09-20T18:13:13.578Z"
   },
   {
    "duration": -411,
    "start_time": "2021-09-20T18:13:13.586Z"
   },
   {
    "duration": -423,
    "start_time": "2021-09-20T18:13:13.599Z"
   },
   {
    "duration": -435,
    "start_time": "2021-09-20T18:13:13.612Z"
   },
   {
    "duration": -876,
    "start_time": "2021-09-20T18:13:14.054Z"
   },
   {
    "duration": -884,
    "start_time": "2021-09-20T18:13:14.063Z"
   },
   {
    "duration": -892,
    "start_time": "2021-09-20T18:13:14.072Z"
   },
   {
    "duration": -899,
    "start_time": "2021-09-20T18:13:14.081Z"
   },
   {
    "duration": -919,
    "start_time": "2021-09-20T18:13:14.101Z"
   },
   {
    "duration": -925,
    "start_time": "2021-09-20T18:13:14.108Z"
   },
   {
    "duration": -933,
    "start_time": "2021-09-20T18:13:14.117Z"
   },
   {
    "duration": -939,
    "start_time": "2021-09-20T18:13:14.124Z"
   },
   {
    "duration": -947,
    "start_time": "2021-09-20T18:13:14.133Z"
   },
   {
    "duration": -953,
    "start_time": "2021-09-20T18:13:14.140Z"
   },
   {
    "duration": -960,
    "start_time": "2021-09-20T18:13:14.148Z"
   },
   {
    "duration": -966,
    "start_time": "2021-09-20T18:13:14.155Z"
   },
   {
    "duration": -972,
    "start_time": "2021-09-20T18:13:14.162Z"
   },
   {
    "duration": -978,
    "start_time": "2021-09-20T18:13:14.169Z"
   },
   {
    "duration": -983,
    "start_time": "2021-09-20T18:13:14.175Z"
   },
   {
    "duration": -990,
    "start_time": "2021-09-20T18:13:14.183Z"
   },
   {
    "duration": -997,
    "start_time": "2021-09-20T18:13:14.191Z"
   },
   {
    "duration": -1013,
    "start_time": "2021-09-20T18:13:14.208Z"
   },
   {
    "duration": -1020,
    "start_time": "2021-09-20T18:13:14.216Z"
   },
   {
    "duration": -1027,
    "start_time": "2021-09-20T18:13:14.224Z"
   },
   {
    "duration": -1034,
    "start_time": "2021-09-20T18:13:14.232Z"
   },
   {
    "duration": -1041,
    "start_time": "2021-09-20T18:13:14.240Z"
   },
   {
    "duration": -1048,
    "start_time": "2021-09-20T18:13:14.248Z"
   },
   {
    "duration": -1055,
    "start_time": "2021-09-20T18:13:14.256Z"
   },
   {
    "duration": -1062,
    "start_time": "2021-09-20T18:13:14.264Z"
   },
   {
    "duration": -1068,
    "start_time": "2021-09-20T18:13:14.271Z"
   },
   {
    "duration": -1075,
    "start_time": "2021-09-20T18:13:14.279Z"
   },
   {
    "duration": -1080,
    "start_time": "2021-09-20T18:13:14.285Z"
   },
   {
    "duration": -1086,
    "start_time": "2021-09-20T18:13:14.292Z"
   },
   {
    "duration": -1092,
    "start_time": "2021-09-20T18:13:14.299Z"
   },
   {
    "duration": -1108,
    "start_time": "2021-09-20T18:13:14.316Z"
   },
   {
    "duration": -1115,
    "start_time": "2021-09-20T18:13:14.324Z"
   },
   {
    "duration": -1120,
    "start_time": "2021-09-20T18:13:14.330Z"
   },
   {
    "duration": -1126,
    "start_time": "2021-09-20T18:13:14.337Z"
   },
   {
    "duration": -1132,
    "start_time": "2021-09-20T18:13:14.344Z"
   },
   {
    "duration": -1137,
    "start_time": "2021-09-20T18:13:14.350Z"
   },
   {
    "duration": -1144,
    "start_time": "2021-09-20T18:13:14.357Z"
   },
   {
    "duration": -1150,
    "start_time": "2021-09-20T18:13:14.364Z"
   },
   {
    "duration": -1155,
    "start_time": "2021-09-20T18:13:14.370Z"
   },
   {
    "duration": -1161,
    "start_time": "2021-09-20T18:13:14.377Z"
   },
   {
    "duration": -1167,
    "start_time": "2021-09-20T18:13:14.384Z"
   },
   {
    "duration": -1172,
    "start_time": "2021-09-20T18:13:14.390Z"
   },
   {
    "duration": -1178,
    "start_time": "2021-09-20T18:13:14.397Z"
   },
   {
    "duration": -1184,
    "start_time": "2021-09-20T18:13:14.404Z"
   },
   {
    "duration": -1190,
    "start_time": "2021-09-20T18:13:14.411Z"
   },
   {
    "duration": 7,
    "start_time": "2021-09-20T18:13:44.080Z"
   },
   {
    "duration": 6,
    "start_time": "2021-09-20T18:14:08.189Z"
   },
   {
    "duration": 8,
    "start_time": "2021-09-20T18:14:27.155Z"
   },
   {
    "duration": 558,
    "start_time": "2021-09-20T18:16:48.322Z"
   },
   {
    "duration": 97,
    "start_time": "2021-09-20T18:16:48.882Z"
   },
   {
    "duration": 18,
    "start_time": "2021-09-20T18:16:48.981Z"
   },
   {
    "duration": 6,
    "start_time": "2021-09-20T18:16:49.001Z"
   },
   {
    "duration": 7,
    "start_time": "2021-09-20T18:16:49.008Z"
   },
   {
    "duration": 8,
    "start_time": "2021-09-20T18:16:49.016Z"
   },
   {
    "duration": 5,
    "start_time": "2021-09-20T18:16:49.026Z"
   },
   {
    "duration": 7,
    "start_time": "2021-09-20T18:16:49.033Z"
   },
   {
    "duration": 9,
    "start_time": "2021-09-20T18:16:49.041Z"
   },
   {
    "duration": 4,
    "start_time": "2021-09-20T18:16:49.051Z"
   },
   {
    "duration": 47,
    "start_time": "2021-09-20T18:16:49.057Z"
   },
   {
    "duration": 260,
    "start_time": "2021-09-20T18:16:49.105Z"
   },
   {
    "duration": -508,
    "start_time": "2021-09-20T18:16:49.877Z"
   },
   {
    "duration": -517,
    "start_time": "2021-09-20T18:16:49.887Z"
   },
   {
    "duration": -525,
    "start_time": "2021-09-20T18:16:49.895Z"
   },
   {
    "duration": -533,
    "start_time": "2021-09-20T18:16:49.904Z"
   },
   {
    "duration": -540,
    "start_time": "2021-09-20T18:16:49.912Z"
   },
   {
    "duration": -548,
    "start_time": "2021-09-20T18:16:49.921Z"
   },
   {
    "duration": -554,
    "start_time": "2021-09-20T18:16:49.928Z"
   },
   {
    "duration": -562,
    "start_time": "2021-09-20T18:16:49.937Z"
   },
   {
    "duration": -568,
    "start_time": "2021-09-20T18:16:49.944Z"
   },
   {
    "duration": -574,
    "start_time": "2021-09-20T18:16:49.951Z"
   },
   {
    "duration": -581,
    "start_time": "2021-09-20T18:16:49.959Z"
   },
   {
    "duration": -591,
    "start_time": "2021-09-20T18:16:49.969Z"
   },
   {
    "duration": -610,
    "start_time": "2021-09-20T18:16:49.989Z"
   },
   {
    "duration": -617,
    "start_time": "2021-09-20T18:16:49.997Z"
   },
   {
    "duration": -626,
    "start_time": "2021-09-20T18:16:50.007Z"
   },
   {
    "duration": -634,
    "start_time": "2021-09-20T18:16:50.016Z"
   },
   {
    "duration": -642,
    "start_time": "2021-09-20T18:16:50.025Z"
   },
   {
    "duration": -649,
    "start_time": "2021-09-20T18:16:50.033Z"
   },
   {
    "duration": -658,
    "start_time": "2021-09-20T18:16:50.043Z"
   },
   {
    "duration": -663,
    "start_time": "2021-09-20T18:16:50.049Z"
   },
   {
    "duration": -670,
    "start_time": "2021-09-20T18:16:50.057Z"
   },
   {
    "duration": -677,
    "start_time": "2021-09-20T18:16:50.065Z"
   },
   {
    "duration": -686,
    "start_time": "2021-09-20T18:16:50.074Z"
   },
   {
    "duration": -694,
    "start_time": "2021-09-20T18:16:50.083Z"
   },
   {
    "duration": -716,
    "start_time": "2021-09-20T18:16:50.106Z"
   },
   {
    "duration": -725,
    "start_time": "2021-09-20T18:16:50.116Z"
   },
   {
    "duration": -732,
    "start_time": "2021-09-20T18:16:50.124Z"
   },
   {
    "duration": -742,
    "start_time": "2021-09-20T18:16:50.134Z"
   },
   {
    "duration": -749,
    "start_time": "2021-09-20T18:16:50.142Z"
   },
   {
    "duration": -758,
    "start_time": "2021-09-20T18:16:50.152Z"
   },
   {
    "duration": -764,
    "start_time": "2021-09-20T18:16:50.159Z"
   },
   {
    "duration": -772,
    "start_time": "2021-09-20T18:16:50.168Z"
   },
   {
    "duration": -779,
    "start_time": "2021-09-20T18:16:50.176Z"
   },
   {
    "duration": -786,
    "start_time": "2021-09-20T18:16:50.184Z"
   },
   {
    "duration": -792,
    "start_time": "2021-09-20T18:16:50.190Z"
   },
   {
    "duration": -800,
    "start_time": "2021-09-20T18:16:50.199Z"
   },
   {
    "duration": -819,
    "start_time": "2021-09-20T18:16:50.219Z"
   },
   {
    "duration": -825,
    "start_time": "2021-09-20T18:16:50.226Z"
   },
   {
    "duration": -833,
    "start_time": "2021-09-20T18:16:50.235Z"
   },
   {
    "duration": -839,
    "start_time": "2021-09-20T18:16:50.242Z"
   },
   {
    "duration": -843,
    "start_time": "2021-09-20T18:16:50.247Z"
   },
   {
    "duration": -851,
    "start_time": "2021-09-20T18:16:50.256Z"
   },
   {
    "duration": -856,
    "start_time": "2021-09-20T18:16:50.262Z"
   },
   {
    "duration": -862,
    "start_time": "2021-09-20T18:16:50.269Z"
   },
   {
    "duration": -867,
    "start_time": "2021-09-20T18:16:50.275Z"
   },
   {
    "duration": -873,
    "start_time": "2021-09-20T18:16:50.282Z"
   },
   {
    "duration": -879,
    "start_time": "2021-09-20T18:16:50.289Z"
   },
   {
    "duration": -885,
    "start_time": "2021-09-20T18:16:50.296Z"
   },
   {
    "duration": -891,
    "start_time": "2021-09-20T18:16:50.303Z"
   },
   {
    "duration": -896,
    "start_time": "2021-09-20T18:16:50.309Z"
   },
   {
    "duration": -911,
    "start_time": "2021-09-20T18:16:50.325Z"
   },
   {
    "duration": -918,
    "start_time": "2021-09-20T18:16:50.333Z"
   },
   {
    "duration": 29,
    "start_time": "2021-09-20T18:18:01.878Z"
   },
   {
    "duration": 515,
    "start_time": "2021-09-20T18:18:07.452Z"
   },
   {
    "duration": 97,
    "start_time": "2021-09-20T18:18:07.969Z"
   },
   {
    "duration": 9,
    "start_time": "2021-09-20T18:18:08.068Z"
   },
   {
    "duration": 22,
    "start_time": "2021-09-20T18:18:08.079Z"
   },
   {
    "duration": 5,
    "start_time": "2021-09-20T18:18:08.102Z"
   },
   {
    "duration": 8,
    "start_time": "2021-09-20T18:18:08.108Z"
   },
   {
    "duration": 6,
    "start_time": "2021-09-20T18:18:08.118Z"
   },
   {
    "duration": 6,
    "start_time": "2021-09-20T18:18:08.126Z"
   },
   {
    "duration": 9,
    "start_time": "2021-09-20T18:18:08.133Z"
   },
   {
    "duration": 4,
    "start_time": "2021-09-20T18:18:08.144Z"
   },
   {
    "duration": 8,
    "start_time": "2021-09-20T18:18:08.149Z"
   },
   {
    "duration": 61,
    "start_time": "2021-09-20T18:18:08.158Z"
   },
   {
    "duration": 2,
    "start_time": "2021-09-20T18:18:08.221Z"
   },
   {
    "duration": 9,
    "start_time": "2021-09-20T18:18:08.224Z"
   },
   {
    "duration": 6,
    "start_time": "2021-09-20T18:18:08.235Z"
   },
   {
    "duration": 11,
    "start_time": "2021-09-20T18:18:08.243Z"
   },
   {
    "duration": 8,
    "start_time": "2021-09-20T18:18:08.256Z"
   },
   {
    "duration": 37,
    "start_time": "2021-09-20T18:18:08.266Z"
   },
   {
    "duration": 6,
    "start_time": "2021-09-20T18:18:08.305Z"
   },
   {
    "duration": 6,
    "start_time": "2021-09-20T18:18:08.313Z"
   },
   {
    "duration": 7,
    "start_time": "2021-09-20T18:18:08.320Z"
   },
   {
    "duration": 8,
    "start_time": "2021-09-20T18:18:08.328Z"
   },
   {
    "duration": 4,
    "start_time": "2021-09-20T18:18:08.340Z"
   },
   {
    "duration": 8,
    "start_time": "2021-09-20T18:18:08.346Z"
   },
   {
    "duration": 45,
    "start_time": "2021-09-20T18:18:08.355Z"
   },
   {
    "duration": 8,
    "start_time": "2021-09-20T18:18:08.402Z"
   },
   {
    "duration": 4,
    "start_time": "2021-09-20T18:18:08.412Z"
   },
   {
    "duration": 8,
    "start_time": "2021-09-20T18:18:08.418Z"
   },
   {
    "duration": 14,
    "start_time": "2021-09-20T18:18:08.427Z"
   },
   {
    "duration": 7,
    "start_time": "2021-09-20T18:18:08.442Z"
   },
   {
    "duration": 10,
    "start_time": "2021-09-20T18:18:08.451Z"
   },
   {
    "duration": 67,
    "start_time": "2021-09-20T18:18:08.463Z"
   },
   {
    "duration": 5,
    "start_time": "2021-09-20T18:18:08.532Z"
   },
   {
    "duration": 10,
    "start_time": "2021-09-20T18:18:08.538Z"
   },
   {
    "duration": 49,
    "start_time": "2021-09-20T18:18:08.550Z"
   },
   {
    "duration": 5,
    "start_time": "2021-09-20T18:18:08.601Z"
   },
   {
    "duration": 12,
    "start_time": "2021-09-20T18:18:08.608Z"
   },
   {
    "duration": 10,
    "start_time": "2021-09-20T18:18:08.621Z"
   },
   {
    "duration": 2,
    "start_time": "2021-09-20T18:18:08.633Z"
   },
   {
    "duration": 6,
    "start_time": "2021-09-20T18:18:08.637Z"
   },
   {
    "duration": 6,
    "start_time": "2021-09-20T18:18:08.644Z"
   },
   {
    "duration": 13,
    "start_time": "2021-09-20T18:18:08.651Z"
   },
   {
    "duration": 40,
    "start_time": "2021-09-20T18:18:08.666Z"
   },
   {
    "duration": 15,
    "start_time": "2021-09-20T18:18:08.708Z"
   },
   {
    "duration": 11,
    "start_time": "2021-09-20T18:18:08.725Z"
   },
   {
    "duration": 20,
    "start_time": "2021-09-20T18:18:08.738Z"
   },
   {
    "duration": 18,
    "start_time": "2021-09-20T18:18:08.759Z"
   },
   {
    "duration": 29,
    "start_time": "2021-09-20T18:18:08.779Z"
   },
   {
    "duration": 10,
    "start_time": "2021-09-20T18:18:08.809Z"
   },
   {
    "duration": 4,
    "start_time": "2021-09-20T18:18:08.820Z"
   },
   {
    "duration": 7,
    "start_time": "2021-09-20T18:18:08.826Z"
   },
   {
    "duration": 8781,
    "start_time": "2021-09-20T18:18:08.834Z"
   },
   {
    "duration": 2816,
    "start_time": "2021-09-20T18:18:17.617Z"
   },
   {
    "duration": 7,
    "start_time": "2021-09-20T18:18:20.435Z"
   },
   {
    "duration": 67,
    "start_time": "2021-09-20T18:18:20.443Z"
   },
   {
    "duration": 11,
    "start_time": "2021-09-20T18:18:20.512Z"
   },
   {
    "duration": 14,
    "start_time": "2021-09-20T18:18:20.524Z"
   },
   {
    "duration": 11,
    "start_time": "2021-09-20T18:18:20.539Z"
   },
   {
    "duration": 54,
    "start_time": "2021-09-20T18:18:20.551Z"
   },
   {
    "duration": 12,
    "start_time": "2021-09-20T18:18:20.606Z"
   },
   {
    "duration": 20,
    "start_time": "2021-09-20T18:18:20.620Z"
   },
   {
    "duration": 12,
    "start_time": "2021-09-20T18:18:20.642Z"
   },
   {
    "duration": 12,
    "start_time": "2021-09-20T18:18:20.655Z"
   },
   {
    "duration": 12,
    "start_time": "2021-09-20T18:18:20.700Z"
   },
   {
    "duration": 555,
    "start_time": "2021-09-21T07:49:32.208Z"
   },
   {
    "duration": 94,
    "start_time": "2021-09-21T07:49:32.765Z"
   },
   {
    "duration": 9,
    "start_time": "2021-09-21T07:49:32.861Z"
   },
   {
    "duration": 27,
    "start_time": "2021-09-21T07:49:32.872Z"
   },
   {
    "duration": 4,
    "start_time": "2021-09-21T07:49:32.901Z"
   },
   {
    "duration": 20,
    "start_time": "2021-09-21T07:49:32.907Z"
   },
   {
    "duration": 6,
    "start_time": "2021-09-21T07:49:32.928Z"
   },
   {
    "duration": 5,
    "start_time": "2021-09-21T07:49:32.936Z"
   },
   {
    "duration": 8,
    "start_time": "2021-09-21T07:49:32.943Z"
   },
   {
    "duration": 4,
    "start_time": "2021-09-21T07:49:32.952Z"
   },
   {
    "duration": 8,
    "start_time": "2021-09-21T07:49:32.957Z"
   },
   {
    "duration": 233,
    "start_time": "2021-09-21T07:49:32.966Z"
   },
   {
    "duration": -328,
    "start_time": "2021-09-21T07:49:33.530Z"
   },
   {
    "duration": -337,
    "start_time": "2021-09-21T07:49:33.540Z"
   },
   {
    "duration": -344,
    "start_time": "2021-09-21T07:49:33.548Z"
   },
   {
    "duration": -349,
    "start_time": "2021-09-21T07:49:33.554Z"
   },
   {
    "duration": -355,
    "start_time": "2021-09-21T07:49:33.561Z"
   },
   {
    "duration": -361,
    "start_time": "2021-09-21T07:49:33.568Z"
   },
   {
    "duration": -367,
    "start_time": "2021-09-21T07:49:33.575Z"
   },
   {
    "duration": -372,
    "start_time": "2021-09-21T07:49:33.581Z"
   },
   {
    "duration": -378,
    "start_time": "2021-09-21T07:49:33.588Z"
   },
   {
    "duration": -383,
    "start_time": "2021-09-21T07:49:33.594Z"
   },
   {
    "duration": -389,
    "start_time": "2021-09-21T07:49:33.601Z"
   },
   {
    "duration": -395,
    "start_time": "2021-09-21T07:49:33.608Z"
   },
   {
    "duration": -402,
    "start_time": "2021-09-21T07:49:33.616Z"
   },
   {
    "duration": -409,
    "start_time": "2021-09-21T07:49:33.624Z"
   },
   {
    "duration": -415,
    "start_time": "2021-09-21T07:49:33.631Z"
   },
   {
    "duration": -422,
    "start_time": "2021-09-21T07:49:33.639Z"
   },
   {
    "duration": -428,
    "start_time": "2021-09-21T07:49:33.646Z"
   },
   {
    "duration": -433,
    "start_time": "2021-09-21T07:49:33.652Z"
   },
   {
    "duration": -439,
    "start_time": "2021-09-21T07:49:33.659Z"
   },
   {
    "duration": -446,
    "start_time": "2021-09-21T07:49:33.667Z"
   },
   {
    "duration": -452,
    "start_time": "2021-09-21T07:49:33.674Z"
   },
   {
    "duration": -458,
    "start_time": "2021-09-21T07:49:33.681Z"
   },
   {
    "duration": -465,
    "start_time": "2021-09-21T07:49:33.688Z"
   },
   {
    "duration": -470,
    "start_time": "2021-09-21T07:49:33.694Z"
   },
   {
    "duration": -477,
    "start_time": "2021-09-21T07:49:33.702Z"
   },
   {
    "duration": -483,
    "start_time": "2021-09-21T07:49:33.709Z"
   },
   {
    "duration": -489,
    "start_time": "2021-09-21T07:49:33.716Z"
   },
   {
    "duration": -494,
    "start_time": "2021-09-21T07:49:33.722Z"
   },
   {
    "duration": -500,
    "start_time": "2021-09-21T07:49:33.729Z"
   },
   {
    "duration": -505,
    "start_time": "2021-09-21T07:49:33.735Z"
   },
   {
    "duration": -511,
    "start_time": "2021-09-21T07:49:33.742Z"
   },
   {
    "duration": -516,
    "start_time": "2021-09-21T07:49:33.748Z"
   },
   {
    "duration": -522,
    "start_time": "2021-09-21T07:49:33.755Z"
   },
   {
    "duration": -527,
    "start_time": "2021-09-21T07:49:33.761Z"
   },
   {
    "duration": -533,
    "start_time": "2021-09-21T07:49:33.768Z"
   },
   {
    "duration": -538,
    "start_time": "2021-09-21T07:49:33.774Z"
   },
   {
    "duration": -545,
    "start_time": "2021-09-21T07:49:33.783Z"
   },
   {
    "duration": -550,
    "start_time": "2021-09-21T07:49:33.789Z"
   },
   {
    "duration": -497,
    "start_time": "2021-09-21T07:49:33.796Z"
   },
   {
    "duration": -503,
    "start_time": "2021-09-21T07:49:33.804Z"
   },
   {
    "duration": -508,
    "start_time": "2021-09-21T07:49:33.810Z"
   },
   {
    "duration": -513,
    "start_time": "2021-09-21T07:49:33.816Z"
   },
   {
    "duration": -519,
    "start_time": "2021-09-21T07:49:33.823Z"
   },
   {
    "duration": -524,
    "start_time": "2021-09-21T07:49:33.829Z"
   },
   {
    "duration": -530,
    "start_time": "2021-09-21T07:49:33.836Z"
   },
   {
    "duration": -535,
    "start_time": "2021-09-21T07:49:33.842Z"
   },
   {
    "duration": -541,
    "start_time": "2021-09-21T07:49:33.849Z"
   },
   {
    "duration": -547,
    "start_time": "2021-09-21T07:49:33.856Z"
   },
   {
    "duration": -552,
    "start_time": "2021-09-21T07:49:33.862Z"
   },
   {
    "duration": -558,
    "start_time": "2021-09-21T07:49:33.869Z"
   },
   {
    "duration": -563,
    "start_time": "2021-09-21T07:49:33.875Z"
   },
   {
    "duration": -571,
    "start_time": "2021-09-21T07:49:33.883Z"
   },
   {
    "duration": -576,
    "start_time": "2021-09-21T07:49:33.890Z"
   },
   {
    "duration": 7,
    "start_time": "2021-09-21T07:51:13.303Z"
   },
   {
    "duration": 7,
    "start_time": "2021-09-21T07:51:25.851Z"
   },
   {
    "duration": 565,
    "start_time": "2021-09-21T07:56:50.588Z"
   },
   {
    "duration": 93,
    "start_time": "2021-09-21T07:56:51.155Z"
   },
   {
    "duration": 9,
    "start_time": "2021-09-21T07:56:51.250Z"
   },
   {
    "duration": 6,
    "start_time": "2021-09-21T07:56:51.261Z"
   },
   {
    "duration": 5,
    "start_time": "2021-09-21T07:56:51.268Z"
   },
   {
    "duration": 30,
    "start_time": "2021-09-21T07:56:51.274Z"
   },
   {
    "duration": 10,
    "start_time": "2021-09-21T07:56:51.305Z"
   },
   {
    "duration": 6,
    "start_time": "2021-09-21T07:56:51.317Z"
   },
   {
    "duration": 7,
    "start_time": "2021-09-21T07:56:51.325Z"
   },
   {
    "duration": 4,
    "start_time": "2021-09-21T07:56:51.334Z"
   },
   {
    "duration": 6,
    "start_time": "2021-09-21T07:56:51.339Z"
   },
   {
    "duration": 106,
    "start_time": "2021-09-21T07:56:51.346Z"
   },
   {
    "duration": 2,
    "start_time": "2021-09-21T07:56:51.453Z"
   },
   {
    "duration": 5,
    "start_time": "2021-09-21T07:56:51.457Z"
   },
   {
    "duration": 7,
    "start_time": "2021-09-21T07:56:51.463Z"
   },
   {
    "duration": 10,
    "start_time": "2021-09-21T07:56:51.471Z"
   },
   {
    "duration": 21,
    "start_time": "2021-09-21T07:56:51.482Z"
   },
   {
    "duration": 9,
    "start_time": "2021-09-21T07:56:51.504Z"
   },
   {
    "duration": 9,
    "start_time": "2021-09-21T07:56:51.514Z"
   },
   {
    "duration": 5,
    "start_time": "2021-09-21T07:56:51.524Z"
   },
   {
    "duration": 6,
    "start_time": "2021-09-21T07:56:51.530Z"
   },
   {
    "duration": 7,
    "start_time": "2021-09-21T07:56:51.537Z"
   },
   {
    "duration": 6,
    "start_time": "2021-09-21T07:56:51.547Z"
   },
   {
    "duration": 5,
    "start_time": "2021-09-21T07:56:51.555Z"
   },
   {
    "duration": 41,
    "start_time": "2021-09-21T07:56:51.562Z"
   },
   {
    "duration": 12,
    "start_time": "2021-09-21T07:56:51.605Z"
   },
   {
    "duration": 10,
    "start_time": "2021-09-21T07:56:51.619Z"
   },
   {
    "duration": 3,
    "start_time": "2021-09-21T07:56:51.631Z"
   },
   {
    "duration": 8,
    "start_time": "2021-09-21T07:56:51.636Z"
   },
   {
    "duration": 12,
    "start_time": "2021-09-21T07:56:51.646Z"
   },
   {
    "duration": 44,
    "start_time": "2021-09-21T07:56:51.660Z"
   },
   {
    "duration": 11,
    "start_time": "2021-09-21T07:56:51.705Z"
   },
   {
    "duration": 36,
    "start_time": "2021-09-21T07:56:51.717Z"
   },
   {
    "duration": 5,
    "start_time": "2021-09-21T07:56:51.754Z"
   },
   {
    "duration": 11,
    "start_time": "2021-09-21T07:56:51.760Z"
   },
   {
    "duration": 61,
    "start_time": "2021-09-21T07:56:51.772Z"
   },
   {
    "duration": 4,
    "start_time": "2021-09-21T07:56:51.835Z"
   },
   {
    "duration": 10,
    "start_time": "2021-09-21T07:56:51.840Z"
   },
   {
    "duration": 9,
    "start_time": "2021-09-21T07:56:51.852Z"
   },
   {
    "duration": 3,
    "start_time": "2021-09-21T07:56:51.862Z"
   },
   {
    "duration": 33,
    "start_time": "2021-09-21T07:56:51.866Z"
   },
   {
    "duration": 253,
    "start_time": "2021-09-21T07:56:51.901Z"
   },
   {
    "duration": -1491,
    "start_time": "2021-09-21T07:56:53.647Z"
   },
   {
    "duration": -1502,
    "start_time": "2021-09-21T07:56:53.658Z"
   },
   {
    "duration": -1510,
    "start_time": "2021-09-21T07:56:53.667Z"
   },
   {
    "duration": -1517,
    "start_time": "2021-09-21T07:56:53.675Z"
   },
   {
    "duration": -1525,
    "start_time": "2021-09-21T07:56:53.684Z"
   },
   {
    "duration": -1533,
    "start_time": "2021-09-21T07:56:53.693Z"
   },
   {
    "duration": -1540,
    "start_time": "2021-09-21T07:56:53.701Z"
   },
   {
    "duration": -1548,
    "start_time": "2021-09-21T07:56:53.710Z"
   },
   {
    "duration": -1555,
    "start_time": "2021-09-21T07:56:53.718Z"
   },
   {
    "duration": -1562,
    "start_time": "2021-09-21T07:56:53.726Z"
   },
   {
    "duration": -1593,
    "start_time": "2021-09-21T07:56:53.758Z"
   },
   {
    "duration": -1601,
    "start_time": "2021-09-21T07:56:53.766Z"
   },
   {
    "duration": -1613,
    "start_time": "2021-09-21T07:56:53.779Z"
   },
   {
    "duration": -1620,
    "start_time": "2021-09-21T07:56:53.787Z"
   },
   {
    "duration": -1633,
    "start_time": "2021-09-21T07:56:53.801Z"
   },
   {
    "duration": -1645,
    "start_time": "2021-09-21T07:56:53.814Z"
   },
   {
    "duration": -1658,
    "start_time": "2021-09-21T07:56:53.828Z"
   },
   {
    "duration": -1667,
    "start_time": "2021-09-21T07:56:53.838Z"
   },
   {
    "duration": -1683,
    "start_time": "2021-09-21T07:56:53.855Z"
   },
   {
    "duration": -1730,
    "start_time": "2021-09-21T07:56:53.902Z"
   },
   {
    "duration": -1746,
    "start_time": "2021-09-21T07:56:53.919Z"
   },
   {
    "duration": -1758,
    "start_time": "2021-09-21T07:56:53.932Z"
   },
   {
    "duration": -1767,
    "start_time": "2021-09-21T07:56:53.942Z"
   },
   {
    "duration": 211,
    "start_time": "2021-09-21T07:57:08.644Z"
   },
   {
    "duration": 27,
    "start_time": "2021-09-21T07:58:05.079Z"
   },
   {
    "duration": 2,
    "start_time": "2021-09-21T07:58:06.552Z"
   },
   {
    "duration": 2,
    "start_time": "2021-09-21T07:58:07.423Z"
   },
   {
    "duration": 5,
    "start_time": "2021-09-21T07:58:09.040Z"
   },
   {
    "duration": 533,
    "start_time": "2021-09-21T07:58:18.242Z"
   },
   {
    "duration": 96,
    "start_time": "2021-09-21T07:58:18.777Z"
   },
   {
    "duration": 9,
    "start_time": "2021-09-21T07:58:18.875Z"
   },
   {
    "duration": 16,
    "start_time": "2021-09-21T07:58:18.885Z"
   },
   {
    "duration": 5,
    "start_time": "2021-09-21T07:58:18.902Z"
   },
   {
    "duration": 6,
    "start_time": "2021-09-21T07:58:18.909Z"
   },
   {
    "duration": 5,
    "start_time": "2021-09-21T07:58:18.917Z"
   },
   {
    "duration": 6,
    "start_time": "2021-09-21T07:58:18.924Z"
   },
   {
    "duration": 6,
    "start_time": "2021-09-21T07:58:18.932Z"
   },
   {
    "duration": 4,
    "start_time": "2021-09-21T07:58:18.940Z"
   },
   {
    "duration": 6,
    "start_time": "2021-09-21T07:58:18.945Z"
   },
   {
    "duration": 73,
    "start_time": "2021-09-21T07:58:18.953Z"
   },
   {
    "duration": 1,
    "start_time": "2021-09-21T07:58:19.028Z"
   },
   {
    "duration": 9,
    "start_time": "2021-09-21T07:58:19.031Z"
   },
   {
    "duration": 12,
    "start_time": "2021-09-21T07:58:19.042Z"
   },
   {
    "duration": 8,
    "start_time": "2021-09-21T07:58:19.056Z"
   },
   {
    "duration": 13,
    "start_time": "2021-09-21T07:58:19.065Z"
   },
   {
    "duration": 26,
    "start_time": "2021-09-21T07:58:19.079Z"
   },
   {
    "duration": 8,
    "start_time": "2021-09-21T07:58:19.107Z"
   },
   {
    "duration": 11,
    "start_time": "2021-09-21T07:58:19.116Z"
   },
   {
    "duration": 7,
    "start_time": "2021-09-21T07:58:19.129Z"
   },
   {
    "duration": 7,
    "start_time": "2021-09-21T07:58:19.137Z"
   },
   {
    "duration": 6,
    "start_time": "2021-09-21T07:58:19.149Z"
   },
   {
    "duration": 43,
    "start_time": "2021-09-21T07:58:19.157Z"
   },
   {
    "duration": 7,
    "start_time": "2021-09-21T07:58:19.202Z"
   },
   {
    "duration": 17,
    "start_time": "2021-09-21T07:58:19.210Z"
   },
   {
    "duration": 10,
    "start_time": "2021-09-21T07:58:19.228Z"
   },
   {
    "duration": 7,
    "start_time": "2021-09-21T07:58:19.240Z"
   },
   {
    "duration": 13,
    "start_time": "2021-09-21T07:58:19.248Z"
   },
   {
    "duration": 13,
    "start_time": "2021-09-21T07:58:19.262Z"
   },
   {
    "duration": 27,
    "start_time": "2021-09-21T07:58:19.276Z"
   },
   {
    "duration": 13,
    "start_time": "2021-09-21T07:58:19.304Z"
   },
   {
    "duration": 38,
    "start_time": "2021-09-21T07:58:19.318Z"
   },
   {
    "duration": 5,
    "start_time": "2021-09-21T07:58:19.357Z"
   },
   {
    "duration": 15,
    "start_time": "2021-09-21T07:58:19.364Z"
   },
   {
    "duration": 53,
    "start_time": "2021-09-21T07:58:19.380Z"
   },
   {
    "duration": 4,
    "start_time": "2021-09-21T07:58:19.435Z"
   },
   {
    "duration": 12,
    "start_time": "2021-09-21T07:58:19.440Z"
   },
   {
    "duration": 10,
    "start_time": "2021-09-21T07:58:19.454Z"
   },
   {
    "duration": 3,
    "start_time": "2021-09-21T07:58:19.465Z"
   },
   {
    "duration": 4,
    "start_time": "2021-09-21T07:58:19.469Z"
   },
   {
    "duration": 25,
    "start_time": "2021-09-21T07:58:19.474Z"
   },
   {
    "duration": 9,
    "start_time": "2021-09-21T07:58:19.501Z"
   },
   {
    "duration": 13,
    "start_time": "2021-09-21T07:58:19.512Z"
   },
   {
    "duration": 15,
    "start_time": "2021-09-21T07:58:19.527Z"
   },
   {
    "duration": 10,
    "start_time": "2021-09-21T07:58:19.544Z"
   },
   {
    "duration": 24,
    "start_time": "2021-09-21T07:58:19.556Z"
   },
   {
    "duration": 34,
    "start_time": "2021-09-21T07:58:19.582Z"
   },
   {
    "duration": 14,
    "start_time": "2021-09-21T07:58:19.618Z"
   },
   {
    "duration": 9,
    "start_time": "2021-09-21T07:58:19.633Z"
   },
   {
    "duration": 3,
    "start_time": "2021-09-21T07:58:19.644Z"
   },
   {
    "duration": 7,
    "start_time": "2021-09-21T07:58:19.649Z"
   },
   {
    "duration": 8617,
    "start_time": "2021-09-21T07:58:19.658Z"
   },
   {
    "duration": 2837,
    "start_time": "2021-09-21T07:58:28.277Z"
   },
   {
    "duration": 7,
    "start_time": "2021-09-21T07:58:31.115Z"
   },
   {
    "duration": 26,
    "start_time": "2021-09-21T07:58:31.124Z"
   },
   {
    "duration": 27,
    "start_time": "2021-09-21T07:58:31.152Z"
   },
   {
    "duration": 26,
    "start_time": "2021-09-21T07:58:31.180Z"
   },
   {
    "duration": 20,
    "start_time": "2021-09-21T07:58:31.208Z"
   },
   {
    "duration": 41,
    "start_time": "2021-09-21T07:58:31.229Z"
   },
   {
    "duration": 14,
    "start_time": "2021-09-21T07:58:31.272Z"
   },
   {
    "duration": 32,
    "start_time": "2021-09-21T07:58:31.288Z"
   },
   {
    "duration": 20,
    "start_time": "2021-09-21T07:58:31.322Z"
   },
   {
    "duration": 16,
    "start_time": "2021-09-21T07:58:31.343Z"
   },
   {
    "duration": 29,
    "start_time": "2021-09-21T07:58:31.361Z"
   },
   {
    "duration": 561,
    "start_time": "2021-09-21T08:06:34.401Z"
   },
   {
    "duration": 99,
    "start_time": "2021-09-21T08:06:34.963Z"
   },
   {
    "duration": 10,
    "start_time": "2021-09-21T08:06:35.064Z"
   },
   {
    "duration": 37,
    "start_time": "2021-09-21T08:06:35.075Z"
   },
   {
    "duration": 27,
    "start_time": "2021-09-21T08:06:35.115Z"
   },
   {
    "duration": 35,
    "start_time": "2021-09-21T08:06:35.143Z"
   },
   {
    "duration": 24,
    "start_time": "2021-09-21T08:06:35.180Z"
   },
   {
    "duration": 32,
    "start_time": "2021-09-21T08:06:35.207Z"
   },
   {
    "duration": 27,
    "start_time": "2021-09-21T08:06:35.241Z"
   },
   {
    "duration": 29,
    "start_time": "2021-09-21T08:06:35.269Z"
   },
   {
    "duration": 59,
    "start_time": "2021-09-21T08:06:35.300Z"
   },
   {
    "duration": 6,
    "start_time": "2021-09-21T08:06:35.360Z"
   },
   {
    "duration": 45,
    "start_time": "2021-09-21T08:06:35.368Z"
   },
   {
    "duration": 56,
    "start_time": "2021-09-21T08:06:35.415Z"
   },
   {
    "duration": 15,
    "start_time": "2021-09-21T08:06:35.473Z"
   },
   {
    "duration": 31,
    "start_time": "2021-09-21T08:06:35.490Z"
   },
   {
    "duration": 25,
    "start_time": "2021-09-21T08:06:35.523Z"
   },
   {
    "duration": 22,
    "start_time": "2021-09-21T08:06:35.550Z"
   },
   {
    "duration": 41,
    "start_time": "2021-09-21T08:06:35.574Z"
   },
   {
    "duration": 6,
    "start_time": "2021-09-21T08:06:35.870Z"
   },
   {
    "duration": 49,
    "start_time": "2021-09-21T08:06:35.878Z"
   },
   {
    "duration": 30,
    "start_time": "2021-09-21T08:06:35.929Z"
   },
   {
    "duration": 35,
    "start_time": "2021-09-21T08:06:35.960Z"
   },
   {
    "duration": 28,
    "start_time": "2021-09-21T08:06:35.996Z"
   },
   {
    "duration": 38,
    "start_time": "2021-09-21T08:06:36.026Z"
   },
   {
    "duration": 25,
    "start_time": "2021-09-21T08:06:36.068Z"
   },
   {
    "duration": 32,
    "start_time": "2021-09-21T08:06:36.096Z"
   },
   {
    "duration": 55,
    "start_time": "2021-09-21T08:06:36.130Z"
   },
   {
    "duration": 5,
    "start_time": "2021-09-21T08:06:36.186Z"
   },
   {
    "duration": 24,
    "start_time": "2021-09-21T08:06:36.193Z"
   },
   {
    "duration": 70,
    "start_time": "2021-09-21T08:06:36.219Z"
   },
   {
    "duration": 19,
    "start_time": "2021-09-21T08:06:36.290Z"
   },
   {
    "duration": 33,
    "start_time": "2021-09-21T08:06:36.311Z"
   },
   {
    "duration": 34,
    "start_time": "2021-09-21T08:06:36.346Z"
   },
   {
    "duration": 26,
    "start_time": "2021-09-21T08:06:36.381Z"
   },
   {
    "duration": 23,
    "start_time": "2021-09-21T08:06:36.409Z"
   },
   {
    "duration": 48,
    "start_time": "2021-09-21T08:06:36.433Z"
   },
   {
    "duration": 38,
    "start_time": "2021-09-21T08:06:36.484Z"
   },
   {
    "duration": 49,
    "start_time": "2021-09-21T08:06:36.524Z"
   },
   {
    "duration": 24,
    "start_time": "2021-09-21T08:06:36.574Z"
   },
   {
    "duration": 52,
    "start_time": "2021-09-21T08:06:36.600Z"
   },
   {
    "duration": 51,
    "start_time": "2021-09-21T08:06:36.654Z"
   },
   {
    "duration": 27,
    "start_time": "2021-09-21T08:06:36.708Z"
   },
   {
    "duration": 34,
    "start_time": "2021-09-21T08:06:36.737Z"
   },
   {
    "duration": 16,
    "start_time": "2021-09-21T08:06:36.773Z"
   },
   {
    "duration": 36,
    "start_time": "2021-09-21T08:06:36.790Z"
   },
   {
    "duration": 25,
    "start_time": "2021-09-21T08:06:36.828Z"
   },
   {
    "duration": 9267,
    "start_time": "2021-09-21T08:06:36.854Z"
   },
   {
    "duration": 2811,
    "start_time": "2021-09-21T08:06:46.123Z"
   },
   {
    "duration": 7,
    "start_time": "2021-09-21T08:06:48.936Z"
   },
   {
    "duration": 32,
    "start_time": "2021-09-21T08:06:48.945Z"
   },
   {
    "duration": 17,
    "start_time": "2021-09-21T08:06:48.979Z"
   },
   {
    "duration": 26,
    "start_time": "2021-09-21T08:06:48.998Z"
   },
   {
    "duration": 13,
    "start_time": "2021-09-21T08:06:49.026Z"
   },
   {
    "duration": 30,
    "start_time": "2021-09-21T08:06:49.041Z"
   },
   {
    "duration": 11,
    "start_time": "2021-09-21T08:06:49.073Z"
   },
   {
    "duration": 28,
    "start_time": "2021-09-21T08:06:49.086Z"
   },
   {
    "duration": 34,
    "start_time": "2021-09-21T08:06:49.117Z"
   },
   {
    "duration": 26,
    "start_time": "2021-09-21T08:06:49.153Z"
   },
   {
    "duration": 21,
    "start_time": "2021-09-21T08:06:49.181Z"
   },
   {
    "duration": 661,
    "start_time": "2021-09-21T08:15:39.530Z"
   },
   {
    "duration": 104,
    "start_time": "2021-09-21T08:15:40.193Z"
   },
   {
    "duration": 9,
    "start_time": "2021-09-21T08:15:40.299Z"
   },
   {
    "duration": 8,
    "start_time": "2021-09-21T08:15:40.310Z"
   },
   {
    "duration": 5,
    "start_time": "2021-09-21T08:15:40.320Z"
   },
   {
    "duration": 8,
    "start_time": "2021-09-21T08:15:40.326Z"
   },
   {
    "duration": 18,
    "start_time": "2021-09-21T08:15:40.336Z"
   },
   {
    "duration": 7,
    "start_time": "2021-09-21T08:15:40.356Z"
   },
   {
    "duration": 8,
    "start_time": "2021-09-21T08:15:40.364Z"
   },
   {
    "duration": 27,
    "start_time": "2021-09-21T08:15:40.374Z"
   },
   {
    "duration": 30,
    "start_time": "2021-09-21T08:15:40.402Z"
   },
   {
    "duration": 6,
    "start_time": "2021-09-21T08:15:40.434Z"
   },
   {
    "duration": 12,
    "start_time": "2021-09-21T08:15:40.441Z"
   },
   {
    "duration": 10,
    "start_time": "2021-09-21T08:15:40.455Z"
   },
   {
    "duration": 9,
    "start_time": "2021-09-21T08:15:40.467Z"
   },
   {
    "duration": 6,
    "start_time": "2021-09-21T08:15:40.500Z"
   },
   {
    "duration": 9,
    "start_time": "2021-09-21T08:15:40.508Z"
   },
   {
    "duration": 7,
    "start_time": "2021-09-21T08:15:40.518Z"
   },
   {
    "duration": 9,
    "start_time": "2021-09-21T08:15:40.526Z"
   },
   {
    "duration": 6,
    "start_time": "2021-09-21T08:15:40.537Z"
   },
   {
    "duration": 7,
    "start_time": "2021-09-21T08:15:40.545Z"
   },
   {
    "duration": 12,
    "start_time": "2021-09-21T08:15:40.553Z"
   },
   {
    "duration": 4,
    "start_time": "2021-09-21T08:15:40.600Z"
   },
   {
    "duration": 10,
    "start_time": "2021-09-21T08:15:40.606Z"
   },
   {
    "duration": 11,
    "start_time": "2021-09-21T08:15:40.618Z"
   },
   {
    "duration": 7,
    "start_time": "2021-09-21T08:15:40.630Z"
   },
   {
    "duration": 12,
    "start_time": "2021-09-21T08:15:40.638Z"
   },
   {
    "duration": 62,
    "start_time": "2021-09-21T08:15:40.651Z"
   },
   {
    "duration": 6,
    "start_time": "2021-09-21T08:15:40.714Z"
   },
   {
    "duration": 9,
    "start_time": "2021-09-21T08:15:40.721Z"
   },
   {
    "duration": 4,
    "start_time": "2021-09-21T08:15:40.731Z"
   },
   {
    "duration": 63,
    "start_time": "2021-09-21T08:15:40.737Z"
   },
   {
    "duration": 5,
    "start_time": "2021-09-21T08:15:40.801Z"
   },
   {
    "duration": 7,
    "start_time": "2021-09-21T08:15:40.807Z"
   },
   {
    "duration": 10,
    "start_time": "2021-09-21T08:15:40.816Z"
   },
   {
    "duration": 11,
    "start_time": "2021-09-21T08:15:40.828Z"
   },
   {
    "duration": 4,
    "start_time": "2021-09-21T08:15:40.841Z"
   },
   {
    "duration": 5,
    "start_time": "2021-09-21T08:15:40.847Z"
   },
   {
    "duration": 4,
    "start_time": "2021-09-21T08:15:40.854Z"
   },
   {
    "duration": 41,
    "start_time": "2021-09-21T08:15:40.860Z"
   },
   {
    "duration": 16,
    "start_time": "2021-09-21T08:15:40.903Z"
   },
   {
    "duration": 16,
    "start_time": "2021-09-21T08:15:40.921Z"
   },
   {
    "duration": 64,
    "start_time": "2021-09-21T08:15:40.939Z"
   },
   {
    "duration": 20,
    "start_time": "2021-09-21T08:15:41.004Z"
   },
   {
    "duration": 17,
    "start_time": "2021-09-21T08:15:41.026Z"
   },
   {
    "duration": 62,
    "start_time": "2021-09-21T08:15:41.045Z"
   },
   {
    "duration": 10,
    "start_time": "2021-09-21T08:15:41.108Z"
   },
   {
    "duration": 3,
    "start_time": "2021-09-21T08:15:41.119Z"
   },
   {
    "duration": 8,
    "start_time": "2021-09-21T08:15:41.124Z"
   },
   {
    "duration": 9109,
    "start_time": "2021-09-21T08:15:41.133Z"
   },
   {
    "duration": 2591,
    "start_time": "2021-09-21T08:15:50.244Z"
   },
   {
    "duration": 8,
    "start_time": "2021-09-21T08:15:52.836Z"
   },
   {
    "duration": 17,
    "start_time": "2021-09-21T08:15:52.845Z"
   },
   {
    "duration": 13,
    "start_time": "2021-09-21T08:15:52.864Z"
   },
   {
    "duration": 26,
    "start_time": "2021-09-21T08:15:52.878Z"
   },
   {
    "duration": 11,
    "start_time": "2021-09-21T08:15:52.906Z"
   },
   {
    "duration": 18,
    "start_time": "2021-09-21T08:15:52.918Z"
   },
   {
    "duration": 12,
    "start_time": "2021-09-21T08:15:52.937Z"
   },
   {
    "duration": 51,
    "start_time": "2021-09-21T08:15:52.950Z"
   },
   {
    "duration": 13,
    "start_time": "2021-09-21T08:15:53.002Z"
   },
   {
    "duration": 11,
    "start_time": "2021-09-21T08:15:53.017Z"
   },
   {
    "duration": 11,
    "start_time": "2021-09-21T08:15:53.030Z"
   },
   {
    "duration": 571,
    "start_time": "2021-09-21T08:16:19.418Z"
   },
   {
    "duration": 101,
    "start_time": "2021-09-21T08:16:19.990Z"
   },
   {
    "duration": 12,
    "start_time": "2021-09-21T08:16:20.093Z"
   },
   {
    "duration": 9,
    "start_time": "2021-09-21T08:16:20.107Z"
   },
   {
    "duration": 9,
    "start_time": "2021-09-21T08:16:20.117Z"
   },
   {
    "duration": 7,
    "start_time": "2021-09-21T08:16:20.128Z"
   },
   {
    "duration": 9,
    "start_time": "2021-09-21T08:16:20.136Z"
   },
   {
    "duration": 7,
    "start_time": "2021-09-21T08:16:20.147Z"
   },
   {
    "duration": 6,
    "start_time": "2021-09-21T08:16:20.156Z"
   },
   {
    "duration": 6,
    "start_time": "2021-09-21T08:16:20.164Z"
   },
   {
    "duration": 30,
    "start_time": "2021-09-21T08:16:20.200Z"
   },
   {
    "duration": 6,
    "start_time": "2021-09-21T08:16:20.232Z"
   },
   {
    "duration": 15,
    "start_time": "2021-09-21T08:16:20.239Z"
   },
   {
    "duration": 9,
    "start_time": "2021-09-21T08:16:20.256Z"
   },
   {
    "duration": 13,
    "start_time": "2021-09-21T08:16:20.267Z"
   },
   {
    "duration": 22,
    "start_time": "2021-09-21T08:16:20.282Z"
   },
   {
    "duration": 7,
    "start_time": "2021-09-21T08:16:20.305Z"
   },
   {
    "duration": 13,
    "start_time": "2021-09-21T08:16:20.313Z"
   },
   {
    "duration": 11,
    "start_time": "2021-09-21T08:16:20.327Z"
   },
   {
    "duration": 10,
    "start_time": "2021-09-21T08:16:20.339Z"
   },
   {
    "duration": 9,
    "start_time": "2021-09-21T08:16:20.350Z"
   },
   {
    "duration": 12,
    "start_time": "2021-09-21T08:16:20.361Z"
   },
   {
    "duration": 24,
    "start_time": "2021-09-21T08:16:20.376Z"
   },
   {
    "duration": 12,
    "start_time": "2021-09-21T08:16:20.402Z"
   },
   {
    "duration": 10,
    "start_time": "2021-09-21T08:16:20.416Z"
   },
   {
    "duration": 6,
    "start_time": "2021-09-21T08:16:20.428Z"
   },
   {
    "duration": 12,
    "start_time": "2021-09-21T08:16:20.436Z"
   },
   {
    "duration": 4,
    "start_time": "2021-09-21T08:16:20.450Z"
   },
   {
    "duration": 67,
    "start_time": "2021-09-21T08:16:20.455Z"
   },
   {
    "duration": 4,
    "start_time": "2021-09-21T08:16:20.523Z"
   },
   {
    "duration": 8,
    "start_time": "2021-09-21T08:16:20.529Z"
   },
   {
    "duration": 7,
    "start_time": "2021-09-21T08:16:20.539Z"
   },
   {
    "duration": 55,
    "start_time": "2021-09-21T08:16:20.547Z"
   },
   {
    "duration": 5,
    "start_time": "2021-09-21T08:16:20.603Z"
   },
   {
    "duration": 12,
    "start_time": "2021-09-21T08:16:20.609Z"
   },
   {
    "duration": 12,
    "start_time": "2021-09-21T08:16:20.622Z"
   },
   {
    "duration": 3,
    "start_time": "2021-09-21T08:16:20.636Z"
   },
   {
    "duration": 10,
    "start_time": "2021-09-21T08:16:20.641Z"
   },
   {
    "duration": 48,
    "start_time": "2021-09-21T08:16:20.653Z"
   },
   {
    "duration": 13,
    "start_time": "2021-09-21T08:16:20.702Z"
   },
   {
    "duration": 14,
    "start_time": "2021-09-21T08:16:20.716Z"
   },
   {
    "duration": 15,
    "start_time": "2021-09-21T08:16:20.731Z"
   },
   {
    "duration": 55,
    "start_time": "2021-09-21T08:16:20.747Z"
   },
   {
    "duration": 20,
    "start_time": "2021-09-21T08:16:20.803Z"
   },
   {
    "duration": 18,
    "start_time": "2021-09-21T08:16:20.825Z"
   },
   {
    "duration": 16,
    "start_time": "2021-09-21T08:16:20.899Z"
   },
   {
    "duration": 10,
    "start_time": "2021-09-21T08:16:20.917Z"
   },
   {
    "duration": 6,
    "start_time": "2021-09-21T08:16:20.928Z"
   },
   {
    "duration": 8,
    "start_time": "2021-09-21T08:16:20.935Z"
   },
   {
    "duration": 8635,
    "start_time": "2021-09-21T08:16:20.945Z"
   },
   {
    "duration": 2655,
    "start_time": "2021-09-21T08:16:29.582Z"
   },
   {
    "duration": 8,
    "start_time": "2021-09-21T08:16:32.238Z"
   },
   {
    "duration": 21,
    "start_time": "2021-09-21T08:16:32.247Z"
   },
   {
    "duration": 10,
    "start_time": "2021-09-21T08:16:32.269Z"
   },
   {
    "duration": 29,
    "start_time": "2021-09-21T08:16:32.280Z"
   },
   {
    "duration": 12,
    "start_time": "2021-09-21T08:16:32.311Z"
   },
   {
    "duration": 21,
    "start_time": "2021-09-21T08:16:32.324Z"
   },
   {
    "duration": 11,
    "start_time": "2021-09-21T08:16:32.346Z"
   },
   {
    "duration": 49,
    "start_time": "2021-09-21T08:16:32.359Z"
   },
   {
    "duration": 11,
    "start_time": "2021-09-21T08:16:32.410Z"
   },
   {
    "duration": 10,
    "start_time": "2021-09-21T08:16:32.423Z"
   },
   {
    "duration": 10,
    "start_time": "2021-09-21T08:16:32.435Z"
   },
   {
    "duration": 553,
    "start_time": "2021-09-21T08:34:43.613Z"
   },
   {
    "duration": 98,
    "start_time": "2021-09-21T08:34:44.168Z"
   },
   {
    "duration": 10,
    "start_time": "2021-09-21T08:34:44.268Z"
   },
   {
    "duration": 23,
    "start_time": "2021-09-21T08:34:44.280Z"
   },
   {
    "duration": 26,
    "start_time": "2021-09-21T08:34:44.305Z"
   },
   {
    "duration": 23,
    "start_time": "2021-09-21T08:34:44.333Z"
   },
   {
    "duration": 28,
    "start_time": "2021-09-21T08:34:44.357Z"
   },
   {
    "duration": 350,
    "start_time": "2021-09-21T08:34:44.388Z"
   },
   {
    "duration": 250,
    "start_time": "2021-09-21T08:34:44.741Z"
   },
   {
    "duration": 515,
    "start_time": "2021-09-21T08:34:44.480Z"
   },
   {
    "duration": 505,
    "start_time": "2021-09-21T08:34:44.491Z"
   },
   {
    "duration": 496,
    "start_time": "2021-09-21T08:34:44.502Z"
   },
   {
    "duration": 484,
    "start_time": "2021-09-21T08:34:44.515Z"
   },
   {
    "duration": 475,
    "start_time": "2021-09-21T08:34:44.526Z"
   },
   {
    "duration": 463,
    "start_time": "2021-09-21T08:34:44.539Z"
   },
   {
    "duration": 454,
    "start_time": "2021-09-21T08:34:44.550Z"
   },
   {
    "duration": 387,
    "start_time": "2021-09-21T08:34:44.618Z"
   },
   {
    "duration": 365,
    "start_time": "2021-09-21T08:34:44.642Z"
   },
   {
    "duration": 338,
    "start_time": "2021-09-21T08:34:44.670Z"
   },
   {
    "duration": 294,
    "start_time": "2021-09-21T08:34:44.715Z"
   },
   {
    "duration": 245,
    "start_time": "2021-09-21T08:34:44.766Z"
   },
   {
    "duration": 189,
    "start_time": "2021-09-21T08:34:44.823Z"
   },
   {
    "duration": 173,
    "start_time": "2021-09-21T08:34:44.840Z"
   },
   {
    "duration": 147,
    "start_time": "2021-09-21T08:34:44.868Z"
   },
   {
    "duration": 129,
    "start_time": "2021-09-21T08:34:44.887Z"
   },
   {
    "duration": 113,
    "start_time": "2021-09-21T08:34:44.903Z"
   },
   {
    "duration": 98,
    "start_time": "2021-09-21T08:34:44.919Z"
   },
   {
    "duration": 57,
    "start_time": "2021-09-21T08:34:44.961Z"
   },
   {
    "duration": 44,
    "start_time": "2021-09-21T08:34:44.975Z"
   },
   {
    "duration": 35,
    "start_time": "2021-09-21T08:34:44.985Z"
   },
   {
    "duration": 28,
    "start_time": "2021-09-21T08:34:44.993Z"
   },
   {
    "duration": 21,
    "start_time": "2021-09-21T08:34:45.001Z"
   },
   {
    "duration": 12,
    "start_time": "2021-09-21T08:34:45.010Z"
   },
   {
    "duration": 2,
    "start_time": "2021-09-21T08:34:45.021Z"
   },
   {
    "duration": -5,
    "start_time": "2021-09-21T08:34:45.029Z"
   },
   {
    "duration": -12,
    "start_time": "2021-09-21T08:34:45.037Z"
   },
   {
    "duration": -19,
    "start_time": "2021-09-21T08:34:45.045Z"
   },
   {
    "duration": -25,
    "start_time": "2021-09-21T08:34:45.052Z"
   },
   {
    "duration": -67,
    "start_time": "2021-09-21T08:34:45.095Z"
   },
   {
    "duration": -73,
    "start_time": "2021-09-21T08:34:45.101Z"
   },
   {
    "duration": -86,
    "start_time": "2021-09-21T08:34:45.115Z"
   },
   {
    "duration": -94,
    "start_time": "2021-09-21T08:34:45.124Z"
   },
   {
    "duration": -101,
    "start_time": "2021-09-21T08:34:45.132Z"
   },
   {
    "duration": -115,
    "start_time": "2021-09-21T08:34:45.147Z"
   },
   {
    "duration": -123,
    "start_time": "2021-09-21T08:34:45.156Z"
   },
   {
    "duration": -136,
    "start_time": "2021-09-21T08:34:45.170Z"
   },
   {
    "duration": -149,
    "start_time": "2021-09-21T08:34:45.184Z"
   },
   {
    "duration": -184,
    "start_time": "2021-09-21T08:34:45.220Z"
   },
   {
    "duration": -198,
    "start_time": "2021-09-21T08:34:45.235Z"
   },
   {
    "duration": -204,
    "start_time": "2021-09-21T08:34:45.242Z"
   },
   {
    "duration": -219,
    "start_time": "2021-09-21T08:34:45.258Z"
   },
   {
    "duration": -231,
    "start_time": "2021-09-21T08:34:45.270Z"
   },
   {
    "duration": -237,
    "start_time": "2021-09-21T08:34:45.277Z"
   },
   {
    "duration": -252,
    "start_time": "2021-09-21T08:34:45.293Z"
   },
   {
    "duration": -267,
    "start_time": "2021-09-21T08:34:45.308Z"
   },
   {
    "duration": -313,
    "start_time": "2021-09-21T08:34:45.355Z"
   },
   {
    "duration": -322,
    "start_time": "2021-09-21T08:34:45.364Z"
   },
   {
    "duration": -279,
    "start_time": "2021-09-21T08:34:45.378Z"
   },
   {
    "duration": -295,
    "start_time": "2021-09-21T08:34:45.395Z"
   },
   {
    "duration": -308,
    "start_time": "2021-09-21T08:34:45.409Z"
   },
   {
    "duration": -319,
    "start_time": "2021-09-21T08:34:45.421Z"
   },
   {
    "duration": -332,
    "start_time": "2021-09-21T08:34:45.434Z"
   },
   {
    "duration": 189,
    "start_time": "2021-09-21T08:35:09.898Z"
   },
   {
    "duration": 628,
    "start_time": "2021-09-21T08:35:23.253Z"
   },
   {
    "duration": 102,
    "start_time": "2021-09-21T08:35:23.883Z"
   },
   {
    "duration": 18,
    "start_time": "2021-09-21T08:35:23.987Z"
   },
   {
    "duration": 7,
    "start_time": "2021-09-21T08:35:24.007Z"
   },
   {
    "duration": 5,
    "start_time": "2021-09-21T08:35:24.016Z"
   },
   {
    "duration": 8,
    "start_time": "2021-09-21T08:35:24.023Z"
   },
   {
    "duration": 6,
    "start_time": "2021-09-21T08:35:24.033Z"
   },
   {
    "duration": 381,
    "start_time": "2021-09-21T08:35:24.041Z"
   },
   {
    "duration": 2,
    "start_time": "2021-09-21T08:35:24.424Z"
   },
   {
    "duration": 2544,
    "start_time": "2021-09-21T08:35:24.428Z"
   },
   {
    "duration": 770,
    "start_time": "2021-09-21T08:35:26.206Z"
   },
   {
    "duration": 760,
    "start_time": "2021-09-21T08:35:26.217Z"
   },
   {
    "duration": 756,
    "start_time": "2021-09-21T08:35:26.222Z"
   },
   {
    "duration": 751,
    "start_time": "2021-09-21T08:35:26.228Z"
   },
   {
    "duration": 741,
    "start_time": "2021-09-21T08:35:26.239Z"
   },
   {
    "duration": 736,
    "start_time": "2021-09-21T08:35:26.245Z"
   },
   {
    "duration": 723,
    "start_time": "2021-09-21T08:35:26.259Z"
   },
   {
    "duration": 718,
    "start_time": "2021-09-21T08:35:26.265Z"
   },
   {
    "duration": 708,
    "start_time": "2021-09-21T08:35:26.276Z"
   },
   {
    "duration": 695,
    "start_time": "2021-09-21T08:35:26.290Z"
   },
   {
    "duration": 659,
    "start_time": "2021-09-21T08:35:26.327Z"
   },
   {
    "duration": 654,
    "start_time": "2021-09-21T08:35:26.333Z"
   },
   {
    "duration": 644,
    "start_time": "2021-09-21T08:35:26.344Z"
   },
   {
    "duration": 637,
    "start_time": "2021-09-21T08:35:26.352Z"
   },
   {
    "duration": 626,
    "start_time": "2021-09-21T08:35:26.364Z"
   },
   {
    "duration": 619,
    "start_time": "2021-09-21T08:35:26.372Z"
   },
   {
    "duration": 613,
    "start_time": "2021-09-21T08:35:26.379Z"
   },
   {
    "duration": 608,
    "start_time": "2021-09-21T08:35:26.385Z"
   },
   {
    "duration": 603,
    "start_time": "2021-09-21T08:35:26.391Z"
   },
   {
    "duration": 547,
    "start_time": "2021-09-21T08:35:26.448Z"
   },
   {
    "duration": 542,
    "start_time": "2021-09-21T08:35:26.454Z"
   },
   {
    "duration": 531,
    "start_time": "2021-09-21T08:35:26.466Z"
   },
   {
    "duration": 527,
    "start_time": "2021-09-21T08:35:26.471Z"
   },
   {
    "duration": 516,
    "start_time": "2021-09-21T08:35:26.484Z"
   },
   {
    "duration": 505,
    "start_time": "2021-09-21T08:35:26.496Z"
   },
   {
    "duration": 497,
    "start_time": "2021-09-21T08:35:26.504Z"
   },
   {
    "duration": 486,
    "start_time": "2021-09-21T08:35:26.516Z"
   },
   {
    "duration": 481,
    "start_time": "2021-09-21T08:35:26.522Z"
   },
   {
    "duration": 472,
    "start_time": "2021-09-21T08:35:26.532Z"
   },
   {
    "duration": 466,
    "start_time": "2021-09-21T08:35:26.539Z"
   },
   {
    "duration": 430,
    "start_time": "2021-09-21T08:35:26.576Z"
   },
   {
    "duration": 363,
    "start_time": "2021-09-21T08:35:26.644Z"
   },
   {
    "duration": 357,
    "start_time": "2021-09-21T08:35:26.651Z"
   },
   {
    "duration": 346,
    "start_time": "2021-09-21T08:35:26.663Z"
   },
   {
    "duration": 337,
    "start_time": "2021-09-21T08:35:26.673Z"
   },
   {
    "duration": 311,
    "start_time": "2021-09-21T08:35:26.700Z"
   },
   {
    "duration": 299,
    "start_time": "2021-09-21T08:35:26.713Z"
   },
   {
    "duration": 290,
    "start_time": "2021-09-21T08:35:26.723Z"
   },
   {
    "duration": 226,
    "start_time": "2021-09-21T08:35:26.788Z"
   },
   {
    "duration": 221,
    "start_time": "2021-09-21T08:35:26.794Z"
   },
   {
    "duration": 200,
    "start_time": "2021-09-21T08:35:26.816Z"
   },
   {
    "duration": 191,
    "start_time": "2021-09-21T08:35:26.826Z"
   },
   {
    "duration": 186,
    "start_time": "2021-09-21T08:35:26.832Z"
   },
   {
    "duration": 180,
    "start_time": "2021-09-21T08:35:26.839Z"
   },
   {
    "duration": 174,
    "start_time": "2021-09-21T08:35:26.846Z"
   },
   {
    "duration": 168,
    "start_time": "2021-09-21T08:35:26.853Z"
   },
   {
    "duration": 163,
    "start_time": "2021-09-21T08:35:26.859Z"
   },
   {
    "duration": 157,
    "start_time": "2021-09-21T08:35:26.866Z"
   },
   {
    "duration": 153,
    "start_time": "2021-09-21T08:35:26.871Z"
   },
   {
    "duration": 147,
    "start_time": "2021-09-21T08:35:26.878Z"
   },
   {
    "duration": 143,
    "start_time": "2021-09-21T08:35:26.883Z"
   },
   {
    "duration": 139,
    "start_time": "2021-09-21T08:35:26.888Z"
   },
   {
    "duration": 526,
    "start_time": "2021-09-21T08:38:13.764Z"
   },
   {
    "duration": 101,
    "start_time": "2021-09-21T08:38:14.292Z"
   },
   {
    "duration": 12,
    "start_time": "2021-09-21T08:38:14.394Z"
   },
   {
    "duration": 25,
    "start_time": "2021-09-21T08:38:14.407Z"
   },
   {
    "duration": 15,
    "start_time": "2021-09-21T08:38:14.434Z"
   },
   {
    "duration": 23,
    "start_time": "2021-09-21T08:38:14.451Z"
   },
   {
    "duration": 23,
    "start_time": "2021-09-21T08:38:14.476Z"
   },
   {
    "duration": 13,
    "start_time": "2021-09-21T08:38:14.501Z"
   },
   {
    "duration": 12,
    "start_time": "2021-09-21T08:38:14.517Z"
   },
   {
    "duration": 65,
    "start_time": "2021-09-21T08:38:14.530Z"
   },
   {
    "duration": 38,
    "start_time": "2021-09-21T08:38:14.597Z"
   },
   {
    "duration": 87,
    "start_time": "2021-09-21T08:38:14.636Z"
   },
   {
    "duration": 38,
    "start_time": "2021-09-21T08:38:14.724Z"
   },
   {
    "duration": 64,
    "start_time": "2021-09-21T08:38:14.764Z"
   },
   {
    "duration": 37,
    "start_time": "2021-09-21T08:38:14.830Z"
   },
   {
    "duration": 20,
    "start_time": "2021-09-21T08:38:14.869Z"
   },
   {
    "duration": 22,
    "start_time": "2021-09-21T08:38:14.890Z"
   },
   {
    "duration": 24,
    "start_time": "2021-09-21T08:38:14.913Z"
   },
   {
    "duration": 22,
    "start_time": "2021-09-21T08:38:14.938Z"
   },
   {
    "duration": 16,
    "start_time": "2021-09-21T08:38:14.961Z"
   },
   {
    "duration": 25,
    "start_time": "2021-09-21T08:38:14.978Z"
   },
   {
    "duration": 9,
    "start_time": "2021-09-21T08:38:15.004Z"
   },
   {
    "duration": 34,
    "start_time": "2021-09-21T08:38:15.016Z"
   },
   {
    "duration": 28,
    "start_time": "2021-09-21T08:38:15.052Z"
   },
   {
    "duration": 12,
    "start_time": "2021-09-21T08:38:15.081Z"
   },
   {
    "duration": 28,
    "start_time": "2021-09-21T08:38:15.095Z"
   },
   {
    "duration": 13,
    "start_time": "2021-09-21T08:38:15.124Z"
   },
   {
    "duration": 48,
    "start_time": "2021-09-21T08:38:15.138Z"
   },
   {
    "duration": 4,
    "start_time": "2021-09-21T08:38:15.188Z"
   },
   {
    "duration": 19,
    "start_time": "2021-09-21T08:38:15.193Z"
   },
   {
    "duration": 20,
    "start_time": "2021-09-21T08:38:15.214Z"
   },
   {
    "duration": 51,
    "start_time": "2021-09-21T08:38:15.235Z"
   },
   {
    "duration": 4,
    "start_time": "2021-09-21T08:38:15.287Z"
   },
   {
    "duration": 38,
    "start_time": "2021-09-21T08:38:15.292Z"
   },
   {
    "duration": 45,
    "start_time": "2021-09-21T08:38:15.332Z"
   },
   {
    "duration": 20,
    "start_time": "2021-09-21T08:38:15.379Z"
   },
   {
    "duration": 32,
    "start_time": "2021-09-21T08:38:15.400Z"
   },
   {
    "duration": 16,
    "start_time": "2021-09-21T08:38:15.434Z"
   },
   {
    "duration": 30,
    "start_time": "2021-09-21T08:38:15.451Z"
   },
   {
    "duration": 32,
    "start_time": "2021-09-21T08:38:15.483Z"
   },
   {
    "duration": 24,
    "start_time": "2021-09-21T08:38:15.516Z"
   },
   {
    "duration": 38,
    "start_time": "2021-09-21T08:38:15.542Z"
   },
   {
    "duration": 42,
    "start_time": "2021-09-21T08:38:15.581Z"
   },
   {
    "duration": 27,
    "start_time": "2021-09-21T08:38:15.625Z"
   },
   {
    "duration": 22,
    "start_time": "2021-09-21T08:38:15.654Z"
   },
   {
    "duration": 16,
    "start_time": "2021-09-21T08:38:15.677Z"
   },
   {
    "duration": 16,
    "start_time": "2021-09-21T08:38:15.694Z"
   },
   {
    "duration": 27,
    "start_time": "2021-09-21T08:38:15.712Z"
   },
   {
    "duration": 8786,
    "start_time": "2021-09-21T08:38:15.740Z"
   },
   {
    "duration": 2694,
    "start_time": "2021-09-21T08:38:24.527Z"
   },
   {
    "duration": 7,
    "start_time": "2021-09-21T08:38:27.223Z"
   },
   {
    "duration": 38,
    "start_time": "2021-09-21T08:38:27.232Z"
   },
   {
    "duration": 26,
    "start_time": "2021-09-21T08:38:27.271Z"
   },
   {
    "duration": 30,
    "start_time": "2021-09-21T08:38:27.298Z"
   },
   {
    "duration": 22,
    "start_time": "2021-09-21T08:38:27.329Z"
   },
   {
    "duration": 44,
    "start_time": "2021-09-21T08:38:27.353Z"
   },
   {
    "duration": 26,
    "start_time": "2021-09-21T08:38:27.399Z"
   },
   {
    "duration": 39,
    "start_time": "2021-09-21T08:38:27.426Z"
   },
   {
    "duration": 31,
    "start_time": "2021-09-21T08:38:27.467Z"
   },
   {
    "duration": 34,
    "start_time": "2021-09-21T08:38:27.499Z"
   },
   {
    "duration": 35,
    "start_time": "2021-09-21T08:38:27.535Z"
   },
   {
    "duration": 94,
    "start_time": "2021-09-21T08:42:07.275Z"
   },
   {
    "duration": 91,
    "start_time": "2021-09-21T08:42:10.684Z"
   },
   {
    "duration": 85,
    "start_time": "2021-09-21T08:42:18.445Z"
   },
   {
    "duration": 89,
    "start_time": "2021-09-21T08:42:20.544Z"
   },
   {
    "duration": 88,
    "start_time": "2021-09-21T08:42:22.297Z"
   },
   {
    "duration": 90,
    "start_time": "2021-09-21T08:42:23.934Z"
   },
   {
    "duration": 560,
    "start_time": "2021-09-21T08:42:32.105Z"
   },
   {
    "duration": 95,
    "start_time": "2021-09-21T08:42:32.667Z"
   },
   {
    "duration": 9,
    "start_time": "2021-09-21T08:42:32.764Z"
   },
   {
    "duration": 26,
    "start_time": "2021-09-21T08:42:32.774Z"
   },
   {
    "duration": 6,
    "start_time": "2021-09-21T08:42:32.801Z"
   },
   {
    "duration": 6,
    "start_time": "2021-09-21T08:42:32.808Z"
   },
   {
    "duration": 6,
    "start_time": "2021-09-21T08:42:32.815Z"
   },
   {
    "duration": 7,
    "start_time": "2021-09-21T08:42:32.824Z"
   },
   {
    "duration": 5,
    "start_time": "2021-09-21T08:42:32.833Z"
   },
   {
    "duration": 62,
    "start_time": "2021-09-21T08:42:32.840Z"
   },
   {
    "duration": 803,
    "start_time": "2021-09-21T08:42:32.103Z"
   },
   {
    "duration": 797,
    "start_time": "2021-09-21T08:42:32.111Z"
   },
   {
    "duration": 791,
    "start_time": "2021-09-21T08:42:32.118Z"
   },
   {
    "duration": 786,
    "start_time": "2021-09-21T08:42:32.124Z"
   },
   {
    "duration": 739,
    "start_time": "2021-09-21T08:42:32.173Z"
   },
   {
    "duration": 727,
    "start_time": "2021-09-21T08:42:32.186Z"
   },
   {
    "duration": 723,
    "start_time": "2021-09-21T08:42:32.191Z"
   },
   {
    "duration": 714,
    "start_time": "2021-09-21T08:42:32.202Z"
   },
   {
    "duration": 709,
    "start_time": "2021-09-21T08:42:32.208Z"
   },
   {
    "duration": 705,
    "start_time": "2021-09-21T08:42:32.214Z"
   },
   {
    "duration": 700,
    "start_time": "2021-09-21T08:42:32.220Z"
   },
   {
    "duration": 695,
    "start_time": "2021-09-21T08:42:32.226Z"
   },
   {
    "duration": 689,
    "start_time": "2021-09-21T08:42:32.233Z"
   },
   {
    "duration": 685,
    "start_time": "2021-09-21T08:42:32.239Z"
   },
   {
    "duration": 681,
    "start_time": "2021-09-21T08:42:32.244Z"
   },
   {
    "duration": 675,
    "start_time": "2021-09-21T08:42:32.252Z"
   },
   {
    "duration": 658,
    "start_time": "2021-09-21T08:42:32.270Z"
   },
   {
    "duration": 648,
    "start_time": "2021-09-21T08:42:32.282Z"
   },
   {
    "duration": 633,
    "start_time": "2021-09-21T08:42:32.298Z"
   },
   {
    "duration": 575,
    "start_time": "2021-09-21T08:42:32.357Z"
   },
   {
    "duration": 569,
    "start_time": "2021-09-21T08:42:32.364Z"
   },
   {
    "duration": 512,
    "start_time": "2021-09-21T08:42:32.423Z"
   },
   {
    "duration": 505,
    "start_time": "2021-09-21T08:42:32.431Z"
   },
   {
    "duration": 502,
    "start_time": "2021-09-21T08:42:32.436Z"
   },
   {
    "duration": 498,
    "start_time": "2021-09-21T08:42:32.441Z"
   },
   {
    "duration": 490,
    "start_time": "2021-09-21T08:42:32.450Z"
   },
   {
    "duration": 470,
    "start_time": "2021-09-21T08:42:32.471Z"
   },
   {
    "duration": 456,
    "start_time": "2021-09-21T08:42:32.487Z"
   },
   {
    "duration": 450,
    "start_time": "2021-09-21T08:42:32.494Z"
   },
   {
    "duration": 444,
    "start_time": "2021-09-21T08:42:32.502Z"
   },
   {
    "duration": 491,
    "start_time": "2021-09-21T08:42:32.508Z"
   },
   {
    "duration": 485,
    "start_time": "2021-09-21T08:42:32.516Z"
   },
   {
    "duration": 455,
    "start_time": "2021-09-21T08:42:32.547Z"
   },
   {
    "duration": 445,
    "start_time": "2021-09-21T08:42:32.559Z"
   },
   {
    "duration": 438,
    "start_time": "2021-09-21T08:42:32.567Z"
   },
   {
    "duration": 417,
    "start_time": "2021-09-21T08:42:32.589Z"
   },
   {
    "duration": 411,
    "start_time": "2021-09-21T08:42:32.597Z"
   },
   {
    "duration": 401,
    "start_time": "2021-09-21T08:42:32.608Z"
   },
   {
    "duration": 397,
    "start_time": "2021-09-21T08:42:32.614Z"
   },
   {
    "duration": 390,
    "start_time": "2021-09-21T08:42:32.622Z"
   },
   {
    "duration": 383,
    "start_time": "2021-09-21T08:42:32.630Z"
   },
   {
    "duration": 376,
    "start_time": "2021-09-21T08:42:32.639Z"
   },
   {
    "duration": 370,
    "start_time": "2021-09-21T08:42:32.646Z"
   },
   {
    "duration": 364,
    "start_time": "2021-09-21T08:42:32.653Z"
   },
   {
    "duration": 359,
    "start_time": "2021-09-21T08:42:32.660Z"
   },
   {
    "duration": 351,
    "start_time": "2021-09-21T08:42:32.669Z"
   },
   {
    "duration": 326,
    "start_time": "2021-09-21T08:42:32.696Z"
   },
   {
    "duration": 318,
    "start_time": "2021-09-21T08:42:32.705Z"
   },
   {
    "duration": 311,
    "start_time": "2021-09-21T08:42:32.713Z"
   },
   {
    "duration": 305,
    "start_time": "2021-09-21T08:42:32.720Z"
   },
   {
    "duration": 298,
    "start_time": "2021-09-21T08:42:32.728Z"
   },
   {
    "duration": 292,
    "start_time": "2021-09-21T08:42:32.735Z"
   },
   {
    "duration": 284,
    "start_time": "2021-09-21T08:42:32.744Z"
   },
   {
    "duration": 5,
    "start_time": "2021-09-21T08:42:46.710Z"
   },
   {
    "duration": 20,
    "start_time": "2021-09-21T08:43:06.689Z"
   },
   {
    "duration": 5,
    "start_time": "2021-09-21T08:43:17.497Z"
   },
   {
    "duration": 261,
    "start_time": "2021-09-21T08:43:28.415Z"
   },
   {
    "duration": 414,
    "start_time": "2021-09-21T08:43:47.001Z"
   },
   {
    "duration": 526,
    "start_time": "2021-09-21T08:44:04.349Z"
   },
   {
    "duration": 97,
    "start_time": "2021-09-21T08:44:04.877Z"
   },
   {
    "duration": 9,
    "start_time": "2021-09-21T08:44:04.976Z"
   },
   {
    "duration": 17,
    "start_time": "2021-09-21T08:44:04.987Z"
   },
   {
    "duration": 10,
    "start_time": "2021-09-21T08:44:05.006Z"
   },
   {
    "duration": 15,
    "start_time": "2021-09-21T08:44:05.017Z"
   },
   {
    "duration": 9,
    "start_time": "2021-09-21T08:44:05.034Z"
   },
   {
    "duration": 9,
    "start_time": "2021-09-21T08:44:05.046Z"
   },
   {
    "duration": 19,
    "start_time": "2021-09-21T08:44:05.057Z"
   },
   {
    "duration": 13,
    "start_time": "2021-09-21T08:44:05.078Z"
   },
   {
    "duration": 240,
    "start_time": "2021-09-21T08:44:05.100Z"
   },
   {
    "duration": 716,
    "start_time": "2021-09-21T08:44:04.627Z"
   },
   {
    "duration": 704,
    "start_time": "2021-09-21T08:44:04.641Z"
   },
   {
    "duration": 699,
    "start_time": "2021-09-21T08:44:04.647Z"
   },
   {
    "duration": 693,
    "start_time": "2021-09-21T08:44:04.654Z"
   },
   {
    "duration": 441,
    "start_time": "2021-09-21T08:44:04.908Z"
   },
   {
    "duration": 432,
    "start_time": "2021-09-21T08:44:04.918Z"
   },
   {
    "duration": 420,
    "start_time": "2021-09-21T08:44:04.931Z"
   },
   {
    "duration": 409,
    "start_time": "2021-09-21T08:44:04.943Z"
   },
   {
    "duration": 399,
    "start_time": "2021-09-21T08:44:04.955Z"
   },
   {
    "duration": 387,
    "start_time": "2021-09-21T08:44:04.968Z"
   },
   {
    "duration": 354,
    "start_time": "2021-09-21T08:44:05.002Z"
   },
   {
    "duration": 339,
    "start_time": "2021-09-21T08:44:05.019Z"
   },
   {
    "duration": 327,
    "start_time": "2021-09-21T08:44:05.032Z"
   },
   {
    "duration": 315,
    "start_time": "2021-09-21T08:44:05.046Z"
   },
   {
    "duration": 301,
    "start_time": "2021-09-21T08:44:05.061Z"
   },
   {
    "duration": 289,
    "start_time": "2021-09-21T08:44:05.074Z"
   },
   {
    "duration": 278,
    "start_time": "2021-09-21T08:44:05.086Z"
   },
   {
    "duration": 260,
    "start_time": "2021-09-21T08:44:05.105Z"
   },
   {
    "duration": 251,
    "start_time": "2021-09-21T08:44:05.115Z"
   },
   {
    "duration": 247,
    "start_time": "2021-09-21T08:44:05.120Z"
   },
   {
    "duration": 240,
    "start_time": "2021-09-21T08:44:05.128Z"
   },
   {
    "duration": 235,
    "start_time": "2021-09-21T08:44:05.134Z"
   },
   {
    "duration": 229,
    "start_time": "2021-09-21T08:44:05.141Z"
   },
   {
    "duration": 221,
    "start_time": "2021-09-21T08:44:05.150Z"
   },
   {
    "duration": 58,
    "start_time": "2021-09-21T08:44:05.314Z"
   },
   {
    "duration": 20,
    "start_time": "2021-09-21T08:44:05.353Z"
   },
   {
    "duration": 15,
    "start_time": "2021-09-21T08:44:05.359Z"
   },
   {
    "duration": 9,
    "start_time": "2021-09-21T08:44:05.366Z"
   },
   {
    "duration": 4,
    "start_time": "2021-09-21T08:44:05.372Z"
   },
   {
    "duration": -2,
    "start_time": "2021-09-21T08:44:05.378Z"
   },
   {
    "duration": -7,
    "start_time": "2021-09-21T08:44:05.384Z"
   },
   {
    "duration": -13,
    "start_time": "2021-09-21T08:44:05.391Z"
   },
   {
    "duration": -18,
    "start_time": "2021-09-21T08:44:05.397Z"
   },
   {
    "duration": -23,
    "start_time": "2021-09-21T08:44:05.403Z"
   },
   {
    "duration": -28,
    "start_time": "2021-09-21T08:44:05.409Z"
   },
   {
    "duration": -16,
    "start_time": "2021-09-21T08:44:05.415Z"
   },
   {
    "duration": -21,
    "start_time": "2021-09-21T08:44:05.421Z"
   },
   {
    "duration": -26,
    "start_time": "2021-09-21T08:44:05.427Z"
   },
   {
    "duration": -31,
    "start_time": "2021-09-21T08:44:05.433Z"
   },
   {
    "duration": -37,
    "start_time": "2021-09-21T08:44:05.439Z"
   },
   {
    "duration": -42,
    "start_time": "2021-09-21T08:44:05.446Z"
   },
   {
    "duration": -58,
    "start_time": "2021-09-21T08:44:05.463Z"
   },
   {
    "duration": -62,
    "start_time": "2021-09-21T08:44:05.468Z"
   },
   {
    "duration": -67,
    "start_time": "2021-09-21T08:44:05.474Z"
   },
   {
    "duration": -74,
    "start_time": "2021-09-21T08:44:05.481Z"
   },
   {
    "duration": -78,
    "start_time": "2021-09-21T08:44:05.487Z"
   },
   {
    "duration": -82,
    "start_time": "2021-09-21T08:44:05.492Z"
   },
   {
    "duration": -89,
    "start_time": "2021-09-21T08:44:05.499Z"
   },
   {
    "duration": -94,
    "start_time": "2021-09-21T08:44:05.505Z"
   },
   {
    "duration": -99,
    "start_time": "2021-09-21T08:44:05.511Z"
   },
   {
    "duration": -103,
    "start_time": "2021-09-21T08:44:05.516Z"
   },
   {
    "duration": -108,
    "start_time": "2021-09-21T08:44:05.522Z"
   },
   {
    "duration": -113,
    "start_time": "2021-09-21T08:44:05.528Z"
   },
   {
    "duration": 4742,
    "start_time": "2021-09-21T08:44:23.794Z"
   },
   {
    "duration": 565,
    "start_time": "2021-09-21T08:45:09.807Z"
   },
   {
    "duration": 98,
    "start_time": "2021-09-21T08:45:10.374Z"
   },
   {
    "duration": 24,
    "start_time": "2021-09-21T08:45:10.475Z"
   },
   {
    "duration": 11,
    "start_time": "2021-09-21T08:45:10.501Z"
   },
   {
    "duration": 7,
    "start_time": "2021-09-21T08:45:10.513Z"
   },
   {
    "duration": 24,
    "start_time": "2021-09-21T08:45:10.522Z"
   },
   {
    "duration": 21,
    "start_time": "2021-09-21T08:45:10.548Z"
   },
   {
    "duration": 23,
    "start_time": "2021-09-21T08:45:10.571Z"
   },
   {
    "duration": 14,
    "start_time": "2021-09-21T08:45:10.596Z"
   },
   {
    "duration": 18,
    "start_time": "2021-09-21T08:45:10.611Z"
   },
   {
    "duration": 616,
    "start_time": "2021-09-21T08:45:10.630Z"
   },
   {
    "duration": 597,
    "start_time": "2021-09-21T08:45:10.653Z"
   },
   {
    "duration": 592,
    "start_time": "2021-09-21T08:45:10.659Z"
   },
   {
    "duration": 584,
    "start_time": "2021-09-21T08:45:10.668Z"
   },
   {
    "duration": 578,
    "start_time": "2021-09-21T08:45:10.675Z"
   },
   {
    "duration": 572,
    "start_time": "2021-09-21T08:45:10.682Z"
   },
   {
    "duration": 567,
    "start_time": "2021-09-21T08:45:10.688Z"
   },
   {
    "duration": 562,
    "start_time": "2021-09-21T08:45:10.694Z"
   },
   {
    "duration": 556,
    "start_time": "2021-09-21T08:45:10.701Z"
   },
   {
    "duration": 550,
    "start_time": "2021-09-21T08:45:10.708Z"
   },
   {
    "duration": 544,
    "start_time": "2021-09-21T08:45:10.715Z"
   },
   {
    "duration": 539,
    "start_time": "2021-09-21T08:45:10.721Z"
   },
   {
    "duration": 534,
    "start_time": "2021-09-21T08:45:10.727Z"
   },
   {
    "duration": 451,
    "start_time": "2021-09-21T08:45:10.811Z"
   },
   {
    "duration": 433,
    "start_time": "2021-09-21T08:45:10.830Z"
   },
   {
    "duration": 427,
    "start_time": "2021-09-21T08:45:10.837Z"
   },
   {
    "duration": 416,
    "start_time": "2021-09-21T08:45:10.849Z"
   },
   {
    "duration": 400,
    "start_time": "2021-09-21T08:45:10.865Z"
   },
   {
    "duration": 395,
    "start_time": "2021-09-21T08:45:10.871Z"
   },
   {
    "duration": 379,
    "start_time": "2021-09-21T08:45:10.887Z"
   },
   {
    "duration": 397,
    "start_time": "2021-09-21T08:45:10.902Z"
   },
   {
    "duration": 359,
    "start_time": "2021-09-21T08:45:10.941Z"
   },
   {
    "duration": 347,
    "start_time": "2021-09-21T08:45:10.954Z"
   },
   {
    "duration": 333,
    "start_time": "2021-09-21T08:45:10.969Z"
   },
   {
    "duration": 328,
    "start_time": "2021-09-21T08:45:10.975Z"
   },
   {
    "duration": 321,
    "start_time": "2021-09-21T08:45:10.983Z"
   },
   {
    "duration": 315,
    "start_time": "2021-09-21T08:45:10.990Z"
   },
   {
    "duration": 308,
    "start_time": "2021-09-21T08:45:10.997Z"
   },
   {
    "duration": 303,
    "start_time": "2021-09-21T08:45:11.003Z"
   },
   {
    "duration": 297,
    "start_time": "2021-09-21T08:45:11.010Z"
   },
   {
    "duration": 293,
    "start_time": "2021-09-21T08:45:11.015Z"
   },
   {
    "duration": 287,
    "start_time": "2021-09-21T08:45:11.022Z"
   },
   {
    "duration": 278,
    "start_time": "2021-09-21T08:45:11.032Z"
   },
   {
    "duration": 254,
    "start_time": "2021-09-21T08:45:11.056Z"
   },
   {
    "duration": 242,
    "start_time": "2021-09-21T08:45:11.069Z"
   },
   {
    "duration": 234,
    "start_time": "2021-09-21T08:45:11.078Z"
   },
   {
    "duration": 227,
    "start_time": "2021-09-21T08:45:11.086Z"
   },
   {
    "duration": 221,
    "start_time": "2021-09-21T08:45:11.093Z"
   },
   {
    "duration": 216,
    "start_time": "2021-09-21T08:45:11.099Z"
   },
   {
    "duration": 209,
    "start_time": "2021-09-21T08:45:11.107Z"
   },
   {
    "duration": 205,
    "start_time": "2021-09-21T08:45:11.112Z"
   },
   {
    "duration": 199,
    "start_time": "2021-09-21T08:45:11.119Z"
   },
   {
    "duration": 195,
    "start_time": "2021-09-21T08:45:11.125Z"
   },
   {
    "duration": 188,
    "start_time": "2021-09-21T08:45:11.133Z"
   },
   {
    "duration": 181,
    "start_time": "2021-09-21T08:45:11.141Z"
   },
   {
    "duration": 175,
    "start_time": "2021-09-21T08:45:11.148Z"
   },
   {
    "duration": 163,
    "start_time": "2021-09-21T08:45:11.161Z"
   },
   {
    "duration": 123,
    "start_time": "2021-09-21T08:45:11.202Z"
   },
   {
    "duration": 111,
    "start_time": "2021-09-21T08:45:11.215Z"
   },
   {
    "duration": 98,
    "start_time": "2021-09-21T08:45:11.229Z"
   },
   {
    "duration": 43,
    "start_time": "2021-09-21T08:45:11.285Z"
   },
   {
    "duration": -13,
    "start_time": "2021-09-21T08:45:11.342Z"
   },
   {
    "duration": -23,
    "start_time": "2021-09-21T08:45:11.353Z"
   },
   {
    "duration": -31,
    "start_time": "2021-09-21T08:45:11.362Z"
   },
   {
    "duration": 574,
    "start_time": "2021-09-21T08:47:27.665Z"
   },
   {
    "duration": 99,
    "start_time": "2021-09-21T08:47:28.241Z"
   },
   {
    "duration": 9,
    "start_time": "2021-09-21T08:47:28.343Z"
   },
   {
    "duration": 8,
    "start_time": "2021-09-21T08:47:28.354Z"
   },
   {
    "duration": 6,
    "start_time": "2021-09-21T08:47:28.364Z"
   },
   {
    "duration": 31,
    "start_time": "2021-09-21T08:47:28.371Z"
   },
   {
    "duration": 6,
    "start_time": "2021-09-21T08:47:28.403Z"
   },
   {
    "duration": 10,
    "start_time": "2021-09-21T08:47:28.412Z"
   },
   {
    "duration": 6,
    "start_time": "2021-09-21T08:47:28.425Z"
   },
   {
    "duration": 32,
    "start_time": "2021-09-21T08:47:28.432Z"
   },
   {
    "duration": 7,
    "start_time": "2021-09-21T08:47:28.465Z"
   },
   {
    "duration": 13,
    "start_time": "2021-09-21T08:47:28.500Z"
   },
   {
    "duration": 13,
    "start_time": "2021-09-21T08:47:28.515Z"
   },
   {
    "duration": 13,
    "start_time": "2021-09-21T08:47:28.530Z"
   },
   {
    "duration": 8,
    "start_time": "2021-09-21T08:47:28.545Z"
   },
   {
    "duration": 10,
    "start_time": "2021-09-21T08:47:28.555Z"
   },
   {
    "duration": 29,
    "start_time": "2021-09-21T08:47:28.567Z"
   },
   {
    "duration": 16,
    "start_time": "2021-09-21T08:47:28.598Z"
   },
   {
    "duration": 13,
    "start_time": "2021-09-21T08:47:28.615Z"
   },
   {
    "duration": 9,
    "start_time": "2021-09-21T08:47:28.630Z"
   },
   {
    "duration": 18,
    "start_time": "2021-09-21T08:47:28.640Z"
   },
   {
    "duration": 3,
    "start_time": "2021-09-21T08:47:28.660Z"
   },
   {
    "duration": 7,
    "start_time": "2021-09-21T08:47:28.666Z"
   },
   {
    "duration": 11,
    "start_time": "2021-09-21T08:47:28.675Z"
   },
   {
    "duration": 7,
    "start_time": "2021-09-21T08:47:28.700Z"
   },
   {
    "duration": 17,
    "start_time": "2021-09-21T08:47:28.708Z"
   },
   {
    "duration": 4,
    "start_time": "2021-09-21T08:47:28.727Z"
   },
   {
    "duration": 43,
    "start_time": "2021-09-21T08:47:28.732Z"
   },
   {
    "duration": 22,
    "start_time": "2021-09-21T08:47:28.777Z"
   },
   {
    "duration": 6,
    "start_time": "2021-09-21T08:47:28.801Z"
   },
   {
    "duration": 10,
    "start_time": "2021-09-21T08:47:28.808Z"
   },
   {
    "duration": 38,
    "start_time": "2021-09-21T08:47:28.820Z"
   },
   {
    "duration": 4,
    "start_time": "2021-09-21T08:47:28.860Z"
   },
   {
    "duration": 34,
    "start_time": "2021-09-21T08:47:28.866Z"
   },
   {
    "duration": 13,
    "start_time": "2021-09-21T08:47:28.902Z"
   },
   {
    "duration": 4,
    "start_time": "2021-09-21T08:47:28.916Z"
   },
   {
    "duration": 7,
    "start_time": "2021-09-21T08:47:28.921Z"
   },
   {
    "duration": 5,
    "start_time": "2021-09-21T08:47:28.929Z"
   },
   {
    "duration": 12,
    "start_time": "2021-09-21T08:47:28.935Z"
   },
   {
    "duration": 15,
    "start_time": "2021-09-21T08:47:28.948Z"
   },
   {
    "duration": 15,
    "start_time": "2021-09-21T08:47:28.964Z"
   },
   {
    "duration": 25,
    "start_time": "2021-09-21T08:47:28.980Z"
   },
   {
    "duration": 21,
    "start_time": "2021-09-21T08:47:29.007Z"
   },
   {
    "duration": 17,
    "start_time": "2021-09-21T08:47:29.030Z"
   },
   {
    "duration": 14,
    "start_time": "2021-09-21T08:47:29.048Z"
   },
   {
    "duration": 9,
    "start_time": "2021-09-21T08:47:29.064Z"
   },
   {
    "duration": 3,
    "start_time": "2021-09-21T08:47:29.101Z"
   },
   {
    "duration": 7,
    "start_time": "2021-09-21T08:47:29.106Z"
   },
   {
    "duration": 8623,
    "start_time": "2021-09-21T08:47:29.114Z"
   },
   {
    "duration": 2679,
    "start_time": "2021-09-21T08:47:37.740Z"
   },
   {
    "duration": 7,
    "start_time": "2021-09-21T08:47:40.421Z"
   },
   {
    "duration": 20,
    "start_time": "2021-09-21T08:47:40.430Z"
   },
   {
    "duration": 10,
    "start_time": "2021-09-21T08:47:40.452Z"
   },
   {
    "duration": 13,
    "start_time": "2021-09-21T08:47:40.463Z"
   },
   {
    "duration": 29,
    "start_time": "2021-09-21T08:47:40.477Z"
   },
   {
    "duration": 18,
    "start_time": "2021-09-21T08:47:40.508Z"
   },
   {
    "duration": 11,
    "start_time": "2021-09-21T08:47:40.528Z"
   },
   {
    "duration": 21,
    "start_time": "2021-09-21T08:47:40.541Z"
   },
   {
    "duration": 43,
    "start_time": "2021-09-21T08:47:40.564Z"
   },
   {
    "duration": 12,
    "start_time": "2021-09-21T08:47:40.608Z"
   },
   {
    "duration": 13,
    "start_time": "2021-09-21T08:47:40.621Z"
   },
   {
    "duration": 571,
    "start_time": "2021-09-21T08:48:25.404Z"
   },
   {
    "duration": 101,
    "start_time": "2021-09-21T08:48:25.977Z"
   },
   {
    "duration": 20,
    "start_time": "2021-09-21T08:48:26.079Z"
   },
   {
    "duration": 7,
    "start_time": "2021-09-21T08:48:26.101Z"
   },
   {
    "duration": 240,
    "start_time": "2021-09-21T08:48:26.110Z"
   },
   {
    "duration": 711,
    "start_time": "2021-09-21T08:48:25.643Z"
   },
   {
    "duration": 702,
    "start_time": "2021-09-21T08:48:25.653Z"
   },
   {
    "duration": 696,
    "start_time": "2021-09-21T08:48:25.659Z"
   },
   {
    "duration": 690,
    "start_time": "2021-09-21T08:48:25.666Z"
   },
   {
    "duration": 683,
    "start_time": "2021-09-21T08:48:25.674Z"
   },
   {
    "duration": 677,
    "start_time": "2021-09-21T08:48:25.681Z"
   },
   {
    "duration": 672,
    "start_time": "2021-09-21T08:48:25.687Z"
   },
   {
    "duration": 666,
    "start_time": "2021-09-21T08:48:25.694Z"
   },
   {
    "duration": 661,
    "start_time": "2021-09-21T08:48:25.700Z"
   },
   {
    "duration": 655,
    "start_time": "2021-09-21T08:48:25.707Z"
   },
   {
    "duration": 649,
    "start_time": "2021-09-21T08:48:25.713Z"
   },
   {
    "duration": 599,
    "start_time": "2021-09-21T08:48:25.764Z"
   },
   {
    "duration": 595,
    "start_time": "2021-09-21T08:48:25.769Z"
   },
   {
    "duration": 589,
    "start_time": "2021-09-21T08:48:25.776Z"
   },
   {
    "duration": 583,
    "start_time": "2021-09-21T08:48:25.783Z"
   },
   {
    "duration": 578,
    "start_time": "2021-09-21T08:48:25.789Z"
   },
   {
    "duration": 571,
    "start_time": "2021-09-21T08:48:25.797Z"
   },
   {
    "duration": 562,
    "start_time": "2021-09-21T08:48:25.807Z"
   },
   {
    "duration": 555,
    "start_time": "2021-09-21T08:48:25.814Z"
   },
   {
    "duration": 550,
    "start_time": "2021-09-21T08:48:25.820Z"
   },
   {
    "duration": 544,
    "start_time": "2021-09-21T08:48:25.827Z"
   },
   {
    "duration": 540,
    "start_time": "2021-09-21T08:48:25.832Z"
   },
   {
    "duration": 534,
    "start_time": "2021-09-21T08:48:25.839Z"
   },
   {
    "duration": 529,
    "start_time": "2021-09-21T08:48:25.845Z"
   },
   {
    "duration": 524,
    "start_time": "2021-09-21T08:48:25.851Z"
   },
   {
    "duration": 506,
    "start_time": "2021-09-21T08:48:25.870Z"
   },
   {
    "duration": 500,
    "start_time": "2021-09-21T08:48:25.877Z"
   },
   {
    "duration": 494,
    "start_time": "2021-09-21T08:48:25.884Z"
   },
   {
    "duration": 490,
    "start_time": "2021-09-21T08:48:25.889Z"
   },
   {
    "duration": 484,
    "start_time": "2021-09-21T08:48:25.896Z"
   },
   {
    "duration": 478,
    "start_time": "2021-09-21T08:48:25.902Z"
   },
   {
    "duration": 472,
    "start_time": "2021-09-21T08:48:25.909Z"
   },
   {
    "duration": 467,
    "start_time": "2021-09-21T08:48:25.915Z"
   },
   {
    "duration": 461,
    "start_time": "2021-09-21T08:48:25.922Z"
   },
   {
    "duration": 456,
    "start_time": "2021-09-21T08:48:25.928Z"
   },
   {
    "duration": 449,
    "start_time": "2021-09-21T08:48:25.936Z"
   },
   {
    "duration": 443,
    "start_time": "2021-09-21T08:48:25.943Z"
   },
   {
    "duration": 437,
    "start_time": "2021-09-21T08:48:25.950Z"
   },
   {
    "duration": 433,
    "start_time": "2021-09-21T08:48:25.955Z"
   },
   {
    "duration": 424,
    "start_time": "2021-09-21T08:48:25.965Z"
   },
   {
    "duration": 406,
    "start_time": "2021-09-21T08:48:25.984Z"
   },
   {
    "duration": 398,
    "start_time": "2021-09-21T08:48:25.992Z"
   },
   {
    "duration": 392,
    "start_time": "2021-09-21T08:48:25.999Z"
   },
   {
    "duration": 394,
    "start_time": "2021-09-21T08:48:26.006Z"
   },
   {
    "duration": 390,
    "start_time": "2021-09-21T08:48:26.011Z"
   },
   {
    "duration": 382,
    "start_time": "2021-09-21T08:48:26.020Z"
   },
   {
    "duration": 376,
    "start_time": "2021-09-21T08:48:26.026Z"
   },
   {
    "duration": 370,
    "start_time": "2021-09-21T08:48:26.033Z"
   },
   {
    "duration": 365,
    "start_time": "2021-09-21T08:48:26.039Z"
   },
   {
    "duration": 361,
    "start_time": "2021-09-21T08:48:26.044Z"
   },
   {
    "duration": 356,
    "start_time": "2021-09-21T08:48:26.050Z"
   },
   {
    "duration": 351,
    "start_time": "2021-09-21T08:48:26.056Z"
   },
   {
    "duration": 344,
    "start_time": "2021-09-21T08:48:26.064Z"
   },
   {
    "duration": 337,
    "start_time": "2021-09-21T08:48:26.072Z"
   },
   {
    "duration": 332,
    "start_time": "2021-09-21T08:48:26.078Z"
   },
   {
    "duration": 312,
    "start_time": "2021-09-21T08:48:26.098Z"
   },
   {
    "duration": 306,
    "start_time": "2021-09-21T08:48:26.105Z"
   },
   {
    "duration": 174,
    "start_time": "2021-09-21T08:48:44.364Z"
   },
   {
    "duration": 185,
    "start_time": "2021-09-21T08:49:07.785Z"
   },
   {
    "duration": 218,
    "start_time": "2021-09-21T08:49:46.696Z"
   },
   {
    "duration": 184,
    "start_time": "2021-09-21T08:49:53.892Z"
   },
   {
    "duration": 8,
    "start_time": "2021-09-21T08:50:34.131Z"
   },
   {
    "duration": 287,
    "start_time": "2021-09-21T08:51:58.176Z"
   },
   {
    "duration": 280,
    "start_time": "2021-09-21T08:52:19.069Z"
   },
   {
    "duration": 33,
    "start_time": "2021-09-21T08:53:49.270Z"
   },
   {
    "duration": 201,
    "start_time": "2021-09-21T08:58:00.819Z"
   },
   {
    "duration": 531,
    "start_time": "2021-09-21T08:58:43.954Z"
   },
   {
    "duration": 100,
    "start_time": "2021-09-21T08:58:44.487Z"
   },
   {
    "duration": 17,
    "start_time": "2021-09-21T08:58:44.589Z"
   },
   {
    "duration": 7,
    "start_time": "2021-09-21T08:58:44.608Z"
   },
   {
    "duration": 5027,
    "start_time": "2021-09-21T08:58:44.617Z"
   },
   {
    "duration": 756,
    "start_time": "2021-09-21T08:58:48.892Z"
   },
   {
    "duration": 748,
    "start_time": "2021-09-21T08:58:48.900Z"
   },
   {
    "duration": 740,
    "start_time": "2021-09-21T08:58:48.909Z"
   },
   {
    "duration": 732,
    "start_time": "2021-09-21T08:58:48.918Z"
   },
   {
    "duration": 724,
    "start_time": "2021-09-21T08:58:48.927Z"
   },
   {
    "duration": 716,
    "start_time": "2021-09-21T08:58:48.936Z"
   },
   {
    "duration": 709,
    "start_time": "2021-09-21T08:58:48.944Z"
   },
   {
    "duration": 692,
    "start_time": "2021-09-21T08:58:48.962Z"
   },
   {
    "duration": 685,
    "start_time": "2021-09-21T08:58:48.970Z"
   },
   {
    "duration": 680,
    "start_time": "2021-09-21T08:58:48.976Z"
   },
   {
    "duration": 675,
    "start_time": "2021-09-21T08:58:48.981Z"
   },
   {
    "duration": 659,
    "start_time": "2021-09-21T08:58:48.998Z"
   },
   {
    "duration": 655,
    "start_time": "2021-09-21T08:58:49.003Z"
   },
   {
    "duration": 647,
    "start_time": "2021-09-21T08:58:49.012Z"
   },
   {
    "duration": 642,
    "start_time": "2021-09-21T08:58:49.018Z"
   },
   {
    "duration": 637,
    "start_time": "2021-09-21T08:58:49.024Z"
   },
   {
    "duration": 633,
    "start_time": "2021-09-21T08:58:49.029Z"
   },
   {
    "duration": 627,
    "start_time": "2021-09-21T08:58:49.036Z"
   },
   {
    "duration": 613,
    "start_time": "2021-09-21T08:58:49.051Z"
   },
   {
    "duration": 574,
    "start_time": "2021-09-21T08:58:49.090Z"
   },
   {
    "duration": 550,
    "start_time": "2021-09-21T08:58:49.115Z"
   },
   {
    "duration": 519,
    "start_time": "2021-09-21T08:58:49.147Z"
   },
   {
    "duration": 508,
    "start_time": "2021-09-21T08:58:49.159Z"
   },
   {
    "duration": 504,
    "start_time": "2021-09-21T08:58:49.164Z"
   },
   {
    "duration": 494,
    "start_time": "2021-09-21T08:58:49.175Z"
   },
   {
    "duration": 485,
    "start_time": "2021-09-21T08:58:49.185Z"
   },
   {
    "duration": 472,
    "start_time": "2021-09-21T08:58:49.199Z"
   },
   {
    "duration": 464,
    "start_time": "2021-09-21T08:58:49.208Z"
   },
   {
    "duration": 457,
    "start_time": "2021-09-21T08:58:49.216Z"
   },
   {
    "duration": 446,
    "start_time": "2021-09-21T08:58:49.228Z"
   },
   {
    "duration": 442,
    "start_time": "2021-09-21T08:58:49.233Z"
   },
   {
    "duration": 436,
    "start_time": "2021-09-21T08:58:49.240Z"
   },
   {
    "duration": 412,
    "start_time": "2021-09-21T08:58:49.265Z"
   },
   {
    "duration": 399,
    "start_time": "2021-09-21T08:58:49.279Z"
   },
   {
    "duration": 395,
    "start_time": "2021-09-21T08:58:49.284Z"
   },
   {
    "duration": 389,
    "start_time": "2021-09-21T08:58:49.291Z"
   },
   {
    "duration": 383,
    "start_time": "2021-09-21T08:58:49.297Z"
   },
   {
    "duration": 378,
    "start_time": "2021-09-21T08:58:49.303Z"
   },
   {
    "duration": 373,
    "start_time": "2021-09-21T08:58:49.309Z"
   },
   {
    "duration": 368,
    "start_time": "2021-09-21T08:58:49.315Z"
   },
   {
    "duration": 363,
    "start_time": "2021-09-21T08:58:49.321Z"
   },
   {
    "duration": 372,
    "start_time": "2021-09-21T08:58:49.326Z"
   },
   {
    "duration": 367,
    "start_time": "2021-09-21T08:58:49.333Z"
   },
   {
    "duration": 361,
    "start_time": "2021-09-21T08:58:49.340Z"
   },
   {
    "duration": 357,
    "start_time": "2021-09-21T08:58:49.345Z"
   },
   {
    "duration": 352,
    "start_time": "2021-09-21T08:58:49.351Z"
   },
   {
    "duration": 345,
    "start_time": "2021-09-21T08:58:49.359Z"
   },
   {
    "duration": 319,
    "start_time": "2021-09-21T08:58:49.386Z"
   },
   {
    "duration": 312,
    "start_time": "2021-09-21T08:58:49.393Z"
   },
   {
    "duration": 307,
    "start_time": "2021-09-21T08:58:49.399Z"
   },
   {
    "duration": 303,
    "start_time": "2021-09-21T08:58:49.405Z"
   },
   {
    "duration": 297,
    "start_time": "2021-09-21T08:58:49.411Z"
   },
   {
    "duration": 292,
    "start_time": "2021-09-21T08:58:49.417Z"
   },
   {
    "duration": 286,
    "start_time": "2021-09-21T08:58:49.424Z"
   },
   {
    "duration": 281,
    "start_time": "2021-09-21T08:58:49.430Z"
   },
   {
    "duration": 276,
    "start_time": "2021-09-21T08:58:49.436Z"
   },
   {
    "duration": 271,
    "start_time": "2021-09-21T08:58:49.442Z"
   },
   {
    "duration": 52,
    "start_time": "2021-09-21T08:59:01.881Z"
   },
   {
    "duration": 49,
    "start_time": "2021-09-21T08:59:29.410Z"
   },
   {
    "duration": 61,
    "start_time": "2021-09-21T09:00:17.226Z"
   },
   {
    "duration": 545,
    "start_time": "2021-09-21T09:00:36.423Z"
   },
   {
    "duration": 101,
    "start_time": "2021-09-21T09:00:36.970Z"
   },
   {
    "duration": 27,
    "start_time": "2021-09-21T09:00:37.072Z"
   },
   {
    "duration": 6,
    "start_time": "2021-09-21T09:00:37.101Z"
   },
   {
    "duration": 78,
    "start_time": "2021-09-21T09:00:37.109Z"
   },
   {
    "duration": 11,
    "start_time": "2021-09-21T09:00:37.189Z"
   },
   {
    "duration": 15,
    "start_time": "2021-09-21T09:00:37.202Z"
   },
   {
    "duration": 15,
    "start_time": "2021-09-21T09:00:37.219Z"
   },
   {
    "duration": 12,
    "start_time": "2021-09-21T09:00:37.235Z"
   },
   {
    "duration": 9,
    "start_time": "2021-09-21T09:00:37.248Z"
   },
   {
    "duration": 29,
    "start_time": "2021-09-21T09:00:37.258Z"
   },
   {
    "duration": 14,
    "start_time": "2021-09-21T09:00:37.289Z"
   },
   {
    "duration": 12,
    "start_time": "2021-09-21T09:00:37.304Z"
   },
   {
    "duration": 8,
    "start_time": "2021-09-21T09:00:37.318Z"
   },
   {
    "duration": 12,
    "start_time": "2021-09-21T09:00:37.327Z"
   },
   {
    "duration": 11,
    "start_time": "2021-09-21T09:00:37.341Z"
   },
   {
    "duration": 16,
    "start_time": "2021-09-21T09:00:37.353Z"
   },
   {
    "duration": 12,
    "start_time": "2021-09-21T09:00:37.371Z"
   },
   {
    "duration": 16,
    "start_time": "2021-09-21T09:00:37.385Z"
   },
   {
    "duration": 8,
    "start_time": "2021-09-21T09:00:37.403Z"
   },
   {
    "duration": 9,
    "start_time": "2021-09-21T09:00:37.412Z"
   },
   {
    "duration": 13,
    "start_time": "2021-09-21T09:00:37.422Z"
   },
   {
    "duration": 3,
    "start_time": "2021-09-21T09:00:37.438Z"
   },
   {
    "duration": 8,
    "start_time": "2021-09-21T09:00:37.443Z"
   },
   {
    "duration": 12,
    "start_time": "2021-09-21T09:00:37.452Z"
   },
   {
    "duration": 39,
    "start_time": "2021-09-21T09:00:37.465Z"
   },
   {
    "duration": 11,
    "start_time": "2021-09-21T09:00:37.506Z"
   },
   {
    "duration": 4,
    "start_time": "2021-09-21T09:00:37.518Z"
   },
   {
    "duration": 40,
    "start_time": "2021-09-21T09:00:37.523Z"
   },
   {
    "duration": 4,
    "start_time": "2021-09-21T09:00:37.564Z"
   },
   {
    "duration": 33,
    "start_time": "2021-09-21T09:00:37.570Z"
   },
   {
    "duration": 7,
    "start_time": "2021-09-21T09:00:37.605Z"
   },
   {
    "duration": 38,
    "start_time": "2021-09-21T09:00:37.614Z"
   },
   {
    "duration": 4,
    "start_time": "2021-09-21T09:00:37.653Z"
   },
   {
    "duration": 14,
    "start_time": "2021-09-21T09:00:37.659Z"
   },
   {
    "duration": 30,
    "start_time": "2021-09-21T09:00:37.674Z"
   },
   {
    "duration": 3,
    "start_time": "2021-09-21T09:00:37.705Z"
   },
   {
    "duration": 7,
    "start_time": "2021-09-21T09:00:37.709Z"
   },
   {
    "duration": 5,
    "start_time": "2021-09-21T09:00:37.717Z"
   },
   {
    "duration": 15,
    "start_time": "2021-09-21T09:00:37.723Z"
   },
   {
    "duration": 15,
    "start_time": "2021-09-21T09:00:37.740Z"
   },
   {
    "duration": 12,
    "start_time": "2021-09-21T09:00:37.757Z"
   },
   {
    "duration": 31,
    "start_time": "2021-09-21T09:00:37.771Z"
   },
   {
    "duration": 19,
    "start_time": "2021-09-21T09:00:37.804Z"
   },
   {
    "duration": 17,
    "start_time": "2021-09-21T09:00:37.824Z"
   },
   {
    "duration": 14,
    "start_time": "2021-09-21T09:00:37.843Z"
   },
   {
    "duration": 10,
    "start_time": "2021-09-21T09:00:37.859Z"
   },
   {
    "duration": 30,
    "start_time": "2021-09-21T09:00:37.870Z"
   },
   {
    "duration": 10,
    "start_time": "2021-09-21T09:00:37.901Z"
   },
   {
    "duration": 8521,
    "start_time": "2021-09-21T09:00:37.912Z"
   },
   {
    "duration": 2717,
    "start_time": "2021-09-21T09:00:46.435Z"
   },
   {
    "duration": 8,
    "start_time": "2021-09-21T09:00:49.154Z"
   },
   {
    "duration": 37,
    "start_time": "2021-09-21T09:00:49.163Z"
   },
   {
    "duration": 12,
    "start_time": "2021-09-21T09:00:49.202Z"
   },
   {
    "duration": 19,
    "start_time": "2021-09-21T09:00:49.215Z"
   },
   {
    "duration": 22,
    "start_time": "2021-09-21T09:00:49.236Z"
   },
   {
    "duration": 41,
    "start_time": "2021-09-21T09:00:49.260Z"
   },
   {
    "duration": 13,
    "start_time": "2021-09-21T09:00:49.303Z"
   },
   {
    "duration": 20,
    "start_time": "2021-09-21T09:00:49.318Z"
   },
   {
    "duration": 15,
    "start_time": "2021-09-21T09:00:49.340Z"
   },
   {
    "duration": 45,
    "start_time": "2021-09-21T09:00:49.356Z"
   },
   {
    "duration": 12,
    "start_time": "2021-09-21T09:00:49.403Z"
   },
   {
    "duration": 59,
    "start_time": "2021-09-21T09:02:17.461Z"
   },
   {
    "duration": 55,
    "start_time": "2021-09-21T09:02:30.233Z"
   },
   {
    "duration": 617,
    "start_time": "2021-09-21T09:02:51.925Z"
   },
   {
    "duration": 115,
    "start_time": "2021-09-21T09:02:52.544Z"
   },
   {
    "duration": 11,
    "start_time": "2021-09-21T09:02:52.661Z"
   },
   {
    "duration": 7,
    "start_time": "2021-09-21T09:02:52.674Z"
   },
   {
    "duration": 33,
    "start_time": "2021-09-21T09:02:52.699Z"
   },
   {
    "duration": 4,
    "start_time": "2021-09-21T09:02:52.734Z"
   },
   {
    "duration": 7,
    "start_time": "2021-09-21T09:02:52.740Z"
   },
   {
    "duration": 5,
    "start_time": "2021-09-21T09:02:52.749Z"
   },
   {
    "duration": 7,
    "start_time": "2021-09-21T09:02:52.756Z"
   },
   {
    "duration": 10,
    "start_time": "2021-09-21T09:02:52.800Z"
   },
   {
    "duration": 29,
    "start_time": "2021-09-21T09:02:52.811Z"
   },
   {
    "duration": 8,
    "start_time": "2021-09-21T09:02:52.842Z"
   },
   {
    "duration": 13,
    "start_time": "2021-09-21T09:02:52.851Z"
   },
   {
    "duration": 34,
    "start_time": "2021-09-21T09:02:52.866Z"
   },
   {
    "duration": 7,
    "start_time": "2021-09-21T09:02:52.902Z"
   },
   {
    "duration": 9,
    "start_time": "2021-09-21T09:02:52.911Z"
   },
   {
    "duration": 9,
    "start_time": "2021-09-21T09:02:52.922Z"
   },
   {
    "duration": 6,
    "start_time": "2021-09-21T09:02:52.933Z"
   },
   {
    "duration": 7,
    "start_time": "2021-09-21T09:02:52.940Z"
   },
   {
    "duration": 7,
    "start_time": "2021-09-21T09:02:52.949Z"
   },
   {
    "duration": 48,
    "start_time": "2021-09-21T09:02:52.957Z"
   },
   {
    "duration": 17,
    "start_time": "2021-09-21T09:02:53.008Z"
   },
   {
    "duration": 3,
    "start_time": "2021-09-21T09:02:53.028Z"
   },
   {
    "duration": 11,
    "start_time": "2021-09-21T09:02:53.033Z"
   },
   {
    "duration": 10,
    "start_time": "2021-09-21T09:02:53.045Z"
   },
   {
    "duration": 7,
    "start_time": "2021-09-21T09:02:53.057Z"
   },
   {
    "duration": 45,
    "start_time": "2021-09-21T09:02:53.066Z"
   },
   {
    "duration": 5,
    "start_time": "2021-09-21T09:02:53.113Z"
   },
   {
    "duration": 52,
    "start_time": "2021-09-21T09:02:53.120Z"
   },
   {
    "duration": 5,
    "start_time": "2021-09-21T09:02:53.173Z"
   },
   {
    "duration": 9,
    "start_time": "2021-09-21T09:02:53.199Z"
   },
   {
    "duration": 14,
    "start_time": "2021-09-21T09:02:53.210Z"
   },
   {
    "duration": 40,
    "start_time": "2021-09-21T09:02:53.226Z"
   },
   {
    "duration": 5,
    "start_time": "2021-09-21T09:02:53.267Z"
   },
   {
    "duration": 38,
    "start_time": "2021-09-21T09:02:53.273Z"
   },
   {
    "duration": 14,
    "start_time": "2021-09-21T09:02:53.313Z"
   },
   {
    "duration": 4,
    "start_time": "2021-09-21T09:02:53.329Z"
   },
   {
    "duration": 5,
    "start_time": "2021-09-21T09:02:53.334Z"
   },
   {
    "duration": 3,
    "start_time": "2021-09-21T09:02:53.341Z"
   },
   {
    "duration": 11,
    "start_time": "2021-09-21T09:02:53.346Z"
   },
   {
    "duration": 20,
    "start_time": "2021-09-21T09:02:53.400Z"
   },
   {
    "duration": 15,
    "start_time": "2021-09-21T09:02:53.421Z"
   },
   {
    "duration": 11,
    "start_time": "2021-09-21T09:02:53.437Z"
   },
   {
    "duration": 27,
    "start_time": "2021-09-21T09:02:53.449Z"
   },
   {
    "duration": 41,
    "start_time": "2021-09-21T09:02:53.478Z"
   },
   {
    "duration": 16,
    "start_time": "2021-09-21T09:02:53.521Z"
   },
   {
    "duration": 9,
    "start_time": "2021-09-21T09:02:53.539Z"
   },
   {
    "duration": 5,
    "start_time": "2021-09-21T09:02:53.550Z"
   },
   {
    "duration": 16,
    "start_time": "2021-09-21T09:02:53.557Z"
   },
   {
    "duration": 9501,
    "start_time": "2021-09-21T09:02:53.574Z"
   },
   {
    "duration": 2784,
    "start_time": "2021-09-21T09:03:03.077Z"
   },
   {
    "duration": 8,
    "start_time": "2021-09-21T09:03:05.863Z"
   },
   {
    "duration": 33,
    "start_time": "2021-09-21T09:03:05.873Z"
   },
   {
    "duration": 14,
    "start_time": "2021-09-21T09:03:05.909Z"
   },
   {
    "duration": 13,
    "start_time": "2021-09-21T09:03:05.924Z"
   },
   {
    "duration": 18,
    "start_time": "2021-09-21T09:03:05.939Z"
   },
   {
    "duration": 19,
    "start_time": "2021-09-21T09:03:05.958Z"
   },
   {
    "duration": 19,
    "start_time": "2021-09-21T09:03:06.001Z"
   },
   {
    "duration": 20,
    "start_time": "2021-09-21T09:03:06.021Z"
   },
   {
    "duration": 12,
    "start_time": "2021-09-21T09:03:06.043Z"
   },
   {
    "duration": 12,
    "start_time": "2021-09-21T09:03:06.056Z"
   },
   {
    "duration": 18,
    "start_time": "2021-09-21T09:03:06.100Z"
   },
   {
    "duration": 63,
    "start_time": "2021-09-21T09:03:28.469Z"
   },
   {
    "duration": 53,
    "start_time": "2021-09-21T09:03:48.141Z"
   },
   {
    "duration": 73,
    "start_time": "2021-09-21T09:05:04.365Z"
   },
   {
    "duration": 266,
    "start_time": "2021-09-21T09:07:25.964Z"
   },
   {
    "duration": 60,
    "start_time": "2021-09-21T09:13:06.808Z"
   },
   {
    "duration": 69,
    "start_time": "2021-09-21T09:13:17.895Z"
   },
   {
    "duration": 607,
    "start_time": "2021-09-21T09:14:40.540Z"
   },
   {
    "duration": 102,
    "start_time": "2021-09-21T09:14:41.149Z"
   },
   {
    "duration": 9,
    "start_time": "2021-09-21T09:14:41.253Z"
   },
   {
    "duration": 8,
    "start_time": "2021-09-21T09:14:41.264Z"
   },
   {
    "duration": 58,
    "start_time": "2021-09-21T09:14:41.274Z"
   },
   {
    "duration": 5,
    "start_time": "2021-09-21T09:14:41.334Z"
   },
   {
    "duration": 9,
    "start_time": "2021-09-21T09:14:41.340Z"
   },
   {
    "duration": 6,
    "start_time": "2021-09-21T09:14:41.351Z"
   },
   {
    "duration": 11,
    "start_time": "2021-09-21T09:14:41.359Z"
   },
   {
    "duration": 8,
    "start_time": "2021-09-21T09:14:41.400Z"
   },
   {
    "duration": 38,
    "start_time": "2021-09-21T09:14:41.410Z"
   },
   {
    "duration": 7,
    "start_time": "2021-09-21T09:14:41.449Z"
   },
   {
    "duration": 13,
    "start_time": "2021-09-21T09:14:41.458Z"
   },
   {
    "duration": 29,
    "start_time": "2021-09-21T09:14:41.473Z"
   },
   {
    "duration": 14,
    "start_time": "2021-09-21T09:14:41.504Z"
   },
   {
    "duration": 11,
    "start_time": "2021-09-21T09:14:41.520Z"
   },
   {
    "duration": 13,
    "start_time": "2021-09-21T09:14:41.533Z"
   },
   {
    "duration": 9,
    "start_time": "2021-09-21T09:14:41.547Z"
   },
   {
    "duration": 16,
    "start_time": "2021-09-21T09:14:41.558Z"
   },
   {
    "duration": 25,
    "start_time": "2021-09-21T09:14:41.576Z"
   },
   {
    "duration": 9,
    "start_time": "2021-09-21T09:14:41.604Z"
   },
   {
    "duration": 15,
    "start_time": "2021-09-21T09:14:41.615Z"
   },
   {
    "duration": 6,
    "start_time": "2021-09-21T09:14:41.634Z"
   },
   {
    "duration": 14,
    "start_time": "2021-09-21T09:14:41.642Z"
   },
   {
    "duration": 19,
    "start_time": "2021-09-21T09:14:41.658Z"
   },
   {
    "duration": 25,
    "start_time": "2021-09-21T09:14:41.679Z"
   },
   {
    "duration": 14,
    "start_time": "2021-09-21T09:14:41.705Z"
   },
   {
    "duration": 5,
    "start_time": "2021-09-21T09:14:41.721Z"
   },
   {
    "duration": 42,
    "start_time": "2021-09-21T09:14:41.728Z"
   },
   {
    "duration": 29,
    "start_time": "2021-09-21T09:14:41.772Z"
   },
   {
    "duration": 8,
    "start_time": "2021-09-21T09:14:41.803Z"
   },
   {
    "duration": 10,
    "start_time": "2021-09-21T09:14:41.813Z"
   },
   {
    "duration": 40,
    "start_time": "2021-09-21T09:14:41.825Z"
   },
   {
    "duration": 33,
    "start_time": "2021-09-21T09:14:41.867Z"
   },
   {
    "duration": 10,
    "start_time": "2021-09-21T09:14:41.902Z"
   },
   {
    "duration": 15,
    "start_time": "2021-09-21T09:14:41.914Z"
   },
   {
    "duration": 4,
    "start_time": "2021-09-21T09:14:41.931Z"
   },
   {
    "duration": 9,
    "start_time": "2021-09-21T09:14:41.936Z"
   },
   {
    "duration": 7,
    "start_time": "2021-09-21T09:14:41.946Z"
   },
   {
    "duration": 14,
    "start_time": "2021-09-21T09:14:41.955Z"
   },
   {
    "duration": 48,
    "start_time": "2021-09-21T09:14:41.970Z"
   },
   {
    "duration": 17,
    "start_time": "2021-09-21T09:14:42.021Z"
   },
   {
    "duration": 12,
    "start_time": "2021-09-21T09:14:42.040Z"
   },
   {
    "duration": 24,
    "start_time": "2021-09-21T09:14:42.053Z"
   },
   {
    "duration": 38,
    "start_time": "2021-09-21T09:14:42.079Z"
   },
   {
    "duration": 16,
    "start_time": "2021-09-21T09:14:42.119Z"
   },
   {
    "duration": 10,
    "start_time": "2021-09-21T09:14:42.136Z"
   },
   {
    "duration": 7,
    "start_time": "2021-09-21T09:14:42.147Z"
   },
   {
    "duration": 10,
    "start_time": "2021-09-21T09:14:42.155Z"
   },
   {
    "duration": 9543,
    "start_time": "2021-09-21T09:14:42.166Z"
   },
   {
    "duration": 2853,
    "start_time": "2021-09-21T09:14:51.711Z"
   },
   {
    "duration": 7,
    "start_time": "2021-09-21T09:14:54.566Z"
   },
   {
    "duration": 37,
    "start_time": "2021-09-21T09:14:54.575Z"
   },
   {
    "duration": 12,
    "start_time": "2021-09-21T09:14:54.615Z"
   },
   {
    "duration": 13,
    "start_time": "2021-09-21T09:14:54.628Z"
   },
   {
    "duration": 15,
    "start_time": "2021-09-21T09:14:54.643Z"
   },
   {
    "duration": 41,
    "start_time": "2021-09-21T09:14:54.660Z"
   },
   {
    "duration": 20,
    "start_time": "2021-09-21T09:14:54.703Z"
   },
   {
    "duration": 23,
    "start_time": "2021-09-21T09:14:54.724Z"
   },
   {
    "duration": 13,
    "start_time": "2021-09-21T09:14:54.748Z"
   },
   {
    "duration": 43,
    "start_time": "2021-09-21T09:14:54.762Z"
   },
   {
    "duration": 17,
    "start_time": "2021-09-21T09:14:54.807Z"
   },
   {
    "duration": 526,
    "start_time": "2021-09-21T09:27:51.764Z"
   },
   {
    "duration": 112,
    "start_time": "2021-09-21T09:27:52.291Z"
   },
   {
    "duration": 15,
    "start_time": "2021-09-21T09:27:52.406Z"
   },
   {
    "duration": 9,
    "start_time": "2021-09-21T09:27:52.423Z"
   },
   {
    "duration": 31,
    "start_time": "2021-09-21T09:27:52.433Z"
   },
   {
    "duration": 15,
    "start_time": "2021-09-21T09:27:52.499Z"
   },
   {
    "duration": 12,
    "start_time": "2021-09-21T09:27:52.517Z"
   },
   {
    "duration": 13,
    "start_time": "2021-09-21T09:27:52.531Z"
   },
   {
    "duration": 10,
    "start_time": "2021-09-21T09:27:52.546Z"
   },
   {
    "duration": 42,
    "start_time": "2021-09-21T09:27:52.557Z"
   },
   {
    "duration": 15,
    "start_time": "2021-09-21T09:27:52.601Z"
   },
   {
    "duration": 15,
    "start_time": "2021-09-21T09:27:52.619Z"
   },
   {
    "duration": 15,
    "start_time": "2021-09-21T09:27:52.636Z"
   },
   {
    "duration": 25,
    "start_time": "2021-09-21T09:27:52.653Z"
   },
   {
    "duration": 6,
    "start_time": "2021-09-21T09:27:52.680Z"
   },
   {
    "duration": 22,
    "start_time": "2021-09-21T09:27:52.688Z"
   },
   {
    "duration": 6,
    "start_time": "2021-09-21T09:27:52.712Z"
   },
   {
    "duration": 50,
    "start_time": "2021-09-21T09:27:52.720Z"
   },
   {
    "duration": 5,
    "start_time": "2021-09-21T09:27:52.771Z"
   },
   {
    "duration": 16,
    "start_time": "2021-09-21T09:27:52.777Z"
   },
   {
    "duration": 12,
    "start_time": "2021-09-21T09:27:52.800Z"
   },
   {
    "duration": 42,
    "start_time": "2021-09-21T09:27:52.814Z"
   },
   {
    "duration": 5,
    "start_time": "2021-09-21T09:27:52.859Z"
   },
   {
    "duration": 17,
    "start_time": "2021-09-21T09:27:52.866Z"
   },
   {
    "duration": 17,
    "start_time": "2021-09-21T09:27:52.900Z"
   },
   {
    "duration": 10,
    "start_time": "2021-09-21T09:27:52.919Z"
   },
   {
    "duration": 12,
    "start_time": "2021-09-21T09:27:52.931Z"
   },
   {
    "duration": 12,
    "start_time": "2021-09-21T09:27:52.945Z"
   },
   {
    "duration": 24,
    "start_time": "2021-09-21T09:27:52.958Z"
   },
   {
    "duration": 22,
    "start_time": "2021-09-21T09:27:52.983Z"
   },
   {
    "duration": 22,
    "start_time": "2021-09-21T09:27:53.007Z"
   },
   {
    "duration": 19,
    "start_time": "2021-09-21T09:27:53.031Z"
   },
   {
    "duration": 28,
    "start_time": "2021-09-21T09:27:53.052Z"
   },
   {
    "duration": 22,
    "start_time": "2021-09-21T09:27:53.082Z"
   },
   {
    "duration": 20,
    "start_time": "2021-09-21T09:27:53.107Z"
   },
   {
    "duration": 11,
    "start_time": "2021-09-21T09:27:53.129Z"
   },
   {
    "duration": 4,
    "start_time": "2021-09-21T09:27:53.142Z"
   },
   {
    "duration": 12,
    "start_time": "2021-09-21T09:27:53.148Z"
   },
   {
    "duration": 8803,
    "start_time": "2021-09-21T09:27:53.162Z"
   },
   {
    "duration": 2795,
    "start_time": "2021-09-21T09:28:01.966Z"
   },
   {
    "duration": 7,
    "start_time": "2021-09-21T09:28:04.762Z"
   },
   {
    "duration": 30,
    "start_time": "2021-09-21T09:28:04.771Z"
   },
   {
    "duration": 32,
    "start_time": "2021-09-21T09:28:04.803Z"
   },
   {
    "duration": 23,
    "start_time": "2021-09-21T09:28:04.837Z"
   },
   {
    "duration": 28,
    "start_time": "2021-09-21T09:28:04.861Z"
   },
   {
    "duration": 35,
    "start_time": "2021-09-21T09:28:04.890Z"
   },
   {
    "duration": 16,
    "start_time": "2021-09-21T09:28:04.927Z"
   },
   {
    "duration": 28,
    "start_time": "2021-09-21T09:28:04.945Z"
   },
   {
    "duration": 33,
    "start_time": "2021-09-21T09:28:04.975Z"
   },
   {
    "duration": 26,
    "start_time": "2021-09-21T09:28:05.010Z"
   },
   {
    "duration": 17,
    "start_time": "2021-09-21T09:28:05.038Z"
   },
   {
    "duration": 10,
    "start_time": "2021-09-21T09:29:57.471Z"
   },
   {
    "duration": 15,
    "start_time": "2021-09-21T09:31:34.149Z"
   },
   {
    "duration": 19,
    "start_time": "2021-09-21T09:32:12.612Z"
   },
   {
    "duration": 19,
    "start_time": "2021-09-21T09:32:34.407Z"
   },
   {
    "duration": 16,
    "start_time": "2021-09-21T09:32:43.871Z"
   },
   {
    "duration": 548,
    "start_time": "2021-09-21T09:34:00.627Z"
   },
   {
    "duration": 132,
    "start_time": "2021-09-21T09:34:01.177Z"
   },
   {
    "duration": 14,
    "start_time": "2021-09-21T09:34:01.312Z"
   },
   {
    "duration": 21,
    "start_time": "2021-09-21T09:34:01.328Z"
   },
   {
    "duration": 28,
    "start_time": "2021-09-21T09:34:01.351Z"
   },
   {
    "duration": 30,
    "start_time": "2021-09-21T09:34:01.380Z"
   },
   {
    "duration": 7,
    "start_time": "2021-09-21T09:34:01.412Z"
   },
   {
    "duration": 20,
    "start_time": "2021-09-21T09:34:01.422Z"
   },
   {
    "duration": 13,
    "start_time": "2021-09-21T09:34:01.444Z"
   },
   {
    "duration": 40,
    "start_time": "2021-09-21T09:34:01.459Z"
   },
   {
    "duration": 5,
    "start_time": "2021-09-21T09:34:01.501Z"
   },
   {
    "duration": 26,
    "start_time": "2021-09-21T09:34:01.508Z"
   },
   {
    "duration": 7,
    "start_time": "2021-09-21T09:34:01.535Z"
   },
   {
    "duration": 31,
    "start_time": "2021-09-21T09:34:01.543Z"
   },
   {
    "duration": 4,
    "start_time": "2021-09-21T09:34:01.575Z"
   },
   {
    "duration": 55,
    "start_time": "2021-09-21T09:34:01.581Z"
   },
   {
    "duration": 4,
    "start_time": "2021-09-21T09:34:01.637Z"
   },
   {
    "duration": 12,
    "start_time": "2021-09-21T09:34:01.643Z"
   },
   {
    "duration": 15,
    "start_time": "2021-09-21T09:34:01.657Z"
   },
   {
    "duration": 64,
    "start_time": "2021-09-21T09:34:01.673Z"
   },
   {
    "duration": 4,
    "start_time": "2021-09-21T09:34:01.739Z"
   },
   {
    "duration": 20,
    "start_time": "2021-09-21T09:34:01.744Z"
   },
   {
    "duration": 13,
    "start_time": "2021-09-21T09:34:01.767Z"
   },
   {
    "duration": 8,
    "start_time": "2021-09-21T09:34:01.782Z"
   },
   {
    "duration": 7,
    "start_time": "2021-09-21T09:34:01.792Z"
   },
   {
    "duration": 12,
    "start_time": "2021-09-21T09:34:01.801Z"
   },
   {
    "duration": 16,
    "start_time": "2021-09-21T09:34:01.815Z"
   },
   {
    "duration": 16,
    "start_time": "2021-09-21T09:34:01.833Z"
   },
   {
    "duration": 19,
    "start_time": "2021-09-21T09:34:01.851Z"
   },
   {
    "duration": 11,
    "start_time": "2021-09-21T09:34:01.871Z"
   },
   {
    "duration": 33,
    "start_time": "2021-09-21T09:34:01.883Z"
   },
   {
    "duration": 21,
    "start_time": "2021-09-21T09:34:01.918Z"
   },
   {
    "duration": 17,
    "start_time": "2021-09-21T09:34:01.940Z"
   },
   {
    "duration": 11,
    "start_time": "2021-09-21T09:34:01.959Z"
   },
   {
    "duration": 30,
    "start_time": "2021-09-21T09:34:01.972Z"
   },
   {
    "duration": 8,
    "start_time": "2021-09-21T09:34:02.004Z"
   },
   {
    "duration": 9218,
    "start_time": "2021-09-21T09:34:02.014Z"
   },
   {
    "duration": 2937,
    "start_time": "2021-09-21T09:34:11.234Z"
   },
   {
    "duration": 7,
    "start_time": "2021-09-21T09:34:14.173Z"
   },
   {
    "duration": 31,
    "start_time": "2021-09-21T09:34:14.182Z"
   },
   {
    "duration": 11,
    "start_time": "2021-09-21T09:34:14.215Z"
   },
   {
    "duration": 12,
    "start_time": "2021-09-21T09:34:14.228Z"
   },
   {
    "duration": 12,
    "start_time": "2021-09-21T09:34:14.241Z"
   },
   {
    "duration": 46,
    "start_time": "2021-09-21T09:34:14.255Z"
   },
   {
    "duration": 19,
    "start_time": "2021-09-21T09:34:14.303Z"
   },
   {
    "duration": 22,
    "start_time": "2021-09-21T09:34:14.324Z"
   },
   {
    "duration": 11,
    "start_time": "2021-09-21T09:34:14.348Z"
   },
   {
    "duration": 10,
    "start_time": "2021-09-21T09:34:14.361Z"
   },
   {
    "duration": 40,
    "start_time": "2021-09-21T09:34:14.372Z"
   },
   {
    "duration": 10,
    "start_time": "2021-09-21T09:37:15.350Z"
   },
   {
    "duration": 627,
    "start_time": "2021-09-21T09:40:10.884Z"
   },
   {
    "duration": 115,
    "start_time": "2021-09-21T09:40:11.513Z"
   },
   {
    "duration": 10,
    "start_time": "2021-09-21T09:40:11.630Z"
   },
   {
    "duration": 10,
    "start_time": "2021-09-21T09:40:11.642Z"
   },
   {
    "duration": 51,
    "start_time": "2021-09-21T09:40:11.654Z"
   },
   {
    "duration": 16,
    "start_time": "2021-09-21T09:40:11.707Z"
   },
   {
    "duration": 5,
    "start_time": "2021-09-21T09:40:11.725Z"
   },
   {
    "duration": 8,
    "start_time": "2021-09-21T09:40:11.732Z"
   },
   {
    "duration": 6,
    "start_time": "2021-09-21T09:40:11.741Z"
   },
   {
    "duration": 57,
    "start_time": "2021-09-21T09:40:11.749Z"
   },
   {
    "duration": 3,
    "start_time": "2021-09-21T09:40:11.808Z"
   },
   {
    "duration": 20,
    "start_time": "2021-09-21T09:40:11.813Z"
   },
   {
    "duration": 7,
    "start_time": "2021-09-21T09:40:11.835Z"
   },
   {
    "duration": 63,
    "start_time": "2021-09-21T09:40:11.843Z"
   },
   {
    "duration": 15,
    "start_time": "2021-09-21T09:40:11.908Z"
   },
   {
    "duration": 8,
    "start_time": "2021-09-21T09:40:11.925Z"
   },
   {
    "duration": 11,
    "start_time": "2021-09-21T09:40:11.934Z"
   },
   {
    "duration": 56,
    "start_time": "2021-09-21T09:40:11.946Z"
   },
   {
    "duration": 7,
    "start_time": "2021-09-21T09:40:12.004Z"
   },
   {
    "duration": 14,
    "start_time": "2021-09-21T09:40:12.013Z"
   },
   {
    "duration": 10,
    "start_time": "2021-09-21T09:40:12.029Z"
   },
   {
    "duration": 6,
    "start_time": "2021-09-21T09:40:12.040Z"
   },
   {
    "duration": 6,
    "start_time": "2021-09-21T09:40:12.048Z"
   },
   {
    "duration": 6,
    "start_time": "2021-09-21T09:40:12.056Z"
   },
   {
    "duration": 21,
    "start_time": "2021-09-21T09:40:12.064Z"
   },
   {
    "duration": 16,
    "start_time": "2021-09-21T09:40:12.099Z"
   },
   {
    "duration": 19,
    "start_time": "2021-09-21T09:40:12.116Z"
   },
   {
    "duration": 14,
    "start_time": "2021-09-21T09:40:12.136Z"
   },
   {
    "duration": 20,
    "start_time": "2021-09-21T09:40:12.152Z"
   },
   {
    "duration": 35,
    "start_time": "2021-09-21T09:40:12.173Z"
   },
   {
    "duration": 16,
    "start_time": "2021-09-21T09:40:12.209Z"
   },
   {
    "duration": 10,
    "start_time": "2021-09-21T09:40:12.227Z"
   },
   {
    "duration": 8,
    "start_time": "2021-09-21T09:40:12.238Z"
   },
   {
    "duration": 10,
    "start_time": "2021-09-21T09:40:12.248Z"
   },
   {
    "duration": 8966,
    "start_time": "2021-09-21T09:40:12.259Z"
   },
   {
    "duration": 2834,
    "start_time": "2021-09-21T09:40:21.226Z"
   },
   {
    "duration": 8,
    "start_time": "2021-09-21T09:40:24.061Z"
   },
   {
    "duration": 33,
    "start_time": "2021-09-21T09:40:24.070Z"
   },
   {
    "duration": 16,
    "start_time": "2021-09-21T09:40:24.105Z"
   },
   {
    "duration": 20,
    "start_time": "2021-09-21T09:40:24.123Z"
   },
   {
    "duration": 19,
    "start_time": "2021-09-21T09:40:24.145Z"
   },
   {
    "duration": 15,
    "start_time": "2021-09-21T09:40:24.166Z"
   },
   {
    "duration": 24,
    "start_time": "2021-09-21T09:40:24.183Z"
   },
   {
    "duration": 25,
    "start_time": "2021-09-21T09:40:24.209Z"
   },
   {
    "duration": 13,
    "start_time": "2021-09-21T09:40:24.236Z"
   },
   {
    "duration": 11,
    "start_time": "2021-09-21T09:40:24.251Z"
   },
   {
    "duration": 40,
    "start_time": "2021-09-21T09:40:24.263Z"
   },
   {
    "duration": 255,
    "start_time": "2021-09-21T09:40:58.429Z"
   },
   {
    "duration": 320,
    "start_time": "2021-09-21T09:41:03.487Z"
   },
   {
    "duration": 5,
    "start_time": "2021-09-21T09:41:07.116Z"
   },
   {
    "duration": 1445,
    "start_time": "2021-09-21T09:42:56.955Z"
   },
   {
    "duration": 551,
    "start_time": "2021-09-21T09:43:14.303Z"
   },
   {
    "duration": 100,
    "start_time": "2021-09-21T09:43:14.856Z"
   },
   {
    "duration": 9,
    "start_time": "2021-09-21T09:43:14.958Z"
   },
   {
    "duration": 6,
    "start_time": "2021-09-21T09:43:14.969Z"
   },
   {
    "duration": 48,
    "start_time": "2021-09-21T09:43:14.977Z"
   },
   {
    "duration": 11,
    "start_time": "2021-09-21T09:43:15.026Z"
   },
   {
    "duration": 17,
    "start_time": "2021-09-21T09:43:15.038Z"
   },
   {
    "duration": 18,
    "start_time": "2021-09-21T09:43:15.057Z"
   },
   {
    "duration": 21,
    "start_time": "2021-09-21T09:43:15.077Z"
   },
   {
    "duration": 43,
    "start_time": "2021-09-21T09:43:15.099Z"
   },
   {
    "duration": 3,
    "start_time": "2021-09-21T09:43:15.144Z"
   },
   {
    "duration": 36,
    "start_time": "2021-09-21T09:43:15.148Z"
   },
   {
    "duration": 6,
    "start_time": "2021-09-21T09:43:15.186Z"
   },
   {
    "duration": 51,
    "start_time": "2021-09-21T09:43:15.194Z"
   },
   {
    "duration": 4,
    "start_time": "2021-09-21T09:43:15.247Z"
   },
   {
    "duration": 22,
    "start_time": "2021-09-21T09:43:15.253Z"
   },
   {
    "duration": 18,
    "start_time": "2021-09-21T09:43:15.277Z"
   },
   {
    "duration": 41,
    "start_time": "2021-09-21T09:43:15.296Z"
   },
   {
    "duration": 4,
    "start_time": "2021-09-21T09:43:15.338Z"
   },
   {
    "duration": 9,
    "start_time": "2021-09-21T09:43:15.344Z"
   },
   {
    "duration": 5,
    "start_time": "2021-09-21T09:43:15.354Z"
   },
   {
    "duration": 5,
    "start_time": "2021-09-21T09:43:15.360Z"
   },
   {
    "duration": 8,
    "start_time": "2021-09-21T09:43:15.367Z"
   },
   {
    "duration": 4,
    "start_time": "2021-09-21T09:43:15.376Z"
   },
   {
    "duration": 27,
    "start_time": "2021-09-21T09:43:15.381Z"
   },
   {
    "duration": 14,
    "start_time": "2021-09-21T09:43:15.409Z"
   },
   {
    "duration": 32,
    "start_time": "2021-09-21T09:43:15.424Z"
   },
   {
    "duration": 17,
    "start_time": "2021-09-21T09:43:15.458Z"
   },
   {
    "duration": 34,
    "start_time": "2021-09-21T09:43:15.476Z"
   },
   {
    "duration": 9,
    "start_time": "2021-09-21T09:43:15.512Z"
   },
   {
    "duration": 4,
    "start_time": "2021-09-21T09:43:15.522Z"
   },
   {
    "duration": 8,
    "start_time": "2021-09-21T09:43:15.527Z"
   },
   {
    "duration": 9131,
    "start_time": "2021-09-21T09:43:15.537Z"
   },
   {
    "duration": 2684,
    "start_time": "2021-09-21T09:43:24.670Z"
   },
   {
    "duration": 7,
    "start_time": "2021-09-21T09:43:27.356Z"
   },
   {
    "duration": 28,
    "start_time": "2021-09-21T09:43:27.365Z"
   },
   {
    "duration": 18,
    "start_time": "2021-09-21T09:43:27.399Z"
   },
   {
    "duration": 22,
    "start_time": "2021-09-21T09:43:27.419Z"
   },
   {
    "duration": 16,
    "start_time": "2021-09-21T09:43:27.443Z"
   },
   {
    "duration": 26,
    "start_time": "2021-09-21T09:43:27.460Z"
   },
   {
    "duration": 11,
    "start_time": "2021-09-21T09:43:27.488Z"
   },
   {
    "duration": 32,
    "start_time": "2021-09-21T09:43:27.501Z"
   },
   {
    "duration": 14,
    "start_time": "2021-09-21T09:43:27.535Z"
   },
   {
    "duration": 29,
    "start_time": "2021-09-21T09:43:27.552Z"
   },
   {
    "duration": 105,
    "start_time": "2021-09-21T09:43:27.584Z"
   },
   {
    "duration": 1513,
    "start_time": "2021-09-21T09:44:02.713Z"
   },
   {
    "duration": 550,
    "start_time": "2021-09-21T09:44:12.086Z"
   },
   {
    "duration": 94,
    "start_time": "2021-09-21T09:44:12.638Z"
   },
   {
    "duration": 9,
    "start_time": "2021-09-21T09:44:12.734Z"
   },
   {
    "duration": 14,
    "start_time": "2021-09-21T09:44:12.745Z"
   },
   {
    "duration": 42,
    "start_time": "2021-09-21T09:44:12.761Z"
   },
   {
    "duration": 10,
    "start_time": "2021-09-21T09:44:12.805Z"
   },
   {
    "duration": 21,
    "start_time": "2021-09-21T09:44:12.816Z"
   },
   {
    "duration": 19,
    "start_time": "2021-09-21T09:44:12.839Z"
   },
   {
    "duration": 19,
    "start_time": "2021-09-21T09:44:12.860Z"
   },
   {
    "duration": 42,
    "start_time": "2021-09-21T09:44:12.881Z"
   },
   {
    "duration": 3,
    "start_time": "2021-09-21T09:44:12.925Z"
   },
   {
    "duration": 29,
    "start_time": "2021-09-21T09:44:12.929Z"
   },
   {
    "duration": 14,
    "start_time": "2021-09-21T09:44:12.960Z"
   },
   {
    "duration": 41,
    "start_time": "2021-09-21T09:44:12.976Z"
   },
   {
    "duration": 4,
    "start_time": "2021-09-21T09:44:13.018Z"
   },
   {
    "duration": 26,
    "start_time": "2021-09-21T09:44:13.024Z"
   },
   {
    "duration": 16,
    "start_time": "2021-09-21T09:44:13.052Z"
   },
   {
    "duration": 45,
    "start_time": "2021-09-21T09:44:13.070Z"
   },
   {
    "duration": 4,
    "start_time": "2021-09-21T09:44:13.117Z"
   },
   {
    "duration": 18,
    "start_time": "2021-09-21T09:44:13.123Z"
   },
   {
    "duration": 15,
    "start_time": "2021-09-21T09:44:13.142Z"
   },
   {
    "duration": 11,
    "start_time": "2021-09-21T09:44:13.158Z"
   },
   {
    "duration": 7,
    "start_time": "2021-09-21T09:44:13.172Z"
   },
   {
    "duration": 18,
    "start_time": "2021-09-21T09:44:13.181Z"
   },
   {
    "duration": 18,
    "start_time": "2021-09-21T09:44:13.200Z"
   },
   {
    "duration": 24,
    "start_time": "2021-09-21T09:44:13.220Z"
   },
   {
    "duration": 27,
    "start_time": "2021-09-21T09:44:13.245Z"
   },
   {
    "duration": 20,
    "start_time": "2021-09-21T09:44:13.274Z"
   },
   {
    "duration": 17,
    "start_time": "2021-09-21T09:44:13.295Z"
   },
   {
    "duration": 9,
    "start_time": "2021-09-21T09:44:13.314Z"
   },
   {
    "duration": 16,
    "start_time": "2021-09-21T09:44:13.324Z"
   },
   {
    "duration": 10,
    "start_time": "2021-09-21T09:44:13.341Z"
   },
   {
    "duration": 8552,
    "start_time": "2021-09-21T09:44:13.352Z"
   },
   {
    "duration": 2818,
    "start_time": "2021-09-21T09:44:21.907Z"
   },
   {
    "duration": 8,
    "start_time": "2021-09-21T09:44:24.726Z"
   },
   {
    "duration": 24,
    "start_time": "2021-09-21T09:44:24.735Z"
   },
   {
    "duration": 19,
    "start_time": "2021-09-21T09:44:24.761Z"
   },
   {
    "duration": 33,
    "start_time": "2021-09-21T09:44:24.782Z"
   },
   {
    "duration": 15,
    "start_time": "2021-09-21T09:44:24.817Z"
   },
   {
    "duration": 27,
    "start_time": "2021-09-21T09:44:24.834Z"
   },
   {
    "duration": 14,
    "start_time": "2021-09-21T09:44:24.863Z"
   },
   {
    "duration": 37,
    "start_time": "2021-09-21T09:44:24.878Z"
   },
   {
    "duration": 17,
    "start_time": "2021-09-21T09:44:24.916Z"
   },
   {
    "duration": 27,
    "start_time": "2021-09-21T09:44:24.935Z"
   },
   {
    "duration": 34,
    "start_time": "2021-09-21T09:44:24.963Z"
   },
   {
    "duration": 612,
    "start_time": "2021-09-21T09:49:59.081Z"
   },
   {
    "duration": 96,
    "start_time": "2021-09-21T09:49:59.694Z"
   },
   {
    "duration": 12,
    "start_time": "2021-09-21T09:49:59.792Z"
   },
   {
    "duration": 6,
    "start_time": "2021-09-21T09:49:59.806Z"
   },
   {
    "duration": 28,
    "start_time": "2021-09-21T09:49:59.814Z"
   },
   {
    "duration": 11,
    "start_time": "2021-09-21T09:49:59.843Z"
   },
   {
    "duration": 6,
    "start_time": "2021-09-21T09:49:59.855Z"
   },
   {
    "duration": 42,
    "start_time": "2021-09-21T09:49:59.863Z"
   },
   {
    "duration": 5,
    "start_time": "2021-09-21T09:49:59.908Z"
   },
   {
    "duration": 32,
    "start_time": "2021-09-21T09:49:59.914Z"
   },
   {
    "duration": 4,
    "start_time": "2021-09-21T09:49:59.947Z"
   },
   {
    "duration": 18,
    "start_time": "2021-09-21T09:49:59.952Z"
   },
   {
    "duration": 8,
    "start_time": "2021-09-21T09:50:00.000Z"
   },
   {
    "duration": 43,
    "start_time": "2021-09-21T09:50:00.010Z"
   },
   {
    "duration": 4,
    "start_time": "2021-09-21T09:50:00.055Z"
   },
   {
    "duration": 11,
    "start_time": "2021-09-21T09:50:00.060Z"
   },
   {
    "duration": 33,
    "start_time": "2021-09-21T09:50:00.073Z"
   },
   {
    "duration": 39,
    "start_time": "2021-09-21T09:50:00.107Z"
   },
   {
    "duration": 4,
    "start_time": "2021-09-21T09:50:00.147Z"
   },
   {
    "duration": 14,
    "start_time": "2021-09-21T09:50:00.153Z"
   },
   {
    "duration": 20,
    "start_time": "2021-09-21T09:50:00.169Z"
   },
   {
    "duration": 14,
    "start_time": "2021-09-21T09:50:00.191Z"
   },
   {
    "duration": 37,
    "start_time": "2021-09-21T09:50:00.207Z"
   },
   {
    "duration": 15,
    "start_time": "2021-09-21T09:50:00.246Z"
   },
   {
    "duration": 34,
    "start_time": "2021-09-21T09:50:00.263Z"
   },
   {
    "duration": 44,
    "start_time": "2021-09-21T09:50:00.298Z"
   },
   {
    "duration": 38,
    "start_time": "2021-09-21T09:50:00.344Z"
   },
   {
    "duration": 20,
    "start_time": "2021-09-21T09:50:00.384Z"
   },
   {
    "duration": 9170,
    "start_time": "2021-09-21T09:50:00.406Z"
   },
   {
    "duration": 2588,
    "start_time": "2021-09-21T09:50:09.578Z"
   },
   {
    "duration": 8,
    "start_time": "2021-09-21T09:50:12.167Z"
   },
   {
    "duration": 24,
    "start_time": "2021-09-21T09:50:12.176Z"
   },
   {
    "duration": 12,
    "start_time": "2021-09-21T09:50:12.202Z"
   },
   {
    "duration": 21,
    "start_time": "2021-09-21T09:50:12.215Z"
   },
   {
    "duration": 19,
    "start_time": "2021-09-21T09:50:12.237Z"
   },
   {
    "duration": 12,
    "start_time": "2021-09-21T09:50:12.258Z"
   },
   {
    "duration": 41,
    "start_time": "2021-09-21T09:50:12.271Z"
   },
   {
    "duration": 12,
    "start_time": "2021-09-21T09:50:12.313Z"
   },
   {
    "duration": 12,
    "start_time": "2021-09-21T09:50:12.326Z"
   },
   {
    "duration": 14,
    "start_time": "2021-09-21T09:50:12.340Z"
   },
   {
    "duration": 8,
    "start_time": "2021-09-21T09:52:07.569Z"
   },
   {
    "duration": 10,
    "start_time": "2021-09-21T09:52:17.201Z"
   },
   {
    "duration": 13,
    "start_time": "2021-09-21T09:52:59.999Z"
   },
   {
    "duration": 11,
    "start_time": "2021-09-21T09:53:12.218Z"
   },
   {
    "duration": 569,
    "start_time": "2021-09-21T09:55:28.794Z"
   },
   {
    "duration": 94,
    "start_time": "2021-09-21T09:55:29.364Z"
   },
   {
    "duration": 9,
    "start_time": "2021-09-21T09:55:29.460Z"
   },
   {
    "duration": 8,
    "start_time": "2021-09-21T09:55:29.470Z"
   },
   {
    "duration": 43,
    "start_time": "2021-09-21T09:55:29.479Z"
   },
   {
    "duration": 11,
    "start_time": "2021-09-21T09:55:29.524Z"
   },
   {
    "duration": 9,
    "start_time": "2021-09-21T09:55:29.537Z"
   },
   {
    "duration": 8,
    "start_time": "2021-09-21T09:55:29.549Z"
   },
   {
    "duration": 12,
    "start_time": "2021-09-21T09:55:29.559Z"
   },
   {
    "duration": 44,
    "start_time": "2021-09-21T09:55:29.573Z"
   },
   {
    "duration": 3,
    "start_time": "2021-09-21T09:55:29.619Z"
   },
   {
    "duration": 26,
    "start_time": "2021-09-21T09:55:29.623Z"
   },
   {
    "duration": 6,
    "start_time": "2021-09-21T09:55:29.650Z"
   },
   {
    "duration": 51,
    "start_time": "2021-09-21T09:55:29.658Z"
   },
   {
    "duration": 4,
    "start_time": "2021-09-21T09:55:29.711Z"
   },
   {
    "duration": 8,
    "start_time": "2021-09-21T09:55:29.716Z"
   },
   {
    "duration": 11,
    "start_time": "2021-09-21T09:55:29.725Z"
   },
   {
    "duration": 36,
    "start_time": "2021-09-21T09:55:29.738Z"
   },
   {
    "duration": 24,
    "start_time": "2021-09-21T09:55:29.776Z"
   },
   {
    "duration": 13,
    "start_time": "2021-09-21T09:55:29.802Z"
   },
   {
    "duration": 7,
    "start_time": "2021-09-21T09:55:29.816Z"
   },
   {
    "duration": 13,
    "start_time": "2021-09-21T09:55:29.824Z"
   },
   {
    "duration": 10,
    "start_time": "2021-09-21T09:55:29.839Z"
   },
   {
    "duration": 5,
    "start_time": "2021-09-21T09:55:29.851Z"
   },
   {
    "duration": 21,
    "start_time": "2021-09-21T09:55:29.858Z"
   },
   {
    "duration": 13,
    "start_time": "2021-09-21T09:55:29.880Z"
   },
   {
    "duration": 31,
    "start_time": "2021-09-21T09:55:29.894Z"
   },
   {
    "duration": 17,
    "start_time": "2021-09-21T09:55:29.926Z"
   },
   {
    "duration": 8978,
    "start_time": "2021-09-21T09:55:29.945Z"
   },
   {
    "duration": 2749,
    "start_time": "2021-09-21T09:55:38.925Z"
   },
   {
    "duration": 7,
    "start_time": "2021-09-21T09:55:41.676Z"
   },
   {
    "duration": 9,
    "start_time": "2021-09-21T09:55:41.699Z"
   },
   {
    "duration": 13,
    "start_time": "2021-09-21T09:55:41.710Z"
   },
   {
    "duration": 14,
    "start_time": "2021-09-21T09:55:41.724Z"
   },
   {
    "duration": 14,
    "start_time": "2021-09-21T09:55:41.739Z"
   },
   {
    "duration": 13,
    "start_time": "2021-09-21T09:55:41.754Z"
   },
   {
    "duration": 47,
    "start_time": "2021-09-21T09:55:41.768Z"
   },
   {
    "duration": 12,
    "start_time": "2021-09-21T09:55:41.817Z"
   },
   {
    "duration": 11,
    "start_time": "2021-09-21T09:55:41.830Z"
   },
   {
    "duration": 11,
    "start_time": "2021-09-21T09:55:41.843Z"
   },
   {
    "duration": 557,
    "start_time": "2021-09-21T10:00:09.171Z"
   },
   {
    "duration": 103,
    "start_time": "2021-09-21T10:00:09.730Z"
   },
   {
    "duration": 10,
    "start_time": "2021-09-21T10:00:09.836Z"
   },
   {
    "duration": 8,
    "start_time": "2021-09-21T10:00:09.849Z"
   },
   {
    "duration": 57,
    "start_time": "2021-09-21T10:00:09.859Z"
   },
   {
    "duration": 12,
    "start_time": "2021-09-21T10:00:09.918Z"
   },
   {
    "duration": 10,
    "start_time": "2021-09-21T10:00:09.932Z"
   },
   {
    "duration": 11,
    "start_time": "2021-09-21T10:00:09.945Z"
   },
   {
    "duration": 7,
    "start_time": "2021-09-21T10:00:09.958Z"
   },
   {
    "duration": 58,
    "start_time": "2021-09-21T10:00:09.966Z"
   },
   {
    "duration": 4,
    "start_time": "2021-09-21T10:00:10.026Z"
   },
   {
    "duration": 20,
    "start_time": "2021-09-21T10:00:10.032Z"
   },
   {
    "duration": 8,
    "start_time": "2021-09-21T10:00:10.054Z"
   },
   {
    "duration": 65,
    "start_time": "2021-09-21T10:00:10.063Z"
   },
   {
    "duration": 6,
    "start_time": "2021-09-21T10:00:10.129Z"
   },
   {
    "duration": 11,
    "start_time": "2021-09-21T10:00:10.136Z"
   },
   {
    "duration": 11,
    "start_time": "2021-09-21T10:00:10.149Z"
   },
   {
    "duration": 62,
    "start_time": "2021-09-21T10:00:10.162Z"
   },
   {
    "duration": 6,
    "start_time": "2021-09-21T10:00:10.225Z"
   },
   {
    "duration": 12,
    "start_time": "2021-09-21T10:00:10.233Z"
   },
   {
    "duration": 6,
    "start_time": "2021-09-21T10:00:10.247Z"
   },
   {
    "duration": 8,
    "start_time": "2021-09-21T10:00:10.254Z"
   },
   {
    "duration": 5,
    "start_time": "2021-09-21T10:00:10.266Z"
   },
   {
    "duration": 10,
    "start_time": "2021-09-21T10:00:10.272Z"
   },
   {
    "duration": 12,
    "start_time": "2021-09-21T10:00:10.300Z"
   },
   {
    "duration": 14,
    "start_time": "2021-09-21T10:00:10.313Z"
   },
   {
    "duration": 27,
    "start_time": "2021-09-21T10:00:10.329Z"
   },
   {
    "duration": 20,
    "start_time": "2021-09-21T10:00:10.358Z"
   },
   {
    "duration": 8804,
    "start_time": "2021-09-21T10:00:10.400Z"
   },
   {
    "duration": 2699,
    "start_time": "2021-09-21T10:00:19.206Z"
   },
   {
    "duration": 7,
    "start_time": "2021-09-21T10:00:21.907Z"
   },
   {
    "duration": 28,
    "start_time": "2021-09-21T10:00:21.915Z"
   },
   {
    "duration": 17,
    "start_time": "2021-09-21T10:00:21.944Z"
   },
   {
    "duration": 31,
    "start_time": "2021-09-21T10:00:21.962Z"
   },
   {
    "duration": 39,
    "start_time": "2021-09-21T10:00:21.995Z"
   },
   {
    "duration": 15,
    "start_time": "2021-09-21T10:00:22.035Z"
   },
   {
    "duration": 44,
    "start_time": "2021-09-21T10:00:22.051Z"
   },
   {
    "duration": 14,
    "start_time": "2021-09-21T10:00:22.097Z"
   },
   {
    "duration": 16,
    "start_time": "2021-09-21T10:00:22.113Z"
   },
   {
    "duration": 10,
    "start_time": "2021-09-21T10:00:22.131Z"
   },
   {
    "duration": 590,
    "start_time": "2021-10-07T12:00:20.649Z"
   },
   {
    "duration": 101,
    "start_time": "2021-10-07T12:00:21.240Z"
   },
   {
    "duration": 11,
    "start_time": "2021-10-07T12:00:21.348Z"
   },
   {
    "duration": 12,
    "start_time": "2021-10-07T12:00:21.361Z"
   },
   {
    "duration": 28,
    "start_time": "2021-10-07T12:00:21.375Z"
   },
   {
    "duration": 11,
    "start_time": "2021-10-07T12:00:21.405Z"
   },
   {
    "duration": 28,
    "start_time": "2021-10-07T12:00:21.417Z"
   },
   {
    "duration": 21,
    "start_time": "2021-10-07T12:00:21.447Z"
   },
   {
    "duration": 6,
    "start_time": "2021-10-07T12:00:21.470Z"
   },
   {
    "duration": 38,
    "start_time": "2021-10-07T12:00:21.478Z"
   },
   {
    "duration": 4,
    "start_time": "2021-10-07T12:00:21.517Z"
   },
   {
    "duration": 28,
    "start_time": "2021-10-07T12:00:21.522Z"
   },
   {
    "duration": 9,
    "start_time": "2021-10-07T12:00:21.552Z"
   },
   {
    "duration": 65,
    "start_time": "2021-10-07T12:00:21.563Z"
   },
   {
    "duration": 4,
    "start_time": "2021-10-07T12:00:21.630Z"
   },
   {
    "duration": 29,
    "start_time": "2021-10-07T12:00:21.636Z"
   },
   {
    "duration": 27,
    "start_time": "2021-10-07T12:00:21.667Z"
   },
   {
    "duration": 50,
    "start_time": "2021-10-07T12:00:21.696Z"
   },
   {
    "duration": 4,
    "start_time": "2021-10-07T12:00:21.748Z"
   },
   {
    "duration": 27,
    "start_time": "2021-10-07T12:00:21.754Z"
   },
   {
    "duration": 20,
    "start_time": "2021-10-07T12:00:21.782Z"
   },
   {
    "duration": 21,
    "start_time": "2021-10-07T12:00:21.804Z"
   },
   {
    "duration": 22,
    "start_time": "2021-10-07T12:00:21.829Z"
   },
   {
    "duration": 20,
    "start_time": "2021-10-07T12:00:21.853Z"
   },
   {
    "duration": 32,
    "start_time": "2021-10-07T12:00:21.875Z"
   },
   {
    "duration": 26,
    "start_time": "2021-10-07T12:00:21.908Z"
   },
   {
    "duration": 48,
    "start_time": "2021-10-07T12:00:21.935Z"
   },
   {
    "duration": 29,
    "start_time": "2021-10-07T12:00:21.985Z"
   },
   {
    "duration": 9335,
    "start_time": "2021-10-07T12:00:22.016Z"
   },
   {
    "duration": 2795,
    "start_time": "2021-10-07T12:00:31.353Z"
   },
   {
    "duration": 7,
    "start_time": "2021-10-07T12:00:34.150Z"
   },
   {
    "duration": 17,
    "start_time": "2021-10-07T12:00:34.159Z"
   },
   {
    "duration": 15,
    "start_time": "2021-10-07T12:00:34.177Z"
   },
   {
    "duration": 16,
    "start_time": "2021-10-07T12:00:34.194Z"
   },
   {
    "duration": 34,
    "start_time": "2021-10-07T12:00:34.212Z"
   },
   {
    "duration": 13,
    "start_time": "2021-10-07T12:00:34.248Z"
   },
   {
    "duration": 21,
    "start_time": "2021-10-07T12:00:34.263Z"
   },
   {
    "duration": 12,
    "start_time": "2021-10-07T12:00:34.286Z"
   },
   {
    "duration": 12,
    "start_time": "2021-10-07T12:00:34.299Z"
   },
   {
    "duration": 42,
    "start_time": "2021-10-07T12:00:34.313Z"
   },
   {
    "duration": 552,
    "start_time": "2021-10-07T12:09:33.571Z"
   },
   {
    "duration": 102,
    "start_time": "2021-10-07T12:09:34.125Z"
   },
   {
    "duration": 15,
    "start_time": "2021-10-07T12:09:34.229Z"
   },
   {
    "duration": 8,
    "start_time": "2021-10-07T12:09:34.247Z"
   },
   {
    "duration": 36,
    "start_time": "2021-10-07T12:09:34.257Z"
   },
   {
    "duration": 11,
    "start_time": "2021-10-07T12:09:34.295Z"
   },
   {
    "duration": 7,
    "start_time": "2021-10-07T12:09:34.356Z"
   },
   {
    "duration": 8,
    "start_time": "2021-10-07T12:09:34.458Z"
   },
   {
    "duration": 6,
    "start_time": "2021-10-07T12:09:34.561Z"
   },
   {
    "duration": 30,
    "start_time": "2021-10-07T12:09:34.664Z"
   },
   {
    "duration": 4,
    "start_time": "2021-10-07T12:09:34.778Z"
   },
   {
    "duration": 17,
    "start_time": "2021-10-07T12:09:34.926Z"
   },
   {
    "duration": 10,
    "start_time": "2021-10-07T12:09:35.131Z"
   },
   {
    "duration": 45,
    "start_time": "2021-10-07T12:09:35.143Z"
   },
   {
    "duration": 5,
    "start_time": "2021-10-07T12:09:35.189Z"
   },
   {
    "duration": 6,
    "start_time": "2021-10-07T12:09:35.338Z"
   },
   {
    "duration": 11,
    "start_time": "2021-10-07T12:09:35.346Z"
   },
   {
    "duration": 38,
    "start_time": "2021-10-07T12:09:35.359Z"
   },
   {
    "duration": 5,
    "start_time": "2021-10-07T12:09:35.457Z"
   },
   {
    "duration": 10,
    "start_time": "2021-10-07T12:09:35.564Z"
   },
   {
    "duration": 7,
    "start_time": "2021-10-07T12:09:35.937Z"
   },
   {
    "duration": 7,
    "start_time": "2021-10-07T12:09:35.946Z"
   },
   {
    "duration": 4,
    "start_time": "2021-10-07T12:09:35.955Z"
   },
   {
    "duration": 7,
    "start_time": "2021-10-07T12:09:35.960Z"
   },
   {
    "duration": 11,
    "start_time": "2021-10-07T12:09:36.062Z"
   },
   {
    "duration": 15,
    "start_time": "2021-10-07T12:09:36.075Z"
   },
   {
    "duration": 27,
    "start_time": "2021-10-07T12:09:36.170Z"
   },
   {
    "duration": 20,
    "start_time": "2021-10-07T12:09:36.277Z"
   },
   {
    "duration": 9262,
    "start_time": "2021-10-07T12:09:36.484Z"
   },
   {
    "duration": 2924,
    "start_time": "2021-10-07T12:09:45.748Z"
   },
   {
    "duration": 8,
    "start_time": "2021-10-07T12:09:48.674Z"
   },
   {
    "duration": 11,
    "start_time": "2021-10-07T12:09:48.684Z"
   },
   {
    "duration": 14,
    "start_time": "2021-10-07T12:09:48.697Z"
   },
   {
    "duration": 40,
    "start_time": "2021-10-07T12:09:48.713Z"
   },
   {
    "duration": 15,
    "start_time": "2021-10-07T12:09:48.755Z"
   },
   {
    "duration": 12,
    "start_time": "2021-10-07T12:09:48.773Z"
   },
   {
    "duration": 18,
    "start_time": "2021-10-07T12:09:48.787Z"
   },
   {
    "duration": 38,
    "start_time": "2021-10-07T12:09:48.807Z"
   },
   {
    "duration": 12,
    "start_time": "2021-10-07T12:09:48.847Z"
   },
   {
    "duration": 12,
    "start_time": "2021-10-07T12:09:48.860Z"
   }
  ],
  "kernelspec": {
   "display_name": "Python 3",
   "language": "python",
   "name": "python3"
  },
  "language_info": {
   "codemirror_mode": {
    "name": "ipython",
    "version": 3
   },
   "file_extension": ".py",
   "mimetype": "text/x-python",
   "name": "python",
   "nbconvert_exporter": "python",
   "pygments_lexer": "ipython3",
   "version": "3.7.8"
  },
  "toc": {
   "base_numbering": 1,
   "nav_menu": {},
   "number_sections": true,
   "sideBar": true,
   "skip_h1_title": true,
   "title_cell": "План проекта",
   "title_sidebar": "Contents",
   "toc_cell": true,
   "toc_position": {
    "height": "calc(100% - 180px)",
    "left": "10px",
    "top": "150px",
    "width": "238.396px"
   },
   "toc_section_display": true,
   "toc_window_display": true
  }
 },
 "nbformat": 4,
 "nbformat_minor": 2
}
