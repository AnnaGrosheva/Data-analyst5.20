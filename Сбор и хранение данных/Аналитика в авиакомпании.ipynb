{
 "cells": [
  {
   "cell_type": "markdown",
   "metadata": {},
   "source": [
    "# Аналитика в авиакомпании"
   ]
  },
  {
   "cell_type": "markdown",
   "metadata": {},
   "source": [
    "# Краткое описание проекта"
   ]
  },
  {
   "cell_type": "markdown",
   "metadata": {},
   "source": [
    "***Цели проекта:***\n",
    "\n",
    "- Собрать при помощи парсера данные с сайта об 11 крупнейших фестивалях 2018 года.\n",
    "- При помощи PostgreSQL отобрать только нужные данные.\n",
    "- На основе имеющейся базы данных провести анализ спроса пассажиров на рейсы в города где проходят крупные фестивали."
   ]
  },
  {
   "cell_type": "markdown",
   "metadata": {},
   "source": [
    "***Имеющиеся данные:***\n",
    "\n",
    "В нашем распоряжении есть данные с результатми запросов. Имеющиеся датасеты содержат в себе следующую информацию:\n",
    "\n",
    "/datasets/query_1.csv — результат первого запроса. В нём содержится информация о:\n",
    "- model — модели самолета\n",
    "- flights_amount — количество рейсов для каждой модели самолетов model в сентябре 2018 года\n",
    "\n",
    "/datasets/query_3.csv — результат третьего запроса. В нём содержится информация о:\n",
    "- city — городах\n",
    "- average_flights — среднем количестве рейсов, прибывающих в город city за день в августе 2018 года"
   ]
  },
  {
   "cell_type": "markdown",
   "metadata": {
    "toc": true
   },
   "source": [
    "<h1>План<span class=\"tocSkip\"></span></h1>\n",
    "<div class=\"toc\"><ul class=\"toc-item\"><li><span><a href=\"#Парсер\" data-toc-modified-id=\"Парсер-1\"><span class=\"toc-item-num\">1&nbsp;&nbsp;</span>Парсер</a></span></li><li><span><a href=\"#PostgreSQL\" data-toc-modified-id=\"PostgreSQL-2\"><span class=\"toc-item-num\">2&nbsp;&nbsp;</span>PostgreSQL</a></span></li><li><span><a href=\"#Изучение-данных-из-файлов\" data-toc-modified-id=\"Изучение-данных-из-файлов-3\"><span class=\"toc-item-num\">3&nbsp;&nbsp;</span>Изучение данных из файлов</a></span></li><li><span><a href=\"#Предобработка-данных\" data-toc-modified-id=\"Предобработка-данных-4\"><span class=\"toc-item-num\">4&nbsp;&nbsp;</span>Предобработка данных</a></span></li><li><span><a href=\"#Анализ-данных\" data-toc-modified-id=\"Анализ-данных-5\"><span class=\"toc-item-num\">5&nbsp;&nbsp;</span>Анализ данных</a></span><ul class=\"toc-item\"><li><span><a href=\"#Модели-самолетов-и-количество-рейсов\" data-toc-modified-id=\"Модели-самолетов-и-количество-рейсов-5.1\"><span class=\"toc-item-num\">5.1&nbsp;&nbsp;</span>Модели самолетов и количество рейсов</a></span></li><li><span><a href=\"#Города-и-количество-рейсов\" data-toc-modified-id=\"Города-и-количество-рейсов-5.2\"><span class=\"toc-item-num\">5.2&nbsp;&nbsp;</span>Города и количество рейсов</a></span></li><li><span><a href=\"#Топ-10-городов-и-количество-рейсов\" data-toc-modified-id=\"Топ-10-городов-и-количество-рейсов-5.3\"><span class=\"toc-item-num\">5.3&nbsp;&nbsp;</span>Топ-10 городов и количество рейсов</a></span></li></ul></li><li><span><a href=\"#Выводы\" data-toc-modified-id=\"Выводы-6\"><span class=\"toc-item-num\">6&nbsp;&nbsp;</span>Выводы</a></span></li></ul></div>"
   ]
  },
  {
   "cell_type": "markdown",
   "metadata": {},
   "source": [
    "# Выводы"
   ]
  },
  {
   "cell_type": "markdown",
   "metadata": {},
   "source": [
    "**Модели самолетов и количество рейсов:**\n",
    "\n",
    "- Наиболее популярными самолетами на внутренних авиарейсах в России являются ***bombardier crj-200***, ***cessna 208 caravan*** и ***sukhoi superjet-100*** - самое большее количество перелетов приходится именно на эти модели по состоянию на 2018 год. Это объясняется тем, что финансовая возможность для покупки самолетов ***CRJ 200*** у российских компаний появилась благодаря вторичному рынку. Именно в этот период ряд западных авиакомпаний вывел самолеты данной модели из своего активного флота, и у российских перевозчиков появилась возможность купить бывшую в употреблении технику. \n",
    "- Малые однодвигательные самолеты редко попадают в глобальную статистику мировой авиации. Считается, что их удел – короткие развлекательные полеты в районе аэроклуба. Однако, мировой опыт позволяет заявить, что даже небольшие воздушные суда ***Cessna*** могут быть основой для успешной авиакомпании. Важно при этом отметить, что их эксплуатация проходит не в тепличных условиях околоэкваториальных широт, а в суровых северных краях – как например Север России.\n",
    "- Как известно авиакомпания «Россия», начала вводить в эксплуатацию самолеты ***SSJ-100***, которые в большинстве своем перекочевали из «Аэрофлота». Самое интересное, что данный переход самолетов весьма динамичный. С момента начала ввода самолетов ***SSJ-100*** во флот «России» до сегодняшних дней, прошло не так много времени, а результат на лицо, более 30 самолетов уже на балансе крупнейшего авиаперевозчика. Именно быстрый ввод в эксплуатацию такого количества самолетов за такой маленький промежуток времени, стал рекордным по сравнению с другими авиакомпаниями.\n",
    "\n",
    "**Города и количество рейсов:**\n",
    "\n",
    "- По состоянию на август 2018 года меньше всего перелетов приходится на Благовещенск, в то время как ожидаемым лидером является Москва. Вполне ожидаемо что в день на столицу приходится гораздо больше перелетов нежели чем на другие города РФ. \n",
    "\n",
    "**Топ-10 городов и количество рейсов:**\n",
    "\n",
    "- Если отобрать лишь 10 городов по среднему количеству авиаперелетов в день, то можно заметить что большую долю занимает Москва - ожидаемо. Самое меньшее AVG из топ-10 приходится на Ульяновск.\n",
    "Вполне возможно что в ТОП 10 попали именно эти города благодаря не столько их культурной и туристической привлекательности, сколько благодаря экономической состоявляющей, которая является потенциально привлекательной и прибыльной для людей связанных с производством сырья, разработкой полезных ископаемых и так далее."
   ]
  },
  {
   "cell_type": "markdown",
   "metadata": {},
   "source": [
    "## Парсер"
   ]
  },
  {
   "cell_type": "markdown",
   "metadata": {},
   "source": [
    "- Напишем парсер для сбора данных с сайта об 11 крупнейших фестивалях 2018 года https://code.s3.yandex.net/learning-materials/data-analyst/festival_news/index.html "
   ]
  },
  {
   "cell_type": "code",
   "execution_count": 1,
   "metadata": {},
   "outputs": [
    {
     "data": {
      "text/html": [
       "<div>\n",
       "<style scoped>\n",
       "    .dataframe tbody tr th:only-of-type {\n",
       "        vertical-align: middle;\n",
       "    }\n",
       "\n",
       "    .dataframe tbody tr th {\n",
       "        vertical-align: top;\n",
       "    }\n",
       "\n",
       "    .dataframe thead th {\n",
       "        text-align: right;\n",
       "    }\n",
       "</style>\n",
       "<table border=\"1\" class=\"dataframe\">\n",
       "  <thead>\n",
       "    <tr style=\"text-align: right;\">\n",
       "      <th></th>\n",
       "      <th>Название фестиваля</th>\n",
       "      <th>Место проведения</th>\n",
       "      <th>Дата проведения</th>\n",
       "    </tr>\n",
       "  </thead>\n",
       "  <tbody>\n",
       "    <tr>\n",
       "      <td>0</td>\n",
       "      <td>Музыкальный фестиваль «Усадьба Jazz»</td>\n",
       "      <td>Екатеринбург</td>\n",
       "      <td>01.07.2018</td>\n",
       "    </tr>\n",
       "    <tr>\n",
       "      <td>1</td>\n",
       "      <td>Фестиваль музыки и технологий Alfa Future People</td>\n",
       "      <td>Нижний Новгород</td>\n",
       "      <td>10.08.2018</td>\n",
       "    </tr>\n",
       "    <tr>\n",
       "      <td>2</td>\n",
       "      <td>Фестиваль еды «О, да! Еда!»</td>\n",
       "      <td>Санкт-Петербург</td>\n",
       "      <td>21.07.2018</td>\n",
       "    </tr>\n",
       "    <tr>\n",
       "      <td>3</td>\n",
       "      <td>Доброфест</td>\n",
       "      <td>Ярославль</td>\n",
       "      <td>29.07.2018</td>\n",
       "    </tr>\n",
       "    <tr>\n",
       "      <td>4</td>\n",
       "      <td>Park Live</td>\n",
       "      <td>Москва</td>\n",
       "      <td>28.07.2018</td>\n",
       "    </tr>\n",
       "    <tr>\n",
       "      <td>5</td>\n",
       "      <td>Пикник Афиши</td>\n",
       "      <td>Москва</td>\n",
       "      <td>04.08.2018</td>\n",
       "    </tr>\n",
       "    <tr>\n",
       "      <td>6</td>\n",
       "      <td>VK FEST</td>\n",
       "      <td>Санкт-Петербург</td>\n",
       "      <td>29.07.2018</td>\n",
       "    </tr>\n",
       "    <tr>\n",
       "      <td>7</td>\n",
       "      <td>Фестиваль «О, да! Еда!»</td>\n",
       "      <td>Иркутск</td>\n",
       "      <td>25.08.2018</td>\n",
       "    </tr>\n",
       "    <tr>\n",
       "      <td>8</td>\n",
       "      <td>Фестиваль «О, да! Еда!»</td>\n",
       "      <td>Владивосток</td>\n",
       "      <td>02.09.2018</td>\n",
       "    </tr>\n",
       "    <tr>\n",
       "      <td>9</td>\n",
       "      <td>Видфест</td>\n",
       "      <td>Москва</td>\n",
       "      <td>08.09.2018</td>\n",
       "    </tr>\n",
       "    <tr>\n",
       "      <td>10</td>\n",
       "      <td>«Нашествие 2018»</td>\n",
       "      <td>Тверь</td>\n",
       "      <td>05.08.2018</td>\n",
       "    </tr>\n",
       "  </tbody>\n",
       "</table>\n",
       "</div>"
      ],
      "text/plain": [
       "                                  Название фестиваля Место проведения  \\\n",
       "0               Музыкальный фестиваль «Усадьба Jazz»     Екатеринбург   \n",
       "1   Фестиваль музыки и технологий Alfa Future People  Нижний Новгород   \n",
       "2                        Фестиваль еды «О, да! Еда!»  Санкт-Петербург   \n",
       "3                                          Доброфест        Ярославль   \n",
       "4                                          Park Live           Москва   \n",
       "5                                       Пикник Афиши           Москва   \n",
       "6                                            VK FEST  Санкт-Петербург   \n",
       "7                            Фестиваль «О, да! Еда!»          Иркутск   \n",
       "8                            Фестиваль «О, да! Еда!»      Владивосток   \n",
       "9                                            Видфест           Москва   \n",
       "10                                  «Нашествие 2018»            Тверь   \n",
       "\n",
       "   Дата проведения  \n",
       "0       01.07.2018  \n",
       "1       10.08.2018  \n",
       "2       21.07.2018  \n",
       "3       29.07.2018  \n",
       "4       28.07.2018  \n",
       "5       04.08.2018  \n",
       "6       29.07.2018  \n",
       "7       25.08.2018  \n",
       "8       02.09.2018  \n",
       "9       08.09.2018  \n",
       "10      05.08.2018  "
      ]
     },
     "execution_count": 1,
     "metadata": {},
     "output_type": "execute_result"
    }
   ],
   "source": [
    "import requests #Для отправления HTTP-запросов подключают библиотеку Requests\n",
    "from bs4 import BeautifulSoup # Достать данные из строки\n",
    "import pandas as pd # Создать таблицу из полученных данных\n",
    "\n",
    "URL = 'https://code.s3.yandex.net/learning-materials/data-analyst/festival_news/index.html'\n",
    "\n",
    "festivals = requests.get(URL)\n",
    "soup = BeautifulSoup(festivals.text, 'lxml') \n",
    "\n",
    "table = soup.find('table') #находит первый элемент, имя которого ему передали в качестве аргумента, и возвращает его весь, с тегами и контентом\n",
    "\n",
    "headings=[] # Список, в котором будут храниться названия столбцов\n",
    "for row in table.find_all('th'): # Названия столбцов прячутся в элементах th, \n",
    "# поэтому будем искать все элементы th внутри table и пробегать по ним в цикле\n",
    "    headings.append(row.text)\n",
    "    \n",
    "strings=[] # # Список, в котором будут храниться данные из таблицы\n",
    "for row in table.find_all('tr'): # Каждая строка обрамляется тегом tr, необходимо пробежаться в цикле по всем строкам\n",
    "    if not row.find_all('th'): \n",
    "        # Эта проверка необходима, чтобы пропустить первую строку таблицы с заголовками\n",
    "        strings.append([element.text for element in row.find_all('td')])\n",
    "            # В каждой строке контент ячейки обрамляется тегами <td> </td>\n",
    "            # Необходимо пробежаться в цикле по всем элементам td, вычленить контент из ячеек и добавить его в список \n",
    "            # Затем добавить каждый из списков в список strings \n",
    "    \n",
    "festivals = pd.DataFrame(strings, columns=headings)\n",
    "festivals"
   ]
  },
  {
   "cell_type": "markdown",
   "metadata": {},
   "source": [
    "## PostgreSQL"
   ]
  },
  {
   "cell_type": "markdown",
   "metadata": {},
   "source": [
    "- С помощью SQL отберем только нужные данные:"
   ]
  },
  {
   "cell_type": "markdown",
   "metadata": {},
   "source": [
    "База данных об авиаперевозках:\n",
    "\n",
    "Таблица airports — информация об аэропортах:\n",
    "- airport_code — трёхбуквенный код аэропорта,\n",
    "- airport_name — название аэропорта,\n",
    "- city — город,\n",
    "- timezone — часовой пояс.\n",
    "\n",
    "Таблица aircrafts — информация о самолётах:\n",
    "- aircraft_code — код модели самолёта,\n",
    "- model — модель самолёта,\n",
    "- range — дальность полётов.\n",
    "\n",
    "Таблица tickets — информация о билетах:\n",
    "- ticket_no — уникальный номер билета,\n",
    "- passenger_id — уникальный идентификатор пассажира,\n",
    "- passenger_name — имя и фамилия пассажира.\n",
    "\n",
    "Таблица flights — информация о рейсах:\n",
    "- flight_id — уникальный идентификатор рейса,\n",
    "- departure_airport — аэропорт вылета,\n",
    "- departure_time — дата и время вылета,\n",
    "- arrival_airport — аэропорт прилёта,\n",
    "- arrival_time — дата и время прилёта,\n",
    "- aircraft_code — уникальный идентификатор самолёта.\n",
    "\n",
    "Таблица ticket_flights — стыковая таблица «рейсы-билеты»:\n",
    "- ticket_no — номер билета,\n",
    "- flight_id — уникальный идентификатор рейса.\n",
    "\n",
    "Таблица festivals — информация о фестивалях:\n",
    "- festival_id — уникальный номер фестиваля,\n",
    "- festival_date — дата проведения фестиваля,\n",
    "- festival_city — город проведения фестиваля,\n",
    "- festival_name — название фестиваля."
   ]
  },
  {
   "cell_type": "markdown",
   "metadata": {},
   "source": [
    "- Изучим таблицу airports и выведем список городов (city), в которых есть аэропорты."
   ]
  },
  {
   "cell_type": "code",
   "execution_count": 2,
   "metadata": {},
   "outputs": [],
   "source": [
    "#SELECT\n",
    "    #DISTINCT city\n",
    "#FROM\n",
    "    #airports;"
   ]
  },
  {
   "cell_type": "markdown",
   "metadata": {},
   "source": [
    "- Изучим таблицу flights и подсчитаем количество вылетов (flight_id) из каждого аэропорта вылета (departure_airport). Назовем переменную cnt_flights и выведем её вместе со столбцом departure_airport — сначала departure_airport, потом cnt_flights. Результат отсортируем в порядке убывания количества вылетов."
   ]
  },
  {
   "cell_type": "code",
   "execution_count": 3,
   "metadata": {},
   "outputs": [],
   "source": [
    "#SELECT\n",
    "    #departure_airport,\n",
    "    #COUNT(flight_id) AS cnt_flights\n",
    "#FROM\n",
    "    #flights\n",
    "#GROUP BY\n",
    "    #departure_airport\n",
    "#ORDER BY\n",
    "    #cnt_flights DESC;"
   ]
  },
  {
   "cell_type": "markdown",
   "metadata": {},
   "source": [
    "- Найдем количество рейсов на каждой модели самолёта с вылетом в сентябре 2018 года. Назовем получившийся столбец flights_amount и выведем его, также выведем столбец model.\n",
    "Столбцы выведем в таком порядке:\n",
    "    - model\n",
    "    - flights_amount"
   ]
  },
  {
   "cell_type": "code",
   "execution_count": 4,
   "metadata": {},
   "outputs": [],
   "source": [
    "#SELECT\n",
    "    #aircrafts.model AS model,\n",
    "    #COUNT (flights.flight_id) AS flights_amount \n",
    "#FROM aircrafts\n",
    "    #INNER JOIN flights ON aircrafts.aircraft_code = flights.aircraft_code\n",
    "#WHERE\n",
    "   #flights.departure_time::date BETWEEN '2018-09-01' AND '2018-09-30' \n",
    "#GROUP BY\n",
    "    #model;"
   ]
  },
  {
   "cell_type": "markdown",
   "metadata": {},
   "source": [
    "- Посчитаем количество рейсов по всем моделям самолётов Boeing, Airbus и другим ('other') в сентябре. Типы моделей поместим в столбец type_aircraft, а количество рейсов — во flights_amount. "
   ]
  },
  {
   "cell_type": "code",
   "execution_count": 5,
   "metadata": {},
   "outputs": [],
   "source": [
    "#SELECT\n",
    "   #CASE WHEN aircrafts.model LIKE '%Boeing%' THEN 'Boeing' \n",
    "   #WHEN aircrafts.model LIKE '%Airbus%' THEN 'Airbus' \n",
    "   #ELSE 'other'\n",
    "   #END AS type_aircraft, --Условие выносим в select\n",
    "   #COUNT (flights.flight_id) AS flights_amount \n",
    "#FROM aircrafts\n",
    "    #INNER JOIN flights ON aircrafts.aircraft_code = flights.aircraft_code\n",
    "#WHERE\n",
    "   #(flights.departure_time::date BETWEEN '2018-09-01' AND '2018-09-30' )\n",
    "#GROUP BY\n",
    "    #type_aircraft;"
   ]
  },
  {
   "cell_type": "markdown",
   "metadata": {},
   "source": [
    "- Посчитаем среднее количество прибывающих рейсов в день для каждого города за август 2018 года. Назовем получившееся поле average_flights, вместе с ним выведем столбец city.\n",
    "Выводем столбцы в таком порядке:\n",
    "    - city,\n",
    "    - average_flights"
   ]
  },
  {
   "cell_type": "code",
   "execution_count": 6,
   "metadata": {},
   "outputs": [],
   "source": [
    "#SELECT \n",
    "    #subq.city AS city,\n",
    "    #AVG(subq.all_flights) AS average_flights\n",
    "#FROM \n",
    "    #(SELECT\n",
    "    #airports.city AS city,\n",
    "    #COUNT(flights.flight_id) AS all_flights,\n",
    "    #EXTRACT(day FROM flights.arrival_time::date) AS day\n",
    "    # FROM \n",
    "    #airports INNER JOIN flights ON airports.airport_code = flights.arrival_airport\n",
    "    #WHERE\n",
    "    #flights.arrival_time::date BETWEEN '2018-08-01' AND '2018-08-31'\n",
    "    #GROUP BY\n",
    "    #city,\n",
    "    #day) AS subq\n",
    "#GROUP BY\n",
    "#city;"
   ]
  },
  {
   "cell_type": "markdown",
   "metadata": {},
   "source": [
    "- Установим фестивали, которые проходили с 23 июля по 30 сентября 2018 года в Москве, и номер недели, в которую они проходили. Выведем название фестиваля festival_name и номер недели festival_week."
   ]
  },
  {
   "cell_type": "code",
   "execution_count": 7,
   "metadata": {},
   "outputs": [],
   "source": [
    "#SELECT\n",
    "    #festival_name,\n",
    "    #EXTRACT(WEEK FROM festival_date::date) AS festival_week\n",
    "#FROM\n",
    "    #festivals\n",
    "#WHERE \n",
    "    #(festival_date::date BETWEEN '2018-07-23' AND '2018-09-30')\n",
    "    #AND festival_city LIKE '%Моск%'\n",
    "#GROUP BY\n",
    "#festival_date,\n",
    "#festival_name;"
   ]
  },
  {
   "cell_type": "markdown",
   "metadata": {},
   "source": [
    "- Для каждой недели с 23 июля по 30 сентября 2018 года посчитаем количество билетов, купленных на рейсы в Москву (номер недели week_number и количество билетов ticket_amount). Получим таблицу, в которой будет номер недели; информация о количестве купленных за неделю билетов; номер недели ещё раз, если в эту неделю проходил фестиваль, и nan, если не проходил; а также название фестиваля festival_name.\n",
    "Выводем столбцы в таком порядке:\n",
    "    - week_number,\n",
    "    - ticket_amount,\n",
    "    - festival_week,\n",
    "    - festival_name."
   ]
  },
  {
   "cell_type": "code",
   "execution_count": 8,
   "metadata": {},
   "outputs": [],
   "source": [
    "#SELECT\n",
    "    #EXTRACT(WEEK FROM flights.arrival_time::date) AS week_number,\n",
    "    #COUNT(ticket_flights.ticket_no) AS ticket_amount,\n",
    "    #subq.festival_week AS festival_week,\n",
    "    #subq.festival_name AS festival_name\n",
    "#FROM\n",
    "    #tickets \n",
    "#LEFT JOIN ticket_flights ON ticket_flights.ticket_no = tickets.ticket_no\n",
    "#LEFT JOIN flights ON ticket_flights.flight_id = flights.flight_id\n",
    "#LEFT JOIN (SELECT\n",
    "#EXTRACT(WEEK FROM festival_date::date) AS festival_week,\n",
    "    #festival_name\n",
    "#FROM\n",
    "    #festivals\n",
    "#WHERE \n",
    "    #(festival_date::date BETWEEN '2018-07-23' AND '2018-09-30')\n",
    "    #AND festival_city = 'Москва') AS subq ON subq.festival_week = EXTRACT(WEEK FROM flights.arrival_time::date)\n",
    "#LEFT JOIN airports ON flights.arrival_airport = airports.airport_code\n",
    "#WHERE \n",
    "    #airports.city = 'Москва' \n",
    "    #AND flights.arrival_time::date BETWEEN '2018-07-23' AND '2018-09-30'\n",
    "#GROUP BY\n",
    "    #week_number,\n",
    "    #festival_week,\n",
    "    #festival_name;"
   ]
  },
  {
   "cell_type": "markdown",
   "metadata": {},
   "source": [
    "## Изучение данных из файлов"
   ]
  },
  {
   "cell_type": "code",
   "execution_count": 9,
   "metadata": {},
   "outputs": [],
   "source": [
    "import matplotlib.pyplot as plt\n",
    "import seaborn as sns\n",
    "import numpy as np"
   ]
  },
  {
   "cell_type": "markdown",
   "metadata": {},
   "source": [
    "***Проведем выгрузку датасета с \"подстраховкой\":***"
   ]
  },
  {
   "cell_type": "code",
   "execution_count": 10,
   "metadata": {},
   "outputs": [],
   "source": [
    "# подстраховка. Иногда датасеты лежат сразу в корневике, а иногда лежат в папке datasets        \n",
    "try:\n",
    "    df1 = pd.read_csv('/datasets/query_1.csv')\n",
    "except:\n",
    "    df1 = pd.read_csv('query_1.csv')\n",
    "    \n",
    "try:\n",
    "    df2 = pd.read_csv('/datasets/query_3.csv')\n",
    "except:\n",
    "    df2 = pd.read_csv('query_3.csv')"
   ]
  },
  {
   "cell_type": "code",
   "execution_count": 11,
   "metadata": {},
   "outputs": [
    {
     "name": "stdout",
     "output_type": "stream",
     "text": [
      "<class 'pandas.core.frame.DataFrame'>\n",
      "RangeIndex: 8 entries, 0 to 7\n",
      "Data columns (total 2 columns):\n",
      "model             8 non-null object\n",
      "flights_amount    8 non-null int64\n",
      "dtypes: int64(1), object(1)\n",
      "memory usage: 256.0+ bytes\n"
     ]
    },
    {
     "data": {
      "text/plain": [
       "None"
      ]
     },
     "metadata": {},
     "output_type": "display_data"
    },
    {
     "data": {
      "text/html": [
       "<div>\n",
       "<style scoped>\n",
       "    .dataframe tbody tr th:only-of-type {\n",
       "        vertical-align: middle;\n",
       "    }\n",
       "\n",
       "    .dataframe tbody tr th {\n",
       "        vertical-align: top;\n",
       "    }\n",
       "\n",
       "    .dataframe thead th {\n",
       "        text-align: right;\n",
       "    }\n",
       "</style>\n",
       "<table border=\"1\" class=\"dataframe\">\n",
       "  <thead>\n",
       "    <tr style=\"text-align: right;\">\n",
       "      <th></th>\n",
       "      <th>model</th>\n",
       "      <th>flights_amount</th>\n",
       "    </tr>\n",
       "  </thead>\n",
       "  <tbody>\n",
       "    <tr>\n",
       "      <td>7</td>\n",
       "      <td>Sukhoi SuperJet-100</td>\n",
       "      <td>4185</td>\n",
       "    </tr>\n",
       "    <tr>\n",
       "      <td>5</td>\n",
       "      <td>Bombardier CRJ-200</td>\n",
       "      <td>4446</td>\n",
       "    </tr>\n",
       "    <tr>\n",
       "      <td>6</td>\n",
       "      <td>Cessna 208 Caravan</td>\n",
       "      <td>4557</td>\n",
       "    </tr>\n",
       "    <tr>\n",
       "      <td>2</td>\n",
       "      <td>Boeing 737-300</td>\n",
       "      <td>630</td>\n",
       "    </tr>\n",
       "    <tr>\n",
       "      <td>4</td>\n",
       "      <td>Boeing 777-300</td>\n",
       "      <td>300</td>\n",
       "    </tr>\n",
       "  </tbody>\n",
       "</table>\n",
       "</div>"
      ],
      "text/plain": [
       "                 model  flights_amount\n",
       "7  Sukhoi SuperJet-100            4185\n",
       "5   Bombardier CRJ-200            4446\n",
       "6   Cessna 208 Caravan            4557\n",
       "2       Boeing 737-300             630\n",
       "4       Boeing 777-300             300"
      ]
     },
     "metadata": {},
     "output_type": "display_data"
    },
    {
     "data": {
      "text/html": [
       "<div>\n",
       "<style scoped>\n",
       "    .dataframe tbody tr th:only-of-type {\n",
       "        vertical-align: middle;\n",
       "    }\n",
       "\n",
       "    .dataframe tbody tr th {\n",
       "        vertical-align: top;\n",
       "    }\n",
       "\n",
       "    .dataframe thead th {\n",
       "        text-align: right;\n",
       "    }\n",
       "</style>\n",
       "<table border=\"1\" class=\"dataframe\">\n",
       "  <thead>\n",
       "    <tr style=\"text-align: right;\">\n",
       "      <th></th>\n",
       "      <th>flights_amount</th>\n",
       "    </tr>\n",
       "  </thead>\n",
       "  <tbody>\n",
       "    <tr>\n",
       "      <td>count</td>\n",
       "      <td>8.000000</td>\n",
       "    </tr>\n",
       "    <tr>\n",
       "      <td>mean</td>\n",
       "      <td>2035.625000</td>\n",
       "    </tr>\n",
       "    <tr>\n",
       "      <td>std</td>\n",
       "      <td>1965.203947</td>\n",
       "    </tr>\n",
       "    <tr>\n",
       "      <td>min</td>\n",
       "      <td>300.000000</td>\n",
       "    </tr>\n",
       "    <tr>\n",
       "      <td>25%</td>\n",
       "      <td>605.250000</td>\n",
       "    </tr>\n",
       "    <tr>\n",
       "      <td>50%</td>\n",
       "      <td>795.000000</td>\n",
       "    </tr>\n",
       "    <tr>\n",
       "      <td>75%</td>\n",
       "      <td>4250.250000</td>\n",
       "    </tr>\n",
       "    <tr>\n",
       "      <td>max</td>\n",
       "      <td>4557.000000</td>\n",
       "    </tr>\n",
       "  </tbody>\n",
       "</table>\n",
       "</div>"
      ],
      "text/plain": [
       "       flights_amount\n",
       "count        8.000000\n",
       "mean      2035.625000\n",
       "std       1965.203947\n",
       "min        300.000000\n",
       "25%        605.250000\n",
       "50%        795.000000\n",
       "75%       4250.250000\n",
       "max       4557.000000"
      ]
     },
     "metadata": {},
     "output_type": "display_data"
    }
   ],
   "source": [
    "display(df1.info())\n",
    "display(df1.sample(5))\n",
    "display(df1.describe())"
   ]
  },
  {
   "cell_type": "code",
   "execution_count": 12,
   "metadata": {},
   "outputs": [
    {
     "name": "stdout",
     "output_type": "stream",
     "text": [
      "<class 'pandas.core.frame.DataFrame'>\n",
      "RangeIndex: 101 entries, 0 to 100\n",
      "Data columns (total 2 columns):\n",
      "city               101 non-null object\n",
      "average_flights    101 non-null float64\n",
      "dtypes: float64(1), object(1)\n",
      "memory usage: 1.7+ KB\n"
     ]
    },
    {
     "data": {
      "text/plain": [
       "None"
      ]
     },
     "metadata": {},
     "output_type": "display_data"
    },
    {
     "data": {
      "text/html": [
       "<div>\n",
       "<style scoped>\n",
       "    .dataframe tbody tr th:only-of-type {\n",
       "        vertical-align: middle;\n",
       "    }\n",
       "\n",
       "    .dataframe tbody tr th {\n",
       "        vertical-align: top;\n",
       "    }\n",
       "\n",
       "    .dataframe thead th {\n",
       "        text-align: right;\n",
       "    }\n",
       "</style>\n",
       "<table border=\"1\" class=\"dataframe\">\n",
       "  <thead>\n",
       "    <tr style=\"text-align: right;\">\n",
       "      <th></th>\n",
       "      <th>city</th>\n",
       "      <th>average_flights</th>\n",
       "    </tr>\n",
       "  </thead>\n",
       "  <tbody>\n",
       "    <tr>\n",
       "      <td>62</td>\n",
       "      <td>Пенза</td>\n",
       "      <td>4.000000</td>\n",
       "    </tr>\n",
       "    <tr>\n",
       "      <td>39</td>\n",
       "      <td>Магнитогорск</td>\n",
       "      <td>4.000000</td>\n",
       "    </tr>\n",
       "    <tr>\n",
       "      <td>70</td>\n",
       "      <td>Санкт-Петербург</td>\n",
       "      <td>31.161290</td>\n",
       "    </tr>\n",
       "    <tr>\n",
       "      <td>72</td>\n",
       "      <td>Саратов</td>\n",
       "      <td>4.000000</td>\n",
       "    </tr>\n",
       "    <tr>\n",
       "      <td>54</td>\n",
       "      <td>Новосибирск</td>\n",
       "      <td>17.322581</td>\n",
       "    </tr>\n",
       "  </tbody>\n",
       "</table>\n",
       "</div>"
      ],
      "text/plain": [
       "               city  average_flights\n",
       "62            Пенза         4.000000\n",
       "39     Магнитогорск         4.000000\n",
       "70  Санкт-Петербург        31.161290\n",
       "72          Саратов         4.000000\n",
       "54      Новосибирск        17.322581"
      ]
     },
     "metadata": {},
     "output_type": "display_data"
    },
    {
     "data": {
      "text/html": [
       "<div>\n",
       "<style scoped>\n",
       "    .dataframe tbody tr th:only-of-type {\n",
       "        vertical-align: middle;\n",
       "    }\n",
       "\n",
       "    .dataframe tbody tr th {\n",
       "        vertical-align: top;\n",
       "    }\n",
       "\n",
       "    .dataframe thead th {\n",
       "        text-align: right;\n",
       "    }\n",
       "</style>\n",
       "<table border=\"1\" class=\"dataframe\">\n",
       "  <thead>\n",
       "    <tr style=\"text-align: right;\">\n",
       "      <th></th>\n",
       "      <th>average_flights</th>\n",
       "    </tr>\n",
       "  </thead>\n",
       "  <tbody>\n",
       "    <tr>\n",
       "      <td>count</td>\n",
       "      <td>101.000000</td>\n",
       "    </tr>\n",
       "    <tr>\n",
       "      <td>mean</td>\n",
       "      <td>5.494189</td>\n",
       "    </tr>\n",
       "    <tr>\n",
       "      <td>std</td>\n",
       "      <td>13.119790</td>\n",
       "    </tr>\n",
       "    <tr>\n",
       "      <td>min</td>\n",
       "      <td>1.000000</td>\n",
       "    </tr>\n",
       "    <tr>\n",
       "      <td>25%</td>\n",
       "      <td>2.000000</td>\n",
       "    </tr>\n",
       "    <tr>\n",
       "      <td>50%</td>\n",
       "      <td>3.000000</td>\n",
       "    </tr>\n",
       "    <tr>\n",
       "      <td>75%</td>\n",
       "      <td>5.870968</td>\n",
       "    </tr>\n",
       "    <tr>\n",
       "      <td>max</td>\n",
       "      <td>129.774194</td>\n",
       "    </tr>\n",
       "  </tbody>\n",
       "</table>\n",
       "</div>"
      ],
      "text/plain": [
       "       average_flights\n",
       "count       101.000000\n",
       "mean          5.494189\n",
       "std          13.119790\n",
       "min           1.000000\n",
       "25%           2.000000\n",
       "50%           3.000000\n",
       "75%           5.870968\n",
       "max         129.774194"
      ]
     },
     "metadata": {},
     "output_type": "display_data"
    }
   ],
   "source": [
    "display(df2.info())\n",
    "display(df2.sample(5))\n",
    "display(df2.describe())"
   ]
  },
  {
   "cell_type": "markdown",
   "metadata": {},
   "source": [
    "**Выводы:**\n",
    "\n",
    "- Как видно пропущенных значений нет, однако лучшим вариантом будет уменьшить количество цифр в average_flights до 2х после точки.\n",
    "- Заметен большой разрыв в df1 между 2м и 3м квартилем. Это может быть связано с размерами городов и населенностью, в следствии чего и наблюдается такой резкий переход по полетам.\n",
    "- В df2 можно заметить что максимум значительно больше 3его квартиля. Возможно такие выбросы и дают города-милионники как например Москва и Питер."
   ]
  },
  {
   "cell_type": "markdown",
   "metadata": {},
   "source": [
    "## Предобработка данных"
   ]
  },
  {
   "cell_type": "markdown",
   "metadata": {},
   "source": [
    "Для начала приведем данные average_flights к виду до 2х знаков после точки."
   ]
  },
  {
   "cell_type": "code",
   "execution_count": 13,
   "metadata": {},
   "outputs": [],
   "source": [
    "df2['average_flights'] = df2['average_flights'].round(2)"
   ]
  },
  {
   "cell_type": "markdown",
   "metadata": {},
   "source": [
    "Теперь приведем к нижнему регистру данные из model и city для красоты. (в данном случае в таблице model не так много строк и сразу же видно, что все значения написаны с большой буквы, поэтому приводить к нижнему регистру не обязательно)"
   ]
  },
  {
   "cell_type": "code",
   "execution_count": 14,
   "metadata": {},
   "outputs": [],
   "source": [
    "df1['model'] = df1['model'].str.lower()\n",
    "df2['city'] = df2['city'].str.lower()"
   ]
  },
  {
   "cell_type": "markdown",
   "metadata": {},
   "source": [
    "Теперь выберем топ-10 городов по количеству рейсов."
   ]
  },
  {
   "cell_type": "code",
   "execution_count": 15,
   "metadata": {},
   "outputs": [
    {
     "data": {
      "text/html": [
       "<div>\n",
       "<style scoped>\n",
       "    .dataframe tbody tr th:only-of-type {\n",
       "        vertical-align: middle;\n",
       "    }\n",
       "\n",
       "    .dataframe tbody tr th {\n",
       "        vertical-align: top;\n",
       "    }\n",
       "\n",
       "    .dataframe thead th {\n",
       "        text-align: right;\n",
       "    }\n",
       "</style>\n",
       "<table border=\"1\" class=\"dataframe\">\n",
       "  <thead>\n",
       "    <tr style=\"text-align: right;\">\n",
       "      <th></th>\n",
       "      <th>city</th>\n",
       "      <th>average_flights</th>\n",
       "    </tr>\n",
       "  </thead>\n",
       "  <tbody>\n",
       "    <tr>\n",
       "      <td>43</td>\n",
       "      <td>москва</td>\n",
       "      <td>129.77</td>\n",
       "    </tr>\n",
       "    <tr>\n",
       "      <td>70</td>\n",
       "      <td>санкт-петербург</td>\n",
       "      <td>31.16</td>\n",
       "    </tr>\n",
       "    <tr>\n",
       "      <td>54</td>\n",
       "      <td>новосибирск</td>\n",
       "      <td>17.32</td>\n",
       "    </tr>\n",
       "    <tr>\n",
       "      <td>33</td>\n",
       "      <td>красноярск</td>\n",
       "      <td>11.58</td>\n",
       "    </tr>\n",
       "    <tr>\n",
       "      <td>20</td>\n",
       "      <td>екатеринбург</td>\n",
       "      <td>11.32</td>\n",
       "    </tr>\n",
       "    <tr>\n",
       "      <td>67</td>\n",
       "      <td>ростов-на-дону</td>\n",
       "      <td>10.19</td>\n",
       "    </tr>\n",
       "    <tr>\n",
       "      <td>63</td>\n",
       "      <td>пермь</td>\n",
       "      <td>10.13</td>\n",
       "    </tr>\n",
       "    <tr>\n",
       "      <td>10</td>\n",
       "      <td>брянск</td>\n",
       "      <td>10.00</td>\n",
       "    </tr>\n",
       "    <tr>\n",
       "      <td>74</td>\n",
       "      <td>сочи</td>\n",
       "      <td>9.61</td>\n",
       "    </tr>\n",
       "    <tr>\n",
       "      <td>84</td>\n",
       "      <td>ульяновск</td>\n",
       "      <td>9.58</td>\n",
       "    </tr>\n",
       "  </tbody>\n",
       "</table>\n",
       "</div>"
      ],
      "text/plain": [
       "               city  average_flights\n",
       "43           москва           129.77\n",
       "70  санкт-петербург            31.16\n",
       "54      новосибирск            17.32\n",
       "33       красноярск            11.58\n",
       "20     екатеринбург            11.32\n",
       "67   ростов-на-дону            10.19\n",
       "63            пермь            10.13\n",
       "10           брянск            10.00\n",
       "74             сочи             9.61\n",
       "84        ульяновск             9.58"
      ]
     },
     "execution_count": 15,
     "metadata": {},
     "output_type": "execute_result"
    }
   ],
   "source": [
    "df3 = df2.sort_values(by='average_flights', ascending=False).head(10)\n",
    "df3"
   ]
  },
  {
   "cell_type": "markdown",
   "metadata": {},
   "source": [
    "## Анализ данных"
   ]
  },
  {
   "cell_type": "markdown",
   "metadata": {},
   "source": [
    "### Модели самолетов и количество рейсов"
   ]
  },
  {
   "cell_type": "code",
   "execution_count": 16,
   "metadata": {
    "scrolled": true
   },
   "outputs": [
    {
     "data": {
      "image/png": "[encoded data removed]",
      "text/plain": [
       "<Figure size 432x288 with 1 Axes>"
      ]
     },
     "metadata": {
      "needs_background": "light"
     },
     "output_type": "display_data"
    }
   ],
   "source": [
    "df1 = df1.sort_values(by='flights_amount', ascending=False)\n",
    "names = df1['model']\n",
    "flights = df1['flights_amount'] \n",
    "color_rectangle = np.random.rand(8, 4)\n",
    "\n",
    "plt.bar(names, flights, align = 'center', alpha=0.5, color = color_rectangle) \n",
    "plt.gca().set_xticklabels(df1['model'], rotation=60, horizontalalignment= 'right')\n",
    "plt.ylabel('Flights') \n",
    "plt.title('Models and flights') \n",
    "\n",
    "plt.show()"
   ]
  },
  {
   "cell_type": "markdown",
   "metadata": {},
   "source": [
    "**Вывод**\n",
    "\n",
    "Больше всего для перелетов за сентябрь 2018 года использовались три модели:\n",
    "\n",
    "- bombardier crj-200\n",
    "- cessna 208 caravan\n",
    "- sukhoi superjet-100"
   ]
  },
  {
   "cell_type": "markdown",
   "metadata": {},
   "source": [
    "### Города и количество рейсов"
   ]
  },
  {
   "cell_type": "code",
   "execution_count": 17,
   "metadata": {},
   "outputs": [
    {
     "data": {
      "image/png": "[encoded data removed]",
      "text/plain": [
       "<Figure size 1440x2160 with 1 Axes>"
      ]
     },
     "metadata": {
      "needs_background": "light"
     },
     "output_type": "display_data"
    }
   ],
   "source": [
    "plt.figure(figsize=(20, 30))\n",
    "sns.barplot(x='average_flights', y='city', data=df2.sort_values(by='average_flights'))\n",
    "plt.title('Cities and Flights', fontsize=25)\n",
    "plt.xlabel('average_flights')\n",
    "plt.show()"
   ]
  },
  {
   "cell_type": "markdown",
   "metadata": {},
   "source": [
    "**Вывод**\n",
    "\n",
    "Несомненнным лидером по средним авиаперелетам в день за август 2018 года является Москва, что вполне себе ожидаемо."
   ]
  },
  {
   "cell_type": "markdown",
   "metadata": {},
   "source": [
    "### Топ-10 городов и количество рейсов"
   ]
  },
  {
   "cell_type": "code",
   "execution_count": 18,
   "metadata": {
    "scrolled": true
   },
   "outputs": [
    {
     "data": {
      "image/png": "[encoded data removed]",
      "text/plain": [
       "<Figure size 1440x576 with 1 Axes>"
      ]
     },
     "metadata": {},
     "output_type": "display_data"
    }
   ],
   "source": [
    "names = df3['city'] \n",
    "flights = df3['average_flights'] \n",
    "colors = np.random.rand(7, 3) \n",
    "\n",
    "plt.figure(figsize=(20,8))\n",
    "plt.pie(flights, labels=names, colors=colors, autopct='%1.1f%%', shadow=True, startangle=140) \n",
    "plt.axis('equal') \n",
    "plt.show()"
   ]
  },
  {
   "cell_type": "markdown",
   "metadata": {},
   "source": [
    "**Вывод**\n",
    "\n",
    "После выделения 10 городов видно, что из топ-10 половина авиаперелетов приходится на Москву. 2ое место приходится на Питер. Что же касается остальных городов из топа, то имеем следующее:\n",
    "- По состоянию на 2018 год Новосибирск являлся 3м город РФ по численности населения. Также он является хабом компании S7 + находится по середине страны и является транзитным городом.\n",
    "\n",
    "- Что касается Красноярска: Красноярский край яваляется лидером страны по природным ресурсам, а потому возможно из-за этого он входит в ТОП, тк туда прилетают на заработки работники сфер деятельности приближенных к разработкам ресурсов.\n",
    "\n",
    "- Далее следует Екатеринбург. По состоянию на 2018 год данный город занимает 4ое место по численности населения, а потому и данное направление выделяется среди 101 города.\n",
    "\n",
    "- Ростов также является городом милионником + он является самым крупным городом юга России. Это главный город Ростовской области и Южного административного округа, крупный промышленный, научный, торговый и культурный центр.\n",
    "    \n",
    "- Пермь также является городом милионником, при этом Пермь один из крупнейших центров добычи полезных ископаемых и минерального сырья в России (нефть, газ, минеральные соли, хромитовые руды). \n",
    "    \n",
    "- Не смотря на то что Брянск по состоянию на 2018 год не являлся город милионником, однако он попал в ТОП направлений. Это может быть связано с тем что Брянск издавна считается крупным промышленным центром. Основная отрасль в экономике связаны с машиностроением и металлообработкой. Поэтому мы можем предположить что данный город поэтому и попал в ТОП благодаря тому что может привлекать сторонних специалистов из других городов для работы.\n",
    "    \n",
    "- Сочи ожидаемо попадает в ТОП так как это одно из самых популярных курортных направлений в России.\n",
    "    \n",
    "- Ульяновск — промышленный город. Тут делают уазики, самолеты, патроны, медицинское оборудование, шоколадки «Марс», мебель, металлообрабатывающие станки DMG Mori, минеральную воду «Волжанка» и еще много всего. "
   ]
  },
  {
   "cell_type": "markdown",
   "metadata": {},
   "source": [
    "## Выводы"
   ]
  },
  {
   "cell_type": "markdown",
   "metadata": {},
   "source": [
    "**Модели самолетов и количество рейсов:**\n",
    "\n",
    "- Наиболее популярными самолетами на внутренних авиарейсах в России являются ***bombardier crj-200***, ***cessna 208 caravan*** и ***sukhoi superjet-100*** - самое большее количество перелетов приходится именно на эти модели по состоянию на 2018 год. Это объясняется тем, что финансовая возможность для покупки самолетов ***CRJ 200*** у российских компаний появилась благодаря вторичному рынку. Именно в этот период ряд западных авиакомпаний вывел самолеты данной модели из своего активного флота, и у российских перевозчиков появилась возможность купить бывшую в употреблении технику. \n",
    "- Малые однодвигательные самолеты редко попадают в глобальную статистику мировой авиации. Считается, что их удел – короткие развлекательные полеты в районе аэроклуба. Однако, мировой опыт позволяет заявить, что даже небольшие воздушные суда ***Cessna*** могут быть основой для успешной авиакомпании. Важно при этом отметить, что их эксплуатация проходит не в тепличных условиях околоэкваториальных широт, а в суровых северных краях – как например Север России.\n",
    "- Как известно авиакомпания «Россия», начала вводить в эксплуатацию самолеты ***SSJ-100***, которые в большинстве своем перекочевали из «Аэрофлота». Самое интересное, что данный переход самолетов весьма динамичный. С момента начала ввода самолетов ***SSJ-100*** во флот «России» до сегодняшних дней, прошло не так много времени, а результат на лицо, более 30 самолетов уже на балансе крупнейшего авиаперевозчика. Именно быстрый ввод в эксплуатацию такого количества самолетов за такой маленький промежуток времени, стал рекордным по сравнению с другими авиакомпаниями.\n",
    "\n",
    "**Города и количество рейсов:**\n",
    "\n",
    "- По состоянию на август 2018 года меньше всего перелетов приходится на Благовещенск, в то время как ожидаемым лидером является Москва. Вполне ожидаемо что в день на столицу приходится гораздо больше перелетов нежели чем на другие города РФ. \n",
    "\n",
    "**Топ-10 городов и количество рейсов:**\n",
    "\n",
    "- Если отобрать лишь 10 городов по среднему количеству авиаперелетов в день, то можно заметить что большую долю занимает Москва - ожидаемо. Самое меньшее AVG из топ-10 приходится на Ульяновск.\n",
    "Вполне возможно что в ТОП 10 попали именно эти города благодаря не столько их культурной и туристической привлекательности, сколько благодаря экономической состоявляющей, которая является потенциально привлекательной и прибыльной для людей связанных с производством сырья, разработкой полезных ископаемых и так далее."
   ]
  }
 ],
 "metadata": {
  "ExecuteTimeLog": [
   {
    "duration": 1587,
    "start_time": "2021-07-26T08:37:32.679Z"
   },
   {
    "duration": 455,
    "start_time": "2021-07-26T08:37:34.268Z"
   },
   {
    "duration": 1454,
    "start_time": "2021-07-26T08:37:41.722Z"
   },
   {
    "duration": 29,
    "start_time": "2021-07-26T08:37:43.179Z"
   },
   {
    "duration": 1706,
    "start_time": "2021-07-26T08:38:21.158Z"
   },
   {
    "duration": 37,
    "start_time": "2021-07-26T08:38:22.866Z"
   },
   {
    "duration": 25,
    "start_time": "2021-07-26T08:38:22.906Z"
   },
   {
    "duration": 1530,
    "start_time": "2021-07-26T08:40:46.981Z"
   },
   {
    "duration": 25,
    "start_time": "2021-07-26T08:40:48.513Z"
   },
   {
    "duration": 24,
    "start_time": "2021-07-26T08:40:48.541Z"
   },
   {
    "duration": 1779,
    "start_time": "2021-07-26T08:41:43.486Z"
   },
   {
    "duration": 25,
    "start_time": "2021-07-26T08:41:45.267Z"
   },
   {
    "duration": 17,
    "start_time": "2021-07-26T08:41:45.295Z"
   },
   {
    "duration": 24,
    "start_time": "2021-07-26T08:41:45.315Z"
   },
   {
    "duration": 11,
    "start_time": "2021-07-26T08:41:45.342Z"
   },
   {
    "duration": 1654,
    "start_time": "2021-07-26T08:45:54.517Z"
   },
   {
    "duration": 25,
    "start_time": "2021-07-26T08:45:56.173Z"
   },
   {
    "duration": 15,
    "start_time": "2021-07-26T08:45:56.201Z"
   },
   {
    "duration": 26,
    "start_time": "2021-07-26T08:45:56.219Z"
   },
   {
    "duration": 13,
    "start_time": "2021-07-26T08:45:56.247Z"
   },
   {
    "duration": 36,
    "start_time": "2021-07-26T08:45:56.262Z"
   },
   {
    "duration": 20,
    "start_time": "2021-07-26T08:45:56.301Z"
   },
   {
    "duration": 531,
    "start_time": "2021-07-26T08:57:45.004Z"
   },
   {
    "duration": 5,
    "start_time": "2021-07-26T08:57:59.250Z"
   },
   {
    "duration": 10,
    "start_time": "2021-07-26T08:58:11.545Z"
   },
   {
    "duration": 1571,
    "start_time": "2021-07-26T09:01:01.641Z"
   },
   {
    "duration": 25,
    "start_time": "2021-07-26T09:01:03.215Z"
   },
   {
    "duration": 21,
    "start_time": "2021-07-26T09:01:03.242Z"
   },
   {
    "duration": 25,
    "start_time": "2021-07-26T09:01:03.265Z"
   },
   {
    "duration": 12,
    "start_time": "2021-07-26T09:01:03.292Z"
   },
   {
    "duration": 28,
    "start_time": "2021-07-26T09:01:03.306Z"
   },
   {
    "duration": 25,
    "start_time": "2021-07-26T09:01:03.337Z"
   },
   {
    "duration": 126,
    "start_time": "2021-07-26T09:01:03.365Z"
   },
   {
    "duration": 102,
    "start_time": "2021-07-26T09:01:03.392Z"
   },
   {
    "duration": 1495,
    "start_time": "2021-07-26T09:01:42.767Z"
   },
   {
    "duration": 23,
    "start_time": "2021-07-26T09:01:44.265Z"
   },
   {
    "duration": 17,
    "start_time": "2021-07-26T09:01:44.292Z"
   },
   {
    "duration": 22,
    "start_time": "2021-07-26T09:01:44.312Z"
   },
   {
    "duration": 10,
    "start_time": "2021-07-26T09:01:44.337Z"
   },
   {
    "duration": 40,
    "start_time": "2021-07-26T09:01:44.350Z"
   },
   {
    "duration": 17,
    "start_time": "2021-07-26T09:01:44.392Z"
   },
   {
    "duration": 109,
    "start_time": "2021-07-26T09:01:44.412Z"
   },
   {
    "duration": 81,
    "start_time": "2021-07-26T09:01:44.442Z"
   },
   {
    "duration": 1685,
    "start_time": "2021-07-26T09:01:55.632Z"
   },
   {
    "duration": 24,
    "start_time": "2021-07-26T09:01:57.320Z"
   },
   {
    "duration": 15,
    "start_time": "2021-07-26T09:01:57.347Z"
   },
   {
    "duration": 28,
    "start_time": "2021-07-26T09:01:57.365Z"
   },
   {
    "duration": 10,
    "start_time": "2021-07-26T09:01:57.395Z"
   },
   {
    "duration": 18,
    "start_time": "2021-07-26T09:01:57.407Z"
   },
   {
    "duration": 17,
    "start_time": "2021-07-26T09:01:57.428Z"
   },
   {
    "duration": 38,
    "start_time": "2021-07-26T09:01:57.448Z"
   },
   {
    "duration": 13,
    "start_time": "2021-07-26T09:01:57.489Z"
   },
   {
    "duration": 11,
    "start_time": "2021-07-26T09:04:02.326Z"
   },
   {
    "duration": 12,
    "start_time": "2021-07-26T09:04:18.090Z"
   },
   {
    "duration": 8,
    "start_time": "2021-07-26T09:04:37.176Z"
   },
   {
    "duration": 13,
    "start_time": "2021-07-26T09:08:10.015Z"
   },
   {
    "duration": 1493,
    "start_time": "2021-07-26T09:11:49.471Z"
   },
   {
    "duration": 23,
    "start_time": "2021-07-26T09:11:50.966Z"
   },
   {
    "duration": 17,
    "start_time": "2021-07-26T09:11:50.993Z"
   },
   {
    "duration": 30,
    "start_time": "2021-07-26T09:11:51.013Z"
   },
   {
    "duration": 9,
    "start_time": "2021-07-26T09:11:51.045Z"
   },
   {
    "duration": 31,
    "start_time": "2021-07-26T09:11:51.056Z"
   },
   {
    "duration": 32,
    "start_time": "2021-07-26T09:11:51.089Z"
   },
   {
    "duration": 12,
    "start_time": "2021-07-26T09:11:51.124Z"
   },
   {
    "duration": 12,
    "start_time": "2021-07-26T09:11:51.138Z"
   },
   {
    "duration": 19,
    "start_time": "2021-07-26T09:11:51.153Z"
   },
   {
    "duration": 1494,
    "start_time": "2021-07-26T09:12:46.323Z"
   },
   {
    "duration": 24,
    "start_time": "2021-07-26T09:12:47.820Z"
   },
   {
    "duration": 18,
    "start_time": "2021-07-26T09:12:47.847Z"
   },
   {
    "duration": 29,
    "start_time": "2021-07-26T09:12:47.869Z"
   },
   {
    "duration": 14,
    "start_time": "2021-07-26T09:12:47.902Z"
   },
   {
    "duration": 18,
    "start_time": "2021-07-26T09:12:47.919Z"
   },
   {
    "duration": 52,
    "start_time": "2021-07-26T09:12:47.940Z"
   },
   {
    "duration": 6,
    "start_time": "2021-07-26T09:12:47.997Z"
   },
   {
    "duration": 10,
    "start_time": "2021-07-26T09:12:48.006Z"
   },
   {
    "duration": 19,
    "start_time": "2021-07-26T09:12:48.019Z"
   },
   {
    "duration": 1515,
    "start_time": "2021-07-26T10:36:54.147Z"
   },
   {
    "duration": 23,
    "start_time": "2021-07-26T10:36:55.666Z"
   },
   {
    "duration": 14,
    "start_time": "2021-07-26T10:36:55.693Z"
   },
   {
    "duration": 23,
    "start_time": "2021-07-26T10:36:55.709Z"
   },
   {
    "duration": 13,
    "start_time": "2021-07-26T10:36:55.735Z"
   },
   {
    "duration": 39,
    "start_time": "2021-07-26T10:36:55.750Z"
   },
   {
    "duration": 18,
    "start_time": "2021-07-26T10:36:55.792Z"
   },
   {
    "duration": 8,
    "start_time": "2021-07-26T10:36:55.813Z"
   },
   {
    "duration": 9,
    "start_time": "2021-07-26T10:36:55.823Z"
   },
   {
    "duration": 19,
    "start_time": "2021-07-26T10:36:55.834Z"
   },
   {
    "duration": 467,
    "start_time": "2021-07-26T10:36:55.856Z"
   },
   {
    "duration": 321,
    "start_time": "2021-07-26T10:37:52.878Z"
   },
   {
    "duration": 326,
    "start_time": "2021-07-26T10:39:22.379Z"
   },
   {
    "duration": 326,
    "start_time": "2021-07-26T10:40:26.484Z"
   },
   {
    "duration": 316,
    "start_time": "2021-07-26T10:40:50.657Z"
   },
   {
    "duration": 332,
    "start_time": "2021-07-26T10:40:55.217Z"
   },
   {
    "duration": 13293,
    "start_time": "2021-07-26T10:42:14.995Z"
   },
   {
    "duration": 1411,
    "start_time": "2021-07-26T10:46:36.940Z"
   },
   {
    "duration": 25,
    "start_time": "2021-07-26T10:46:38.353Z"
   },
   {
    "duration": 16,
    "start_time": "2021-07-26T10:46:38.380Z"
   },
   {
    "duration": 22,
    "start_time": "2021-07-26T10:46:38.399Z"
   },
   {
    "duration": 12,
    "start_time": "2021-07-26T10:46:38.424Z"
   },
   {
    "duration": 18,
    "start_time": "2021-07-26T10:46:38.439Z"
   },
   {
    "duration": 25,
    "start_time": "2021-07-26T10:46:38.484Z"
   },
   {
    "duration": 5,
    "start_time": "2021-07-26T10:46:38.514Z"
   },
   {
    "duration": 8,
    "start_time": "2021-07-26T10:46:38.523Z"
   },
   {
    "duration": 51,
    "start_time": "2021-07-26T10:46:38.534Z"
   },
   {
    "duration": 728,
    "start_time": "2021-07-26T10:46:38.589Z"
   },
   {
    "duration": 454,
    "start_time": "2021-07-26T10:54:00.810Z"
   },
   {
    "duration": 1456,
    "start_time": "2021-07-26T10:55:25.218Z"
   },
   {
    "duration": 24,
    "start_time": "2021-07-26T10:55:26.677Z"
   },
   {
    "duration": 18,
    "start_time": "2021-07-26T10:55:26.705Z"
   },
   {
    "duration": 24,
    "start_time": "2021-07-26T10:55:26.727Z"
   },
   {
    "duration": 31,
    "start_time": "2021-07-26T10:55:26.754Z"
   },
   {
    "duration": 19,
    "start_time": "2021-07-26T10:55:26.788Z"
   },
   {
    "duration": 18,
    "start_time": "2021-07-26T10:55:26.810Z"
   },
   {
    "duration": 4,
    "start_time": "2021-07-26T10:55:26.831Z"
   },
   {
    "duration": 13,
    "start_time": "2021-07-26T10:55:26.838Z"
   },
   {
    "duration": 13,
    "start_time": "2021-07-26T10:55:26.887Z"
   },
   {
    "duration": 1045,
    "start_time": "2021-07-26T10:55:26.902Z"
   },
   {
    "duration": -703,
    "start_time": "2021-07-26T10:55:28.654Z"
   },
   {
    "duration": 590,
    "start_time": "2021-07-26T10:56:26.425Z"
   },
   {
    "duration": 335,
    "start_time": "2021-07-26T10:57:08.892Z"
   },
   {
    "duration": 313,
    "start_time": "2021-07-26T11:01:38.885Z"
   },
   {
    "duration": 1516,
    "start_time": "2021-07-26T11:01:57.213Z"
   },
   {
    "duration": 26,
    "start_time": "2021-07-26T11:01:58.732Z"
   },
   {
    "duration": 25,
    "start_time": "2021-07-26T11:01:58.762Z"
   },
   {
    "duration": 24,
    "start_time": "2021-07-26T11:01:58.791Z"
   },
   {
    "duration": 12,
    "start_time": "2021-07-26T11:01:58.818Z"
   },
   {
    "duration": 19,
    "start_time": "2021-07-26T11:01:58.833Z"
   },
   {
    "duration": 45,
    "start_time": "2021-07-26T11:01:58.854Z"
   },
   {
    "duration": 7,
    "start_time": "2021-07-26T11:01:58.903Z"
   },
   {
    "duration": 17,
    "start_time": "2021-07-26T11:01:58.913Z"
   },
   {
    "duration": 17,
    "start_time": "2021-07-26T11:01:58.932Z"
   },
   {
    "duration": 918,
    "start_time": "2021-07-26T11:01:58.952Z"
   },
   {
    "duration": 266,
    "start_time": "2021-07-26T11:02:37.337Z"
   },
   {
    "duration": 266,
    "start_time": "2021-07-26T11:07:22.366Z"
   },
   {
    "duration": 269,
    "start_time": "2021-07-26T11:16:30.457Z"
   },
   {
    "duration": 524,
    "start_time": "2021-07-26T11:16:56.958Z"
   },
   {
    "duration": 558,
    "start_time": "2021-07-26T11:17:12.085Z"
   },
   {
    "duration": 298,
    "start_time": "2021-07-26T11:17:19.766Z"
   },
   {
    "duration": 353,
    "start_time": "2021-07-26T11:17:25.697Z"
   },
   {
    "duration": 2048,
    "start_time": "2021-07-26T11:20:56.039Z"
   },
   {
    "duration": 371,
    "start_time": "2021-07-26T11:21:44.551Z"
   },
   {
    "duration": 2114,
    "start_time": "2021-07-26T11:22:09.189Z"
   },
   {
    "duration": 2087,
    "start_time": "2021-07-26T11:22:59.898Z"
   },
   {
    "duration": 2644,
    "start_time": "2021-07-26T11:23:54.141Z"
   },
   {
    "duration": 2085,
    "start_time": "2021-07-26T11:24:31.120Z"
   },
   {
    "duration": 2506,
    "start_time": "2021-07-26T11:24:46.925Z"
   },
   {
    "duration": 2111,
    "start_time": "2021-07-26T11:30:39.462Z"
   },
   {
    "duration": 29,
    "start_time": "2021-07-26T11:30:41.576Z"
   },
   {
    "duration": 41,
    "start_time": "2021-07-26T11:30:41.610Z"
   },
   {
    "duration": 40,
    "start_time": "2021-07-26T11:30:41.655Z"
   },
   {
    "duration": 15,
    "start_time": "2021-07-26T11:30:41.698Z"
   },
   {
    "duration": 41,
    "start_time": "2021-07-26T11:30:41.715Z"
   },
   {
    "duration": 54,
    "start_time": "2021-07-26T11:30:41.758Z"
   },
   {
    "duration": 27,
    "start_time": "2021-07-26T11:30:41.815Z"
   },
   {
    "duration": 27,
    "start_time": "2021-07-26T11:30:41.844Z"
   },
   {
    "duration": 28,
    "start_time": "2021-07-26T11:30:41.874Z"
   },
   {
    "duration": 283,
    "start_time": "2021-07-26T11:30:41.905Z"
   },
   {
    "duration": 500,
    "start_time": "2021-07-26T11:30:42.192Z"
   },
   {
    "duration": 790,
    "start_time": "2021-07-26T11:31:10.753Z"
   },
   {
    "duration": 349,
    "start_time": "2021-07-26T11:31:33.694Z"
   },
   {
    "duration": 326,
    "start_time": "2021-07-26T11:32:07.692Z"
   },
   {
    "duration": 315,
    "start_time": "2021-07-26T11:44:19.360Z"
   },
   {
    "duration": 1700,
    "start_time": "2021-07-26T11:45:06.143Z"
   },
   {
    "duration": 1714,
    "start_time": "2021-07-26T11:46:17.947Z"
   },
   {
    "duration": 1926,
    "start_time": "2021-07-26T11:47:02.334Z"
   },
   {
    "duration": 2477,
    "start_time": "2021-07-26T11:47:14.924Z"
   },
   {
    "duration": 2598,
    "start_time": "2021-07-26T11:48:27.331Z"
   },
   {
    "duration": 2422,
    "start_time": "2021-07-26T11:49:41.750Z"
   },
   {
    "duration": 1564,
    "start_time": "2021-07-26T11:50:39.493Z"
   },
   {
    "duration": 25,
    "start_time": "2021-07-26T11:50:41.059Z"
   },
   {
    "duration": 18,
    "start_time": "2021-07-26T11:50:41.088Z"
   },
   {
    "duration": 39,
    "start_time": "2021-07-26T11:50:41.110Z"
   },
   {
    "duration": 19,
    "start_time": "2021-07-26T11:50:41.152Z"
   },
   {
    "duration": 22,
    "start_time": "2021-07-26T11:50:41.173Z"
   },
   {
    "duration": 19,
    "start_time": "2021-07-26T11:50:41.199Z"
   },
   {
    "duration": 8,
    "start_time": "2021-07-26T11:50:41.222Z"
   },
   {
    "duration": 18,
    "start_time": "2021-07-26T11:50:41.232Z"
   },
   {
    "duration": 33,
    "start_time": "2021-07-26T11:50:41.252Z"
   },
   {
    "duration": 297,
    "start_time": "2021-07-26T11:50:41.288Z"
   },
   {
    "duration": 2622,
    "start_time": "2021-07-26T11:50:41.587Z"
   },
   {
    "duration": 593,
    "start_time": "2021-07-26T11:51:18.776Z"
   },
   {
    "duration": 607,
    "start_time": "2021-07-26T11:53:48.569Z"
   },
   {
    "duration": 604,
    "start_time": "2021-07-26T11:54:09.843Z"
   },
   {
    "duration": 604,
    "start_time": "2021-07-26T11:54:31.317Z"
   },
   {
    "duration": 678,
    "start_time": "2021-07-26T11:54:43.335Z"
   },
   {
    "duration": 2465,
    "start_time": "2021-07-26T11:55:01.083Z"
   },
   {
    "duration": 3239,
    "start_time": "2021-07-26T11:55:36.331Z"
   },
   {
    "duration": 3082,
    "start_time": "2021-07-26T11:55:53.305Z"
   },
   {
    "duration": 3334,
    "start_time": "2021-07-26T11:56:35.970Z"
   },
   {
    "duration": 1527,
    "start_time": "2021-07-26T11:58:03.341Z"
   },
   {
    "duration": 26,
    "start_time": "2021-07-26T11:58:04.871Z"
   },
   {
    "duration": 26,
    "start_time": "2021-07-26T11:58:04.900Z"
   },
   {
    "duration": 26,
    "start_time": "2021-07-26T11:58:04.929Z"
   },
   {
    "duration": 10,
    "start_time": "2021-07-26T11:58:04.958Z"
   },
   {
    "duration": 26,
    "start_time": "2021-07-26T11:58:04.971Z"
   },
   {
    "duration": 22,
    "start_time": "2021-07-26T11:58:05.000Z"
   },
   {
    "duration": 15,
    "start_time": "2021-07-26T11:58:05.025Z"
   },
   {
    "duration": 18,
    "start_time": "2021-07-26T11:58:05.042Z"
   },
   {
    "duration": 33,
    "start_time": "2021-07-26T11:58:05.063Z"
   },
   {
    "duration": 322,
    "start_time": "2021-07-26T11:58:05.099Z"
   },
   {
    "duration": 3464,
    "start_time": "2021-07-26T11:58:05.423Z"
   },
   {
    "duration": 1440,
    "start_time": "2021-07-26T11:58:23.932Z"
   },
   {
    "duration": 28,
    "start_time": "2021-07-26T11:58:25.374Z"
   },
   {
    "duration": 21,
    "start_time": "2021-07-26T11:58:25.407Z"
   },
   {
    "duration": 26,
    "start_time": "2021-07-26T11:58:25.432Z"
   },
   {
    "duration": 31,
    "start_time": "2021-07-26T11:58:25.461Z"
   },
   {
    "duration": 24,
    "start_time": "2021-07-26T11:58:25.495Z"
   },
   {
    "duration": 18,
    "start_time": "2021-07-26T11:58:25.523Z"
   },
   {
    "duration": 4,
    "start_time": "2021-07-26T11:58:25.545Z"
   },
   {
    "duration": 6,
    "start_time": "2021-07-26T11:58:25.586Z"
   },
   {
    "duration": 15,
    "start_time": "2021-07-26T11:58:25.595Z"
   },
   {
    "duration": 298,
    "start_time": "2021-07-26T11:58:25.613Z"
   },
   {
    "duration": 3327,
    "start_time": "2021-07-26T11:58:25.913Z"
   },
   {
    "duration": 3775,
    "start_time": "2021-07-26T11:58:41.738Z"
   },
   {
    "duration": 3478,
    "start_time": "2021-07-26T11:59:14.572Z"
   },
   {
    "duration": 3427,
    "start_time": "2021-07-26T11:59:26.277Z"
   },
   {
    "duration": 466,
    "start_time": "2021-07-26T12:01:08.484Z"
   },
   {
    "duration": 111,
    "start_time": "2021-07-26T12:01:16.417Z"
   },
   {
    "duration": 532,
    "start_time": "2021-07-26T12:01:20.929Z"
   },
   {
    "duration": 1301,
    "start_time": "2021-07-26T12:01:37.839Z"
   },
   {
    "duration": 231,
    "start_time": "2021-07-26T12:02:52.219Z"
   },
   {
    "duration": 435,
    "start_time": "2021-07-26T12:03:21.229Z"
   },
   {
    "duration": 550,
    "start_time": "2021-07-26T12:06:28.086Z"
   },
   {
    "duration": 240,
    "start_time": "2021-07-26T12:06:47.450Z"
   },
   {
    "duration": 187,
    "start_time": "2021-07-26T12:07:37.313Z"
   },
   {
    "duration": 192,
    "start_time": "2021-07-26T12:07:43.184Z"
   },
   {
    "duration": 211,
    "start_time": "2021-07-26T12:07:47.691Z"
   },
   {
    "duration": 192,
    "start_time": "2021-07-26T12:07:54.870Z"
   },
   {
    "duration": 189,
    "start_time": "2021-07-26T12:07:59.561Z"
   },
   {
    "duration": 194,
    "start_time": "2021-07-26T12:08:07.305Z"
   },
   {
    "duration": 1175,
    "start_time": "2021-07-26T12:08:48.384Z"
   },
   {
    "duration": 391,
    "start_time": "2021-07-26T12:08:59.953Z"
   },
   {
    "duration": 576,
    "start_time": "2021-07-26T12:09:11.246Z"
   },
   {
    "duration": 1557,
    "start_time": "2021-07-26T12:10:28.612Z"
   },
   {
    "duration": 24,
    "start_time": "2021-07-26T12:10:30.171Z"
   },
   {
    "duration": 24,
    "start_time": "2021-07-26T12:10:30.199Z"
   },
   {
    "duration": 31,
    "start_time": "2021-07-26T12:10:30.226Z"
   },
   {
    "duration": 14,
    "start_time": "2021-07-26T12:10:30.260Z"
   },
   {
    "duration": 27,
    "start_time": "2021-07-26T12:10:30.276Z"
   },
   {
    "duration": 24,
    "start_time": "2021-07-26T12:10:30.306Z"
   },
   {
    "duration": 13,
    "start_time": "2021-07-26T12:10:30.333Z"
   },
   {
    "duration": 17,
    "start_time": "2021-07-26T12:10:30.349Z"
   },
   {
    "duration": 21,
    "start_time": "2021-07-26T12:10:30.368Z"
   },
   {
    "duration": 293,
    "start_time": "2021-07-26T12:10:30.392Z"
   },
   {
    "duration": 3425,
    "start_time": "2021-07-26T12:10:30.687Z"
   },
   {
    "duration": 452,
    "start_time": "2021-07-26T12:10:34.115Z"
   },
   {
    "duration": 10,
    "start_time": "2021-07-26T12:13:31.637Z"
   },
   {
    "duration": 1567,
    "start_time": "2021-07-26T12:17:14.080Z"
   },
   {
    "duration": 30,
    "start_time": "2021-07-26T12:17:15.655Z"
   },
   {
    "duration": 14,
    "start_time": "2021-07-26T12:17:15.689Z"
   },
   {
    "duration": 22,
    "start_time": "2021-07-26T12:17:15.706Z"
   },
   {
    "duration": 11,
    "start_time": "2021-07-26T12:17:15.731Z"
   },
   {
    "duration": 51,
    "start_time": "2021-07-26T12:17:15.745Z"
   },
   {
    "duration": 18,
    "start_time": "2021-07-26T12:17:15.799Z"
   },
   {
    "duration": 6,
    "start_time": "2021-07-26T12:17:15.819Z"
   },
   {
    "duration": 14,
    "start_time": "2021-07-26T12:17:15.828Z"
   },
   {
    "duration": 24,
    "start_time": "2021-07-26T12:17:15.845Z"
   },
   {
    "duration": 302,
    "start_time": "2021-07-26T12:17:15.886Z"
   },
   {
    "duration": 3400,
    "start_time": "2021-07-26T12:17:16.191Z"
   },
   {
    "duration": 526,
    "start_time": "2021-07-26T12:17:19.594Z"
   },
   {
    "duration": 1441,
    "start_time": "2021-07-26T15:52:00.176Z"
   },
   {
    "duration": 23,
    "start_time": "2021-07-26T15:52:01.619Z"
   },
   {
    "duration": 20,
    "start_time": "2021-07-26T15:52:01.646Z"
   },
   {
    "duration": 34,
    "start_time": "2021-07-26T15:52:01.669Z"
   },
   {
    "duration": 16,
    "start_time": "2021-07-26T15:52:01.706Z"
   },
   {
    "duration": 24,
    "start_time": "2021-07-26T15:52:01.724Z"
   },
   {
    "duration": 24,
    "start_time": "2021-07-26T15:52:01.750Z"
   },
   {
    "duration": 27,
    "start_time": "2021-07-26T15:52:01.778Z"
   },
   {
    "duration": 16,
    "start_time": "2021-07-26T15:52:01.807Z"
   },
   {
    "duration": 23,
    "start_time": "2021-07-26T15:52:01.826Z"
   },
   {
    "duration": 273,
    "start_time": "2021-07-26T15:52:01.852Z"
   },
   {
    "duration": 3299,
    "start_time": "2021-07-26T15:52:02.127Z"
   },
   {
    "duration": 420,
    "start_time": "2021-07-26T15:52:05.428Z"
   },
   {
    "duration": 1367,
    "start_time": "2021-07-26T15:59:31.940Z"
   },
   {
    "duration": 23,
    "start_time": "2021-07-26T15:59:33.309Z"
   },
   {
    "duration": 23,
    "start_time": "2021-07-26T15:59:33.335Z"
   },
   {
    "duration": 27,
    "start_time": "2021-07-26T15:59:33.361Z"
   },
   {
    "duration": 13,
    "start_time": "2021-07-26T15:59:33.391Z"
   },
   {
    "duration": 20,
    "start_time": "2021-07-26T15:59:33.406Z"
   },
   {
    "duration": 33,
    "start_time": "2021-07-26T15:59:33.428Z"
   },
   {
    "duration": 4,
    "start_time": "2021-07-26T15:59:33.465Z"
   },
   {
    "duration": 7,
    "start_time": "2021-07-26T15:59:33.471Z"
   },
   {
    "duration": 21,
    "start_time": "2021-07-26T15:59:33.480Z"
   },
   {
    "duration": 279,
    "start_time": "2021-07-26T15:59:33.503Z"
   },
   {
    "duration": 3246,
    "start_time": "2021-07-26T15:59:33.785Z"
   },
   {
    "duration": 431,
    "start_time": "2021-07-26T15:59:37.033Z"
   },
   {
    "duration": 1425,
    "start_time": "2021-07-26T16:01:10.272Z"
   },
   {
    "duration": 24,
    "start_time": "2021-07-26T16:01:11.700Z"
   },
   {
    "duration": 31,
    "start_time": "2021-07-26T16:01:11.726Z"
   },
   {
    "duration": 25,
    "start_time": "2021-07-26T16:01:11.759Z"
   },
   {
    "duration": 15,
    "start_time": "2021-07-26T16:01:11.787Z"
   },
   {
    "duration": 32,
    "start_time": "2021-07-26T16:01:11.805Z"
   },
   {
    "duration": 40,
    "start_time": "2021-07-26T16:01:11.839Z"
   },
   {
    "duration": 8,
    "start_time": "2021-07-26T16:01:11.882Z"
   },
   {
    "duration": 20,
    "start_time": "2021-07-26T16:01:11.893Z"
   },
   {
    "duration": 24,
    "start_time": "2021-07-26T16:01:11.915Z"
   },
   {
    "duration": 285,
    "start_time": "2021-07-26T16:01:11.941Z"
   },
   {
    "duration": 3312,
    "start_time": "2021-07-26T16:01:12.229Z"
   },
   {
    "duration": 412,
    "start_time": "2021-07-26T16:01:15.544Z"
   },
   {
    "duration": 1541,
    "start_time": "2021-07-27T05:59:31.414Z"
   },
   {
    "duration": 40,
    "start_time": "2021-07-27T05:59:32.958Z"
   },
   {
    "duration": 13,
    "start_time": "2021-07-27T05:59:33.002Z"
   },
   {
    "duration": 51,
    "start_time": "2021-07-27T05:59:33.018Z"
   },
   {
    "duration": 13,
    "start_time": "2021-07-27T05:59:33.071Z"
   },
   {
    "duration": 21,
    "start_time": "2021-07-27T05:59:33.087Z"
   },
   {
    "duration": 17,
    "start_time": "2021-07-27T05:59:33.110Z"
   },
   {
    "duration": 4,
    "start_time": "2021-07-27T05:59:33.131Z"
   },
   {
    "duration": 7,
    "start_time": "2021-07-27T05:59:33.137Z"
   },
   {
    "duration": 14,
    "start_time": "2021-07-27T05:59:33.146Z"
   },
   {
    "duration": 403,
    "start_time": "2021-07-27T05:59:33.201Z"
   },
   {
    "duration": 4819,
    "start_time": "2021-07-27T05:59:33.607Z"
   },
   {
    "duration": 572,
    "start_time": "2021-07-27T05:59:38.429Z"
   },
   {
    "duration": 1432,
    "start_time": "2021-07-27T06:00:37.832Z"
   },
   {
    "duration": 24,
    "start_time": "2021-07-27T06:00:39.267Z"
   },
   {
    "duration": 15,
    "start_time": "2021-07-27T06:00:39.294Z"
   },
   {
    "duration": 23,
    "start_time": "2021-07-27T06:00:39.312Z"
   },
   {
    "duration": 10,
    "start_time": "2021-07-27T06:00:39.337Z"
   },
   {
    "duration": 19,
    "start_time": "2021-07-27T06:00:39.350Z"
   },
   {
    "duration": 46,
    "start_time": "2021-07-27T06:00:39.372Z"
   },
   {
    "duration": 9,
    "start_time": "2021-07-27T06:00:39.422Z"
   },
   {
    "duration": 20,
    "start_time": "2021-07-27T06:00:39.434Z"
   },
   {
    "duration": 20,
    "start_time": "2021-07-27T06:00:39.457Z"
   },
   {
    "duration": 291,
    "start_time": "2021-07-27T06:00:39.480Z"
   },
   {
    "duration": 3412,
    "start_time": "2021-07-27T06:00:39.774Z"
   },
   {
    "duration": 425,
    "start_time": "2021-07-27T06:00:43.188Z"
   },
   {
    "duration": 480,
    "start_time": "2021-07-27T10:31:41.303Z"
   },
   {
    "duration": 370,
    "start_time": "2021-07-27T10:32:48.983Z"
   },
   {
    "duration": 1536,
    "start_time": "2021-07-27T10:32:57.814Z"
   },
   {
    "duration": 21,
    "start_time": "2021-07-27T10:32:59.353Z"
   },
   {
    "duration": 15,
    "start_time": "2021-07-27T10:32:59.378Z"
   },
   {
    "duration": 22,
    "start_time": "2021-07-27T10:32:59.396Z"
   },
   {
    "duration": 9,
    "start_time": "2021-07-27T10:32:59.421Z"
   },
   {
    "duration": 46,
    "start_time": "2021-07-27T10:32:59.433Z"
   },
   {
    "duration": 19,
    "start_time": "2021-07-27T10:32:59.482Z"
   },
   {
    "duration": 5,
    "start_time": "2021-07-27T10:32:59.505Z"
   },
   {
    "duration": 7,
    "start_time": "2021-07-27T10:32:59.512Z"
   },
   {
    "duration": 47,
    "start_time": "2021-07-27T10:32:59.522Z"
   },
   {
    "duration": 1245,
    "start_time": "2021-07-27T10:32:59.571Z"
   },
   {
    "duration": -459,
    "start_time": "2021-07-27T10:33:01.279Z"
   },
   {
    "duration": -468,
    "start_time": "2021-07-27T10:33:01.289Z"
   },
   {
    "duration": 618,
    "start_time": "2021-07-27T10:33:07.311Z"
   },
   {
    "duration": 277,
    "start_time": "2021-07-27T10:33:19.788Z"
   },
   {
    "duration": 274,
    "start_time": "2021-07-27T10:33:32.011Z"
   },
   {
    "duration": 278,
    "start_time": "2021-07-27T10:34:01.723Z"
   },
   {
    "duration": 273,
    "start_time": "2021-07-27T10:34:47.940Z"
   },
   {
    "duration": 703,
    "start_time": "2021-07-27T10:36:00.277Z"
   },
   {
    "duration": 723,
    "start_time": "2021-07-27T10:36:25.186Z"
   },
   {
    "duration": 375,
    "start_time": "2021-07-27T10:39:04.392Z"
   },
   {
    "duration": 1597,
    "start_time": "2021-07-27T10:39:15.966Z"
   },
   {
    "duration": 23,
    "start_time": "2021-07-27T10:39:17.565Z"
   },
   {
    "duration": 14,
    "start_time": "2021-07-27T10:39:17.591Z"
   },
   {
    "duration": 22,
    "start_time": "2021-07-27T10:39:17.608Z"
   },
   {
    "duration": 12,
    "start_time": "2021-07-27T10:39:17.633Z"
   },
   {
    "duration": 36,
    "start_time": "2021-07-27T10:39:17.647Z"
   },
   {
    "duration": 22,
    "start_time": "2021-07-27T10:39:17.685Z"
   },
   {
    "duration": 4,
    "start_time": "2021-07-27T10:39:17.710Z"
   },
   {
    "duration": 23,
    "start_time": "2021-07-27T10:39:17.718Z"
   },
   {
    "duration": 44,
    "start_time": "2021-07-27T10:39:17.743Z"
   },
   {
    "duration": 898,
    "start_time": "2021-07-27T10:39:17.790Z"
   },
   {
    "duration": -484,
    "start_time": "2021-07-27T10:39:19.175Z"
   },
   {
    "duration": -490,
    "start_time": "2021-07-27T10:39:19.183Z"
   },
   {
    "duration": 657,
    "start_time": "2021-07-27T10:39:24.292Z"
   },
   {
    "duration": 320,
    "start_time": "2021-07-27T10:39:32.178Z"
   },
   {
    "duration": 347,
    "start_time": "2021-07-27T10:39:46.354Z"
   },
   {
    "duration": 697,
    "start_time": "2021-07-27T10:41:58.034Z"
   },
   {
    "duration": 310,
    "start_time": "2021-07-27T10:45:04.409Z"
   },
   {
    "duration": 267,
    "start_time": "2021-07-27T10:45:39.719Z"
   },
   {
    "duration": 272,
    "start_time": "2021-07-27T10:45:58.955Z"
   },
   {
    "duration": 1826,
    "start_time": "2021-07-27T10:46:10.288Z"
   },
   {
    "duration": 1477,
    "start_time": "2021-07-27T10:46:12.117Z"
   },
   {
    "duration": 14,
    "start_time": "2021-07-27T10:46:13.597Z"
   },
   {
    "duration": 28,
    "start_time": "2021-07-27T10:46:13.614Z"
   },
   {
    "duration": 11,
    "start_time": "2021-07-27T10:46:13.644Z"
   },
   {
    "duration": 26,
    "start_time": "2021-07-27T10:46:13.657Z"
   },
   {
    "duration": 17,
    "start_time": "2021-07-27T10:46:13.685Z"
   },
   {
    "duration": 4,
    "start_time": "2021-07-27T10:46:13.705Z"
   },
   {
    "duration": 7,
    "start_time": "2021-07-27T10:46:13.712Z"
   },
   {
    "duration": 58,
    "start_time": "2021-07-27T10:46:13.721Z"
   },
   {
    "duration": 324,
    "start_time": "2021-07-27T10:46:13.782Z"
   },
   {
    "duration": 3706,
    "start_time": "2021-07-27T10:46:14.109Z"
   },
   {
    "duration": 453,
    "start_time": "2021-07-27T10:46:17.817Z"
   },
   {
    "duration": 1960,
    "start_time": "2021-07-27T10:46:27.468Z"
   },
   {
    "duration": 25,
    "start_time": "2021-07-27T10:46:29.431Z"
   },
   {
    "duration": 24,
    "start_time": "2021-07-27T10:46:29.459Z"
   },
   {
    "duration": 24,
    "start_time": "2021-07-27T10:46:29.486Z"
   },
   {
    "duration": 14,
    "start_time": "2021-07-27T10:46:29.513Z"
   },
   {
    "duration": 49,
    "start_time": "2021-07-27T10:46:29.530Z"
   },
   {
    "duration": 21,
    "start_time": "2021-07-27T10:46:29.582Z"
   },
   {
    "duration": 8,
    "start_time": "2021-07-27T10:46:29.607Z"
   },
   {
    "duration": 9,
    "start_time": "2021-07-27T10:46:29.618Z"
   },
   {
    "duration": 50,
    "start_time": "2021-07-27T10:46:29.629Z"
   },
   {
    "duration": 586,
    "start_time": "2021-07-27T10:46:29.681Z"
   },
   {
    "duration": 3765,
    "start_time": "2021-07-27T10:46:30.270Z"
   },
   {
    "duration": 551,
    "start_time": "2021-07-27T10:46:34.037Z"
   },
   {
    "duration": 271,
    "start_time": "2021-07-27T10:46:46.087Z"
   },
   {
    "duration": 550,
    "start_time": "2021-07-27T10:50:08.789Z"
   },
   {
    "duration": 445,
    "start_time": "2021-07-27T10:50:33.869Z"
   },
   {
    "duration": 353,
    "start_time": "2021-07-27T10:51:08.964Z"
   },
   {
    "duration": 290,
    "start_time": "2021-07-27T10:51:36.746Z"
   },
   {
    "duration": 268,
    "start_time": "2021-07-27T10:51:43.642Z"
   },
   {
    "duration": 1504,
    "start_time": "2021-07-27T10:52:22.452Z"
   },
   {
    "duration": 22,
    "start_time": "2021-07-27T10:52:23.959Z"
   },
   {
    "duration": 16,
    "start_time": "2021-07-27T10:52:23.984Z"
   },
   {
    "duration": 21,
    "start_time": "2021-07-27T10:52:24.003Z"
   },
   {
    "duration": 14,
    "start_time": "2021-07-27T10:52:24.026Z"
   },
   {
    "duration": 36,
    "start_time": "2021-07-27T10:52:24.042Z"
   },
   {
    "duration": 23,
    "start_time": "2021-07-27T10:52:24.080Z"
   },
   {
    "duration": 6,
    "start_time": "2021-07-27T10:52:24.107Z"
   },
   {
    "duration": 15,
    "start_time": "2021-07-27T10:52:24.115Z"
   },
   {
    "duration": 45,
    "start_time": "2021-07-27T10:52:24.132Z"
   },
   {
    "duration": 300,
    "start_time": "2021-07-27T10:52:24.179Z"
   },
   {
    "duration": 3746,
    "start_time": "2021-07-27T10:52:24.481Z"
   },
   {
    "duration": 443,
    "start_time": "2021-07-27T10:52:28.229Z"
   },
   {
    "duration": 271,
    "start_time": "2021-07-27T10:53:39.511Z"
   },
   {
    "duration": 363,
    "start_time": "2021-07-27T10:53:54.811Z"
   },
   {
    "duration": 1517,
    "start_time": "2021-07-27T10:54:11.558Z"
   },
   {
    "duration": 21,
    "start_time": "2021-07-27T10:54:13.078Z"
   },
   {
    "duration": 14,
    "start_time": "2021-07-27T10:54:13.102Z"
   },
   {
    "duration": 20,
    "start_time": "2021-07-27T10:54:13.119Z"
   },
   {
    "duration": 27,
    "start_time": "2021-07-27T10:54:13.142Z"
   },
   {
    "duration": 17,
    "start_time": "2021-07-27T10:54:13.172Z"
   },
   {
    "duration": 17,
    "start_time": "2021-07-27T10:54:13.192Z"
   },
   {
    "duration": 6,
    "start_time": "2021-07-27T10:54:13.212Z"
   },
   {
    "duration": 8,
    "start_time": "2021-07-27T10:54:13.220Z"
   },
   {
    "duration": 13,
    "start_time": "2021-07-27T10:54:13.267Z"
   },
   {
    "duration": 294,
    "start_time": "2021-07-27T10:54:13.283Z"
   },
   {
    "duration": 3483,
    "start_time": "2021-07-27T10:54:13.580Z"
   },
   {
    "duration": 434,
    "start_time": "2021-07-27T10:54:17.068Z"
   },
   {
    "duration": 564,
    "start_time": "2021-07-27T10:56:41.857Z"
   },
   {
    "duration": 364,
    "start_time": "2021-07-27T10:57:03.730Z"
   },
   {
    "duration": 695,
    "start_time": "2021-07-27T10:57:16.746Z"
   },
   {
    "duration": 392,
    "start_time": "2021-07-27T10:57:35.861Z"
   },
   {
    "duration": 1517,
    "start_time": "2021-07-27T10:57:54.298Z"
   },
   {
    "duration": 23,
    "start_time": "2021-07-27T10:57:55.817Z"
   },
   {
    "duration": 30,
    "start_time": "2021-07-27T10:57:55.843Z"
   },
   {
    "duration": 21,
    "start_time": "2021-07-27T10:57:55.876Z"
   },
   {
    "duration": 9,
    "start_time": "2021-07-27T10:57:55.900Z"
   },
   {
    "duration": 18,
    "start_time": "2021-07-27T10:57:55.912Z"
   },
   {
    "duration": 50,
    "start_time": "2021-07-27T10:57:55.933Z"
   },
   {
    "duration": 4,
    "start_time": "2021-07-27T10:57:55.986Z"
   },
   {
    "duration": 9,
    "start_time": "2021-07-27T10:57:55.993Z"
   },
   {
    "duration": 67,
    "start_time": "2021-07-27T10:57:56.004Z"
   },
   {
    "duration": 513,
    "start_time": "2021-07-27T10:57:56.073Z"
   },
   {
    "duration": 3737,
    "start_time": "2021-07-27T10:57:56.588Z"
   },
   {
    "duration": 448,
    "start_time": "2021-07-27T10:58:00.327Z"
   },
   {
    "duration": 1570,
    "start_time": "2021-07-27T10:58:50.278Z"
   },
   {
    "duration": 25,
    "start_time": "2021-07-27T10:58:51.851Z"
   },
   {
    "duration": 20,
    "start_time": "2021-07-27T10:58:51.881Z"
   },
   {
    "duration": 23,
    "start_time": "2021-07-27T10:58:51.904Z"
   },
   {
    "duration": 42,
    "start_time": "2021-07-27T10:58:51.931Z"
   },
   {
    "duration": 26,
    "start_time": "2021-07-27T10:58:51.977Z"
   },
   {
    "duration": 60,
    "start_time": "2021-07-27T10:58:52.007Z"
   },
   {
    "duration": 6,
    "start_time": "2021-07-27T10:58:52.072Z"
   },
   {
    "duration": 8,
    "start_time": "2021-07-27T10:58:52.082Z"
   },
   {
    "duration": 74,
    "start_time": "2021-07-27T10:58:52.093Z"
   },
   {
    "duration": 629,
    "start_time": "2021-07-27T10:58:52.171Z"
   },
   {
    "duration": 5114,
    "start_time": "2021-07-27T10:58:52.803Z"
   },
   {
    "duration": 600,
    "start_time": "2021-07-27T10:58:57.921Z"
   },
   {
    "duration": 1744,
    "start_time": "2021-07-27T10:59:12.953Z"
   },
   {
    "duration": 21,
    "start_time": "2021-07-27T10:59:14.699Z"
   },
   {
    "duration": 14,
    "start_time": "2021-07-27T10:59:14.768Z"
   },
   {
    "duration": 22,
    "start_time": "2021-07-27T10:59:14.785Z"
   },
   {
    "duration": 9,
    "start_time": "2021-07-27T10:59:14.809Z"
   },
   {
    "duration": 18,
    "start_time": "2021-07-27T10:59:14.868Z"
   },
   {
    "duration": 18,
    "start_time": "2021-07-27T10:59:14.888Z"
   },
   {
    "duration": 58,
    "start_time": "2021-07-27T10:59:14.910Z"
   },
   {
    "duration": 11,
    "start_time": "2021-07-27T10:59:14.972Z"
   },
   {
    "duration": 16,
    "start_time": "2021-07-27T10:59:14.985Z"
   },
   {
    "duration": 570,
    "start_time": "2021-07-27T10:59:15.004Z"
   },
   {
    "duration": 3432,
    "start_time": "2021-07-27T10:59:15.576Z"
   },
   {
    "duration": 434,
    "start_time": "2021-07-27T10:59:19.010Z"
   },
   {
    "duration": 1568,
    "start_time": "2021-07-27T11:25:19.700Z"
   },
   {
    "duration": 22,
    "start_time": "2021-07-27T11:25:21.271Z"
   },
   {
    "duration": 18,
    "start_time": "2021-07-27T11:25:21.297Z"
   },
   {
    "duration": 34,
    "start_time": "2021-07-27T11:25:21.318Z"
   },
   {
    "duration": 14,
    "start_time": "2021-07-27T11:25:21.354Z"
   },
   {
    "duration": 27,
    "start_time": "2021-07-27T11:25:21.371Z"
   },
   {
    "duration": 20,
    "start_time": "2021-07-27T11:25:21.400Z"
   },
   {
    "duration": 5,
    "start_time": "2021-07-27T11:25:21.423Z"
   },
   {
    "duration": 11,
    "start_time": "2021-07-27T11:25:21.431Z"
   },
   {
    "duration": 32,
    "start_time": "2021-07-27T11:25:21.444Z"
   },
   {
    "duration": 339,
    "start_time": "2021-07-27T11:25:21.478Z"
   },
   {
    "duration": 3777,
    "start_time": "2021-07-27T11:25:21.819Z"
   },
   {
    "duration": 455,
    "start_time": "2021-07-27T11:25:25.598Z"
   },
   {
    "duration": 1733,
    "start_time": "2021-07-27T11:27:39.510Z"
   },
   {
    "duration": 21,
    "start_time": "2021-07-27T11:27:41.246Z"
   },
   {
    "duration": 22,
    "start_time": "2021-07-27T11:27:41.270Z"
   },
   {
    "duration": 25,
    "start_time": "2021-07-27T11:27:41.294Z"
   },
   {
    "duration": 12,
    "start_time": "2021-07-27T11:27:41.321Z"
   },
   {
    "duration": 35,
    "start_time": "2021-07-27T11:27:41.336Z"
   },
   {
    "duration": 27,
    "start_time": "2021-07-27T11:27:41.374Z"
   },
   {
    "duration": 12,
    "start_time": "2021-07-27T11:27:41.403Z"
   },
   {
    "duration": 7,
    "start_time": "2021-07-27T11:27:41.420Z"
   },
   {
    "duration": 39,
    "start_time": "2021-07-27T11:27:41.430Z"
   },
   {
    "duration": 294,
    "start_time": "2021-07-27T11:27:41.473Z"
   },
   {
    "duration": 3627,
    "start_time": "2021-07-27T11:27:41.769Z"
   },
   {
    "duration": 446,
    "start_time": "2021-07-27T11:27:45.399Z"
   },
   {
    "duration": 108,
    "start_time": "2021-07-28T08:03:40.378Z"
   },
   {
    "duration": 1009,
    "start_time": "2021-10-07T15:44:07.707Z"
   },
   {
    "duration": 732,
    "start_time": "2021-10-07T15:44:08.719Z"
   },
   {
    "duration": 23,
    "start_time": "2021-10-07T15:44:09.454Z"
   },
   {
    "duration": 17,
    "start_time": "2021-10-07T15:44:09.479Z"
   },
   {
    "duration": 24,
    "start_time": "2021-10-07T15:44:09.498Z"
   },
   {
    "duration": 12,
    "start_time": "2021-10-07T15:44:09.525Z"
   },
   {
    "duration": 19,
    "start_time": "2021-10-07T15:44:09.539Z"
   },
   {
    "duration": 20,
    "start_time": "2021-10-07T15:44:09.562Z"
   },
   {
    "duration": 39,
    "start_time": "2021-10-07T15:44:09.585Z"
   },
   {
    "duration": 7,
    "start_time": "2021-10-07T15:44:09.627Z"
   },
   {
    "duration": 22,
    "start_time": "2021-10-07T15:44:09.636Z"
   },
   {
    "duration": 294,
    "start_time": "2021-10-07T15:44:09.660Z"
   },
   {
    "duration": 3449,
    "start_time": "2021-10-07T15:44:09.956Z"
   },
   {
    "duration": 419,
    "start_time": "2021-10-07T15:44:13.407Z"
   },
   {
    "duration": 64,
    "start_time": "2021-10-07T15:50:59.350Z"
   },
   {
    "duration": 1037,
    "start_time": "2021-10-07T16:04:55.516Z"
   },
   {
    "duration": 3,
    "start_time": "2021-10-07T16:04:56.556Z"
   },
   {
    "duration": 8,
    "start_time": "2021-10-07T16:04:56.561Z"
   },
   {
    "duration": 8,
    "start_time": "2021-10-07T16:04:56.572Z"
   },
   {
    "duration": 6,
    "start_time": "2021-10-07T16:04:56.582Z"
   },
   {
    "duration": 7,
    "start_time": "2021-10-07T16:04:56.591Z"
   },
   {
    "duration": 21,
    "start_time": "2021-10-07T16:04:56.601Z"
   },
   {
    "duration": 4,
    "start_time": "2021-10-07T16:04:56.626Z"
   },
   {
    "duration": 710,
    "start_time": "2021-10-07T16:04:56.632Z"
   },
   {
    "duration": 23,
    "start_time": "2021-10-07T16:04:57.345Z"
   },
   {
    "duration": 19,
    "start_time": "2021-10-07T16:04:57.370Z"
   },
   {
    "duration": 43,
    "start_time": "2021-10-07T16:04:57.391Z"
   },
   {
    "duration": 9,
    "start_time": "2021-10-07T16:04:57.436Z"
   },
   {
    "duration": 25,
    "start_time": "2021-10-07T16:04:57.448Z"
   },
   {
    "duration": 41,
    "start_time": "2021-10-07T16:04:57.476Z"
   },
   {
    "duration": 18,
    "start_time": "2021-10-07T16:04:57.520Z"
   },
   {
    "duration": 18,
    "start_time": "2021-10-07T16:04:57.540Z"
   },
   {
    "duration": 31,
    "start_time": "2021-10-07T16:04:57.560Z"
   },
   {
    "duration": 280,
    "start_time": "2021-10-07T16:04:57.593Z"
   },
   {
    "duration": 4019,
    "start_time": "2021-10-07T16:04:57.876Z"
   },
   {
    "duration": 430,
    "start_time": "2021-10-07T16:05:01.897Z"
   },
   {
    "duration": 1047,
    "start_time": "2021-10-07T16:11:43.632Z"
   },
   {
    "duration": 3,
    "start_time": "2021-10-07T16:11:44.682Z"
   },
   {
    "duration": 10,
    "start_time": "2021-10-07T16:11:44.688Z"
   },
   {
    "duration": 16,
    "start_time": "2021-10-07T16:11:44.700Z"
   },
   {
    "duration": 12,
    "start_time": "2021-10-07T16:11:44.718Z"
   },
   {
    "duration": 9,
    "start_time": "2021-10-07T16:11:44.733Z"
   },
   {
    "duration": 6,
    "start_time": "2021-10-07T16:11:44.745Z"
   },
   {
    "duration": 25,
    "start_time": "2021-10-07T16:11:44.755Z"
   },
   {
    "duration": 755,
    "start_time": "2021-10-07T16:11:44.783Z"
   },
   {
    "duration": 24,
    "start_time": "2021-10-07T16:11:45.540Z"
   },
   {
    "duration": 19,
    "start_time": "2021-10-07T16:11:45.566Z"
   },
   {
    "duration": 35,
    "start_time": "2021-10-07T16:11:45.588Z"
   },
   {
    "duration": 18,
    "start_time": "2021-10-07T16:11:45.625Z"
   },
   {
    "duration": 50,
    "start_time": "2021-10-07T16:11:45.645Z"
   },
   {
    "duration": 38,
    "start_time": "2021-10-07T16:11:45.697Z"
   },
   {
    "duration": 20,
    "start_time": "2021-10-07T16:11:45.738Z"
   },
   {
    "duration": 33,
    "start_time": "2021-10-07T16:11:45.761Z"
   },
   {
    "duration": 42,
    "start_time": "2021-10-07T16:11:45.796Z"
   },
   {
    "duration": 297,
    "start_time": "2021-10-07T16:11:45.841Z"
   },
   {
    "duration": 3365,
    "start_time": "2021-10-07T16:11:46.140Z"
   },
   {
    "duration": 422,
    "start_time": "2021-10-07T16:11:49.508Z"
   },
   {
    "duration": 1011,
    "start_time": "2021-10-07T16:22:28.317Z"
   },
   {
    "duration": 3,
    "start_time": "2021-10-07T16:22:29.331Z"
   },
   {
    "duration": 7,
    "start_time": "2021-10-07T16:22:29.337Z"
   },
   {
    "duration": 8,
    "start_time": "2021-10-07T16:22:29.346Z"
   },
   {
    "duration": 7,
    "start_time": "2021-10-07T16:22:29.356Z"
   },
   {
    "duration": 13,
    "start_time": "2021-10-07T16:22:29.365Z"
   },
   {
    "duration": 16,
    "start_time": "2021-10-07T16:22:29.380Z"
   },
   {
    "duration": 8,
    "start_time": "2021-10-07T16:22:29.400Z"
   },
   {
    "duration": 733,
    "start_time": "2021-10-07T16:22:29.424Z"
   },
   {
    "duration": 34,
    "start_time": "2021-10-07T16:22:30.159Z"
   },
   {
    "duration": 46,
    "start_time": "2021-10-07T16:22:30.196Z"
   },
   {
    "duration": 30,
    "start_time": "2021-10-07T16:22:30.244Z"
   },
   {
    "duration": 5,
    "start_time": "2021-10-07T16:22:30.277Z"
   },
   {
    "duration": 39,
    "start_time": "2021-10-07T16:22:30.284Z"
   },
   {
    "duration": 26,
    "start_time": "2021-10-07T16:22:30.325Z"
   },
   {
    "duration": 296,
    "start_time": "2021-10-07T16:22:30.353Z"
   },
   {
    "duration": 3991,
    "start_time": "2021-10-07T16:22:30.652Z"
   },
   {
    "duration": 428,
    "start_time": "2021-10-07T16:22:34.646Z"
   },
   {
    "duration": 1022,
    "start_time": "2021-10-07T16:23:53.505Z"
   },
   {
    "duration": 3,
    "start_time": "2021-10-07T16:23:54.530Z"
   },
   {
    "duration": 13,
    "start_time": "2021-10-07T16:23:54.536Z"
   },
   {
    "duration": 14,
    "start_time": "2021-10-07T16:23:54.551Z"
   },
   {
    "duration": 9,
    "start_time": "2021-10-07T16:23:54.567Z"
   },
   {
    "duration": 12,
    "start_time": "2021-10-07T16:23:54.578Z"
   },
   {
    "duration": 4,
    "start_time": "2021-10-07T16:23:54.593Z"
   },
   {
    "duration": 5,
    "start_time": "2021-10-07T16:23:54.600Z"
   },
   {
    "duration": 952,
    "start_time": "2021-10-07T16:23:54.608Z"
   },
   {
    "duration": 77,
    "start_time": "2021-10-07T16:23:55.562Z"
   },
   {
    "duration": 83,
    "start_time": "2021-10-07T16:23:55.641Z"
   },
   {
    "duration": 31,
    "start_time": "2021-10-07T16:23:55.726Z"
   },
   {
    "duration": 4,
    "start_time": "2021-10-07T16:23:55.760Z"
   },
   {
    "duration": 58,
    "start_time": "2021-10-07T16:23:55.767Z"
   },
   {
    "duration": 14,
    "start_time": "2021-10-07T16:23:55.828Z"
   },
   {
    "duration": 358,
    "start_time": "2021-10-07T16:23:55.844Z"
   },
   {
    "duration": 3480,
    "start_time": "2021-10-07T16:23:56.204Z"
   },
   {
    "duration": 428,
    "start_time": "2021-10-07T16:23:59.686Z"
   },
   {
    "duration": 1026,
    "start_time": "2021-10-07T16:33:35.750Z"
   },
   {
    "duration": 3,
    "start_time": "2021-10-07T16:33:36.779Z"
   },
   {
    "duration": 20,
    "start_time": "2021-10-07T16:33:36.785Z"
   },
   {
    "duration": 7,
    "start_time": "2021-10-07T16:33:36.808Z"
   },
   {
    "duration": 10,
    "start_time": "2021-10-07T16:33:36.817Z"
   },
   {
    "duration": 16,
    "start_time": "2021-10-07T16:33:36.830Z"
   },
   {
    "duration": 5,
    "start_time": "2021-10-07T16:33:36.849Z"
   },
   {
    "duration": 8,
    "start_time": "2021-10-07T16:33:36.857Z"
   },
   {
    "duration": 683,
    "start_time": "2021-10-07T16:33:36.867Z"
   },
   {
    "duration": 32,
    "start_time": "2021-10-07T16:33:37.553Z"
   },
   {
    "duration": 33,
    "start_time": "2021-10-07T16:33:37.587Z"
   },
   {
    "duration": 29,
    "start_time": "2021-10-07T16:33:37.622Z"
   },
   {
    "duration": 5,
    "start_time": "2021-10-07T16:33:37.654Z"
   },
   {
    "duration": 10,
    "start_time": "2021-10-07T16:33:37.661Z"
   },
   {
    "duration": 56,
    "start_time": "2021-10-07T16:33:37.674Z"
   },
   {
    "duration": 293,
    "start_time": "2021-10-07T16:33:37.733Z"
   },
   {
    "duration": 3417,
    "start_time": "2021-10-07T16:33:38.029Z"
   },
   {
    "duration": 435,
    "start_time": "2021-10-07T16:33:41.449Z"
   }
  ],
  "kernelspec": {
   "display_name": "Python 3",
   "language": "python",
   "name": "python3"
  },
  "language_info": {
   "codemirror_mode": {
    "name": "ipython",
    "version": 3
   },
   "file_extension": ".py",
   "mimetype": "text/x-python",
   "name": "python",
   "nbconvert_exporter": "python",
   "pygments_lexer": "ipython3",
   "version": "3.7.8"
  },
  "toc": {
   "base_numbering": 1,
   "nav_menu": {},
   "number_sections": true,
   "sideBar": true,
   "skip_h1_title": true,
   "title_cell": "План",
   "title_sidebar": "Contents",
   "toc_cell": true,
   "toc_position": {
    "height": "calc(100% - 180px)",
    "left": "10px",
    "top": "150px",
    "width": "266.956px"
   },
   "toc_section_display": true,
   "toc_window_display": true
  }
 },
 "nbformat": 4,
 "nbformat_minor": 2
}
